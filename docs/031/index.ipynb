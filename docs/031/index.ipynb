{
 "cells": [
  {
   "cell_type": "markdown",
   "metadata": {},
   "source": [
    "```{autolink-concat}\n",
    "```"
   ]
  },
  {
   "cell_type": "markdown",
   "metadata": {
    "tags": [
     "dynamics",
     "K-matrix"
    ]
   },
   "source": [
    "::::{margin}\n",
    ":::{card} Single-channel amplitude model fit with $P$-vector dynamics\n",
    "TR-031\n",
    "^^^\n",
    "Comparison between fit performance for an amplitude model with Breit–Wigner and $P$-vector dynamics. In both cases, data is generated with $P$-vector dynamics.\n",
    "+++\n",
    "🚧&nbsp;[compwa.github.io#278](https://github.com/ComPWA/compwa.github.io/pull/278)\n",
    ":::\n",
    "::::"
   ]
  },
  {
   "cell_type": "markdown",
   "metadata": {},
   "source": [
    "# P-vector model fit, single channel"
   ]
  },
  {
   "cell_type": "code",
   "execution_count": null,
   "metadata": {
    "jupyter": {
     "source_hidden": true
    },
    "mystnb": {
     "code_prompt_show": "Import Python libraries"
    },
    "tags": [
     "hide-input",
     "scroll-input"
    ]
   },
   "outputs": [],
   "source": [
    "from __future__ import annotations\n",
    "\n",
    "import logging\n",
    "import os\n",
    "import re\n",
    "from collections import defaultdict\n",
    "from functools import lru_cache\n",
    "from pathlib import Path\n",
    "from typing import Any\n",
    "\n",
    "import ampform\n",
    "import attrs\n",
    "import graphviz\n",
    "import jax.numpy as jnp\n",
    "import matplotlib.pyplot as plt\n",
    "import numpy as np\n",
    "import pandas as pd\n",
    "import qrules\n",
    "import sympy as sp\n",
    "from ampform.dynamics.builder import TwoBodyKinematicVariableSet\n",
    "from ampform.helicity import ParameterValues\n",
    "from ampform.io import aslatex, improve_latex_rendering\n",
    "from ampform.kinematics.phasespace import Kallen\n",
    "from ampform.sympy import perform_cached_doit, unevaluated\n",
    "from attrs import define, field\n",
    "from IPython.display import Math\n",
    "from matplotlib.figure import Figure\n",
    "from qrules.particle import Particle, ParticleCollection\n",
    "from sympy import Abs\n",
    "from tensorwaves.data import (\n",
    "    IntensityDistributionGenerator,\n",
    "    SympyDataTransformer,\n",
    "    TFPhaseSpaceGenerator,\n",
    "    TFUniformRealNumberGenerator,\n",
    "    TFWeightedPhaseSpaceGenerator,\n",
    ")\n",
    "from tensorwaves.estimator import UnbinnedNLL\n",
    "from tensorwaves.function.sympy import create_parametrized_function\n",
    "from tensorwaves.interface import DataSample, FitResult, ParametrizedFunction\n",
    "from tensorwaves.optimizer import Minuit2\n",
    "\n",
    "improve_latex_rendering()\n",
    "logging.getLogger(\"absl\").setLevel(logging.ERROR)\n",
    "os.environ[\"TF_CPP_MIN_LOG_LEVEL\"] = \"3\"\n",
    "plt.rc(\"font\", size=12)"
   ]
  },
  {
   "cell_type": "code",
   "execution_count": null,
   "metadata": {
    "tags": [
     "remove-input"
    ]
   },
   "outputs": [],
   "source": [
    "%config InlineBackend.figure_formats = ['svg']"
   ]
  },
  {
   "cell_type": "markdown",
   "metadata": {},
   "source": [
    "## Studied decay"
   ]
  },
  {
   "cell_type": "code",
   "execution_count": null,
   "metadata": {
    "jupyter": {
     "source_hidden": true
    },
    "mystnb": {
     "code_prompt_show": "Define N* resonances"
    },
    "tags": [
     "hide-input",
     "scroll-input"
    ]
   },
   "outputs": [],
   "source": [
    "@lru_cache(maxsize=1)\n",
    "def create_particle_database() -> ParticleCollection:\n",
    "    particles = qrules.load_default_particles()\n",
    "    for nstar in particles.filter(lambda p: p.name.startswith(\"N\")):\n",
    "        particles.remove(nstar)\n",
    "    particles += create_nstar(mass=1.65, width=0.6, parity=-1, spin=0.5, idx=1)\n",
    "    particles += create_nstar(mass=1.75, width=0.6, parity=-1, spin=0.5, idx=2)\n",
    "    particles += create_nstar(mass=1.82, width=0.6, parity=+1, spin=1.5, idx=1)\n",
    "    particles += create_nstar(mass=1.92, width=0.6, parity=+1, spin=1.5, idx=2)\n",
    "    return particles\n",
    "\n",
    "\n",
    "def create_nstar(\n",
    "    mass: float, width: float, parity: int, spin: float, idx: int\n",
    ") -> Particle:\n",
    "    spin = sp.Rational(spin)\n",
    "    parity_symbol = \"⁺\" if parity > 0 else \"⁻\"\n",
    "    unicode_subscripts = list(\"₀₁₂₃₄₅₆₇₈₉\")\n",
    "    return Particle(\n",
    "        name=f\"N{unicode_subscripts[idx]}({spin}{parity_symbol})\",\n",
    "        latex=Rf\"N_{idx}({spin.numerator}/{spin.denominator}^-)\",\n",
    "        pid=2024_05_00_00 + 100 * bool(parity + 1) + idx,\n",
    "        mass=mass,\n",
    "        width=width,\n",
    "        baryon_number=1,\n",
    "        charge=+1,\n",
    "        isospin=(0.5, +0.5),\n",
    "        parity=parity,\n",
    "        spin=1.5,\n",
    "    )"
   ]
  },
  {
   "cell_type": "code",
   "execution_count": null,
   "metadata": {},
   "outputs": [],
   "source": [
    "reaction = qrules.generate_transitions(\n",
    "    initial_state=\"J/psi(1S)\",\n",
    "    final_state=[\"eta\", \"p\", \"p~\"],\n",
    "    allowed_intermediate_particles=[\"N\"],\n",
    "    allowed_interaction_types=[\"strong\"],\n",
    "    formalism=\"helicity\",\n",
    "    particle_db=create_particle_database(),\n",
    ")"
   ]
  },
  {
   "cell_type": "code",
   "execution_count": null,
   "metadata": {
    "jupyter": {
     "source_hidden": true
    },
    "tags": [
     "hide-input",
     "remove-output"
    ]
   },
   "outputs": [],
   "source": [
    "dot = qrules.io.asdot(reaction, collapse_graphs=True)\n",
    "graph = graphviz.Source(dot)\n",
    "output_file = Path(\"qrules-output\")\n",
    "graph.render(output_file, format=\"svg\")\n",
    "output_file.unlink()\n",
    "graph"
   ]
  },
  {
   "cell_type": "markdown",
   "metadata": {},
   "source": [
    "![](https://github.com/user-attachments/assets/943b0a0a-d6a6-4da0-8992-c02c1830f1b0)"
   ]
  },
  {
   "cell_type": "markdown",
   "metadata": {},
   "source": [
    "## Amplitude builder"
   ]
  },
  {
   "cell_type": "code",
   "execution_count": null,
   "metadata": {
    "jupyter": {
     "source_hidden": true
    },
    "mystnb": {
     "code_prompt_show": "Dynamics builder with X symbols of J^PC channels"
    },
    "tags": [
     "hide-input",
     "scroll-input"
    ]
   },
   "outputs": [],
   "source": [
    "@define\n",
    "class DynamicsSymbolBuilder:\n",
    "    collected_symbols: set[sp.Symbol, tuple[Particle, TwoBodyKinematicVariableSet]] = (\n",
    "        field(factory=lambda: defaultdict(set))\n",
    "    )\n",
    "\n",
    "    def __call__(\n",
    "        self, resonance: Particle, variable_pool: TwoBodyKinematicVariableSet\n",
    "    ) -> tuple[sp.Expr, dict[sp.Symbol, float]]:\n",
    "        jp = render_jp(resonance)\n",
    "        charge = resonance.charge\n",
    "        if variable_pool.angular_momentum is not None:\n",
    "            L = sp.Rational(variable_pool.angular_momentum)\n",
    "            X = sp.Symbol(Rf\"X_{{{jp}, Q={charge:+d}}}^{{l={L}}}\")\n",
    "        else:\n",
    "            X = sp.Symbol(Rf\"X_{{{jp}, Q={charge:+d}}}\")\n",
    "        self.collected_symbols[X].add((resonance, variable_pool))\n",
    "        parameter_defaults = {}\n",
    "        return X, parameter_defaults\n",
    "\n",
    "\n",
    "def render_jp(particle: Particle) -> str:\n",
    "    spin = sp.Rational(particle.spin)\n",
    "    j = (\n",
    "        str(spin)\n",
    "        if spin.denominator == 1\n",
    "        else Rf\"\\frac{{{spin.numerator}}}{{{spin.denominator}}}\"\n",
    "    )\n",
    "    if particle.parity is None:\n",
    "        return f\"J={j}\"\n",
    "    p = \"-\" if particle.parity < 0 else \"+\"\n",
    "    return f\"J^P={{{j}}}^{{{p}}}\""
   ]
  },
  {
   "cell_type": "code",
   "execution_count": null,
   "metadata": {
    "tags": [
     "keep_output"
    ]
   },
   "outputs": [
    {
     "data": {
      "text/latex": [
       "$\\displaystyle \\sum_{m_{A}=-1}^{1} \\sum_{m_{1}=-1/2}^{1/2} \\sum_{m_{2}=-1/2}^{1/2}{\\left|{A^{01}_{m_{A}, 0, m_{1}, m_{2}}}\\right|^{2}}$"
      ],
      "text/plain": [
       "PoolSum(Abs(A^01[m_A, 0, m1, m2])**2, (m_A, (0, 1, -1)), (m1, (-1/2, 1/2)), (m2, (-1/2, 1/2)))"
      ]
     },
     "execution_count": null,
     "metadata": {},
     "output_type": "execute_result"
    }
   ],
   "source": [
    "model_builder = ampform.get_builder(reaction)\n",
    "model_builder.adapter.permutate_registered_topologies()\n",
    "model_builder.config.scalar_initial_state_mass = True\n",
    "model_builder.config.stable_final_state_ids = [0, 1, 2]\n",
    "create_dynamics_symbol = DynamicsSymbolBuilder()\n",
    "for resonance in reaction.get_intermediate_particles():\n",
    "    model_builder.set_dynamics(resonance.name, create_dynamics_symbol)\n",
    "model = model_builder.formulate()\n",
    "model.intensity.cleanup()"
   ]
  },
  {
   "cell_type": "code",
   "execution_count": null,
   "metadata": {
    "jupyter": {
     "source_hidden": true
    },
    "tags": [
     "hide-input",
     "full-width",
     "keep_output"
    ]
   },
   "outputs": [
    {
     "data": {
      "text/latex": [
       "$\\displaystyle \\begin{array}{rcl}\n",
       "  A^{01}_{0, 0, - \\frac{1}{2}, - \\frac{1}{2}} &=& - C_{J/\\psi(1S) \\to {N_1(1/2^-)}_{+1/2} \\overline{p}_{+1/2}; N_1(1/2^-) \\to \\eta_{0} p_{+1/2}} X_{J^P={\\frac{3}{2}}^{-}, Q=+1} D^{1}_{0,0}\\left(- \\phi_{01},\\theta_{01},0\\right) D^{\\frac{3}{2}}_{- \\frac{1}{2},\\frac{1}{2}}\\left(- \\phi^{01}_{0},\\theta^{01}_{0},0\\right) \\\\\n",
       "    &+& - C_{J/\\psi(1S) \\to {N_1(1/2^-)}_{+1/2} \\overline{p}_{-1/2}; N_1(1/2^-) \\to \\eta_{0} p_{+1/2}} X_{J^P={\\frac{3}{2}}^{-}, Q=+1} D^{1}_{0,1}\\left(- \\phi_{01},\\theta_{01},0\\right) D^{\\frac{3}{2}}_{\\frac{1}{2},\\frac{1}{2}}\\left(- \\phi^{01}_{0},\\theta^{01}_{0},0\\right) \\\\\n",
       "    &+& - C_{J/\\psi(1S) \\to {N_1(1/2^-)}_{+3/2} \\overline{p}_{+1/2}; N_1(1/2^-) \\to \\eta_{0} p_{+1/2}} X_{J^P={\\frac{3}{2}}^{-}, Q=+1} D^{1}_{0,-1}\\left(- \\phi_{01},\\theta_{01},0\\right) D^{\\frac{3}{2}}_{- \\frac{3}{2},\\frac{1}{2}}\\left(- \\phi^{01}_{0},\\theta^{01}_{0},0\\right) \\\\\n",
       "    &+& - C_{J/\\psi(1S) \\to {N_1(3/2^-)}_{+1/2} \\overline{p}_{+1/2}; N_1(3/2^-) \\to \\eta_{0} p_{+1/2}} X_{J^P={\\frac{3}{2}}^{+}, Q=+1} D^{1}_{0,0}\\left(- \\phi_{01},\\theta_{01},0\\right) D^{\\frac{3}{2}}_{- \\frac{1}{2},\\frac{1}{2}}\\left(- \\phi^{01}_{0},\\theta^{01}_{0},0\\right) \\\\\n",
       "    &+& - C_{J/\\psi(1S) \\to {N_1(3/2^-)}_{+1/2} \\overline{p}_{-1/2}; N_1(3/2^-) \\to \\eta_{0} p_{+1/2}} X_{J^P={\\frac{3}{2}}^{+}, Q=+1} D^{1}_{0,1}\\left(- \\phi_{01},\\theta_{01},0\\right) D^{\\frac{3}{2}}_{\\frac{1}{2},\\frac{1}{2}}\\left(- \\phi^{01}_{0},\\theta^{01}_{0},0\\right) \\\\\n",
       "    &+& - C_{J/\\psi(1S) \\to {N_1(3/2^-)}_{+3/2} \\overline{p}_{+1/2}; N_1(3/2^-) \\to \\eta_{0} p_{+1/2}} X_{J^P={\\frac{3}{2}}^{+}, Q=+1} D^{1}_{0,-1}\\left(- \\phi_{01},\\theta_{01},0\\right) D^{\\frac{3}{2}}_{- \\frac{3}{2},\\frac{1}{2}}\\left(- \\phi^{01}_{0},\\theta^{01}_{0},0\\right) \\\\\n",
       "    &+& - C_{J/\\psi(1S) \\to {N_2(1/2^-)}_{+1/2} \\overline{p}_{+1/2}; N_2(1/2^-) \\to \\eta_{0} p_{+1/2}} X_{J^P={\\frac{3}{2}}^{-}, Q=+1} D^{1}_{0,0}\\left(- \\phi_{01},\\theta_{01},0\\right) D^{\\frac{3}{2}}_{- \\frac{1}{2},\\frac{1}{2}}\\left(- \\phi^{01}_{0},\\theta^{01}_{0},0\\right) \\\\\n",
       "    &+& - C_{J/\\psi(1S) \\to {N_2(1/2^-)}_{+1/2} \\overline{p}_{-1/2}; N_2(1/2^-) \\to \\eta_{0} p_{+1/2}} X_{J^P={\\frac{3}{2}}^{-}, Q=+1} D^{1}_{0,1}\\left(- \\phi_{01},\\theta_{01},0\\right) D^{\\frac{3}{2}}_{\\frac{1}{2},\\frac{1}{2}}\\left(- \\phi^{01}_{0},\\theta^{01}_{0},0\\right) \\\\\n",
       "    &+& - C_{J/\\psi(1S) \\to {N_2(1/2^-)}_{+3/2} \\overline{p}_{+1/2}; N_2(1/2^-) \\to \\eta_{0} p_{+1/2}} X_{J^P={\\frac{3}{2}}^{-}, Q=+1} D^{1}_{0,-1}\\left(- \\phi_{01},\\theta_{01},0\\right) D^{\\frac{3}{2}}_{- \\frac{3}{2},\\frac{1}{2}}\\left(- \\phi^{01}_{0},\\theta^{01}_{0},0\\right) \\\\\n",
       "    &+& - C_{J/\\psi(1S) \\to {N_2(3/2^-)}_{+1/2} \\overline{p}_{+1/2}; N_2(3/2^-) \\to \\eta_{0} p_{+1/2}} X_{J^P={\\frac{3}{2}}^{+}, Q=+1} D^{1}_{0,0}\\left(- \\phi_{01},\\theta_{01},0\\right) D^{\\frac{3}{2}}_{- \\frac{1}{2},\\frac{1}{2}}\\left(- \\phi^{01}_{0},\\theta^{01}_{0},0\\right) \\\\\n",
       "    &+& - C_{J/\\psi(1S) \\to {N_2(3/2^-)}_{+1/2} \\overline{p}_{-1/2}; N_2(3/2^-) \\to \\eta_{0} p_{+1/2}} X_{J^P={\\frac{3}{2}}^{+}, Q=+1} D^{1}_{0,1}\\left(- \\phi_{01},\\theta_{01},0\\right) D^{\\frac{3}{2}}_{\\frac{1}{2},\\frac{1}{2}}\\left(- \\phi^{01}_{0},\\theta^{01}_{0},0\\right) \\\\\n",
       "    &+& - C_{J/\\psi(1S) \\to {N_2(3/2^-)}_{+3/2} \\overline{p}_{+1/2}; N_2(3/2^-) \\to \\eta_{0} p_{+1/2}} X_{J^P={\\frac{3}{2}}^{+}, Q=+1} D^{1}_{0,-1}\\left(- \\phi_{01},\\theta_{01},0\\right) D^{\\frac{3}{2}}_{- \\frac{3}{2},\\frac{1}{2}}\\left(- \\phi^{01}_{0},\\theta^{01}_{0},0\\right) \\\\\n",
       "\\end{array}$"
      ],
      "text/plain": [
       "<IPython.core.display.Math object>"
      ]
     },
     "execution_count": null,
     "metadata": {},
     "output_type": "execute_result"
    }
   ],
   "source": [
    "selected_amplitudes = {\n",
    "    k: v for i, (k, v) in enumerate(model.amplitudes.items()) if i == 0\n",
    "}\n",
    "Math(aslatex(selected_amplitudes, terms_per_line=1))"
   ]
  },
  {
   "cell_type": "code",
   "execution_count": null,
   "metadata": {
    "jupyter": {
     "source_hidden": true
    },
    "tags": [
     "hide-input",
     "keep_output"
    ]
   },
   "outputs": [
    {
     "data": {
      "text/latex": [
       "$\\displaystyle \\begin{array}{cll}\n",
       "  X_{J^P={\\frac{3}{2}}^{-}, Q=+1} \\\\\n",
       "  N_1(1/2^-) & m=1.65\\text{ GeV} & \\Gamma=0.6\\text{ GeV} \\\\\n",
       "  N_2(1/2^-) & m=1.75\\text{ GeV} & \\Gamma=0.6\\text{ GeV} \\\\\n",
       "  X_{J^P={\\frac{3}{2}}^{+}, Q=+1} \\\\\n",
       "  N_2(3/2^-) & m=1.92\\text{ GeV} & \\Gamma=0.6\\text{ GeV} \\\\\n",
       "  N_1(3/2^-) & m=1.82\\text{ GeV} & \\Gamma=0.6\\text{ GeV} \\\\\n",
       "\\end{array}$"
      ],
      "text/plain": [
       "<IPython.core.display.Math object>"
      ]
     },
     "execution_count": null,
     "metadata": {},
     "output_type": "execute_result"
    }
   ],
   "source": [
    "src = R\"\\begin{array}{cll}\" \"\\n\"\n",
    "for symbol, resonances in create_dynamics_symbol.collected_symbols.items():\n",
    "    src += Rf\"  {symbol} \\\\\" \"\\n\"\n",
    "    for p, _ in resonances:\n",
    "        src += Rf\"  {p.latex} & m={p.mass:g}\\text{{ GeV}} & \\Gamma={p.width:g}\\text{{ GeV}} \\\\\"\n",
    "        src += \"\\n\"\n",
    "src += R\"\\end{array}\"\n",
    "Math(src)"
   ]
  },
  {
   "cell_type": "markdown",
   "metadata": {},
   "source": [
    "## Dynamics parametrization"
   ]
  },
  {
   "cell_type": "markdown",
   "metadata": {},
   "source": [
    "### Phasespace factor"
   ]
  },
  {
   "cell_type": "markdown",
   "metadata": {},
   "source": [
    ":::{seealso}\n",
    "**[TR-026](../026/index.ipynb)** and **[TR-027](../027/index.ipynb)** on analyticity and Riemann sheets.\n",
    ":::"
   ]
  },
  {
   "cell_type": "code",
   "execution_count": null,
   "metadata": {
    "jupyter": {
     "source_hidden": true
    },
    "mystnb": {
     "code_prompt_show": "Expression classes for phase space factors"
    },
    "tags": [
     "hide-input",
     "scroll-input"
    ]
   },
   "outputs": [],
   "source": [
    "@unevaluated(real=False)\n",
    "class PhaseSpaceCM(sp.Expr):\n",
    "    s: Any\n",
    "    m1: Any\n",
    "    m2: Any\n",
    "    _latex_repr_ = R\"\\rho^\\mathrm{{CM}}_{{{m1},{m2}}}\\left({s}\\right)\"\n",
    "\n",
    "    def evaluate(self) -> sp.Expr:\n",
    "        s, m1, m2 = self.args\n",
    "        return -16 * sp.pi * sp.I * ChewMandelstam(s, m1, m2)\n",
    "\n",
    "\n",
    "@unevaluated(real=False)\n",
    "class ChewMandelstam(sp.Expr):\n",
    "    s: Any\n",
    "    m1: Any\n",
    "    m2: Any\n",
    "    _latex_repr_ = R\"\\Sigma\\left({s}\\right)\"\n",
    "\n",
    "    def evaluate(self) -> sp.Expr:\n",
    "        s, m1, m2 = self.args\n",
    "        q = BreakupMomentum(s, m1, m2)\n",
    "        return (\n",
    "            (2 * q / sp.sqrt(s))\n",
    "            * sp.log(Abs((m1**2 + m2**2 - s + 2 * sp.sqrt(s) * q) / (2 * m1 * m2)))\n",
    "            - (m1**2 - m2**2) * (1 / s - 1 / (m1 + m2) ** 2) * sp.log(m1 / m2)\n",
    "        ) / (16 * sp.pi**2)\n",
    "\n",
    "\n",
    "@unevaluated(real=False)\n",
    "class BreakupMomentum(sp.Expr):\n",
    "    s: Any\n",
    "    m1: Any\n",
    "    m2: Any\n",
    "    _latex_repr_ = R\"q\\left({s}\\right)\"\n",
    "\n",
    "    def evaluate(self) -> sp.Expr:\n",
    "        s, m1, m2 = self.args\n",
    "        return sp.sqrt(Kallen(s, m1**2, m2**2)) / (2 * sp.sqrt(s))"
   ]
  },
  {
   "cell_type": "code",
   "execution_count": null,
   "metadata": {
    "jupyter": {
     "source_hidden": true
    },
    "tags": [
     "hide-input",
     "keep_output"
    ]
   },
   "outputs": [
    {
     "data": {
      "text/latex": [
       "$\\displaystyle \\begin{array}{rcl}\n",
       "  \\rho^\\mathrm{CM}_{m_{1},m_{2}}\\left(s\\right) &=& - 16 i \\pi \\Sigma\\left(s\\right) \\\\\n",
       "  \\Sigma\\left(s\\right) &=& \\frac{- \\left(m_{1}^{2} - m_{2}^{2}\\right) \\left(- \\frac{1}{\\left(m_{1} + m_{2}\\right)^{2}} + \\frac{1}{s}\\right) \\log{\\left(\\frac{m_{1}}{m_{2}} \\right)} + \\frac{2 \\log{\\left(\\frac{\\left|{m_{1}^{2} + m_{2}^{2} + 2 \\sqrt{s} q\\left(s\\right) - s}\\right|}{2 m_{1} m_{2}} \\right)} q\\left(s\\right)}{\\sqrt{s}}}{16 \\pi^{2}} \\\\\n",
       "  q\\left(s\\right) &=& \\frac{\\sqrt{\\lambda\\left(s, m_{1}^{2}, m_{2}^{2}\\right)}}{2 \\sqrt{s}} \\\\\n",
       "\\end{array}$"
      ],
      "text/plain": [
       "<IPython.core.display.Math object>"
      ]
     },
     "execution_count": null,
     "metadata": {},
     "output_type": "execute_result"
    }
   ],
   "source": [
    "s, m1, m2 = sp.symbols(\"s m1 m2\", nonnegative=True)\n",
    "exprs = [\n",
    "    PhaseSpaceCM(s, m1, m2),\n",
    "    ChewMandelstam(s, m1, m2),\n",
    "    BreakupMomentum(s, m1, m2),\n",
    "]\n",
    "Math(aslatex({e: e.doit(deep=False) for e in exprs}))"
   ]
  },
  {
   "cell_type": "markdown",
   "metadata": {},
   "source": [
    "### Relativistic Breit-Wigner"
   ]
  },
  {
   "cell_type": "code",
   "execution_count": null,
   "metadata": {},
   "outputs": [],
   "source": [
    "PARAMETERS_BW = dict(model.parameter_defaults)"
   ]
  },
  {
   "cell_type": "code",
   "execution_count": null,
   "metadata": {},
   "outputs": [],
   "source": [
    "def formulate_breit_wigner(\n",
    "    resonances: list[tuple[Particle, TwoBodyKinematicVariableSet]],\n",
    ") -> sp.Expr:\n",
    "    (_, variables), *_ = resonances\n",
    "    s = variables.incoming_state_mass**2\n",
    "    m1 = variables.outgoing_state_mass1\n",
    "    m2 = variables.outgoing_state_mass2\n",
    "    ρ = PhaseSpaceCM(s, m1, m2)\n",
    "    m = [sp.Symbol(Rf\"m_{{{p.latex}}}\") for p, _ in resonances]\n",
    "    Γ0 = [sp.Symbol(Rf\"\\Gamma_{{{p.latex}}}\") for p, _ in resonances]\n",
    "    β = [sp.Symbol(Rf\"\\beta_{{{p.latex}}}\") for p, _ in resonances]\n",
    "    expr = sum(\n",
    "        (β_ * m_ * Γ0_) / (m_**2 - s - m_ * Γ0_ * ρ)\n",
    "        for m_, Γ0_, β_ in zip(m, Γ0, β, strict=True)\n",
    "    )\n",
    "    for i, (resonance, _) in enumerate(resonances):\n",
    "        PARAMETERS_BW[β[i]] = 1 + 0j\n",
    "        PARAMETERS_BW[m[i]] = resonance.mass\n",
    "        PARAMETERS_BW[Γ0[i]] = resonance.width\n",
    "    return expr"
   ]
  },
  {
   "cell_type": "code",
   "execution_count": null,
   "metadata": {
    "jupyter": {
     "source_hidden": true
    },
    "tags": [
     "hide-input",
     "full-width",
     "keep_output"
    ]
   },
   "outputs": [
    {
     "data": {
      "text/latex": [
       "$\\displaystyle \\begin{array}{rcl}\n",
       "  X_{J^P={\\frac{3}{2}}^{-}, Q=+1} &=& \\frac{\\Gamma_{N_1(1/2^-)} \\beta_{N_1(1/2^-)} m_{N_1(1/2^-)}}{- \\Gamma_{N_1(1/2^-)} m_{N_1(1/2^-)} \\rho^\\mathrm{CM}_{m_{0},m_{1}}\\left(m_{01}^{2}\\right) - m_{01}^{2} + \\left(m_{N_1(1/2^-)}\\right)^{2}} + \\frac{\\Gamma_{N_2(1/2^-)} \\beta_{N_2(1/2^-)} m_{N_2(1/2^-)}}{- \\Gamma_{N_2(1/2^-)} m_{N_2(1/2^-)} \\rho^\\mathrm{CM}_{m_{0},m_{1}}\\left(m_{01}^{2}\\right) - m_{01}^{2} + \\left(m_{N_2(1/2^-)}\\right)^{2}} \\\\\n",
       "  X_{J^P={\\frac{3}{2}}^{+}, Q=+1} &=& \\frac{\\Gamma_{N_1(3/2^-)} \\beta_{N_1(3/2^-)} m_{N_1(3/2^-)}}{- \\Gamma_{N_1(3/2^-)} m_{N_1(3/2^-)} \\rho^\\mathrm{CM}_{m_{0},m_{1}}\\left(m_{01}^{2}\\right) - m_{01}^{2} + \\left(m_{N_1(3/2^-)}\\right)^{2}} + \\frac{\\Gamma_{N_2(3/2^-)} \\beta_{N_2(3/2^-)} m_{N_2(3/2^-)}}{- \\Gamma_{N_2(3/2^-)} m_{N_2(3/2^-)} \\rho^\\mathrm{CM}_{m_{0},m_{1}}\\left(m_{01}^{2}\\right) - m_{01}^{2} + \\left(m_{N_2(3/2^-)}\\right)^{2}} \\\\\n",
       "\\end{array}$"
      ],
      "text/plain": [
       "<IPython.core.display.Math object>"
      ]
     },
     "execution_count": null,
     "metadata": {},
     "output_type": "execute_result"
    }
   ],
   "source": [
    "dynamics_expressions_bw = {\n",
    "    symbol: formulate_breit_wigner(resonances)\n",
    "    for symbol, resonances in create_dynamics_symbol.collected_symbols.items()\n",
    "}\n",
    "model_bw = attrs.evolve(\n",
    "    model,\n",
    "    parameter_defaults=ParameterValues({\n",
    "        **model.parameter_defaults,\n",
    "        **PARAMETERS_BW,\n",
    "    }),\n",
    ")\n",
    "Math(aslatex(dynamics_expressions_bw))"
   ]
  },
  {
   "cell_type": "markdown",
   "metadata": {},
   "source": [
    "### $P$ vector"
   ]
  },
  {
   "cell_type": "code",
   "execution_count": null,
   "metadata": {},
   "outputs": [],
   "source": [
    "PARAMETERS_F = dict(model.parameter_defaults)"
   ]
  },
  {
   "cell_type": "code",
   "execution_count": null,
   "metadata": {},
   "outputs": [],
   "source": [
    "def formulate_k_matrix(\n",
    "    resonances: list[tuple[Particle, TwoBodyKinematicVariableSet]],\n",
    ") -> sp.Expr:\n",
    "    (_, variables), *_ = resonances\n",
    "    s = variables.incoming_state_mass**2\n",
    "    m = [sp.Symbol(Rf\"m_{{{p.latex}}}\") for p, _ in resonances]\n",
    "    g = [sp.Symbol(Rf\"g_{{{p.latex}}}\") for p, _ in resonances]\n",
    "    expr = sum((g_**2) / (m_**2 - s) for m_, g_ in zip(m, g, strict=True))\n",
    "    for i, (resonance, _) in enumerate(resonances):\n",
    "        PARAMETERS_F[m[i]] = resonance.mass\n",
    "        PARAMETERS_F[g[i]] = 1\n",
    "    return expr"
   ]
  },
  {
   "cell_type": "code",
   "execution_count": null,
   "metadata": {},
   "outputs": [],
   "source": [
    "def formulate_p_vector(\n",
    "    resonances: list[tuple[Particle, TwoBodyKinematicVariableSet]],\n",
    ") -> sp.Expr:\n",
    "    (_, variables), *_ = resonances\n",
    "    s = variables.incoming_state_mass**2\n",
    "    g = [sp.Symbol(Rf\"g_{{{p.latex}}}\") for p, _ in resonances]\n",
    "    m = [sp.Symbol(Rf\"m_{{{p.latex}}}\") for p, _ in resonances]\n",
    "    β = [sp.Symbol(Rf\"\\beta_{{{p.latex}}}\") for p, _ in resonances]\n",
    "    expr = sum((g_ * β_) / (m_**2 - s) for m_, g_, β_ in zip(m, g, β, strict=True))\n",
    "    for i, (resonance, _) in enumerate(resonances):\n",
    "        PARAMETERS_F[β[i]] = 1 + 0j\n",
    "        PARAMETERS_F[m[i]] = resonance.mass\n",
    "        PARAMETERS_F[g[i]] = 1\n",
    "    return expr"
   ]
  },
  {
   "cell_type": "code",
   "execution_count": null,
   "metadata": {},
   "outputs": [],
   "source": [
    "def formulate_f_vector(\n",
    "    resonances: list[tuple[Particle, TwoBodyKinematicVariableSet]],\n",
    ") -> sp.Expr:\n",
    "    (_, variables), *_ = resonances\n",
    "    s = variables.incoming_state_mass**2\n",
    "    m1 = variables.outgoing_state_mass1\n",
    "    m2 = variables.outgoing_state_mass2\n",
    "    rho = PhaseSpaceCM(s, m1, m2)\n",
    "    K = formulate_k_matrix(resonances)\n",
    "    P = formulate_p_vector(resonances)\n",
    "    return (1 / (1 - rho * K)) * P"
   ]
  },
  {
   "cell_type": "code",
   "execution_count": null,
   "metadata": {
    "jupyter": {
     "source_hidden": true
    },
    "tags": [
     "hide-input",
     "keep_output"
    ]
   },
   "outputs": [
    {
     "data": {
      "text/latex": [
       "$\\displaystyle \\begin{array}{rcl}\n",
       "  X_{J^P={\\frac{3}{2}}^{-}, Q=+1} &=& \\frac{\\frac{\\beta_{N_1(1/2^-)} g_{N_1(1/2^-)}}{- m_{01}^{2} + \\left(m_{N_1(1/2^-)}\\right)^{2}} + \\frac{\\beta_{N_2(1/2^-)} g_{N_2(1/2^-)}}{- m_{01}^{2} + \\left(m_{N_2(1/2^-)}\\right)^{2}}}{- \\left(\\frac{\\left(g_{N_1(1/2^-)}\\right)^{2}}{- m_{01}^{2} + \\left(m_{N_1(1/2^-)}\\right)^{2}} + \\frac{\\left(g_{N_2(1/2^-)}\\right)^{2}}{- m_{01}^{2} + \\left(m_{N_2(1/2^-)}\\right)^{2}}\\right) \\rho^\\mathrm{CM}_{m_{0},m_{1}}\\left(m_{01}^{2}\\right) + 1} \\\\\n",
       "  X_{J^P={\\frac{3}{2}}^{+}, Q=+1} &=& \\frac{\\frac{\\beta_{N_1(3/2^-)} g_{N_1(3/2^-)}}{- m_{01}^{2} + \\left(m_{N_1(3/2^-)}\\right)^{2}} + \\frac{\\beta_{N_2(3/2^-)} g_{N_2(3/2^-)}}{- m_{01}^{2} + \\left(m_{N_2(3/2^-)}\\right)^{2}}}{- \\left(\\frac{\\left(g_{N_1(3/2^-)}\\right)^{2}}{- m_{01}^{2} + \\left(m_{N_1(3/2^-)}\\right)^{2}} + \\frac{\\left(g_{N_2(3/2^-)}\\right)^{2}}{- m_{01}^{2} + \\left(m_{N_2(3/2^-)}\\right)^{2}}\\right) \\rho^\\mathrm{CM}_{m_{0},m_{1}}\\left(m_{01}^{2}\\right) + 1} \\\\\n",
       "\\end{array}$"
      ],
      "text/plain": [
       "<IPython.core.display.Math object>"
      ]
     },
     "execution_count": null,
     "metadata": {},
     "output_type": "execute_result"
    }
   ],
   "source": [
    "dynamics_expressions_fvector = {\n",
    "    symbol: formulate_f_vector(resonances)\n",
    "    for symbol, resonances in create_dynamics_symbol.collected_symbols.items()\n",
    "}\n",
    "model_fvector = attrs.evolve(\n",
    "    model,\n",
    "    parameter_defaults=ParameterValues({\n",
    "        **model.parameter_defaults,\n",
    "        **PARAMETERS_F,\n",
    "    }),\n",
    ")\n",
    "Math(aslatex(dynamics_expressions_fvector))"
   ]
  },
  {
   "cell_type": "markdown",
   "metadata": {},
   "source": [
    "### Create numerical functions"
   ]
  },
  {
   "cell_type": "code",
   "execution_count": null,
   "metadata": {},
   "outputs": [],
   "source": [
    "full_expression_bw = perform_cached_doit(model_bw.expression).xreplace(\n",
    "    dynamics_expressions_bw\n",
    ")\n",
    "intensity_func_bw = create_parametrized_function(\n",
    "    expression=perform_cached_doit(full_expression_bw),\n",
    "    backend=\"jax\",\n",
    "    parameters=PARAMETERS_BW,\n",
    ")"
   ]
  },
  {
   "cell_type": "code",
   "execution_count": null,
   "metadata": {},
   "outputs": [],
   "source": [
    "full_expression_fvector = perform_cached_doit(model_fvector.expression).xreplace(\n",
    "    dynamics_expressions_fvector\n",
    ")\n",
    "intensity_func_fvector = create_parametrized_function(\n",
    "    expression=perform_cached_doit(full_expression_fvector),\n",
    "    backend=\"jax\",\n",
    "    parameters=PARAMETERS_F,\n",
    ")"
   ]
  },
  {
   "cell_type": "markdown",
   "metadata": {},
   "source": [
    "##  Generate data"
   ]
  },
  {
   "cell_type": "markdown",
   "metadata": {},
   "source": [
    "### Generate phase space sample"
   ]
  },
  {
   "cell_type": "code",
   "execution_count": null,
   "metadata": {},
   "outputs": [],
   "source": [
    "rng = TFUniformRealNumberGenerator(seed=0)\n",
    "phsp_generator = TFPhaseSpaceGenerator(\n",
    "    initial_state_mass=reaction.initial_state[-1].mass,\n",
    "    final_state_masses={i: p.mass for i, p in reaction.final_state.items()},\n",
    ")\n",
    "phsp_momenta = phsp_generator.generate(100_000, rng)\n",
    "\n",
    "ε = 1e-8\n",
    "transformer = SympyDataTransformer.from_sympy(model.kinematic_variables, backend=\"jax\")\n",
    "phsp = transformer(phsp_momenta)\n",
    "phsp = {k: v + ε * 1j if re.match(r\"^m_\\d\\d$\", k) else v for k, v in phsp.items()}"
   ]
  },
  {
   "cell_type": "markdown",
   "metadata": {},
   "source": [
    "### Update function parameters"
   ]
  },
  {
   "cell_type": "code",
   "execution_count": null,
   "metadata": {},
   "outputs": [],
   "source": [
    "toy_parameters_bw = {\n",
    "    R\"m_{N_1(1/2^-)}\": 1.65,\n",
    "    R\"m_{N_2(1/2^-)}\": 1.75,\n",
    "    R\"m_{N_1(3/2^-)}\": 1.85,\n",
    "    R\"m_{N_2(3/2^-)}\": 1.9,\n",
    "    R\"\\Gamma_{N_1(1/2^-)}\": 1 / 1.65,\n",
    "    R\"\\Gamma_{N_2(1/2^-)}\": 1 / 1.75,\n",
    "    R\"\\Gamma_{N_1(3/2^-)}\": 1 / 1.85,\n",
    "    R\"\\Gamma_{N_2(3/2^-)}\": 1 / 1.9,\n",
    "}\n",
    "intensity_func_bw.update_parameters(toy_parameters_bw)"
   ]
  },
  {
   "cell_type": "code",
   "execution_count": null,
   "metadata": {},
   "outputs": [],
   "source": [
    "toy_parameters_fvector = {\n",
    "    R\"\\beta_{N_1(1/2^-)}\": 1 + 0j,\n",
    "    R\"\\beta_{N_2(1/2^-)}\": 1 + 0j,\n",
    "    R\"\\beta_{N_1(3/2^-)}\": 1 + 0j,\n",
    "    R\"\\beta_{N_2(3/2^-)}\": 1 + 0j,\n",
    "    R\"m_{N_1(1/2^-)}\": 1.65,\n",
    "    R\"m_{N_2(1/2^-)}\": 1.75,\n",
    "    R\"m_{N_1(3/2^-)}\": 1.95,\n",
    "    R\"m_{N_2(3/2^-)}\": 1.9,\n",
    "    R\"g_{N_1(1/2^-)}\": 1.65,\n",
    "    R\"g_{N_2(1/2^-)}\": 1,\n",
    "    R\"g_{N_1(3/2^-)}\": 1,\n",
    "    R\"g_{N_2(3/2^-)}\": 1,\n",
    "}\n",
    "intensity_func_fvector.update_parameters(toy_parameters_fvector)"
   ]
  },
  {
   "cell_type": "markdown",
   "metadata": {},
   "source": [
    "## Plot sub-intensities"
   ]
  },
  {
   "cell_type": "code",
   "execution_count": null,
   "metadata": {
    "jupyter": {
     "source_hidden": true
    },
    "mystnb": {
     "code_prompt_show": "Function for computing sub-intensities"
    },
    "tags": [
     "hide-input",
     "scroll-input"
    ]
   },
   "outputs": [],
   "source": [
    "def compute_sub_intensity(\n",
    "    func: ParametrizedFunction,\n",
    "    input_data: DataSample,\n",
    "    resonances: list[str],\n",
    "    coupling_pattern: str,\n",
    "):\n",
    "    original_parameters = dict(func.parameters)\n",
    "    negative_lookahead = f\"(?!{'|'.join(map(re.escape, resonances))})\"\n",
    "    # https://regex101.com/r/WrgGyD/1\n",
    "    pattern = rf\"^{coupling_pattern}({negative_lookahead}.)*$\"\n",
    "    set_parameters_to_zero(func, pattern)\n",
    "    array = func(input_data)\n",
    "    func.update_parameters(original_parameters)\n",
    "    return array\n",
    "\n",
    "\n",
    "def set_parameters_to_zero(func: ParametrizedFunction, name_pattern: str) -> None:\n",
    "    toy_parameters = dict(func.parameters)\n",
    "    for par_name in func.parameters:\n",
    "        if re.match(name_pattern, par_name) is not None:\n",
    "            toy_parameters[par_name] = 0\n",
    "    func.update_parameters(toy_parameters)"
   ]
  },
  {
   "cell_type": "code",
   "execution_count": null,
   "metadata": {},
   "outputs": [],
   "source": [
    "total_intensities_bw = intensity_func_bw(phsp)\n",
    "sub_intensities_bw = {\n",
    "    p: compute_sub_intensity(\n",
    "        intensity_func_bw,\n",
    "        phsp,\n",
    "        resonances=[p.latex],\n",
    "        coupling_pattern=r\"\\\\beta\",\n",
    "    )\n",
    "    for symbol, resonances in create_dynamics_symbol.collected_symbols.items()\n",
    "    for p, _ in resonances\n",
    "}"
   ]
  },
  {
   "cell_type": "code",
   "execution_count": null,
   "metadata": {},
   "outputs": [],
   "source": [
    "total_intensities_fvector = intensity_func_fvector(phsp)\n",
    "sub_intensities_fvector = {\n",
    "    p: compute_sub_intensity(\n",
    "        intensity_func_fvector,\n",
    "        phsp,\n",
    "        resonances=[p.latex],\n",
    "        coupling_pattern=r\"\\\\beta\",\n",
    "    )\n",
    "    for symbol, resonances in create_dynamics_symbol.collected_symbols.items()\n",
    "    for p, _ in resonances\n",
    "}"
   ]
  },
  {
   "cell_type": "code",
   "execution_count": null,
   "metadata": {
    "jupyter": {
     "source_hidden": true
    },
    "mystnb": {
     "code_prompt_show": "Function for plotting histograms with JAX"
    },
    "tags": [
     "hide-input"
    ]
   },
   "outputs": [],
   "source": [
    "def fast_histogram(\n",
    "    data: jnp.ndarray,\n",
    "    weights: jnp.ndarray | None = None,\n",
    "    bins: int = 100,\n",
    "    density: bool | None = None,\n",
    "    fill: bool = True,\n",
    "    ax=plt,\n",
    "    **plot_kwargs,\n",
    ") -> None:\n",
    "    bin_values, bin_edges = jnp.histogram(\n",
    "        data,\n",
    "        bins=bins,\n",
    "        density=density,\n",
    "        weights=weights,\n",
    "    )\n",
    "    if fill:\n",
    "        bin_rights = bin_edges[1:]\n",
    "        ax.fill_between(bin_rights, bin_values, step=\"pre\", **plot_kwargs)\n",
    "    else:\n",
    "        bin_mids = (bin_edges[:-1] + bin_edges[1:]) / 2\n",
    "        ax.step(bin_mids, bin_values, **plot_kwargs)"
   ]
  },
  {
   "cell_type": "code",
   "execution_count": null,
   "metadata": {
    "jupyter": {
     "source_hidden": true
    },
    "tags": [
     "hide-input",
     "scroll-input",
     "remove-output"
    ]
   },
   "outputs": [],
   "source": [
    "fig, ax = plt.subplots(figsize=(8, 5))\n",
    "ax.set_xlim(2, 5)\n",
    "ax.set_xlabel(R\"$m_{p\\eta}^{2}$ [GeV$^2$]\")\n",
    "ax.set_ylabel(R\"Intensity [a. u.]\")\n",
    "ax.set_yticks([])\n",
    "\n",
    "bins = 150\n",
    "phsp_projection = np.real(phsp[\"m_01\"]) ** 2\n",
    "fast_histogram(\n",
    "    phsp_projection,\n",
    "    weights=total_intensities_fvector,\n",
    "    alpha=0.2,\n",
    "    bins=bins,\n",
    "    color=\"hotpink\",\n",
    "    label=\"Full intensity $F$ vector\",\n",
    "    ax=ax,\n",
    ")\n",
    "fast_histogram(\n",
    "    phsp_projection,\n",
    "    weights=total_intensities_bw,\n",
    "    alpha=0.2,\n",
    "    bins=bins,\n",
    "    color=\"grey\",\n",
    "    label=\"Full intensity Breit-Wigner\",\n",
    "    ax=ax,\n",
    ")\n",
    "for i, (p, v) in enumerate(sub_intensities_fvector.items()):\n",
    "    fast_histogram(\n",
    "        phsp_projection,\n",
    "        weights=v,\n",
    "        alpha=0.6,\n",
    "        bins=bins,\n",
    "        color=f\"C{i}\",\n",
    "        fill=False,\n",
    "        label=Rf\"Resonance at ${p.mass}\\,\\mathrm{{GeV}}$ $F$ vector\",\n",
    "        linewidth=2,\n",
    "        ax=ax,\n",
    "    )\n",
    "for i, (p, v) in enumerate(sub_intensities_bw.items()):\n",
    "    fast_histogram(\n",
    "        phsp_projection,\n",
    "        weights=v,\n",
    "        alpha=0.6,\n",
    "        bins=bins,\n",
    "        color=f\"C{i}\",\n",
    "        fill=False,\n",
    "        label=Rf\"Resonance at ${p.mass}\\,\\mathrm{{GeV^2}}$ Breit-Wigner\",\n",
    "        linestyle=\"dashed\",\n",
    "        ax=ax,\n",
    "    )\n",
    "\n",
    "ax.set_ylim(0, None)\n",
    "fig.legend(loc=\"upper right\")\n",
    "plt.tight_layout()\n",
    "\n",
    "fig.savefig(\"contributions.svg\", bbox_inches=\"tight\")\n",
    "plt.show()"
   ]
  },
  {
   "cell_type": "markdown",
   "metadata": {},
   "source": [
    "![](https://github.com/user-attachments/assets/9d040c64-16e6-4657-9fc0-51e43f5bf343)"
   ]
  },
  {
   "cell_type": "markdown",
   "metadata": {},
   "source": [
    "### Weighted data with $F$ vector "
   ]
  },
  {
   "cell_type": "code",
   "execution_count": null,
   "metadata": {
    "tags": [
     "hide-input",
     "remove-output"
    ]
   },
   "outputs": [],
   "source": [
    "fig, ax = plt.subplots(figsize=(9, 5))\n",
    "fast_histogram(\n",
    "    phsp[\"m_01\"].real,\n",
    "    bins=100,\n",
    "    weights=np.real(intensity_func_fvector(phsp)),\n",
    "    ax=ax,\n",
    ")\n",
    "ax.set_xlabel(R\"$M^2\\left(\\eta p\\right)\\, \\mathrm{[(GeV/c)^2]}$\")\n",
    "ax.set_ylabel(R\"Intensity [a.u.]\")\n",
    "ax.set_ylim(0, None)\n",
    "fig.tight_layout()\n",
    "\n",
    "fig.savefig(\"weighted-phsp-f-vector.svg\", bbox_inches=\"tight\")\n",
    "fig.show()"
   ]
  },
  {
   "cell_type": "markdown",
   "metadata": {},
   "source": [
    "![](https://github.com/user-attachments/assets/0373fdee-1582-4fad-b655-b21a2673bf4a)"
   ]
  },
  {
   "cell_type": "code",
   "execution_count": null,
   "metadata": {
    "tags": [
     "keep_output"
    ]
   },
   "outputs": [
    {
     "data": {
      "application/vnd.jupyter.widget-view+json": {
       "model_id": "9bf0ee50c6214c378b4fc59591d6c6f2",
       "version_major": 2,
       "version_minor": 0
      },
      "text/plain": [
       "Generating intensity-based sample:   0%|          | 0/50000 [00:00<?, ?it/s]"
      ]
     },
     "metadata": {},
     "output_type": "display_data"
    }
   ],
   "source": [
    "weighted_phsp_generator = TFWeightedPhaseSpaceGenerator(\n",
    "    initial_state_mass=model.reaction_info.initial_state[-1].mass,\n",
    "    final_state_masses={i: p.mass for i, p in model.reaction_info.final_state.items()},\n",
    ")\n",
    "data_generator = IntensityDistributionGenerator(\n",
    "    domain_generator=weighted_phsp_generator,\n",
    "    function=intensity_func_fvector,\n",
    "    domain_transformer=transformer,\n",
    ")\n",
    "data_momenta = data_generator.generate(50_000, rng)\n",
    "data = transformer(data_momenta)"
   ]
  },
  {
   "cell_type": "code",
   "execution_count": null,
   "metadata": {
    "jupyter": {
     "source_hidden": true
    },
    "tags": [
     "hide-input",
     "scroll-input",
     "remove-output"
    ]
   },
   "outputs": [],
   "source": [
    "fig, ax = plt.subplots(figsize=(9, 4))\n",
    "fast_histogram(\n",
    "    np.real(data[\"m_01\"]),\n",
    "    bins=200,\n",
    "    alpha=0.5,\n",
    "    density=True,\n",
    "    ax=ax,\n",
    ")\n",
    "mass_parameters = {p: v for p, v in toy_parameters_bw.items() if p.startswith(\"m_{\")}\n",
    "evenly_spaced_interval = np.linspace(0, 1, num=len(mass_parameters))\n",
    "colors = [plt.cm.rainbow(x) for x in evenly_spaced_interval]\n",
    "ax.set_xlabel(\"$m$ [GeV]\")\n",
    "for (k, v), color in zip(mass_parameters.items(), colors, strict=True):\n",
    "    ax.axvline(v, c=color, label=f\"${k}$\", ls=\"dotted\")\n",
    "ax.set_ylim(0, None)\n",
    "ax.legend()\n",
    "\n",
    "fig.savefig(\"data-f-vector.svg\", bbox_inches=\"tight\")\n",
    "plt.show()"
   ]
  },
  {
   "cell_type": "markdown",
   "metadata": {},
   "source": [
    "![](https://github.com/user-attachments/assets/97275238-fb10-4377-937e-c0b135d426ff)"
   ]
  },
  {
   "cell_type": "markdown",
   "metadata": {},
   "source": [
    "## Perform fit"
   ]
  },
  {
   "cell_type": "markdown",
   "metadata": {},
   "source": [
    "### Estimator definition"
   ]
  },
  {
   "cell_type": "code",
   "execution_count": null,
   "metadata": {},
   "outputs": [],
   "source": [
    "estimator_bw = UnbinnedNLL(\n",
    "    intensity_func_bw,\n",
    "    data=data,\n",
    "    phsp=phsp,\n",
    "    backend=\"jax\",\n",
    ")\n",
    "estimator_fvector = UnbinnedNLL(\n",
    "    intensity_func_fvector,\n",
    "    data=data,\n",
    "    phsp=phsp,\n",
    "    backend=\"jax\",\n",
    ")"
   ]
  },
  {
   "cell_type": "markdown",
   "metadata": {},
   "source": [
    "### Initial parameters"
   ]
  },
  {
   "cell_type": "code",
   "execution_count": null,
   "metadata": {
    "jupyter": {
     "source_hidden": true
    },
    "mystnb": {
     "code_prompt_show": "Functions for comparing model to data"
    },
    "tags": [
     "hide-input",
     "scroll-input"
    ]
   },
   "outputs": [],
   "source": [
    "def indicate_masses(ax, intensity_func, ls: str, lw: float, typ: str):\n",
    "    mass_pars = {\n",
    "        k: v for k, v in intensity_func.parameters.items() if k.startswith(\"m_{\")\n",
    "    }\n",
    "    for i, (k, v) in enumerate(mass_pars.items()):\n",
    "        ax.axvline(v, c=f\"C{i}\", label=f\"${k}$ ({typ})\", ls=ls, lw=lw)\n",
    "\n",
    "\n",
    "def compare_model(\n",
    "    variable_name,\n",
    "    data,\n",
    "    phsp,\n",
    "    function1,\n",
    "    function2,\n",
    "    bins=100,\n",
    ") -> Figure:\n",
    "    intensities1 = function1(phsp)\n",
    "    intensities2 = function2(phsp)\n",
    "    fig, ax = plt.subplots(figsize=(11, 4))\n",
    "    fig.subplots_adjust(right=0.85, top=0.95)\n",
    "    ax.set_xlabel(R\"$m_{p\\eta}$ [GeV]\")\n",
    "    ax.set_ylabel(\"Intensity [a. u.]\")\n",
    "    ax.set_yticks([])\n",
    "    data_projection = np.real(data[variable_name])\n",
    "    fast_histogram(\n",
    "        data_projection,\n",
    "        bins=bins,\n",
    "        alpha=0.5,\n",
    "        label=\"data\",\n",
    "        density=True,\n",
    "        ax=ax,\n",
    "    )\n",
    "    phsp_projection = np.real(phsp[variable_name])\n",
    "    fast_histogram(\n",
    "        phsp_projection,\n",
    "        weights=np.array(intensities1),\n",
    "        bins=bins,\n",
    "        fill=False,\n",
    "        color=\"red\",\n",
    "        label=\"Fit model with F vector\",\n",
    "        density=True,\n",
    "        ax=ax,\n",
    "    )\n",
    "    fast_histogram(\n",
    "        phsp_projection,\n",
    "        weights=np.array(intensities2),\n",
    "        bins=bins,\n",
    "        fill=False,\n",
    "        color=\"blue\",\n",
    "        label=\"Fit model with Breit-Wigner\",\n",
    "        density=True,\n",
    "        ax=ax,\n",
    "    )\n",
    "    ax.set_ylim(0, None)\n",
    "    indicate_masses(ax, function1, ls=\"dashed\", lw=1, typ=\"F vector\")\n",
    "    indicate_masses(ax, function2, ls=\"dotted\", lw=1, typ=\"Breit-Wigner\")\n",
    "    fig.legend(loc=\"outside upper right\")\n",
    "    fig.show()\n",
    "    return fig"
   ]
  },
  {
   "cell_type": "code",
   "execution_count": null,
   "metadata": {},
   "outputs": [],
   "source": [
    "initial_parameters_beta = {\n",
    "    R\"\\beta_{N_2(1/2^-)}\": 1 + 0j,\n",
    "    R\"\\beta_{N_2(3/2^-)}\": 1 + 0j,\n",
    "}\n",
    "initial_parameters_masses = {\n",
    "    R\"m_{N_1(1/2^-)}\": 1.6,\n",
    "    R\"m_{N_2(1/2^-)}\": 1.7,\n",
    "    R\"m_{N_1(3/2^-)}\": 1.8,\n",
    "    R\"m_{N_2(3/2^-)}\": 1.93,\n",
    "}\n",
    "initial_parameters_bw = {\n",
    "    **initial_parameters_beta,\n",
    "    **initial_parameters_masses,\n",
    "    R\"\\Gamma_{N_1(1/2^-)}\": 1 / 1.6,\n",
    "    R\"\\Gamma_{N_2(1/2^-)}\": 1 / 1.65,\n",
    "    R\"\\Gamma_{N_1(3/2^-)}\": 1 / 1.85,\n",
    "    R\"\\Gamma_{N_2(3/2^-)}\": 1 / 1.93,\n",
    "}\n",
    "initial_parameters_fvector = {\n",
    "    **initial_parameters_beta,\n",
    "    **initial_parameters_masses,\n",
    "    R\"g_{N_1(1/2^-)}\": 1.6,\n",
    "    R\"g_{N_2(1/2^-)}\": 1,\n",
    "    R\"g_{N_1(3/2^-)}\": 1.0,\n",
    "    R\"g_{N_2(3/2^-)}\": 1.0,\n",
    "}"
   ]
  },
  {
   "cell_type": "code",
   "execution_count": null,
   "metadata": {
    "jupyter": {
     "source_hidden": true
    },
    "tags": [
     "remove-output",
     "hide-input"
    ]
   },
   "outputs": [],
   "source": [
    "original_parameters_bw = dict(intensity_func_bw.parameters)\n",
    "intensity_func_bw.update_parameters(initial_parameters_bw)\n",
    "original_parameters_fvector = dict(intensity_func_fvector.parameters)\n",
    "intensity_func_fvector.update_parameters(initial_parameters_fvector)\n",
    "fig = compare_model(\"m_01\", data, phsp, intensity_func_fvector, intensity_func_bw)\n",
    "fig.savefig(\"before-fit.svg\", bbox_inches=\"tight\")"
   ]
  },
  {
   "cell_type": "markdown",
   "metadata": {},
   "source": [
    "![](https://github.com/user-attachments/assets/e362d975-84df-4f71-a242-c164f3160adb)"
   ]
  },
  {
   "cell_type": "markdown",
   "metadata": {},
   "source": [
    "### Optimize parameters"
   ]
  },
  {
   "cell_type": "code",
   "execution_count": null,
   "metadata": {},
   "outputs": [],
   "source": [
    "minuit2 = Minuit2()"
   ]
  },
  {
   "cell_type": "code",
   "execution_count": null,
   "metadata": {
    "tags": [
     "scroll-output",
     "keep_output"
    ]
   },
   "outputs": [
    {
     "data": {
      "application/vnd.jupyter.widget-view+json": {
       "model_id": "4d4d0d7ae85047dbaa2c4766ebd30d74",
       "version_major": 2,
       "version_minor": 0
      },
      "text/plain": [
       "0it [00:00, ?it/s]"
      ]
     },
     "metadata": {},
     "output_type": "display_data"
    },
    {
     "data": {
      "text/plain": [
       "FitResult(\n",
       " minimum_valid=True,\n",
       " execution_time=12.6900634765625,\n",
       " function_calls=1682,\n",
       " estimator_value=-7931.137816713118,\n",
       " parameter_values={\n",
       "  'm_{N_1(1/2^-)}': 1.6539461175761394,\n",
       "  'm_{N_2(1/2^-)}': 1.7264292670507233,\n",
       "  'm_{N_1(3/2^-)}': 1.7328191451306136,\n",
       "  'm_{N_2(3/2^-)}': 1.908580828366668,\n",
       "  '\\\\Gamma_{N_1(1/2^-)}': 1.8524926041523075,\n",
       "  '\\\\Gamma_{N_2(1/2^-)}': 0.13046881396159438,\n",
       "  '\\\\Gamma_{N_1(3/2^-)}': 0.1573516791553556,\n",
       "  '\\\\Gamma_{N_2(3/2^-)}': 1.324380387465878,\n",
       "  '\\\\beta_{N_2(1/2^-)}': (-1.6897481365226579-1.1568947003976526j),\n",
       "  '\\\\beta_{N_2(3/2^-)}': (1.5375186053600138-0.44760512526013624j),\n",
       " },\n",
       " parameter_errors={\n",
       "  'm_{N_1(1/2^-)}': 0.004603319099772491,\n",
       "  'm_{N_2(1/2^-)}': 0.0006070545961158388,\n",
       "  'm_{N_1(3/2^-)}': 0.0015172566194625206,\n",
       "  'm_{N_2(3/2^-)}': 0.0077272263352300054,\n",
       "  '\\\\Gamma_{N_1(1/2^-)}': 0.06361609357610253,\n",
       "  '\\\\Gamma_{N_2(1/2^-)}': 0.005879299479538631,\n",
       "  '\\\\Gamma_{N_1(3/2^-)}': 0.019367706202832097,\n",
       "  '\\\\Gamma_{N_2(3/2^-)}': 0.05320290566507636,\n",
       "  '\\\\beta_{N_2(1/2^-)}': (0.1311293412261402+0.1278774780728592j),\n",
       "  '\\\\beta_{N_2(3/2^-)}': (0.11272653975271772+0.22792481789700972j),\n",
       " },\n",
       ")"
      ]
     },
     "execution_count": null,
     "metadata": {},
     "output_type": "execute_result"
    }
   ],
   "source": [
    "fit_result_bw = minuit2.optimize(estimator_bw, initial_parameters_bw)\n",
    "assert fit_result_bw.minimum_valid\n",
    "fit_result_bw"
   ]
  },
  {
   "cell_type": "code",
   "execution_count": null,
   "metadata": {
    "tags": [
     "scroll-output",
     "keep_output"
    ]
   },
   "outputs": [
    {
     "data": {
      "application/vnd.jupyter.widget-view+json": {
       "model_id": "72a3252ff90b4bebb6ab418446b8c88d",
       "version_major": 2,
       "version_minor": 0
      },
      "text/plain": [
       "0it [00:00, ?it/s]"
      ]
     },
     "metadata": {},
     "output_type": "display_data"
    },
    {
     "data": {
      "text/plain": [
       "FitResult(\n",
       " minimum_valid=True,\n",
       " execution_time=13.932363510131836,\n",
       " function_calls=1011,\n",
       " estimator_value=-8199.598714182841,\n",
       " parameter_values={\n",
       "  'm_{N_1(1/2^-)}': 1.6483798486877363,\n",
       "  'm_{N_2(1/2^-)}': 1.7483200793152158,\n",
       "  'm_{N_1(3/2^-)}': 1.8986142342242096,\n",
       "  'm_{N_2(3/2^-)}': 1.9496754881738385,\n",
       "  'g_{N_1(1/2^-)}': 1.6624278005128597,\n",
       "  'g_{N_2(1/2^-)}': 0.9493267500468856,\n",
       "  'g_{N_1(3/2^-)}': 1.0079832421160817,\n",
       "  'g_{N_2(3/2^-)}': 0.9800998848231933,\n",
       "  '\\\\beta_{N_2(1/2^-)}': (0.9606446724644881-0.00903038965870049j),\n",
       "  '\\\\beta_{N_2(3/2^-)}': (0.9709322547787542+0.008602453798822136j),\n",
       " },\n",
       " parameter_errors={\n",
       "  'm_{N_1(1/2^-)}': 0.001040462783404995,\n",
       "  'm_{N_2(1/2^-)}': 0.0006658939683350329,\n",
       "  'm_{N_1(3/2^-)}': 0.0011425836015682435,\n",
       "  'm_{N_2(3/2^-)}': 0.0015413452101229357,\n",
       "  'g_{N_1(1/2^-)}': 0.010998823395799513,\n",
       "  'g_{N_2(1/2^-)}': 0.018365301903530223,\n",
       "  'g_{N_1(3/2^-)}': 0.013236677643628186,\n",
       "  'g_{N_2(3/2^-)}': 0.03222752091156066,\n",
       "  '\\\\beta_{N_2(1/2^-)}': (0.015907378725063155+0.016622785545148663j),\n",
       "  '\\\\beta_{N_2(3/2^-)}': (0.040758323198047446+0.01968492218927783j),\n",
       " },\n",
       ")"
      ]
     },
     "execution_count": null,
     "metadata": {},
     "output_type": "execute_result"
    }
   ],
   "source": [
    "fit_result_fvector = minuit2.optimize(estimator_fvector, initial_parameters_fvector)\n",
    "assert fit_result_fvector.minimum_valid\n",
    "fit_result_fvector"
   ]
  },
  {
   "cell_type": "code",
   "execution_count": null,
   "metadata": {
    "jupyter": {
     "source_hidden": true
    },
    "tags": [
     "remove-output",
     "hide-input"
    ]
   },
   "outputs": [],
   "source": [
    "intensity_func_fvector.update_parameters(fit_result_fvector.parameter_values)\n",
    "intensity_func_bw.update_parameters(fit_result_bw.parameter_values)\n",
    "fig = compare_model(\"m_01\", data, phsp, intensity_func_fvector, intensity_func_bw)\n",
    "fig.savefig(\"after-fit.svg\", bbox_inches=\"tight\")"
   ]
  },
  {
   "cell_type": "markdown",
   "metadata": {},
   "source": [
    "![](https://github.com/user-attachments/assets/378e1a26-caf2-4af5-abf2-695d26c2a603)"
   ]
  },
  {
   "cell_type": "markdown",
   "metadata": {},
   "source": [
    "### Fit result comparison"
   ]
  },
  {
   "cell_type": "code",
   "execution_count": null,
   "metadata": {
    "jupyter": {
     "source_hidden": true
    },
    "mystnb": {
     "code_prompt_show": "Functions for inspecting fit result"
    },
    "tags": [
     "hide-input"
    ]
   },
   "outputs": [],
   "source": [
    "def compute_aic_bic(fit_result: FitResult) -> tuple[float, float]:\n",
    "    n_real_par = fit_result.count_number_of_parameters(complex_twice=True)\n",
    "    n_events = len(next(iter(data.values())))\n",
    "    log_likelihood = -fit_result.estimator_value\n",
    "    aic = 2 * n_real_par - 2 * log_likelihood\n",
    "    bic = n_real_par * np.log(n_events) - 2 * log_likelihood\n",
    "    return aic, bic\n",
    "\n",
    "\n",
    "def compare_parameters(initial: dict, optimized: dict, expected: dict) -> pd.DataFrame:\n",
    "    parameters = sorted(set(initial) | set(optimized))\n",
    "    df = pd.DataFrame(\n",
    "        {\n",
    "            f\"${p}$\": (\n",
    "                f\"{initial[p]:.3g}\",\n",
    "                f\"{optimized[p]:.3g}\",\n",
    "                f\"{expected[p]:.3g}\",\n",
    "                f\"{100 * abs((optimized[p] - expected[p]) / expected[p]):.1f}%\",\n",
    "            )\n",
    "            for p in parameters\n",
    "        },\n",
    "    ).T\n",
    "    df.columns = (\"initial\", \"fit result\", \"expected\", \"deviation\")\n",
    "    return df"
   ]
  },
  {
   "cell_type": "markdown",
   "metadata": {},
   "source": [
    "#### P vector"
   ]
  },
  {
   "cell_type": "code",
   "execution_count": null,
   "metadata": {
    "tags": [
     "keep_output"
    ]
   },
   "outputs": [
    {
     "data": {
      "text/plain": [
       "(-16375.197428365682, -16269.360088952759)"
      ]
     },
     "execution_count": null,
     "metadata": {},
     "output_type": "execute_result"
    }
   ],
   "source": [
    "compute_aic_bic(fit_result_fvector)"
   ]
  },
  {
   "cell_type": "code",
   "execution_count": null,
   "metadata": {
    "jupyter": {
     "source_hidden": true
    },
    "tags": [
     "hide-input",
     "keep_output"
    ]
   },
   "outputs": [
    {
     "data": {
      "text/html": [
       "<div>\n",
       "<style scoped>\n",
       "    .dataframe tbody tr th:only-of-type {\n",
       "        vertical-align: middle;\n",
       "    }\n",
       "\n",
       "    .dataframe tbody tr th {\n",
       "        vertical-align: top;\n",
       "    }\n",
       "\n",
       "    .dataframe thead th {\n",
       "        text-align: right;\n",
       "    }\n",
       "</style>\n",
       "<table border=\"1\" class=\"dataframe\">\n",
       "  <thead>\n",
       "    <tr style=\"text-align: right;\">\n",
       "      <th></th>\n",
       "      <th>initial</th>\n",
       "      <th>fit result</th>\n",
       "      <th>expected</th>\n",
       "      <th>deviation</th>\n",
       "    </tr>\n",
       "  </thead>\n",
       "  <tbody>\n",
       "    <tr>\n",
       "      <th>$\\beta_{N_2(1/2^-)}$</th>\n",
       "      <td>1+0j</td>\n",
       "      <td>0.961-0.00903j</td>\n",
       "      <td>1+0j</td>\n",
       "      <td>4.0%</td>\n",
       "    </tr>\n",
       "    <tr>\n",
       "      <th>$\\beta_{N_2(3/2^-)}$</th>\n",
       "      <td>1+0j</td>\n",
       "      <td>0.971+0.0086j</td>\n",
       "      <td>1+0j</td>\n",
       "      <td>3.0%</td>\n",
       "    </tr>\n",
       "    <tr>\n",
       "      <th>$g_{N_1(1/2^-)}$</th>\n",
       "      <td>1.6</td>\n",
       "      <td>1.66</td>\n",
       "      <td>1.65</td>\n",
       "      <td>0.8%</td>\n",
       "    </tr>\n",
       "    <tr>\n",
       "      <th>$g_{N_1(3/2^-)}$</th>\n",
       "      <td>1</td>\n",
       "      <td>1.01</td>\n",
       "      <td>1</td>\n",
       "      <td>0.8%</td>\n",
       "    </tr>\n",
       "    <tr>\n",
       "      <th>$g_{N_2(1/2^-)}$</th>\n",
       "      <td>1</td>\n",
       "      <td>0.949</td>\n",
       "      <td>1</td>\n",
       "      <td>5.1%</td>\n",
       "    </tr>\n",
       "    <tr>\n",
       "      <th>$g_{N_2(3/2^-)}$</th>\n",
       "      <td>1</td>\n",
       "      <td>0.98</td>\n",
       "      <td>1</td>\n",
       "      <td>2.0%</td>\n",
       "    </tr>\n",
       "    <tr>\n",
       "      <th>$m_{N_1(1/2^-)}$</th>\n",
       "      <td>1.6</td>\n",
       "      <td>1.65</td>\n",
       "      <td>1.65</td>\n",
       "      <td>0.1%</td>\n",
       "    </tr>\n",
       "    <tr>\n",
       "      <th>$m_{N_1(3/2^-)}$</th>\n",
       "      <td>1.8</td>\n",
       "      <td>1.9</td>\n",
       "      <td>1.95</td>\n",
       "      <td>2.6%</td>\n",
       "    </tr>\n",
       "    <tr>\n",
       "      <th>$m_{N_2(1/2^-)}$</th>\n",
       "      <td>1.7</td>\n",
       "      <td>1.75</td>\n",
       "      <td>1.75</td>\n",
       "      <td>0.1%</td>\n",
       "    </tr>\n",
       "    <tr>\n",
       "      <th>$m_{N_2(3/2^-)}$</th>\n",
       "      <td>1.93</td>\n",
       "      <td>1.95</td>\n",
       "      <td>1.9</td>\n",
       "      <td>2.6%</td>\n",
       "    </tr>\n",
       "  </tbody>\n",
       "</table>\n",
       "</div>"
      ],
      "text/plain": [
       "                     initial      fit result expected deviation\n",
       "$\\beta_{N_2(1/2^-)}$    1+0j  0.961-0.00903j     1+0j      4.0%\n",
       "$\\beta_{N_2(3/2^-)}$    1+0j   0.971+0.0086j     1+0j      3.0%\n",
       "$g_{N_1(1/2^-)}$         1.6            1.66     1.65      0.8%\n",
       "$g_{N_1(3/2^-)}$           1            1.01        1      0.8%\n",
       "$g_{N_2(1/2^-)}$           1           0.949        1      5.1%\n",
       "$g_{N_2(3/2^-)}$           1            0.98        1      2.0%\n",
       "$m_{N_1(1/2^-)}$         1.6            1.65     1.65      0.1%\n",
       "$m_{N_1(3/2^-)}$         1.8             1.9     1.95      2.6%\n",
       "$m_{N_2(1/2^-)}$         1.7            1.75     1.75      0.1%\n",
       "$m_{N_2(3/2^-)}$        1.93            1.95      1.9      2.6%"
      ]
     },
     "execution_count": null,
     "metadata": {},
     "output_type": "execute_result"
    }
   ],
   "source": [
    "compare_parameters(\n",
    "    initial=initial_parameters_fvector,\n",
    "    optimized=fit_result_fvector.parameter_values,\n",
    "    expected=original_parameters_fvector,\n",
    ")"
   ]
  },
  {
   "cell_type": "markdown",
   "metadata": {},
   "source": [
    "#### Breit–Wigner"
   ]
  },
  {
   "cell_type": "code",
   "execution_count": null,
   "metadata": {
    "tags": [
     "keep_output"
    ]
   },
   "outputs": [
    {
     "data": {
      "text/plain": [
       "(-15838.275633426236, -15732.438294013313)"
      ]
     },
     "execution_count": null,
     "metadata": {},
     "output_type": "execute_result"
    }
   ],
   "source": [
    "compute_aic_bic(fit_result_bw)"
   ]
  },
  {
   "cell_type": "code",
   "execution_count": null,
   "metadata": {
    "jupyter": {
     "source_hidden": true
    },
    "tags": [
     "hide-input",
     "keep_output"
    ]
   },
   "outputs": [
    {
     "data": {
      "text/html": [
       "<div>\n",
       "<style scoped>\n",
       "    .dataframe tbody tr th:only-of-type {\n",
       "        vertical-align: middle;\n",
       "    }\n",
       "\n",
       "    .dataframe tbody tr th {\n",
       "        vertical-align: top;\n",
       "    }\n",
       "\n",
       "    .dataframe thead th {\n",
       "        text-align: right;\n",
       "    }\n",
       "</style>\n",
       "<table border=\"1\" class=\"dataframe\">\n",
       "  <thead>\n",
       "    <tr style=\"text-align: right;\">\n",
       "      <th></th>\n",
       "      <th>initial</th>\n",
       "      <th>fit result</th>\n",
       "      <th>expected</th>\n",
       "      <th>deviation</th>\n",
       "    </tr>\n",
       "  </thead>\n",
       "  <tbody>\n",
       "    <tr>\n",
       "      <th>$\\Gamma_{N_1(1/2^-)}$</th>\n",
       "      <td>0.625</td>\n",
       "      <td>1.85</td>\n",
       "      <td>0.606</td>\n",
       "      <td>205.7%</td>\n",
       "    </tr>\n",
       "    <tr>\n",
       "      <th>$\\Gamma_{N_1(3/2^-)}$</th>\n",
       "      <td>0.541</td>\n",
       "      <td>0.157</td>\n",
       "      <td>0.541</td>\n",
       "      <td>70.9%</td>\n",
       "    </tr>\n",
       "    <tr>\n",
       "      <th>$\\Gamma_{N_2(1/2^-)}$</th>\n",
       "      <td>0.606</td>\n",
       "      <td>0.13</td>\n",
       "      <td>0.571</td>\n",
       "      <td>77.2%</td>\n",
       "    </tr>\n",
       "    <tr>\n",
       "      <th>$\\Gamma_{N_2(3/2^-)}$</th>\n",
       "      <td>0.518</td>\n",
       "      <td>1.32</td>\n",
       "      <td>0.526</td>\n",
       "      <td>151.6%</td>\n",
       "    </tr>\n",
       "    <tr>\n",
       "      <th>$\\beta_{N_2(1/2^-)}$</th>\n",
       "      <td>1+0j</td>\n",
       "      <td>-1.69-1.16j</td>\n",
       "      <td>1+0j</td>\n",
       "      <td>292.8%</td>\n",
       "    </tr>\n",
       "    <tr>\n",
       "      <th>$\\beta_{N_2(3/2^-)}$</th>\n",
       "      <td>1+0j</td>\n",
       "      <td>1.54-0.448j</td>\n",
       "      <td>1+0j</td>\n",
       "      <td>69.9%</td>\n",
       "    </tr>\n",
       "    <tr>\n",
       "      <th>$m_{N_1(1/2^-)}$</th>\n",
       "      <td>1.6</td>\n",
       "      <td>1.65</td>\n",
       "      <td>1.65</td>\n",
       "      <td>0.2%</td>\n",
       "    </tr>\n",
       "    <tr>\n",
       "      <th>$m_{N_1(3/2^-)}$</th>\n",
       "      <td>1.8</td>\n",
       "      <td>1.73</td>\n",
       "      <td>1.85</td>\n",
       "      <td>6.3%</td>\n",
       "    </tr>\n",
       "    <tr>\n",
       "      <th>$m_{N_2(1/2^-)}$</th>\n",
       "      <td>1.7</td>\n",
       "      <td>1.73</td>\n",
       "      <td>1.75</td>\n",
       "      <td>1.3%</td>\n",
       "    </tr>\n",
       "    <tr>\n",
       "      <th>$m_{N_2(3/2^-)}$</th>\n",
       "      <td>1.93</td>\n",
       "      <td>1.91</td>\n",
       "      <td>1.9</td>\n",
       "      <td>0.5%</td>\n",
       "    </tr>\n",
       "  </tbody>\n",
       "</table>\n",
       "</div>"
      ],
      "text/plain": [
       "                      initial   fit result expected deviation\n",
       "$\\Gamma_{N_1(1/2^-)}$   0.625         1.85    0.606    205.7%\n",
       "$\\Gamma_{N_1(3/2^-)}$   0.541        0.157    0.541     70.9%\n",
       "$\\Gamma_{N_2(1/2^-)}$   0.606         0.13    0.571     77.2%\n",
       "$\\Gamma_{N_2(3/2^-)}$   0.518         1.32    0.526    151.6%\n",
       "$\\beta_{N_2(1/2^-)}$     1+0j  -1.69-1.16j     1+0j    292.8%\n",
       "$\\beta_{N_2(3/2^-)}$     1+0j  1.54-0.448j     1+0j     69.9%\n",
       "$m_{N_1(1/2^-)}$          1.6         1.65     1.65      0.2%\n",
       "$m_{N_1(3/2^-)}$          1.8         1.73     1.85      6.3%\n",
       "$m_{N_2(1/2^-)}$          1.7         1.73     1.75      1.3%\n",
       "$m_{N_2(3/2^-)}$         1.93         1.91      1.9      0.5%"
      ]
     },
     "execution_count": null,
     "metadata": {},
     "output_type": "execute_result"
    }
   ],
   "source": [
    "compare_parameters(\n",
    "    initial=initial_parameters_bw,\n",
    "    optimized=fit_result_bw.parameter_values,\n",
    "    expected=original_parameters_bw,\n",
    ")"
   ]
  }
 ],
 "metadata": {
  "colab": {
   "toc_visible": true
  },
  "kernelspec": {
   "display_name": "Python 3 (ipykernel)",
   "language": "python",
   "name": "pyproject_local_kernel"
  },
  "language_info": {
   "codemirror_mode": {
    "name": "ipython",
    "version": 3
   },
   "file_extension": ".py",
   "mimetype": "text/x-python",
   "name": "python",
   "nbconvert_exporter": "python",
   "pygments_lexer": "ipython3",
   "version": "3.12.6"
  }
 },
 "nbformat": 4,
 "nbformat_minor": 4
}
