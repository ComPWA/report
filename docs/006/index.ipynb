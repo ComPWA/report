{
 "cells": [
  {
   "cell_type": "markdown",
   "metadata": {},
   "source": [
    "```{autolink-concat}\n",
    "```"
   ]
  },
  {
   "cell_type": "markdown",
   "metadata": {
    "tags": [
     "tips"
    ]
   },
   "source": [
    "::::{margin}\n",
    ":::{card} Interactive 3D plots\n",
    "TR-006\n",
    "^^^\n",
    "This report illustrates how to interact with [`matplotlib`](https://matplotlib.org) 3D plots through [Matplotlib sliders](https://matplotlib.org/stable/api/widgets_api.html) and [ipywidgets](https://ipywidgets.readthedocs.io/en/latest/examples/Widget%20List.html).\n",
    "+++\n",
    "✅&nbsp;[ampform#38](https://github.com/ComPWA/ampform/pull/38)\n",
    ":::\n",
    "::::"
   ]
  },
  {
   "cell_type": "markdown",
   "metadata": {},
   "source": [
    "# Interactive 3D plots"
   ]
  },
  {
   "cell_type": "code",
   "execution_count": null,
   "metadata": {
    "tags": [
     "remove-cell"
    ]
   },
   "outputs": [],
   "source": [
    "%pip install -q ipywidgets==8.1.1 plotly==5.18.0 sympy==1.12"
   ]
  },
  {
   "cell_type": "markdown",
   "metadata": {},
   "source": [
    "<!-- cspell:ignore cstride descrip displaystyle facecolor ianhi ipyslider ipywidget ipywidgets mplot rstride toolitems valinit valmax valmin valstep -->"
   ]
  },
  {
   "cell_type": "code",
   "execution_count": null,
   "metadata": {
    "tags": [
     "hide-cell"
    ]
   },
   "outputs": [],
   "source": [
    "import os\n",
    "\n",
    "import matplotlib.pyplot as plt\n",
    "import numpy as np\n",
    "import plotly.graph_objects as go\n",
    "import sympy as sp\n",
    "from IPython.display import display\n",
    "from ipywidgets import widgets as ipywidgets\n",
    "from matplotlib import widgets as mpl_widgets\n",
    "\n",
    "STATIC_WEB_PAGE = {\"EXECUTE_NB\", \"READTHEDOCS\"}.intersection(os.environ)"
   ]
  },
  {
   "cell_type": "code",
   "execution_count": null,
   "metadata": {
    "cellView": "form",
    "jupyter": {
     "source_hidden": true
    },
    "tags": [
     "remove-cell"
    ]
   },
   "outputs": [],
   "source": [
    "# @title\n",
    "if \"COLAB_RELEASE_TAG\" in os.environ:\n",
    "    import subprocess\n",
    "\n",
    "    from google.colab import output\n",
    "\n",
    "    output.enable_custom_widget_manager()\n",
    "    subprocess.run(\"pip install -q ipympl\".split(), check=False)"
   ]
  },
  {
   "cell_type": "markdown",
   "metadata": {},
   "source": [
    "This report illustrates how to interact with [`matplotlib`](https://matplotlib.org) 3D plots through [Matplotlib sliders](https://matplotlib.org/stable/api/widgets_api.html) and [ipywidgets](https://ipywidgets.readthedocs.io/en/latest/examples/Widget%20List.html). This might be implemented later on in {mod}`symplot` and/or [`mpl_interactions`](https://mpl-interactions.readthedocs.io) (see [ianhi/mpl-interactions#89](https://github.com/ianhi/mpl-interactions/issues/89)).\n",
    "\n",
    "In this example, we create a surface plot (see {meth}`~mpl_toolkits.mplot3d.axes3d.Axes3D.plot_surface`) for the following function."
   ]
  },
  {
   "cell_type": "code",
   "execution_count": null,
   "metadata": {
    "tags": [
     "keep_output"
    ]
   },
   "outputs": [
    {
     "data": {
      "text/latex": [
       "$\\displaystyle \\sqrt{x^{a} + \\sin^{2}{\\left(\\frac{y}{b} \\right)}}$"
      ],
      "text/plain": [
       "sqrt(x**a + sin(y/b)**2)"
      ]
     },
     "execution_count": null,
     "metadata": {},
     "output_type": "execute_result"
    }
   ],
   "source": [
    "x, y, a, b = sp.symbols(\"x y a b\")\n",
    "expression = sp.sqrt(x**a + sp.sin(y / b) ** 2)\n",
    "expression"
   ]
  },
  {
   "cell_type": "markdown",
   "metadata": {},
   "source": [
    "The function is formulated with {mod}`sympy`, but we use {func}`~sympy.utilities.lambdify.lambdify` to express it as a {mod}`numpy` function."
   ]
  },
  {
   "cell_type": "code",
   "execution_count": null,
   "metadata": {},
   "outputs": [],
   "source": [
    "numpy_function = sp.lambdify(\n",
    "    args=(x, y, a, b),\n",
    "    expr=expression,\n",
    "    modules=\"numpy\",\n",
    ")"
   ]
  },
  {
   "cell_type": "markdown",
   "metadata": {},
   "source": [
    "A surface plot has to be generated over a {func}`numpy.meshgrid`. This defines the $xy$-plane over which we want to plot our function."
   ]
  },
  {
   "cell_type": "code",
   "execution_count": null,
   "metadata": {},
   "outputs": [],
   "source": [
    "x_min, x_max = 0.1, 2\n",
    "y_min, y_max = -50, +50\n",
    "x_values = np.linspace(x_min, x_max, num=20)\n",
    "y_values = np.linspace(y_min, y_max, num=40)\n",
    "X, Y = np.meshgrid(x_values, y_values)"
   ]
  },
  {
   "cell_type": "markdown",
   "metadata": {},
   "source": [
    "The $z$-values for {meth}`~mpl_toolkits.mplot3d.axes3d.Axes3D.plot_surface` can now be simply computed as follows:"
   ]
  },
  {
   "cell_type": "code",
   "execution_count": null,
   "metadata": {},
   "outputs": [],
   "source": [
    "a_init = -0.5\n",
    "b_init = 20\n",
    "Z = numpy_function(X, Y, a=a_init, b=b_init)"
   ]
  },
  {
   "cell_type": "markdown",
   "metadata": {},
   "source": [
    "We now want to create sliders for $a$ and $b$, so that we can live-update the surface plot through those sliders."
   ]
  },
  {
   "cell_type": "markdown",
   "metadata": {},
   "source": [
    "## Matplotlib widgets"
   ]
  },
  {
   "cell_type": "markdown",
   "metadata": {},
   "source": [
    "Matplotlib provides its own way to define {mod}`matplotlib.widgets`."
   ]
  },
  {
   "cell_type": "code",
   "execution_count": null,
   "metadata": {
    "tags": [
     "remove-input"
    ]
   },
   "outputs": [],
   "source": [
    "%matplotlib widget"
   ]
  },
  {
   "cell_type": "code",
   "execution_count": null,
   "metadata": {
    "tags": [
     "remove-output"
    ]
   },
   "outputs": [],
   "source": [
    "fig1, ax1 = plt.subplots(ncols=1, subplot_kw={\"projection\": \"3d\"})\n",
    "\n",
    "# Create sliders and insert them within the figure\n",
    "plt.subplots_adjust(bottom=0.25)\n",
    "a_slider = mpl_widgets.Slider(\n",
    "    ax=plt.axes([0.2, 0.1, 0.65, 0.03]),\n",
    "    label=f\"${sp.latex(a)}$\",\n",
    "    valmin=-2,\n",
    "    valmax=2,\n",
    "    valinit=a_init,\n",
    ")\n",
    "b_slider = mpl_widgets.Slider(\n",
    "    ax=plt.axes([0.2, 0.05, 0.65, 0.03]),\n",
    "    label=f\"${sp.latex(b)}$\",\n",
    "    valmin=10,\n",
    "    valmax=50,\n",
    "    valinit=b_init,\n",
    "    valstep=1,\n",
    ")\n",
    "\n",
    "\n",
    "# Define what to do when a slider changes\n",
    "def update_plot(val=None):\n",
    "    a = a_slider.val\n",
    "    b = b_slider.val\n",
    "    ax1.clear()\n",
    "    Z = numpy_function(X, Y, a, b)\n",
    "    ax1.plot_surface(\n",
    "        X,\n",
    "        Y,\n",
    "        Z,\n",
    "        rstride=3,\n",
    "        cstride=1,\n",
    "        cmap=plt.cm.coolwarm,\n",
    "        antialiased=False,\n",
    "    )\n",
    "    ax1.set_xlabel(f\"${sp.latex(x)}$\")\n",
    "    ax1.set_ylabel(f\"${sp.latex(y)}$\")\n",
    "    ax1.set_zlabel(f\"${sp.latex(expression)}$\")\n",
    "    ax1.set_xticks([])\n",
    "    ax1.set_yticks([])\n",
    "    ax1.set_zticks([])\n",
    "    ax1.set_facecolor(\"white\")\n",
    "    fig1.canvas.draw_idle()\n",
    "\n",
    "\n",
    "a_slider.on_changed(update_plot)\n",
    "b_slider.on_changed(update_plot)\n",
    "\n",
    "# Plot the surface as initialization\n",
    "update_plot()\n",
    "plt.show()"
   ]
  },
  {
   "cell_type": "markdown",
   "metadata": {},
   "source": [
    "{{ run_interactive }}\n",
    "\n",
    "![Interactive inline matplotlib output](https://user-images.githubusercontent.com/29308176/164993434-da965bbb-459d-43b5-8294-eb64475f5192.gif)"
   ]
  },
  {
   "cell_type": "markdown",
   "metadata": {},
   "source": [
    "## `ipywidgets`"
   ]
  },
  {
   "cell_type": "markdown",
   "metadata": {},
   "source": [
    "As an alternative, you can use [ipywidgets](https://ipywidgets.readthedocs.io/en/latest/examples/Widget%20List.html). This package has lot more sliders to offer than Matplotlib, and they look nicer, but it only work within a Jupyter notebook.\n",
    "\n",
    "For more info, see [Using Interact](https://ipywidgets.readthedocs.io/en/stable/examples/Using%20Interact.html)."
   ]
  },
  {
   "cell_type": "markdown",
   "metadata": {},
   "source": [
    "### Using `interact`"
   ]
  },
  {
   "cell_type": "markdown",
   "metadata": {},
   "source": [
    "Simplest option is to use the [`ipywidgets.interact()`](https://ipywidgets.readthedocs.io/en/stable/examples/Using%20Interact.html) function:\n",
    "\n",
    "{{ run_interactive }}"
   ]
  },
  {
   "cell_type": "code",
   "execution_count": null,
   "metadata": {},
   "outputs": [],
   "source": [
    "fig2, ax2 = plt.subplots(ncols=1, subplot_kw={\"projection\": \"3d\"})\n",
    "\n",
    "\n",
    "@ipywidgets.interact(a=(-2.0, 2.0), b=(10, 50))\n",
    "def plot2(a=a_init, b=b_init):\n",
    "    ax2.clear()\n",
    "    Z = numpy_function(X, Y, a, b)\n",
    "    ax2.plot_surface(\n",
    "        X,\n",
    "        Y,\n",
    "        Z,\n",
    "        rstride=3,\n",
    "        cstride=1,\n",
    "        cmap=plt.cm.coolwarm,\n",
    "        antialiased=False,\n",
    "    )\n",
    "    ax2.set_xlabel(f\"${sp.latex(x)}$\")\n",
    "    ax2.set_ylabel(f\"${sp.latex(y)}$\")\n",
    "    ax2.set_zlabel(f\"${sp.latex(expression)}$\")\n",
    "    ax2.set_xticks([])\n",
    "    ax2.set_yticks([])\n",
    "    ax2.set_zticks([])\n",
    "    ax2.set_facecolor(\"white\")\n",
    "    fig2.canvas.draw_idle()"
   ]
  },
  {
   "cell_type": "markdown",
   "metadata": {},
   "source": [
    "### Using `interactive_output`"
   ]
  },
  {
   "cell_type": "markdown",
   "metadata": {},
   "source": [
    "You can have more control with [`ipywidgets.interactive_output()`](https://ipywidgets.readthedocs.io/en/stable/examples/Using%20Interact.html). That allows defining the sliders independently, so that you can arrange them as a user interface:"
   ]
  },
  {
   "cell_type": "code",
   "execution_count": null,
   "metadata": {
    "tags": [
     "remove-output"
    ]
   },
   "outputs": [],
   "source": [
    "fig3, ax3 = plt.subplots(ncols=1, subplot_kw={\"projection\": \"3d\"})\n",
    "a_ipyslider = ipywidgets.FloatSlider(\n",
    "    description=f\"${sp.latex(a)}$\",\n",
    "    value=a_init,\n",
    "    min=-2,\n",
    "    max=2,\n",
    "    step=0.1,\n",
    "    readout_format=\".1f\",\n",
    ")\n",
    "b_ipyslider = ipywidgets.IntSlider(\n",
    "    description=f\"${sp.latex(b)}$\",\n",
    "    value=b_init,\n",
    "    min=10,\n",
    "    max=50,\n",
    ")\n",
    "\n",
    "\n",
    "def plot3(a=a_init, b=b_init):\n",
    "    ax3.clear()\n",
    "    Z = numpy_function(X, Y, a, b)\n",
    "    ax3.plot_surface(\n",
    "        X,\n",
    "        Y,\n",
    "        Z,\n",
    "        rstride=3,\n",
    "        cstride=1,\n",
    "        cmap=plt.cm.coolwarm,\n",
    "        antialiased=False,\n",
    "    )\n",
    "    ax3.set_xlabel(f\"${sp.latex(x)}$\")\n",
    "    ax3.set_ylabel(f\"${sp.latex(y)}$\")\n",
    "    ax3.set_zlabel(f\"${sp.latex(expression)}$\")\n",
    "    ax3.set_xticks([])\n",
    "    ax3.set_yticks([])\n",
    "    ax3.set_zticks([])\n",
    "    ax3.set_facecolor(\"white\")\n",
    "    fig3.canvas.draw_idle()\n",
    "\n",
    "\n",
    "ui = ipywidgets.HBox([a_ipyslider, b_ipyslider])\n",
    "output = ipywidgets.interactive_output(\n",
    "    plot3, controls={\"a\": a_ipyslider, \"b\": b_ipyslider}\n",
    ")\n",
    "display(ui, output)"
   ]
  },
  {
   "cell_type": "markdown",
   "metadata": {},
   "source": [
    "{{ run_interactive }}\n",
    "\n",
    "![ipywidgets interactive output with interactive_output()](https://user-images.githubusercontent.com/29308176/164993430-6f6b906a-dfb5-4c7c-bae5-d9951c02112b.gif)"
   ]
  },
  {
   "cell_type": "markdown",
   "metadata": {},
   "source": [
    "## Plotly with ipywidgets"
   ]
  },
  {
   "cell_type": "markdown",
   "metadata": {},
   "source": [
    "3D plots with [Plotly](https://plotly.com/python) look a lot nicer and make it possible for the user to pan and zoom the 3D object. As an added bonus, Plotly figures [render as interactive 3D objects](https://myst-nb.readthedocs.io/en/v0.17.2/render/interactive.html#plotly) in the static HTML Sphinx build.\n",
    "\n",
    "Making 3D Plotly plots interactive with {mod}`ipywidgets` is quite similar to the previous examples with {mod}`matplotlib`. Two recommendations are:\n",
    "\n",
    "1. Set `continuous_update=False`, because {mod}`plotly` is slower than {mod}`matplotlib` in updating the figure.\n",
    "2. Save the camera orientation and update it after calling `Figure.show()`.\n",
    "3. When embedding the notebook a static webpage with [MyST-NB](https://myst-nb.readthedocs.io), avoid calling `Figure.show()` through [`ipywidgets.interactive_output()`](https://ipywidgets.readthedocs.io/en/stable/examples/Using%20Interact.html), because it causes the notebook to hang in some cycle (see CI for [ComPWA/compwa.github.io@d9240f1](https://github.com/ComPWA/compwa.github.io/pull/208/commits/d9240f1)). In the example below, the `update_plotly()` function is aborted if the notebook is run through Sphinx. "
   ]
  },
  {
   "cell_type": "code",
   "execution_count": null,
   "metadata": {
    "tags": [
     "hide-input"
    ]
   },
   "outputs": [],
   "source": [
    "plotly_a = ipywidgets.FloatSlider(\n",
    "    description=f\"${sp.latex(a)}$\",\n",
    "    value=a_init,\n",
    "    min=-2,\n",
    "    max=2,\n",
    "    step=0.1,\n",
    "    continuous_update=False,\n",
    "    readout_format=\".1f\",\n",
    ")\n",
    "plotly_b = ipywidgets.IntSlider(\n",
    "    description=f\"${sp.latex(b)}$\",\n",
    "    value=b_init,\n",
    "    min=10,\n",
    "    max=50,\n",
    "    continuous_update=False,\n",
    ")\n",
    "plotly_controls = {\"a\": plotly_a, \"b\": plotly_b}\n",
    "\n",
    "plotly_surface = go.Surface(\n",
    "    x=X,\n",
    "    y=Y,\n",
    "    z=Z,\n",
    "    surfacecolor=Z,\n",
    "    colorscale=\"RdBu_r\",\n",
    "    name=\"Surface\",\n",
    ")\n",
    "plotly_fig = go.Figure(data=[plotly_surface])\n",
    "plotly_fig.update_layout(height=500)\n",
    "if STATIC_WEB_PAGE:\n",
    "    plotly_fig.show()\n",
    "\n",
    "\n",
    "def update_plotly(a, b):\n",
    "    if STATIC_WEB_PAGE:\n",
    "        return\n",
    "    Z = numpy_function(X, Y, a, b)\n",
    "    camera_orientation = plotly_fig.layout.scene.camera\n",
    "    plotly_fig.update_traces(\n",
    "        x=X,\n",
    "        y=Y,\n",
    "        z=Z,\n",
    "        surfacecolor=Z,\n",
    "        selector=dict(name=\"Surface\"),\n",
    "    )\n",
    "    plotly_fig.show()\n",
    "    plotly_fig.update_layout(scene=dict(camera=camera_orientation))\n",
    "\n",
    "\n",
    "plotly_ui = ipywidgets.HBox([plotly_a, plotly_b])\n",
    "plotly_output = ipywidgets.interactive_output(update_plotly, plotly_controls)\n",
    "display(plotly_ui, plotly_output)"
   ]
  },
  {
   "cell_type": "markdown",
   "metadata": {},
   "source": [
    ":::{seealso} {doc}`/023/index`\n",
    ":::"
   ]
  }
 ],
 "metadata": {
  "colab": {
   "toc_visible": true
  },
  "kernelspec": {
   "display_name": "Python 3 (ipykernel)",
   "language": "python",
   "name": "python3"
  },
  "language_info": {
   "codemirror_mode": {
    "name": "ipython",
    "version": 3
   },
   "file_extension": ".py",
   "mimetype": "text/x-python",
   "name": "python",
   "nbconvert_exporter": "python",
   "pygments_lexer": "ipython3",
   "version": "3.12.6"
  }
 },
 "nbformat": 4,
 "nbformat_minor": 4
}
