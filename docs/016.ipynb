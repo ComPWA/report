{
 "cells": [
  {
   "cell_type": "markdown",
   "metadata": {},
   "source": [
    "```{autolink-concat}\n",
    "```"
   ]
  },
  {
   "cell_type": "markdown",
   "metadata": {
    "tags": [
     "sympy"
    ]
   },
   "source": [
    "::::{margin}\n",
    ":::{card} Symbolic integral\n",
    "TR-016\n",
    "^^^\n",
    "This report investigates how to formulate a symbolic integral that correctly evaluates to\n",
    "+++\n",
    "To be implemented\n",
    ":::\n",
    "::::"
   ]
  },
  {
   "cell_type": "markdown",
   "metadata": {},
   "source": [
    "# Lambdifying a symbolic integral"
   ]
  },
  {
   "cell_type": "code",
   "execution_count": null,
   "metadata": {
    "tags": [
     "remove-cell"
    ]
   },
   "outputs": [],
   "source": [
    "%pip install -q ampform==0.14.10 black==23.12.1 scipy==1.12.0 sympy==1.12"
   ]
  },
  {
   "cell_type": "code",
   "execution_count": null,
   "metadata": {
    "jupyter": {
     "source_hidden": true
    },
    "mystnb": {
     "code_prompt_show": "Import Python libraries"
    },
    "tags": [
     "hide-input"
    ]
   },
   "outputs": [],
   "source": [
    "import inspect\n",
    "\n",
    "import black\n",
    "import matplotlib.pyplot as plt\n",
    "import numpy as np\n",
    "import sympy as sp\n",
    "from ampform.io import aslatex\n",
    "from ampform.sympy import unevaluated\n",
    "from IPython.display import Markdown, Math\n",
    "from scipy.integrate import quad, quad_vec\n",
    "from sympy.printing.pycode import _unpack_integral_limits"
   ]
  },
  {
   "cell_type": "markdown",
   "metadata": {},
   "source": [
    "## Numerical integration"
   ]
  },
  {
   "cell_type": "markdown",
   "metadata": {},
   "source": [
    "(quad)=\n",
    "### SciPy's `quad()` function"
   ]
  },
  {
   "cell_type": "markdown",
   "metadata": {},
   "source": [
    "SciPy's {func}`scipy.integrate.quad` cannot integrate complex-valued functions:"
   ]
  },
  {
   "cell_type": "code",
   "execution_count": null,
   "metadata": {
    "tags": [
     "raises-exception"
    ]
   },
   "outputs": [],
   "source": [
    "def integrand(x):\n",
    "    return x * (x + 1j)\n",
    "\n",
    "\n",
    "quad(integrand, 0.0, 2.0)"
   ]
  },
  {
   "cell_type": "markdown",
   "metadata": {},
   "source": [
    "A [proposed solution](https://stackoverflow.com/a/5966088) is to wrap the {func}`~scipy.integrate.quad` function in a special integrate function that integrates the real and imaginary part of a function separately:"
   ]
  },
  {
   "cell_type": "code",
   "execution_count": null,
   "metadata": {},
   "outputs": [],
   "source": [
    "def complex_integrate(func, a, b, **quad_kwargs):\n",
    "    def real_func(x):\n",
    "        return func(x).real\n",
    "\n",
    "    def imag_func(x):\n",
    "        return func(x).imag\n",
    "\n",
    "    real_integral, real_integral_err = quad(real_func, a, b, **quad_kwargs)\n",
    "    imag_integral, imag_integral_err = quad(imag_func, a, b, **quad_kwargs)\n",
    "    return (\n",
    "        real_integral + 1j * imag_integral,\n",
    "        real_integral_err**2 + 1j * imag_integral_err,\n",
    "    )\n",
    "\n",
    "\n",
    "complex_integrate(integrand, 0.0, 2.0)"
   ]
  },
  {
   "cell_type": "markdown",
   "metadata": {},
   "source": [
    ":::{warning}\n",
    "\n",
    "The handling of uncertainties is incorrect.\n",
    "\n",
    ":::"
   ]
  },
  {
   "cell_type": "markdown",
   "metadata": {},
   "source": [
    "(quad_vec)=\n",
    "### SciPy's `quad_vec()` function"
   ]
  },
  {
   "cell_type": "markdown",
   "metadata": {},
   "source": [
    "The easiest solution, however, seems to be {func}`scipy.integrate.quad_vec`:"
   ]
  },
  {
   "cell_type": "code",
   "execution_count": null,
   "metadata": {},
   "outputs": [],
   "source": [
    "quad_vec(integrand, 0.0, 2.0)"
   ]
  },
  {
   "cell_type": "markdown",
   "metadata": {},
   "source": [
    "This has the added benefit that it can handle functions that return arrays:"
   ]
  },
  {
   "cell_type": "code",
   "execution_count": null,
   "metadata": {},
   "outputs": [],
   "source": [
    "def gaussian(x, mu, sigma):\n",
    "    return np.exp(-((x - mu) ** 2) / (2 * sigma**2)) / (sigma * np.sqrt(2 * np.pi))\n",
    "\n",
    "\n",
    "mu_values = np.linspace(-2, +3, num=10)\n",
    "result, _ = quad_vec(lambda x: gaussian(x, mu_values, sigma=0.5), 0, 2.0)\n",
    "result"
   ]
  },
  {
   "cell_type": "markdown",
   "metadata": {},
   "source": [
    "### Integrate with `quadpy`"
   ]
  },
  {
   "cell_type": "markdown",
   "metadata": {},
   "source": [
    ":::{warning}\n",
    "`quadpy` now requires a license. The examples below are only shown for documentation purposes.\n",
    ":::"
   ]
  },
  {
   "cell_type": "markdown",
   "metadata": {},
   "source": [
    "[Alternatively](https://stackoverflow.com/a/42866568), one could use [`quadpy`](https://github.com/sigma-py/quadpy), which essentially does the same as in [`quad()`](#quad), but can also (to a large degree) handle vectorized input and properly handles uncertainties. For example:\n",
    "\n",
    "```python\n",
    "from functools import partial\n",
    "\n",
    "\n",
    "def parametrized_func(s_prime, s):\n",
    "    return s_prime * (s_prime + s + 1j)\n",
    "\n",
    "\n",
    "s_array = np.linspace(-1, 1, num=10)\n",
    "quadpy.quad(\n",
    "    partial(parametrized_func, s=s_array),\n",
    "    a=0.0,\n",
    "    b=2.0,\n",
    ")\n",
    "```"
   ]
  },
  {
   "cell_type": "markdown",
   "metadata": {},
   "source": [
    ":::{note}\n",
    "\n",
    "One may need to play around with the tolerance if the function is not smooth, see [sigma-py/quadpy#255](https://github.com/sigma-py/quadpy/issues/255).\n",
    "\n",
    ":::\n",
    "\n",
    ":::{tip}\n",
    "<!-- cspell:ignore ndim orthopy -->\n",
    "[`quadpy`](https://github.com/sigma-py/quadpy) raises exceptions with {obj}`ModuleNotFoundError`s that are a bit unreadable. They are caused by the fact that [`orthopy`](https://pypi.org/project/orthopy) and [`ndim`](https://pypi.org/project/ndim) need to be installed separately.\n",
    ":::"
   ]
  },
  {
   "cell_type": "markdown",
   "metadata": {},
   "source": [
    "## SymPy integral"
   ]
  },
  {
   "cell_type": "markdown",
   "metadata": {},
   "source": [
    "The dispersion integral from Eq.&nbsp;{eq}`dispersion-integral` in **[TR-003](003.ipynb)** features a variable&nbsp;$s$ that is an argument to the function $\\Sigma_a$. This becomes a challenge when $s$ gets vectorized (in this case: gets an event-wise {obj}`numpy.array` of invariant masses). It seems that [`quad_vec()`](#quad_vec) can handle this well though."
   ]
  },
  {
   "cell_type": "code",
   "execution_count": null,
   "metadata": {
    "tags": [
     "raises-exception"
    ]
   },
   "outputs": [],
   "source": [
    "def parametrized_func(s_prime, s):\n",
    "    return s_prime * (s_prime + s + 1j)\n",
    "\n",
    "\n",
    "s_array = np.linspace(-1, +1, num=10)\n",
    "quad_vec(\n",
    "    lambda x: parametrized_func(x, s=s_array),\n",
    "    a=0.0,\n",
    "    b=2.0,\n",
    ")"
   ]
  },
  {
   "cell_type": "markdown",
   "metadata": {},
   "source": [
    "We now attempt to design [SymPy](https://docs.sympy.org) expression classes that correctly {func}`~sympy.utilities.lambdify.lambdify` using this **vectorized** numerical integral for handles complex values. Note that this integral expression class derives from {class}`sympy.Integral <sympy.integrals.integrals.Integral>` and that:\n",
    "\n",
    "1. overwrites its {meth}`~sympy.core.basic.Basic.doit` method, so that the integral cannot be evaluated by SymPy,\n",
    "2. provides a custom NumPy printer method (see **[TR-001](001.ipynb)**) that lambdifies this expression node to [`quadpy.quad()`](https://github.com/sigma-py/quadpy),\n",
    "4. adds class variables that allow configuring [`quad_vec()`](https://docs.scipy.org/doc/scipy/reference/generated/scipy.integrate.quad_vec.html),\n",
    "5. dummifies the integration variable in case it is not a valid Python variable name."
   ]
  },
  {
   "cell_type": "code",
   "execution_count": null,
   "metadata": {},
   "outputs": [],
   "source": [
    "class UnevaluatableIntegral(sp.Integral):\n",
    "    abs_tolerance = 1e-5\n",
    "    rel_tolerance = 1e-5\n",
    "    limit = 50\n",
    "    dummify = True\n",
    "\n",
    "    def doit(self, **hints):\n",
    "        args = [arg.doit(**hints) for arg in self.args]\n",
    "        return self.func(*args)\n",
    "\n",
    "    def _numpycode(self, printer, *args):\n",
    "        integration_vars, limits = _unpack_integral_limits(self)\n",
    "        if len(limits) != 1 or len(integration_vars) != 1:\n",
    "            msg = f\"Cannot handle {len(limits)}-dimensional integrals\"\n",
    "            raise ValueError(msg)\n",
    "        x = integration_vars[0]\n",
    "        a, b = limits[0]\n",
    "        expr = self.args[0]\n",
    "        if self.dummify:\n",
    "            dummy = sp.Dummy()\n",
    "            expr = expr.xreplace({x: dummy})\n",
    "            x = dummy\n",
    "        integrate_func = \"quad_vec\"\n",
    "        printer.module_imports[\"scipy.integrate\"].add(integrate_func)\n",
    "        return (\n",
    "            f\"{integrate_func}(lambda {printer._print(x)}: {printer._print(expr)},\"\n",
    "            f\" {printer._print(a)}, {printer._print(b)},\"\n",
    "            f\" epsabs={self.abs_tolerance}, epsrel={self.abs_tolerance},\"\n",
    "            f\" limit={self.limit})[0]\"\n",
    "        )"
   ]
  },
  {
   "cell_type": "markdown",
   "metadata": {},
   "source": [
    "To test whether this works, test this integral expression on another {func}`~ampform.sympy.unevaluated` expression:"
   ]
  },
  {
   "cell_type": "code",
   "execution_count": null,
   "metadata": {
    "jupyter": {
     "source_hidden": true
    },
    "tags": [
     "hide-input"
    ]
   },
   "outputs": [],
   "source": [
    "@unevaluated\n",
    "class MyFunction(sp.Expr):\n",
    "    x: sp.Symbol\n",
    "    omega1: sp.Symbol\n",
    "    omega2: sp.Symbol\n",
    "    phi1: sp.Symbol\n",
    "    phi2: sp.Symbol\n",
    "    _latex_repr_ = R\"f\\left({x}\\right)\"\n",
    "\n",
    "    def evaluate(self) -> sp.Expr:\n",
    "        x, omega1, omega2, phi1, phi2 = self.args\n",
    "        return sp.sin(omega1 * x + phi1) + sp.sin(omega2 * x + phi2)\n",
    "\n",
    "\n",
    "x, omega1, omega2, phi1, phi2 = sp.symbols(\"x omega1 omega2 phi1 phi2\")\n",
    "expr = MyFunction(x, omega1, omega2, phi1, phi2)\n",
    "Math(aslatex({expr: expr.doit(deep=False)}))"
   ]
  },
  {
   "cell_type": "code",
   "execution_count": null,
   "metadata": {},
   "outputs": [],
   "source": [
    "w, a, b = sp.symbols(\"w a b\")\n",
    "fourier_expr = UnevaluatableIntegral(expr * sp.exp(-sp.I * w * x), (x, a, b))\n",
    "fourier_expr"
   ]
  },
  {
   "cell_type": "markdown",
   "metadata": {},
   "source": [
    "Indeed the expression correctly lambdifies correctly, despite the {meth}`~sympy.core.basic.Basic.doit` call:"
   ]
  },
  {
   "cell_type": "code",
   "execution_count": null,
   "metadata": {},
   "outputs": [],
   "source": [
    "func = sp.lambdify([x, omega1, omega2, phi1, phi2], expr.doit())\n",
    "fourier_func = sp.lambdify([w, omega1, omega2, phi1, phi2, a, b], fourier_expr.doit())"
   ]
  },
  {
   "cell_type": "code",
   "execution_count": null,
   "metadata": {
    "jupyter": {
     "source_hidden": true
    },
    "tags": [
     "hide-input"
    ]
   },
   "outputs": [],
   "source": [
    "src = inspect.getsource(fourier_func)\n",
    "src = f\"\"\"```python\n",
    "{black.format_str(src, mode=black.FileMode()).strip()}\n",
    "```\"\"\"\n",
    "Markdown(src)"
   ]
  },
  {
   "cell_type": "code",
   "execution_count": null,
   "metadata": {},
   "outputs": [],
   "source": [
    "domain = np.linspace(-7, +7, num=500)\n",
    "parameters = dict(\n",
    "    omega1=1.2,\n",
    "    omega2=2.3,\n",
    "    phi1=-1.2,\n",
    "    phi2=+0.4,\n",
    ")\n",
    "func_output = func(domain, **parameters)\n",
    "fourier_output = fourier_func(domain, **parameters, a=-10, b=+10)"
   ]
  },
  {
   "cell_type": "code",
   "execution_count": null,
   "metadata": {
    "jupyter": {
     "source_hidden": true
    },
    "tags": [
     "hide-input"
    ]
   },
   "outputs": [],
   "source": [
    "%config InlineBackend.figure_formats = ['svg']\n",
    "\n",
    "fig, ax = plt.subplots()\n",
    "ax.set_xlabel(\"$x,w$\")\n",
    "ax.plot(domain, func_output, label=\"$f(x)$\")\n",
    "ax.plot(domain, fourier_output.real, label=R\"$\\mathrm{Re}\\,F(w)$\")\n",
    "ax.plot(domain, fourier_output.imag, label=R\"$\\mathrm{Im}\\,F(w)$\")\n",
    "ax.legend()\n",
    "plt.show()"
   ]
  },
  {
   "cell_type": "markdown",
   "metadata": {},
   "source": [
    ":::{tip}\n",
    "See how this integral expression class is applied to the phase space factor in **[TR-003](003.ipynb)**.\n",
    ":::"
   ]
  }
 ],
 "metadata": {
  "colab": {
   "toc_visible": true
  },
  "kernelspec": {
   "display_name": "Python 3 (ipykernel)",
   "language": "python",
   "name": "python3"
  },
  "language_info": {
   "codemirror_mode": {
    "name": "ipython",
    "version": 3
   },
   "file_extension": ".py",
   "mimetype": "text/x-python",
   "name": "python",
   "nbconvert_exporter": "python",
   "pygments_lexer": "ipython3",
   "version": "3.12.6"
  }
 },
 "nbformat": 4,
 "nbformat_minor": 4
}
