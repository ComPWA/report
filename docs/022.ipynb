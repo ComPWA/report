{
 "cells": [
  {
   "cell_type": "markdown",
   "metadata": {},
   "source": [
    "```{autolink-concat}\n",
    "```"
   ]
  },
  {
   "cell_type": "markdown",
   "metadata": {
    "tags": [
     "physics",
     "polarimetry",
     "polarization"
    ]
   },
   "source": [
    "::::{margin}\n",
    ":::{card} Polarimetry: Computing the B-matrix for Λc→pKπ\n",
    "TR-022\n",
    "^^^\n",
    "The $B$-matrix forms an extension of the polarimeter vector field $\\vec\\alpha$ ([arXiv:2301.07010](https://arxiv.org/abs/2301.07010), see also [TR-021](021.ipynb)) that takes the polarization of the proton into account. See [arXiv:2302.07665](https://arxiv.org/abs/2302.07665), Eq.&nbsp;(B6).\n",
    "+++\n",
    "✅&nbsp;[compwa.github.io#196](https://github.com/ComPWA/compwa.github.io/pull/196)\n",
    ":::\n",
    "::::"
   ]
  },
  {
   "cell_type": "markdown",
   "metadata": {},
   "source": [
    "# B-matrix extension of polarimeter"
   ]
  },
  {
   "cell_type": "code",
   "execution_count": null,
   "metadata": {
    "tags": [
     "remove-cell"
    ]
   },
   "outputs": [],
   "source": [
    "%pip install -q git+https://github.com/ComPWA/polarimetry@0.0.9"
   ]
  },
  {
   "cell_type": "code",
   "execution_count": null,
   "metadata": {
    "jupyter": {
     "source_hidden": true
    },
    "mystnb": {
     "code_prompt_show": "Import python libraries"
    },
    "tags": [
     "hide-cell",
     "scroll-input"
    ]
   },
   "outputs": [],
   "source": [
    "from __future__ import annotations\n",
    "\n",
    "import logging\n",
    "from pathlib import Path\n",
    "from warnings import filterwarnings\n",
    "\n",
    "import jax.numpy as jnp\n",
    "import matplotlib.pyplot as plt\n",
    "import numpy as np\n",
    "import polarimetry\n",
    "import sympy as sp\n",
    "from ampform.sympy import PoolSum\n",
    "from IPython.display import display\n",
    "from matplotlib import cm\n",
    "from polarimetry import _to_index\n",
    "from polarimetry.data import create_data_transformer, generate_meshgrid_sample\n",
    "from polarimetry.io import (\n",
    "    mute_jax_warnings,\n",
    "    perform_cached_doit,\n",
    "    perform_cached_lambdify,\n",
    ")\n",
    "from polarimetry.lhcb import load_model_builder, load_model_parameters\n",
    "from polarimetry.lhcb.particle import load_particles\n",
    "from sympy.physics.matrices import msigma\n",
    "from tqdm.auto import tqdm\n",
    "\n",
    "filterwarnings(\"ignore\")\n",
    "logging.getLogger(\"polarimetry.function\").setLevel(logging.INFO)\n",
    "mute_jax_warnings()\n",
    "POLARIMETRY_DIR = Path(polarimetry.__file__).parent"
   ]
  },
  {
   "cell_type": "markdown",
   "metadata": {},
   "source": [
    "## Formulate expressions"
   ]
  },
  {
   "cell_type": "markdown",
   "metadata": {},
   "source": [
    "Reference subsystem 1 is defined as:\n",
    "\n",
    "![](022/orientation-K.svg)"
   ]
  },
  {
   "cell_type": "code",
   "execution_count": null,
   "metadata": {
    "jupyter": {
     "source_hidden": true
    },
    "mystnb": {
     "code_prompt_show": "Formulate amplitude models"
    },
    "tags": [
     "hide-input"
    ]
   },
   "outputs": [],
   "source": [
    "MODEL_CHOICE = 0\n",
    "MODEL_FILE = POLARIMETRY_DIR / \"lhcb/model-definitions.yaml\"\n",
    "PARTICLES = load_particles(POLARIMETRY_DIR / \"lhcb/particle-definitions.yaml\")\n",
    "BUILDER = load_model_builder(MODEL_FILE, PARTICLES, model_id=MODEL_CHOICE)\n",
    "IMPORTED_PARAMETER_VALUES = load_model_parameters(\n",
    "    MODEL_FILE, BUILDER.decay, MODEL_CHOICE, PARTICLES\n",
    ")\n",
    "REFERENCE_SUBSYSTEM = 1\n",
    "MODEL = BUILDER.formulate(REFERENCE_SUBSYSTEM, cleanup_summations=True)\n",
    "MODEL.parameter_defaults.update(IMPORTED_PARAMETER_VALUES)"
   ]
  },
  {
   "cell_type": "markdown",
   "metadata": {},
   "source": [
    "$$\n",
    "\\vec\\alpha = \\sum_{\\nu',\\nu,\\lambda} A^*_{\\nu',\\lambda}\\vec\\sigma_{\\nu',\\nu} A_{\\nu,\\lambda} / I_0 \\\\\n",
    "\\vec\\beta = \\sum_{\\nu,\\lambda',\\lambda} A^*_{\\nu,\\lambda'} \\vec\\sigma_{\\lambda',\\lambda} A^*_{\\nu,\\lambda} / I_0 \\\\\n",
    "B_{\\tau,\\rho} = \\sum_{\\nu,\\nu',\\lambda',\\lambda} A^*_{\\nu',\\lambda'} \\sigma_{\\nu',\\nu}^\\tau A_{\\nu,\\lambda} \\sigma_{\\lambda',\\lambda}^\\rho\n",
    "$$"
   ]
  },
  {
   "cell_type": "code",
   "execution_count": null,
   "metadata": {
    "jupyter": {
     "source_hidden": true
    },
    "mystnb": {
     "code_prompt_show": "Symbol definitions"
    },
    "tags": [
     "hide-input"
    ]
   },
   "outputs": [],
   "source": [
    "half = sp.Rational(1, 2)\n",
    "λ, λp = sp.symbols(R\"lambda \\lambda^{\\prime}\", rational=True)\n",
    "v, vp = sp.symbols(R\"nu \\nu^{\\prime}\", rational=True)\n",
    "σ = [sp.Matrix([[1, 0], [0, 1]])]\n",
    "σ.extend(msigma(i) for i in (1, 2, 3))"
   ]
  },
  {
   "cell_type": "code",
   "execution_count": null,
   "metadata": {},
   "outputs": [],
   "source": [
    "ref = REFERENCE_SUBSYSTEM\n",
    "B = tuple(\n",
    "    tuple(\n",
    "        PoolSum(\n",
    "            BUILDER.formulate_aligned_amplitude(vp, λp, 0, 0, ref)[0].conjugate()\n",
    "            * σ[τ][_to_index(vp), _to_index(v)]\n",
    "            * BUILDER.formulate_aligned_amplitude(v, λ, 0, 0, ref)[0]\n",
    "            * σ[ρ][_to_index(λp), _to_index(λ)],\n",
    "            (v, [-half, +half]),\n",
    "            (vp, [-half, +half]),\n",
    "            (λ, [-half, +half]),\n",
    "            (λp, [-half, +half]),\n",
    "        ).cleanup()\n",
    "        for ρ in range(4)\n",
    "    )\n",
    "    for τ in range(4)\n",
    ")\n",
    "del ref\n",
    "B = sp.Matrix(B)"
   ]
  },
  {
   "cell_type": "code",
   "execution_count": null,
   "metadata": {
    "jupyter": {
     "source_hidden": true
    },
    "tags": [
     "remove-cell"
    ]
   },
   "outputs": [],
   "source": [
    "B_test = tuple(\n",
    "    tuple(sp.Symbol(Rf\"\\tau={τ}, \\rho={p}\") for ρ in range(4)) for τ in range(4)\n",
    ")\n",
    "B_test = sp.Matrix(B_test)\n",
    "B_test"
   ]
  },
  {
   "cell_type": "code",
   "execution_count": null,
   "metadata": {
    "tags": [
     "remove-cell"
    ]
   },
   "outputs": [],
   "source": [
    "B_test[0, 2]"
   ]
  },
  {
   "cell_type": "markdown",
   "metadata": {},
   "source": [
    "## Functions and data"
   ]
  },
  {
   "cell_type": "code",
   "execution_count": null,
   "metadata": {
    "mystnb": {
     "code_prompt_show": "Unfold symbolic expressions"
    },
    "tags": [
     "hide-cell",
     "keep_output"
    ]
   },
   "outputs": [
    {
     "data": {
      "application/vnd.jupyter.widget-view+json": {
       "model_id": "cb7caa0c47e04b638794fa84a08f5d4c",
       "version_major": 2,
       "version_minor": 0
      },
      "text/plain": [
       "Unfolding expressions:   0%|          | 0/16 [00:00<?, ?it/s]"
      ]
     },
     "metadata": {},
     "output_type": "display_data"
    },
    {
     "data": {
      "text/plain": [
       "(4, 4)"
      ]
     },
     "execution_count": null,
     "metadata": {},
     "output_type": "execute_result"
    }
   ],
   "source": [
    "progress_bar = tqdm(desc=\"Unfolding expressions\", total=16)\n",
    "B_exprs = []\n",
    "for τ in range(4):\n",
    "    row = []\n",
    "    for ρ in range(4):\n",
    "        expr = perform_cached_doit(B[τ, ρ].doit().xreplace(MODEL.amplitudes))\n",
    "        progress_bar.update()\n",
    "        row.append(expr)\n",
    "    B_exprs.append(row)\n",
    "progress_bar.close()\n",
    "B_exprs = np.array(B_exprs)\n",
    "B_exprs.shape"
   ]
  },
  {
   "cell_type": "code",
   "execution_count": null,
   "metadata": {
    "jupyter": {
     "source_hidden": true
    },
    "mystnb": {
     "code_prompt_show": "Lambdify to JAX"
    },
    "tags": [
     "hide-cell",
     "keep_output"
    ]
   },
   "outputs": [
    {
     "data": {
      "application/vnd.jupyter.widget-view+json": {
       "model_id": "cf2ca5a36db645eaaec0addde3fd43d3",
       "version_major": 2,
       "version_minor": 0
      },
      "text/plain": [
       "Lambdifying:   0%|          | 0/16 [00:00<?, ?it/s]"
      ]
     },
     "metadata": {},
     "output_type": "display_data"
    }
   ],
   "source": [
    "progress_bar = tqdm(desc=\"Lambdifying\", total=16)\n",
    "B_funcs = []\n",
    "for τ in range(4):\n",
    "    row = []\n",
    "    for ρ in range(4):\n",
    "        func = perform_cached_lambdify(\n",
    "            B_exprs[τ, ρ].xreplace(MODEL.parameter_defaults),\n",
    "            backend=\"jax\",\n",
    "        )\n",
    "        progress_bar.update()\n",
    "        row.append(func)\n",
    "    B_funcs.append(row)\n",
    "progress_bar.close()\n",
    "B_funcs = np.array(B_funcs)"
   ]
  },
  {
   "cell_type": "code",
   "execution_count": null,
   "metadata": {
    "mystnb": {
     "code_prompt_show": "Generate data grid for Dalitz plot"
    },
    "tags": [
     "hide-cell",
     "remove-output"
    ]
   },
   "outputs": [],
   "source": [
    "transformer = create_data_transformer(MODEL)\n",
    "GRID_SAMPLE = generate_meshgrid_sample(MODEL.decay, resolution=400)\n",
    "GRID_SAMPLE.update(transformer(GRID_SAMPLE))\n",
    "X = GRID_SAMPLE[\"sigma1\"]\n",
    "Y = GRID_SAMPLE[\"sigma2\"]\n",
    "del transformer"
   ]
  },
  {
   "cell_type": "code",
   "execution_count": null,
   "metadata": {
    "mystnb": {
     "code_prompt_show": "Compute B-matrix over Dalitz grid"
    },
    "tags": [
     "hide-cell",
     "keep_output"
    ]
   },
   "outputs": [
    {
     "data": {
      "text/plain": [
       "(4, 4, 400, 400)"
      ]
     },
     "execution_count": null,
     "metadata": {},
     "output_type": "execute_result"
    }
   ],
   "source": [
    "B_arrays = jnp.array([[B_funcs[τ, ρ](GRID_SAMPLE) for ρ in range(4)] for τ in range(4)])\n",
    "B_norm = B_arrays / B_arrays[0, 0]\n",
    "B_arrays.shape"
   ]
  },
  {
   "cell_type": "code",
   "execution_count": null,
   "metadata": {
    "tags": [
     "remove-cell"
    ]
   },
   "outputs": [],
   "source": [
    "decimals = 6\n",
    "display(\n",
    "    jnp.round(jnp.nanmax(B_norm.imag, axis=(2, 3)), decimals),\n",
    "    jnp.round(jnp.nanmax(B_norm.real, axis=(2, 3)), decimals),\n",
    "    jnp.round(jnp.nanmean(B_norm.real, axis=(2, 3)), decimals),\n",
    "    jnp.round(jnp.nanstd(B_norm.real, axis=(2, 3)), decimals),\n",
    ")"
   ]
  },
  {
   "cell_type": "markdown",
   "metadata": {},
   "source": [
    "## Plots"
   ]
  },
  {
   "cell_type": "code",
   "execution_count": null,
   "metadata": {
    "jupyter": {
     "source_hidden": true
    },
    "tags": [
     "hide-input",
     "remove-output"
    ]
   },
   "outputs": [],
   "source": [
    "%config InlineBackend.figure_formats = ['png']\n",
    "\n",
    "plt.rcdefaults()\n",
    "plt.rc(\"font\", size=16)\n",
    "s1_label = R\"$m^2\\left(K^-\\pi^+\\right)$ [GeV$^2$]\"\n",
    "s2_label = R\"$m^2\\left(pK^-\\right)$ [GeV$^2$]\"\n",
    "fig, ax = plt.subplots(figsize=(8, 6.8))\n",
    "ax.set_title(\"$I_0 = B_{0, 0}$\")\n",
    "ax.set_xlabel(s1_label)\n",
    "ax.set_ylabel(s2_label)\n",
    "ax.set_box_aspect(1)\n",
    "ax.pcolormesh(X, Y, B_arrays[0, 0].real)\n",
    "fig.savefig(\"022/b00-is-intensity.png\")\n",
    "plt.show()"
   ]
  },
  {
   "cell_type": "markdown",
   "metadata": {},
   "source": [
    "![](https://github.com/ComPWA/compwa.github.io/assets/29308176/166577c3-ea48-47b4-95d1-4a4709e63d1a)"
   ]
  },
  {
   "cell_type": "code",
   "execution_count": null,
   "metadata": {
    "jupyter": {
     "source_hidden": true
    },
    "tags": [
     "hide-input",
     "scroll-input",
     "remove-output"
    ]
   },
   "outputs": [],
   "source": [
    "%config InlineBackend.figure_formats = ['png']\n",
    "\n",
    "plt.rcdefaults()\n",
    "plt.rc(\"font\", size=10)\n",
    "fig, axes = plt.subplots(\n",
    "    dpi=200,\n",
    "    figsize=(11, 10),\n",
    "    ncols=4,\n",
    "    nrows=4,\n",
    "    sharex=True,\n",
    "    sharey=True,\n",
    ")\n",
    "fig.suptitle(\n",
    "    R\"$B_{\\tau,\\rho} = \\sum_{\\nu,\\nu',\\lambda',\\lambda} A^*_{\\nu',\\lambda'}\"\n",
    "    R\" \\sigma_{\\nu',\\nu}^\\tau A_{\\nu,\\lambda} \\sigma_{\\lambda',\\lambda}^\\rho$\"\n",
    ")\n",
    "progress_bar = tqdm(total=16)\n",
    "for ρ in range(4):\n",
    "    for τ in range(4):\n",
    "        ax = axes[τ, ρ]\n",
    "        ax.set_box_aspect(1)\n",
    "        if τ == 0 and ρ == 0:\n",
    "            Z = B_arrays[τ, ρ].real\n",
    "            ax.set_title(f\"$B_{{{τ}{p}}}$\")\n",
    "            cmap = cm.viridis\n",
    "        else:\n",
    "            Z = B_norm[τ, ρ].real\n",
    "            ax.set_title(f\"$B_{{{τ}{p}}} / B_{{00}}$\")\n",
    "            cmap = cm.coolwarm\n",
    "        mesh = ax.pcolormesh(X, Y, Z, cmap=cmap)\n",
    "        cbar = fig.colorbar(mesh, ax=ax, fraction=0.047, pad=0.01)\n",
    "        if τ != 0 or ρ != 0:\n",
    "            mesh.set_clim(vmin=-1, vmax=+1)\n",
    "            cbar.set_ticks([-1, 0, +1])\n",
    "            cbar.set_ticklabels([\"-1\", \"0\", \"+1\"])\n",
    "        if τ == 3:\n",
    "            ax.set_xlabel(s1_label)\n",
    "        if ρ == 0:\n",
    "            ax.set_ylabel(s2_label)\n",
    "        progress_bar.update()\n",
    "progress_bar.close()\n",
    "fig.tight_layout()\n",
    "fig.savefig(\"022/b-matrix-elements.png\")\n",
    "plt.show()"
   ]
  },
  {
   "cell_type": "markdown",
   "metadata": {},
   "source": [
    "```{container} full-width\n",
    "![](https://github.com/ComPWA/compwa.github.io/assets/29308176/019795da-084c-4e16-93e5-3cc01304f494)\n",
    "```\n",
    "\n",
    "**Hypothesis**:\n",
    "\n",
    "$$\n",
    "B_{0,\\rho} = \\vec\\beta B_{00} \\\\\n",
    "B_{\\tau,0} = \\vec\\alpha B_{00} \\\\\n",
    "B_{00} = I_0\n",
    "$$"
   ]
  },
  {
   "cell_type": "code",
   "execution_count": null,
   "metadata": {
    "jupyter": {
     "source_hidden": true
    },
    "mystnb": {
     "code_prompt_show": "Function definitions for quiver plot"
    },
    "tags": [
     "hide-cell"
    ]
   },
   "outputs": [],
   "source": [
    "def plot_field(vx, vy, v_abs, ax, strides=12, cmap=cm.viridis_r):\n",
    "    mesh = ax.quiver(\n",
    "        X[::strides, ::strides],\n",
    "        Y[::strides, ::strides],\n",
    "        vx[::strides, ::strides].real,\n",
    "        vy[::strides, ::strides].real,\n",
    "        v_abs[::strides, ::strides],\n",
    "        cmap=cmap,\n",
    "    )\n",
    "    mesh.set_clim(vmin=0, vmax=+1)\n",
    "    return mesh\n",
    "\n",
    "\n",
    "def plot(x, y, z, strides=14):\n",
    "    plt.rcdefaults()\n",
    "    plt.rc(\"font\", size=16)\n",
    "    fig, ax = plt.subplots(figsize=(8, 6.8), tight_layout=True)\n",
    "    ax.set_box_aspect(1)\n",
    "    v_abs = jnp.sqrt(x.real**2 + y.real**2 + z.real**2)\n",
    "    mesh = plot_field(x, y, v_abs, ax, strides)\n",
    "    color_bar = fig.colorbar(mesh, ax=ax, pad=0.01)\n",
    "    return fig, ax, color_bar"
   ]
  },
  {
   "cell_type": "code",
   "execution_count": null,
   "metadata": {
    "jupyter": {
     "source_hidden": true
    },
    "tags": [
     "hide-input",
     "remove-output"
    ]
   },
   "outputs": [],
   "source": [
    "%config InlineBackend.figure_formats = ['svg']\n",
    "\n",
    "fig, ax, cbar = plot(\n",
    "    x=B_norm[3, 0],\n",
    "    y=B_norm[1, 0],\n",
    "    z=B_norm[2, 0],\n",
    "    strides=10,\n",
    ")\n",
    "ax.set_title(\n",
    "    R\"$B_{\\tau, 0} / B_{00} = \\sum_{\\nu',\\nu,\\lambda}\"\n",
    "    R\" A^*_{\\nu',\\lambda}\\vec\\sigma_{\\nu',\\nu} A_{\\nu,\\lambda} / I_0$\"\n",
    ")\n",
    "ax.set_xlabel(Rf\"{s1_label}, $\\quad\\alpha_z$\")\n",
    "ax.set_ylabel(Rf\"{s2_label}, $\\quad\\alpha_x$\")\n",
    "cbar.set_label(R\"$\\left|\\vec{\\alpha}\\right|$\")\n",
    "fig.savefig(\"022/alpha-field.svg\")\n",
    "plt.show()"
   ]
  },
  {
   "cell_type": "code",
   "execution_count": null,
   "metadata": {
    "jupyter": {
     "source_hidden": true
    },
    "tags": [
     "hide-input",
     "remove-output"
    ]
   },
   "outputs": [],
   "source": [
    "%config InlineBackend.figure_formats = ['svg']\n",
    "\n",
    "fig, ax, cbar = plot(\n",
    "    x=B_norm[0, 3],\n",
    "    y=B_norm[0, 1],\n",
    "    z=B_norm[0, 2],\n",
    "    strides=10,\n",
    ")\n",
    "ax.set_title(\n",
    "    R\"$B_{0,\\rho} / B_{00} = \\sum_{\\nu,\\lambda',\\lambda} A^*_{\\nu,\\lambda'}\"\n",
    "    R\" \\vec\\sigma_{\\lambda',\\lambda} A^*_{\\nu,\\lambda} / I_0$\"\n",
    ")\n",
    "ax.set_xlabel(Rf\"{s1_label}, $\\quad \\beta_z = B_{{03}}$\")\n",
    "ax.set_ylabel(Rf\"{s2_label}, $\\quad \\beta_x = B_{{01}}$\")\n",
    "cbar.set_label(R\"$\\left|\\vec{\\beta}\\right|$\")\n",
    "fig.savefig(\"022/beta-field.svg\")\n",
    "plt.show()"
   ]
  },
  {
   "cell_type": "markdown",
   "metadata": {},
   "source": [
    "![](https://github.com/ComPWA/compwa.github.io/assets/29308176/42ed2474-7983-4946-938e-fd49c91c559a)\n",
    "![](https://github.com/ComPWA/compwa.github.io/assets/29308176/c3a082be-d048-45fd-9b13-1970ffa2493f)\n",
    "\n",
    "Note that $|\\alpha| = |\\beta|$:"
   ]
  },
  {
   "cell_type": "code",
   "execution_count": null,
   "metadata": {},
   "outputs": [],
   "source": [
    "α_abs = jnp.sqrt(jnp.sum(B_norm[1:, 0] ** 2, axis=0))\n",
    "β_abs = jnp.sqrt(jnp.sum(B_norm[0, 1:] ** 2, axis=0))\n",
    "np.testing.assert_allclose(α_abs, β_abs, rtol=1e-14)"
   ]
  },
  {
   "cell_type": "code",
   "execution_count": null,
   "metadata": {
    "jupyter": {
     "source_hidden": true
    },
    "tags": [
     "hide-input",
     "remove-output"
    ]
   },
   "outputs": [],
   "source": [
    "%config InlineBackend.figure_formats = ['png']\n",
    "\n",
    "fig, axes = plt.subplots(\n",
    "    figsize=(11, 6),\n",
    "    ncols=2,\n",
    "    sharey=True,\n",
    "    tight_layout=True,\n",
    ")\n",
    "for ax in axes:\n",
    "    ax.set_box_aspect(1)\n",
    "ax1, ax2 = axes\n",
    "ax1.set_title(R\"$\\alpha$\")\n",
    "ax2.set_title(R\"$\\beta$\")\n",
    "ax1.pcolormesh(X, Y, α_abs.real, cmap=cm.coolwarm).set_clim(vmin=-1, vmax=+1)\n",
    "ax2.pcolormesh(X, Y, β_abs.real, cmap=cm.coolwarm).set_clim(vmin=-1, vmax=+1)\n",
    "ax1.set_xlabel(s1_label)\n",
    "ax2.set_xlabel(s1_label)\n",
    "ax1.set_ylabel(s2_label)\n",
    "fig.savefig(\"022/alpha-beta-comparison.png\")\n",
    "plt.show()"
   ]
  },
  {
   "cell_type": "markdown",
   "metadata": {},
   "source": [
    "```{figure} https://github.com/ComPWA/compwa.github.io/assets/29308176/c7268301-11c9-45f2-a5ec-4c2928352a68\n",
    ":class: full-width\n",
    "```"
   ]
  }
 ],
 "metadata": {
  "colab": {
   "toc_visible": true
  },
  "kernelspec": {
   "display_name": "Python 3 (ipykernel)",
   "language": "python",
   "name": "python3"
  },
  "language_info": {
   "codemirror_mode": {
    "name": "ipython",
    "version": 3
   },
   "file_extension": ".py",
   "mimetype": "text/x-python",
   "name": "python",
   "nbconvert_exporter": "python",
   "pygments_lexer": "ipython3",
   "version": "3.12.6"
  },
  "myst": {
   "all_links_external": true
  }
 },
 "nbformat": 4,
 "nbformat_minor": 4
}
