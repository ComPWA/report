{
 "cells": [
  {
   "cell_type": "markdown",
   "metadata": {},
   "source": [
    "```{autolink-concat}\n",
    "```"
   ]
  },
  {
   "cell_type": "markdown",
   "metadata": {
    "tags": [
     "DX",
     "tips"
    ]
   },
   "source": [
    "::::{margin}\n",
    ":::{card} Integrating Jupyter notebook with Julia notebooks in MyST-NB\n",
    "TR-019\n",
    "^^^\n",
    "This report shows how to define a Julia kernel for Jupyter notebooks, so that it can be executed and converted to static pages with [MyST-NB](https://myst-nb.readthedocs.io).\n",
    "+++\n",
    "✅&nbsp;[compwa.github.io#174](https://github.com/ComPWA/compwa.github.io/issues/174)\n",
    ":::\n",
    "::::"
   ]
  },
  {
   "cell_type": "markdown",
   "metadata": {},
   "source": [
    "# Jupyter notebook with Julia kernel"
   ]
  },
  {
   "cell_type": "markdown",
   "metadata": {},
   "source": [
    "This notebook shows that the instructions provided in the {ref}`Julia installation<compwa:develop:Julia>` and {ref}`IJulia instructions<compwa:develop:IJulia notebooks>` work correctly. The cell outputs below are generated automatically with [MyST-NB](https://myst-nb.readthedocs.io) from the Julia code input.\n",
    "\n",
    "Simple example:"
   ]
  },
  {
   "cell_type": "code",
   "execution_count": null,
   "metadata": {
    "tags": [
     "keep_output"
    ]
   },
   "outputs": [
    {
     "name": "stdout",
     "output_type": "stream",
     "text": [
      "Hello world!\n"
     ]
    }
   ],
   "source": [
    "println(\"Hello world!\")"
   ]
  },
  {
   "cell_type": "markdown",
   "metadata": {},
   "source": [
    "Here's an [example](https://rosettacode.org/wiki/Mandelbrot_set#Julia) that prints a Mandelbrot set!"
   ]
  },
  {
   "cell_type": "code",
   "execution_count": null,
   "metadata": {
    "tags": [
     "keep_output"
    ]
   },
   "outputs": [
    {
     "name": "stdout",
     "output_type": "stream",
     "text": [
      "                                                                                \n",
      "                                                                                \n",
      "                                                                                \n",
      "                                                           **                   \n",
      "                                                         ******                 \n",
      "                                                       ********                 \n",
      "                                                         ******                 \n",
      "                                                      ******** **   *           \n",
      "                                              ***   *****************           \n",
      "                                              ************************  ***     \n",
      "                                              ****************************      \n",
      "                                           ******************************       \n",
      "                                            ******************************      \n",
      "                                         ************************************   \n",
      "                                *         **********************************    \n",
      "                           ** ***** *     **********************************    \n",
      "                           ***********   ************************************   \n",
      "                         ************** ************************************    \n",
      "                         ***************************************************    \n",
      "                     *****************************************************      \n",
      " ***********************************************************************        \n",
      "                     *****************************************************      \n",
      "                         ***************************************************    \n",
      "                         ************** ************************************    \n",
      "                           ***********   ************************************   \n",
      "                           ** ***** *     **********************************    \n",
      "                                *         **********************************    \n",
      "                                         ************************************   \n",
      "                                            ******************************      \n",
      "                                           ******************************       \n",
      "                                              ****************************      \n",
      "                                              ************************  ***     \n",
      "                                              ***   *****************           \n",
      "                                                      ******** **   *           \n",
      "                                                         ******                 \n",
      "                                                       ********                 \n",
      "                                                         ******                 \n",
      "                                                           **                   \n",
      "                                                                                \n",
      "                                                                                \n",
      "                                                                                \n"
     ]
    }
   ],
   "source": [
    "function mandelbrot(a)\n",
    "    z = 0\n",
    "    for i=1:50\n",
    "        z = z^2 + a\n",
    "    end\n",
    "    return z\n",
    "end\n",
    "\n",
    "for y=1.0:-0.05:-1.0\n",
    "    for x=-2.0:0.0315:0.5\n",
    "        abs(mandelbrot(complex(x, y))) < 2 ? print(\"*\") : print(\" \")\n",
    "    end\n",
    "    println()\n",
    "end"
   ]
  },
  {
   "cell_type": "markdown",
   "metadata": {},
   "source": [
    "It's also possible to work with a local [environment](https://pkgdocs.julialang.org/v1/environments) from the notebook. In this case, we activate the environment defined by the file [`Project.toml`](./Project.toml) and instantiate it so that the exact versions of the dependencies as defined in [`Manifest.toml`](./Manifest.toml) are installed."
   ]
  },
  {
   "cell_type": "code",
   "execution_count": null,
   "metadata": {
    "tags": [
     "remove-output"
    ]
   },
   "outputs": [],
   "source": [
    "using Pkg\n",
    "Pkg.activate(@__DIR__))\n",
    "Pkg.instantiate()"
   ]
  },
  {
   "cell_type": "code",
   "execution_count": null,
   "metadata": {
    "tags": [
     "remove-output"
    ]
   },
   "outputs": [],
   "source": [
    "using Images\n",
    " \n",
    "@inline function hsv2rgb(h, s, v)\n",
    "    c = v * s\n",
    "    x = c * (1 - abs(((h/60) % 2) - 1))\n",
    "    m = v - c\n",
    "    r,g,b = if     h < 60   (c, x, 0)\n",
    "            elseif h < 120  (x, c, 0)\n",
    "            elseif h < 180  (0, c, x)\n",
    "            elseif h < 240  (0, x, c)\n",
    "            elseif h < 300  (x, 0, c)\n",
    "            else            (c, 0, x) end\n",
    "    (r + m), (b + m), (g + m)\n",
    "end\n",
    " \n",
    "function mandelbrot()\n",
    "    w       = 1600\n",
    "    h       = 1200\n",
    "    zoom    = 0.5\n",
    "    moveX   = -0.5\n",
    "    moveY   = 0\n",
    "    maxIter = 30\n",
    "    img = Array{RGB{Float64},2}(undef,h,w)\n",
    "    for x in 1:w\n",
    "      for y in 1:h\n",
    "        i = maxIter\n",
    "        z = c = Complex( (2*x - w) / (w * zoom) + moveX,\n",
    "                         (2*y - h) / (h * zoom) + moveY )\n",
    "        while abs(z) < 2 && (i -= 1) > 0\n",
    "            z = z^2 + c\n",
    "        end\n",
    "        r,g,b = hsv2rgb(i / maxIter * 360, 1, i / maxIter)\n",
    "        img[y,x] = RGB{Float64}(r, g, b)\n",
    "      end\n",
    "    end\n",
    "    return img\n",
    "end\n",
    " \n",
    "img = mandelbrot()\n",
    "save(\"mandelbrot_image.png\", img)"
   ]
  },
  {
   "cell_type": "markdown",
   "metadata": {
    "tags": [
     "remove-output"
    ]
   },
   "source": [
    "![](https://github.com/ComPWA/compwa.github.io/assets/29308176/f8e604b9-b37c-4b5a-8114-91627da93d37)"
   ]
  },
  {
   "cell_type": "markdown",
   "metadata": {},
   "source": [
    "<img src=\"https://github.com/user-attachments/assets/b1f7d50d-d361-4ac1-a389-443b4432a669\" width=\"800px\">"
   ]
  }
 ],
 "metadata": {
  "colab": {
   "toc_visible": true
  },
  "kernelspec": {
   "display_name": "Pyproject Local",
   "language": "julia",
   "name": "julia-compwa.github.io-1.10"
  },
  "language_info": {
   "file_extension": ".jl",
   "mimetype": "application/julia",
   "name": "julia",
   "version": "1.10.5"
  }
 },
 "nbformat": 4,
 "nbformat_minor": 4
}
