{
 "cells": [
  {
   "cell_type": "markdown",
   "metadata": {
    "tags": [
     "remove-cell"
    ]
   },
   "source": [
    "```{autolink-concat}\n",
    "```"
   ]
  },
  {
   "cell_type": "markdown",
   "metadata": {
    "tags": [
     "physics"
    ]
   },
   "source": [
    "::::{margin}\n",
    ":::{card} Investigation of acceptance matrix with Dalitz-plot decomposition\n",
    "TR-035\n",
    ":::\n",
    "::::"
   ]
  },
  {
   "cell_type": "markdown",
   "metadata": {},
   "source": [
    "# DPD acceptance matrix"
   ]
  },
  {
   "cell_type": "code",
   "execution_count": null,
   "metadata": {
    "jupyter": {
     "source_hidden": true
    },
    "mystnb": {
     "code_prompt_show": "Import Python libraries"
    },
    "tags": [
     "hide-cell",
     "remove-output"
    ]
   },
   "outputs": [],
   "source": [
    "from __future__ import annotations\n",
    "\n",
    "import numpy as np\n",
    "from IPython.display import HTML, display\n",
    "from jpsi_nstar.io import mute_jax_warnings, mute_tensorflow_warnings\n",
    "\n",
    "np.set_printoptions(linewidth=120)\n",
    "mute_jax_warnings()\n",
    "mute_tensorflow_warnings()"
   ]
  },
  {
   "cell_type": "code",
   "execution_count": null,
   "metadata": {},
   "outputs": [],
   "source": [
    "display(HTML(\"<style>.container { width:100% !important; }</style>\"))"
   ]
  },
  {
   "cell_type": "markdown",
   "metadata": {},
   "source": [
    "\n",
    "To speed up the fit the part of the negative log Liklihood (NLL) function representing the normalization computed over the  Monte-Carlo phsp can be pre-computed. Note that this method can only be applied in the _specific case that masses and widths are fixed_ as the normalization depends on these parameters.\n",
    "\n",
    "Statistically this approach can be derived as follows:\n",
    "Given total sample $\\vec{x}$ consisting of _N_ independent observations of a set the $n$ quantities $x$ depending the Liklihood function can be written as the product of the (Probability Density Functions) PDFs $f$ of each single observation:\n",
    "\n",
    "$$L(\\vec{x} ; \\vec{\\theta})=\\prod_{\\mathfrak{i}=1}^N f\\left(x_i ; \\vec{\\theta}\\right)$$\n",
    "\n",
    "$\\vec{\\theta}$ represents the set of $m$ unknown parameters the chosen PDF depends on.\n",
    "In the case of the this amplitude analysis the PDFs are the normalized intensity functions for each partial wave:\n",
    "\n",
    "$$f(x_i ; \\vec{\\theta})= \\frac{I(x_i ; \\vec{\\theta})}{\\int I(\\vec{x} ; \\vec{\\theta}) d\\vec{x}}$$ \n",
    "\n",
    " The $x_i$ represent the selected events containing the information about the Mandelstam variables and the decay and production angles. With the expression $f$ the NLL function is given as:\n",
    "\n",
    "$$\n",
    "NLL(x_i ; \\vec{\\theta})=-\\sum^n_{i=1} \\log \\left(\\frac{I(x_i ; \\vec{\\theta})}{\\int I(\\vec{x} ; \\vec{\\theta}) d\\vec{x}}\\right) = \\underbrace{-\\sum^n_{i=1} \\log(I(x_i ; \\vec{\\theta}))}_{\\mathrm{Data}} + n\\cdot \\log\\left(\\int I(\\vec{x} ; \\vec{\\theta}) d\\vec{x} \\right)\n",
    "$$\n",
    "\n",
    "Since the second term integrates over all phase-space points, it is independent of \\( x_i \\) and can be approximated using Monte Carlo integration:\n",
    "\n",
    "$$\n",
    "\\int I(\\vec{x} \\,; \\vec{\\theta}) \\, d\\vec{x} = \n",
    "c^{\\dagger} \\cdot \\frac{1}{N_{\\mathrm{MC}}} \\sum_{j=1}^{N_{\\mathrm{MC}}} I(\\vec{x}_j^{\\mathrm{MC}} \\,; \\vec{\\theta}) \\cdot c \n",
    "\\cdot \\left( \\int d\\vec{x} \\right)\n",
    "$$\n",
    "\n",
    "The term $\\frac{1}{N_{\\mathrm{MC}}} \\sum_{j=1}^{N_{\\mathrm{MC}}} I(\\vec{x}_j^{\\mathrm{MC}} ; \\vec{\\theta})$ represents the so-called acceptance matrix, a hermitian matrix which we call $X$ from now on. The acceptance matrix can be used obtain integrated intensity via the **bilinear relation**:\n",
    "\n",
    "$$\n",
    "\\int I\\\\ d\\vec{x}=c^{\\dagger}\\cdot X \\cdot c\n",
    "$$\n",
    "## Construction of the acceptance matrix\n",
    "The acceptance matrix can be constructed by probing with four different values for $c_ij$  leading to the four equations:\n",
    "$$\n",
    "A_{ij}^{+}=\\int I(c_i=1, c_j=1) \\\\ d\\vec{x} =  \\left[ {\\begin{array}{cc}\n",
    "   1 & 1 \\\\\n",
    "  \\end{array} } \\right]\\cdot   \\left[ {\\begin{array}{cc}\n",
    "   X_{ii} & X_{ij} \\\\\n",
    "   X_{ji}& X_{jj} \\\\\n",
    "  \\end{array} } \\right] \\cdot  \\left[ {\\begin{array}{cc}\n",
    "   1 \\\\\n",
    "1\n",
    "  \\end{array} } \\right]\n",
    "$$\n",
    "\n",
    "$$\n",
    "A_{ij}^{-}=\\int I(c_i=1, c_j=-1) \\\\ d\\vec{x} =  \\left[ {\\begin{array}{cc}\n",
    "   1 & -1 \\\\\n",
    "  \\end{array} } \\right]\\cdot   \\left[ {\\begin{array}{cc}\n",
    "   X_{ii} & X_{ij} \\\\\n",
    "   X_{ji}& X_{jj} \\\\\n",
    "  \\end{array} } \\right] \\cdot  \\left[ {\\begin{array}{cc}\n",
    "   1 \\\\\n",
    "-1\n",
    "  \\end{array} } \\right]\n",
    "$$\n",
    "\n",
    "$$\n",
    "B_{ij}^{+}=\\int I(c_i=1, c_j=i)\\\\ d\\vec{x} =  \\left[ {\\begin{array}{cc}\n",
    "   1 & i \\\\\n",
    "  \\end{array} } \\right]\\cdot   \\left[ {\\begin{array}{cc}\n",
    "   X_{ii} & X_{ij} \\\\\n",
    "   X_{ji}& X_{jj} \\\\\n",
    "  \\end{array} } \\right] \\cdot  \\left[ {\\begin{array}{cc}\n",
    "   1 \\\\\n",
    "i\n",
    "  \\end{array} } \\right]\n",
    "$$\n",
    "\n",
    "$$\n",
    "B_{ij}^{-}=\\int I(c_i=1, c_j=-i) \\\\ d\\vec{x} =  \\left[ {\\begin{array}{cc}\n",
    "   1 & -i \\\\\n",
    "  \\end{array} } \\right]\\cdot   \\left[ {\\begin{array}{cc}\n",
    "   X_{ii} & X_{ij} \\\\\n",
    "   X_{ji}& X_{jj} \\\\\n",
    "  \\end{array} } \\right] \\cdot  \\left[ {\\begin{array}{cc}\n",
    "   1 \\\\\n",
    "-i\n",
    "  \\end{array} } \\right]\n",
    "$$\n",
    "The $A_{ij}$ and $B_{ij}$ are the results of the integration over the phase space for the $c_i$ and $c_j$. The equations can be solved for the elements of $X$ by rewriting them in matrix form:\n",
    "The elements of $X$ can therefor be expressed as:\n",
    "\n",
    "$$\n",
    "X_{ij} = \\frac{(A_{ij}^{+}-A_{ij}^{-})}{4}+i\\cdot\\frac{(B_{ij}^{+}-B_{ij}^{-})}{4}\n",
    "$$\n",
    "## Speed up the construction of $X$\n",
    "Using four equations as mentioned above is not computational efficient as intensity matrix for all four combinations of $c_i$ and $c_j$ has to be computed. However the hermitian property of the acceptance matrix can be used to reduce the number of equations necessary to construct the matrix. A hermitian matrix is mirror symmetric with respect to its main diagonal, up to the complex conjugation of all entries. Therefore one can only calculate the upper triangle of $X$ and then fill the lower triangle with the complex conjugate. As probes the vectors The diagonal of $X$ is real valued and can be computed using the bilinear relation with $c_i=c_j=1$."
   ]
  }
 ],
 "metadata": {
  "colab": {
   "toc_visible": true
  },
  "kernelspec": {
   "display_name": "Pyproject Local",
   "language": "python",
   "name": "python3"
  },
  "language_info": {
   "codemirror_mode": {
    "name": "ipython",
    "version": 3
   },
   "file_extension": ".py",
   "mimetype": "text/x-python",
   "name": "python",
   "nbconvert_exporter": "python",
   "pygments_lexer": "ipython3",
   "version": "3.12.3"
  }
 },
 "nbformat": 4,
 "nbformat_minor": 4
}
