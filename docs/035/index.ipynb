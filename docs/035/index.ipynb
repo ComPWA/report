{
 "cells": [
  {
   "cell_type": "markdown",
   "metadata": {
    "tags": [
     "remove-cell"
    ]
   },
   "source": [
    "```{autolink-concat}\n",
    "```"
   ]
  },
  {
   "cell_type": "markdown",
   "metadata": {
    "tags": [
     "physics"
    ]
   },
   "source": [
    "::::{margin}\n",
    ":::{card} Investigation of acceptance matrix with Dalitz-plot decomposition\n",
    "TR-035\n",
    "^^^\n",
    "We investigate how to compute the acceptance matrix for a three-body decay with a spinful final state ($J/\\psi \\to \\bar{p} K^0_S \\Sigma^+$). The acceptance matrix then becomes a complex-valued matrix.\n",
    ":::\n",
    "::::"
   ]
  },
  {
   "cell_type": "markdown",
   "metadata": {},
   "source": [
    "# DPD acceptance matrix"
   ]
  },
  {
   "cell_type": "code",
   "execution_count": null,
   "metadata": {
    "jupyter": {
     "source_hidden": true
    },
    "mystnb": {
     "code_prompt_show": "Import Python libraries"
    },
    "tags": [
     "hide-cell",
     "remove-output",
     "scroll-input"
    ]
   },
   "outputs": [],
   "source": [
    "from __future__ import annotations\n",
    "\n",
    "import logging\n",
    "import re\n",
    "import warnings\n",
    "from collections.abc import Iterable\n",
    "\n",
    "import attrs\n",
    "import graphviz\n",
    "import jax.numpy as jnp\n",
    "import qrules\n",
    "import sympy as sp\n",
    "from ampform.dynamics.form_factor import FormFactor\n",
    "from ampform.kinematics.lorentz import (\n",
    "    Energy,\n",
    "    EuclideanNorm,\n",
    "    FourMomentumSymbol,\n",
    "    InvariantMass,\n",
    "    ThreeMomentum,\n",
    ")\n",
    "from ampform.sympy import PoolSum\n",
    "from ampform.sympy._decorator import unevaluated\n",
    "from ampform_dpd import AmplitudeModel, DalitzPlotDecompositionBuilder\n",
    "from ampform_dpd.adapter.qrules import normalize_state_ids, to_three_body_decay\n",
    "from ampform_dpd.decay import IsobarNode, Particle, State, ThreeBodyDecayChain\n",
    "from ampform_dpd.dynamics import RelativisticBreitWigner\n",
    "from ampform_dpd.io import simplify_latex_rendering\n",
    "from IPython.display import HTML, display\n",
    "from tensorwaves.data.phasespace import TFPhaseSpaceGenerator\n",
    "from tensorwaves.data.rng import TFUniformRealNumberGenerator\n",
    "from tensorwaves.data.transform import SympyDataTransformer\n",
    "\n",
    "simplify_latex_rendering()\n",
    "\n",
    "logging.getLogger().setLevel(logging.ERROR)\n",
    "warnings.simplefilter(\"ignore\", category=RuntimeWarning)"
   ]
  },
  {
   "cell_type": "code",
   "execution_count": null,
   "metadata": {},
   "outputs": [],
   "source": [
    "display(HTML(\"<style>.container { width:100% !important; }</style>\"))"
   ]
  },
  {
   "cell_type": "markdown",
   "metadata": {},
   "source": [
    "\n",
    "To speed up the fit the part of the negative log likelihood (NLL) function representing the normalization computed over the  Monte-Carlo phsp can be pre-computed. Note that this method can only be applied in the _specific case that masses and widths are fixed_ as the normalization depends on these parameters.\n",
    "\n",
    "Statistically this approach can be derived as follows:\n",
    "Given total sample $\\vec{x}$ consisting of _N_ independent observations of a set the $n$ quantities $x$ depending the likelihood function can be written as the product of the (Probability Density Functions) PDFs $f$ of each single observation:\n",
    "\n",
    "$$L(\\vec{x} ; \\vec{\\theta})=\\prod_{\\mathfrak{i}=1}^N f\\left(x_i ; \\vec{\\theta}\\right)$$\n",
    "\n",
    "$\\vec{\\theta}$ represents the set of $m$ unknown parameters the chosen PDF depends on.\n",
    "In the case of the this amplitude analysis the PDFs are the normalized intensity functions for each partial wave:\n",
    "\n",
    "$$f(x_i ; \\vec{\\theta})= \\frac{I(x_i ; \\vec{\\theta})}{\\int I(\\vec{x} ; \\vec{\\theta}) d\\vec{x}}$$ \n",
    "\n",
    " The $x_i$ represent the selected events containing the information about the Mandelstam variables and the decay and production angles. With the expression $f$ the NLL function is given as:\n",
    "\n",
    "$$\n",
    "NLL(x_i ; \\vec{\\theta})=-\\sum^n_{i=1} \\log \\left(\\frac{I(x_i ; \\vec{\\theta})}{\\int I(\\vec{x} ; \\vec{\\theta}) d\\vec{x}}\\right) = \\underbrace{-\\sum^n_{i=1} \\log(I(x_i ; \\vec{\\theta}))}_{\\mathrm{Data}} + n\\cdot \\log\\left(\\int I(\\vec{x} ; \\vec{\\theta}) d\\vec{x} \\right)\n",
    "$$\n",
    "\n",
    "Since the second term integrates over all phase-space points, it is independent of \\( x_i \\) and can be approximated using Monte Carlo integration:\n",
    "\n",
    "$$\n",
    "\\int I(\\vec{x} \\,; \\vec{\\theta}) \\, d\\vec{x} = \n",
    "c^{\\dagger} \\cdot \\frac{1}{N_{\\mathrm{MC}}} \\sum_{j=1}^{N_{\\mathrm{MC}}} I(\\vec{x}_j^{\\mathrm{MC}} \\,; \\vec{\\theta}) \\cdot c \n",
    "\\cdot \\left( \\int d\\vec{x} \\right)\n",
    "$$\n",
    "\n",
    "The term $\\frac{1}{N_{\\mathrm{MC}}} \\sum_{j=1}^{N_{\\mathrm{MC}}} I(\\vec{x}_j^{\\mathrm{MC}} ; \\vec{\\theta})$ represents the so-called acceptance matrix, a hermitian matrix which we call $X$ from now on. The acceptance matrix can be used obtain integrated intensity via the **bilinear relation**:\n",
    "\n",
    "$$\n",
    "\\int I\\\\ d\\vec{x}=c^{\\dagger}\\cdot X \\cdot c\n",
    "$$\n",
    "## Construction of the acceptance matrix\n",
    "The acceptance matrix can be constructed by probing with four different value combinations for the $c_ij$ leading to the four equations:\n",
    "$$\n",
    "A_{ij}^{+}=\\int I(c_i=1, c_j=1) \\\\ d\\vec{x} =  \\left[ {\\begin{array}{cc}\n",
    "   1 & 1 \\\\\n",
    "  \\end{array} } \\right]\\cdot   \\left[ {\\begin{array}{cc}\n",
    "   X_{ii} & X_{ij} \\\\\n",
    "   X_{ji}& X_{jj} \\\\\n",
    "  \\end{array} } \\right] \\cdot  \\left[ {\\begin{array}{cc}\n",
    "   1 \\\\\n",
    "1\n",
    "  \\end{array} } \\right]\n",
    "$$\n",
    "\n",
    "$$\n",
    "A_{ij}^{-}=\\int I(c_i=1, c_j=-1) \\\\ d\\vec{x} =  \\left[ {\\begin{array}{cc}\n",
    "   1 & -1 \\\\\n",
    "  \\end{array} } \\right]\\cdot   \\left[ {\\begin{array}{cc}\n",
    "   X_{ii} & X_{ij} \\\\\n",
    "   X_{ji}& X_{jj} \\\\\n",
    "  \\end{array} } \\right] \\cdot  \\left[ {\\begin{array}{cc}\n",
    "   1 \\\\\n",
    "-1\n",
    "  \\end{array} } \\right]\n",
    "$$\n",
    "\n",
    "$$\n",
    "B_{ij}^{+}=\\int I(c_i=1, c_j=i)\\\\ d\\vec{x} =  \\left[ {\\begin{array}{cc}\n",
    "   1 & i \\\\\n",
    "  \\end{array} } \\right]\\cdot   \\left[ {\\begin{array}{cc}\n",
    "   X_{ii} & X_{ij} \\\\\n",
    "   X_{ji}& X_{jj} \\\\\n",
    "  \\end{array} } \\right] \\cdot  \\left[ {\\begin{array}{cc}\n",
    "   1 \\\\\n",
    "i\n",
    "  \\end{array} } \\right]\n",
    "$$\n",
    "\n",
    "$$\n",
    "B_{ij}^{-}=\\int I(c_i=1, c_j=-i) \\\\ d\\vec{x} =  \\left[ {\\begin{array}{cc}\n",
    "   1 & -i \\\\\n",
    "  \\end{array} } \\right]\\cdot   \\left[ {\\begin{array}{cc}\n",
    "   X_{ii} & X_{ij} \\\\\n",
    "   X_{ji}& X_{jj} \\\\\n",
    "  \\end{array} } \\right] \\cdot  \\left[ {\\begin{array}{cc}\n",
    "   1 \\\\\n",
    "-i\n",
    "  \\end{array} } \\right]\n",
    "$$\n",
    "The $A_{ij}$ and $B_{ij}$ are the elements of the sub-intensity matrix, the results of the integration over the phasespace when setting $c_i$ and $c_j$ to the respective values and the rest of to couplings to zero.\\\\\n",
    "The elements of $X$ can finally be expressed as:\n",
    "$$\n",
    "X_{ij} = \\frac{(A_{ij}^{+}-A_{ij}^{-})}{4}+i\\cdot\\frac{(B_{ij}^{+}-B_{ij}^{-})}{4}\n",
    "$$\n",
    "Two equations are needed for the real and two for the imaginary part of $X_{ij}$, as you can see in the expression above.\n",
    "## Speed up the construction of $X$\n",
    "Using four equations as mentioned above is not computational efficient as sub-intensity matrix for all four combinations of $c_i$ and $c_j$ has to be computed. However the hermitian property of the acceptance matrix can be used to reduce the number of equations necessary to construct the matrix to two. A hermitian matrix is mirror symmetric with respect to its main diagonal, up to the complex conjugation of all entries. Therefore one can only calculate the upper triangle of $X$ and then fill the lower triangle with the complex conjugate. As probes the vector ($c_i=1$,$c_j=1$) is used to obtain the real part  and ($c_i=i$,$c_j=1$) to obtain the imaginary part of the elements of $X_ {ij}$ . The diagonal of $X$ is real valued and is equal the the diagonal of the sub-intensity matrix can assuming $c_i=c_j=1$.\n",
    "The speed-up construction results in the following expression:\n",
    "$$\n",
    "X_{ij} = \\frac{A_{c_i=1,c_j=1}-A_{c_i=i,c_j=1}-(1 + i) (\\text{diagonal}[i] + \\text{diagonal}[j])}{2}\n",
    "$$"
   ]
  },
  {
   "cell_type": "markdown",
   "metadata": {},
   "source": [
    "## Prepare model and data"
   ]
  },
  {
   "cell_type": "markdown",
   "metadata": {},
   "source": [
    "### Define reaction"
   ]
  },
  {
   "cell_type": "code",
   "execution_count": null,
   "metadata": {
    "jupyter": {
     "source_hidden": true
    },
    "mystnb": {
     "code_prompt_show": "Define additional particles"
    },
    "tags": [
     "hide-input",
     "scroll-input"
    ]
   },
   "outputs": [],
   "source": [
    "PDG = qrules.load_default_particles()\n",
    "PDG.add(\n",
    "    qrules.particle.create_particle(\n",
    "        template_particle=PDG.find(\"N(1720)+\"),\n",
    "        name=\"N(2060)+\",\n",
    "        mass=2.1,\n",
    "        width=0.4,\n",
    "        pid=200004,\n",
    "        parity=-1,\n",
    "        spin=5 / 2,\n",
    "        latex=\"N(2060)^+\",\n",
    "    ),\n",
    ")"
   ]
  },
  {
   "cell_type": "code",
   "execution_count": null,
   "metadata": {
    "jupyter": {
     "source_hidden": true
    },
    "mystnb": {
     "code_prompt_show": "Generate reaction "
    },
    "tags": [
     "hide-input"
    ]
   },
   "outputs": [],
   "source": [
    "reaction = qrules.generate_transitions(\n",
    "    initial_state=[(\"J/psi(1S)\", [-1, +1])],\n",
    "    final_state=[\"K0\", \"Sigma+\", \"p~\"],\n",
    "    allowed_interaction_types=\"strong\",\n",
    "    allowed_intermediate_particles=[\n",
    "        \"N(2060)\",\n",
    "        \"Sigma(1750)\",\n",
    "        \"Sigma(1775)\",\n",
    "    ],\n",
    "    mass_conservation_factor=0,\n",
    "    particle_db=PDG,\n",
    ")\n",
    "reaction = normalize_state_ids(reaction)\n",
    "dot = qrules.io.asdot(reaction, collapse_graphs=True)\n",
    "graphviz.Source(dot)"
   ]
  },
  {
   "cell_type": "markdown",
   "metadata": {},
   "source": [
    "### Define amplitude model"
   ]
  },
  {
   "cell_type": "code",
   "execution_count": null,
   "metadata": {
    "jupyter": {
     "source_hidden": true
    },
    "mystnb": {
     "code_prompt_show": "Definition of dynamics builder functions"
    },
    "tags": [
     "hide-input",
     "scroll-input"
    ]
   },
   "outputs": [],
   "source": [
    "def formulate_breit_wigner_with_ff(\n",
    "    chain: ThreeBodyDecayChain,\n",
    ") -> tuple[sp.Expr, dict[sp.Symbol, float]]:\n",
    "    s = _get_mandelstam_s(chain)\n",
    "    parameter_defaults = {}\n",
    "    production_ff, new_pars = _create_form_factor(s, chain.production_node)\n",
    "    parameter_defaults.update(new_pars)\n",
    "    decay_ff, new_pars = _create_form_factor(s, chain.decay_node)\n",
    "    parameter_defaults.update(new_pars)\n",
    "    breit_wigner, new_pars = _create_breit_wigner(s, chain.decay_node)\n",
    "    parameter_defaults.update(new_pars)\n",
    "    return (\n",
    "        production_ff * decay_ff * breit_wigner,\n",
    "        parameter_defaults,\n",
    "    )\n",
    "\n",
    "\n",
    "def _create_form_factor(\n",
    "    s: sp.Symbol,\n",
    "    isobar: IsobarNode,\n",
    ") -> tuple[sp.Expr, dict[sp.Symbol, float]]:\n",
    "    assert isobar.interaction is not None, \"Need LS-couplings\"\n",
    "    inv_mass = _generate_mass_symbol(isobar.parent, s)\n",
    "    outgoing_state_mass1 = _generate_mass_symbol(_get_particle(isobar.child1), s)\n",
    "    outgoing_state_mass2 = _generate_mass_symbol(_get_particle(isobar.child2), s)\n",
    "    meson_radius = _create_meson_radius_symbol(isobar.parent)\n",
    "    form_factor = FormFactor(\n",
    "        s=inv_mass**2,\n",
    "        m1=outgoing_state_mass1,\n",
    "        m2=outgoing_state_mass2,\n",
    "        angular_momentum=isobar.interaction.L,\n",
    "        meson_radius=meson_radius,\n",
    "    )\n",
    "    parameter_defaults = {\n",
    "        meson_radius: 1,\n",
    "    }\n",
    "    return form_factor, parameter_defaults\n",
    "\n",
    "\n",
    "def _generate_mass_symbol(state: State | Particle, s: sp.Symbol) -> sp.Symbol:\n",
    "    if isinstance(state, State):\n",
    "        return create_mass_symbol(state)\n",
    "    return sp.sqrt(s)\n",
    "\n",
    "\n",
    "def _create_breit_wigner(\n",
    "    s: sp.Symbol,\n",
    "    isobar: IsobarNode,\n",
    ") -> tuple[sp.Expr, dict[sp.Symbol, float]]:\n",
    "    assert isobar.interaction is not None, \"Need LS-couplings\"\n",
    "    outgoing_state_mass1 = create_mass_symbol(isobar.child1)\n",
    "    outgoing_state_mass2 = create_mass_symbol(isobar.child2)\n",
    "    angular_momentum = isobar.interaction.L\n",
    "    res_mass = create_mass_symbol(isobar.parent)\n",
    "    res_width = sp.Symbol(Rf\"\\Gamma_{{{isobar.parent.latex}}}\", nonnegative=True)\n",
    "    meson_radius = _create_meson_radius_symbol(isobar.parent)\n",
    "\n",
    "    breit_wigner_expr = RelativisticBreitWigner(\n",
    "        s=s,\n",
    "        mass0=res_mass,\n",
    "        gamma0=res_width,\n",
    "        m1=outgoing_state_mass1,\n",
    "        m2=outgoing_state_mass2,\n",
    "        angular_momentum=angular_momentum,\n",
    "        meson_radius=meson_radius,\n",
    "    )\n",
    "    parameter_defaults = {\n",
    "        res_mass: isobar.parent.mass,\n",
    "        res_width: isobar.parent.width,\n",
    "        meson_radius: 1,\n",
    "    }\n",
    "    return breit_wigner_expr, parameter_defaults\n",
    "\n",
    "\n",
    "def _create_meson_radius_symbol(isobar: IsobarNode) -> sp.Symbol:\n",
    "    particle = _get_particle(isobar)\n",
    "    if isinstance(particle, State):\n",
    "        if particle.index != 0:\n",
    "            msg = \"Only the initial state has a meson radius\"\n",
    "            raise NotImplementedError(msg)\n",
    "        return sp.Symbol(R\"R_{J/\\psi}\")\n",
    "    return sp.Symbol(Rf\"R_\\mathrm{{{particle.latex}}}\")\n",
    "\n",
    "\n",
    "def create_mass_symbol(particle: IsobarNode | Particle) -> sp.Symbol:\n",
    "    particle = _get_particle(particle)\n",
    "    if isinstance(particle, State):\n",
    "        return sp.Symbol(f\"m{particle.index}\", nonnegative=True)\n",
    "    return sp.Symbol(f\"m_{{{particle.latex}}}\", nonnegative=True)\n",
    "\n",
    "\n",
    "def _get_mandelstam_s(decay: ThreeBodyDecayChain) -> sp.Symbol:\n",
    "    s1, s2, s3 = sp.symbols(\"sigma1:4\", nonnegative=True)\n",
    "    m1, m2, m3 = map(create_mass_symbol, decay.final_state)\n",
    "    decay_masses = {create_mass_symbol(p) for p in decay.decay_products}\n",
    "    if decay_masses == {m2, m3}:\n",
    "        return s1\n",
    "    if decay_masses == {m1, m3}:\n",
    "        return s2\n",
    "    if decay_masses == {m1, m2}:\n",
    "        return s3\n",
    "    msg = f\"Cannot find Mandelstam variable for {''.join(decay_masses)}\"\n",
    "    raise NotImplementedError(msg)\n",
    "\n",
    "\n",
    "def _get_particle(isobar: IsobarNode | State) -> State | Particle:\n",
    "    if isinstance(isobar, IsobarNode):\n",
    "        return isobar.parent\n",
    "    return isobar"
   ]
  },
  {
   "cell_type": "code",
   "execution_count": null,
   "metadata": {
    "jupyter": {
     "source_hidden": true
    },
    "tags": [
     "hide-input",
     "scroll-input"
    ]
   },
   "outputs": [],
   "source": [
    "def prepare_for_phsp(model: AmplitudeModel) -> AmplitudeModel:\n",
    "    p1, p2, p3 = (FourMomentumSymbol(f\"p{i}\", shape=[]) for i in (1, 2, 3))\n",
    "    s1, s2, s3 = sp.symbols(\"sigma1:4\", nonnegative=True)\n",
    "    mass_definitions = {\n",
    "        s1: InvariantMassSquared(p2 + p3),\n",
    "        s2: InvariantMassSquared(p1 + p3),\n",
    "        s3: InvariantMassSquared(p1 + p2),\n",
    "        sp.Symbol(\"m0\", nonnegative=True): InvariantMass(p1 + p2 + p3),\n",
    "        sp.Symbol(\"m1\", nonnegative=True): InvariantMass(p1),\n",
    "        sp.Symbol(\"m2\", nonnegative=True): InvariantMass(p2),\n",
    "        sp.Symbol(\"m3\", nonnegative=True): InvariantMass(p3),\n",
    "    }\n",
    "    mass_definitions = {k: sp.sympify(v) for k, v in mass_definitions.items()}\n",
    "    angle_and_mandelstam_definitions = {\n",
    "        symbol: expr.xreplace(mass_definitions)\n",
    "        for symbol, expr in model.variables.items()\n",
    "    }\n",
    "    angle_and_mandelstam_definitions.update(mass_definitions)\n",
    "    polarized_intensity = set_initial_state_polarization(\n",
    "        model.intensity,\n",
    "        spin_projections=(-1, +1),\n",
    "    )\n",
    "    new_parameter_defaults = {\n",
    "        symbol: v\n",
    "        for symbol, v in model.parameter_defaults.items()\n",
    "        if not re.match(r\"m[0-3]\", symbol.name)\n",
    "    }\n",
    "    return attrs.evolve(\n",
    "        model,\n",
    "        intensity=polarized_intensity,\n",
    "        variables=angle_and_mandelstam_definitions,\n",
    "        parameter_defaults=new_parameter_defaults,\n",
    "    )\n",
    "\n",
    "\n",
    "def set_initial_state_polarization(\n",
    "    intensity: PoolSum, spin_projections: Iterable[sp.Rational | float]\n",
    ") -> PoolSum:\n",
    "    helicity_symbol, _ = intensity.indices[0]\n",
    "    helicity_values = tuple(sp.Rational(i) for i in spin_projections)\n",
    "    new_indices = (\n",
    "        (helicity_symbol, helicity_values),\n",
    "        *intensity.indices[1:],\n",
    "    )\n",
    "    return PoolSum(intensity.expression, *new_indices)\n",
    "\n",
    "\n",
    "@unevaluated\n",
    "class InvariantMassSquared(sp.Expr):\n",
    "    momentum: sp.Basic\n",
    "    _latex_repr_ = R\"M^2\\left({momentum}\\right)\"\n",
    "\n",
    "    def evaluate(self) -> sp.Expr:\n",
    "        p = self.momentum\n",
    "        p_xyz = ThreeMomentum(p)\n",
    "        return Energy(p) ** 2 - EuclideanNorm(p_xyz) ** 2"
   ]
  },
  {
   "cell_type": "code",
   "execution_count": null,
   "metadata": {
    "tags": [
     "full-width"
    ]
   },
   "outputs": [],
   "source": [
    "decay = to_three_body_decay(reaction.transitions, min_ls=False)\n",
    "builder = DalitzPlotDecompositionBuilder(decay, min_ls=False)\n",
    "for chain in builder.decay.chains:\n",
    "    builder.dynamics_choices.register_builder(chain, formulate_breit_wigner_with_ff)\n",
    "model = builder.formulate(reference_subsystem=2, cleanup_summations=True)\n",
    "model = prepare_for_phsp(model)\n",
    "model.intensity.cleanup()"
   ]
  },
  {
   "cell_type": "markdown",
   "metadata": {},
   "source": [
    "### Generate phase space sample"
   ]
  },
  {
   "cell_type": "code",
   "execution_count": null,
   "metadata": {},
   "outputs": [],
   "source": [
    "dpd_transformer = SympyDataTransformer.from_sympy(model.variables, backend=\"jax\")"
   ]
  },
  {
   "cell_type": "code",
   "execution_count": null,
   "metadata": {
    "jupyter": {
     "source_hidden": true
    },
    "mystnb": {
     "code_prompt_show": "Generate phase space sample"
    },
    "tags": [
     "hide-input",
     "remove-output"
    ]
   },
   "outputs": [],
   "source": [
    "phsp_generator = TFPhaseSpaceGenerator(\n",
    "    initial_state_mass=reaction.initial_state[0].mass,\n",
    "    final_state_masses={i: p.mass for i, p in reaction.final_state.items()},\n",
    ")\n",
    "rng = TFUniformRealNumberGenerator(seed=0)\n",
    "phsp = phsp_generator.generate(100_000, rng)\n",
    "phsp = dpd_transformer(phsp)\n",
    "phsp = {k: phsp[k] for k in sorted(phsp)}\n",
    "phsp = {k: v if jnp.iscomplex(v).any() else v.real for k, v in phsp.items()}"
   ]
  },
  {
   "cell_type": "code",
   "execution_count": null,
   "metadata": {
    "mystnb": {
     "code_prompt_show": "Generate phase space sample"
    }
   },
   "outputs": [],
   "source": [
    "phsp"
   ]
  },
  {
   "cell_type": "markdown",
   "metadata": {},
   "source": [
    "## Compute acceptance matrix"
   ]
  }
 ],
 "metadata": {
  "colab": {
   "toc_visible": true
  },
  "kernelspec": {
   "display_name": "Pyproject Local",
   "language": "python",
   "name": "pyproject_local_kernel"
  },
  "language_info": {
   "codemirror_mode": {
    "name": "ipython",
    "version": 3
   },
   "file_extension": ".py",
   "mimetype": "text/x-python",
   "name": "python",
   "nbconvert_exporter": "python",
   "pygments_lexer": "ipython3",
   "version": "3.12.10"
  }
 },
 "nbformat": 4,
 "nbformat_minor": 4
}
