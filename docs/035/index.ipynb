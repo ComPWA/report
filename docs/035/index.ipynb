{
 "cells": [
  {
   "cell_type": "markdown",
   "metadata": {
    "tags": [
     "remove-cell"
    ]
   },
   "source": [
    "```{autolink-concat}\n",
    "```"
   ]
  },
  {
   "cell_type": "markdown",
   "metadata": {
    "tags": [
     "physics"
    ]
   },
   "source": [
    "::::{margin}\n",
    ":::{card} Investigation of acceptance matrix with Dalitz-plot decomposition\n",
    "TR-035\n",
    "^^^\n",
    "We investigate how to compute the acceptance matrix for a three-body decay with a spinful final state ($J/\\psi \\to \\bar{p} K^0_S \\Sigma^+$). The acceptance matrix then becomes a complex-valued matrix.\n",
    ":::\n",
    "::::"
   ]
  },
  {
   "cell_type": "markdown",
   "metadata": {},
   "source": [
    "# DPD acceptance matrix"
   ]
  },
  {
   "cell_type": "code",
   "execution_count": 28,
   "metadata": {
    "mystnb": {
     "code_prompt_show": "Import Python libraries"
    },
    "tags": [
     "hide-cell",
     "remove-output",
     "scroll-input"
    ]
   },
   "outputs": [],
   "source": [
    "import itertools\n",
    "from itertools import product\n",
    "import logging\n",
    "import re\n",
    "import warnings\n",
    "from collections.abc import Iterable\n",
    "\n",
    "import attrs\n",
    "import graphviz\n",
    "import jax.numpy as jnp\n",
    "import numpy as np\n",
    "import qrules\n",
    "import sympy as sp\n",
    "from ampform.dynamics.form_factor import FormFactor\n",
    "from ampform.kinematics.lorentz import (\n",
    "    Energy,\n",
    "    EuclideanNorm,\n",
    "    FourMomentumSymbol,\n",
    "    InvariantMass,\n",
    "    ThreeMomentum,\n",
    ")\n",
    "from ampform.sympy import PoolSum\n",
    "from ampform.sympy._decorator import unevaluated\n",
    "from ampform_dpd import AmplitudeModel, DalitzPlotDecompositionBuilder\n",
    "from ampform_dpd.adapter.qrules import normalize_state_ids, to_three_body_decay\n",
    "from ampform_dpd.decay import IsobarNode, Particle, State, ThreeBodyDecayChain\n",
    "from ampform_dpd.dynamics import RelativisticBreitWigner\n",
    "from ampform_dpd.io import cached, simplify_latex_rendering\n",
    "from IPython.display import HTML, display\n",
    "from tensorwaves.data.phasespace import TFPhaseSpaceGenerator\n",
    "from tensorwaves.data.rng import TFUniformRealNumberGenerator\n",
    "from tensorwaves.data.transform import SympyDataTransformer\n",
    "from tensorwaves.interface import DataSample, ParametrizedFunction\n",
    "\n",
    "logging.getLogger().setLevel(logging.ERROR)\n",
    "np.set_printoptions(linewidth=120)\n",
    "simplify_latex_rendering()\n",
    "warnings.simplefilter(\"ignore\", category=RuntimeWarning)"
   ]
  },
  {
   "cell_type": "code",
   "execution_count": 29,
   "metadata": {},
   "outputs": [
    {
     "data": {
      "text/html": [
       "<style>.container { width:100% !important; }</style>"
      ],
      "text/plain": [
       "<IPython.core.display.HTML object>"
      ]
     },
     "metadata": {},
     "output_type": "display_data"
    }
   ],
   "source": [
    "display(HTML(\"<style>.container { width:100% !important; }</style>\"))"
   ]
  },
  {
   "cell_type": "markdown",
   "metadata": {},
   "source": [
    "\n",
    "To speed up the fit the part of the negative log likelihood (NLL) function representing the normalization computed over the  Monte-Carlo phsp can be pre-computed. Note that this method can only be applied in the _specific case that masses and widths are fixed_ as the normalization depends on these parameters.\n",
    "\n",
    "Statistically this approach can be derived as follows:\n",
    "Given total sample $\\vec{x}$ consisting of _N_ independent observations of a set the $n$ quantities $x$ depending the likelihood function can be written as the product of the (Probability Density Functions) PDFs $f$ of each single observation:\n",
    "\n",
    "$$L(\\vec{x} ; \\vec{\\theta})=\\prod_{\\mathfrak{i}=1}^N f\\left(x_i ; \\vec{\\theta}\\right)$$\n",
    "\n",
    "$\\vec{\\theta}$ represents the set of $m$ unknown parameters the chosen PDF depends on.\n",
    "In the case of the this amplitude analysis the PDFs are the normalized intensity functions for each partial wave:\n",
    "\n",
    "$$f(x_i ; \\vec{\\theta})= \\frac{I(x_i ; \\vec{\\theta})}{\\int I(\\vec{x} ; \\vec{\\theta}) d\\vec{x}}$$ \n",
    "\n",
    " The $x_i$ represent the selected events containing the information about the Mandelstam variables and the decay and production angles. With the expression $f$ the NLL function is given as:\n",
    "\n",
    "$$\n",
    "NLL(x_i ; \\vec{\\theta})=-\\sum^n_{i=1} \\log \\left(\\frac{I(x_i ; \\vec{\\theta})}{\\int I(\\vec{x} ; \\vec{\\theta}) d\\vec{x}}\\right) = \\underbrace{-\\sum^n_{i=1} \\log(I(x_i ; \\vec{\\theta}))}_{\\mathrm{Data}} + n\\cdot \\log\\left(\\int I(\\vec{x} ; \\vec{\\theta}) d\\vec{x} \\right)\n",
    "$$\n",
    "\n",
    "Since the second term integrates over all phase-space points, it is independent of \\( x_i \\) and can be approximated using Monte Carlo integration:\n",
    "\n",
    "$$\n",
    "\\int I(\\vec{x} \\,; \\vec{\\theta}) \\, d\\vec{x} = \n",
    "c^{\\dagger} \\cdot \\frac{1}{N_{\\mathrm{MC}}} \\sum_{j=1}^{N_{\\mathrm{MC}}} I(\\vec{x}_j^{\\mathrm{MC}} \\,; \\vec{\\theta}) \\cdot c \n",
    "\\cdot \\left( \\int d\\vec{x} \\right)\n",
    "$$\n",
    "\n",
    "The term $\\frac{1}{N_{\\mathrm{MC}}} \\sum_{j=1}^{N_{\\mathrm{MC}}} I(\\vec{x}_j^{\\mathrm{MC}} ; \\vec{\\theta})$ represents the so-called acceptance matrix, a hermitian matrix which we call $X$ from now on. The acceptance matrix can be used obtain integrated intensity via the **bilinear relation**:\n",
    "\n",
    "$$\n",
    "\\int I\\, d\\vec{x}=c^{\\dagger}\\cdot X \\cdot c\n",
    "$$\n",
    "## Construction of the acceptance matrix\n",
    "The acceptance matrix can be constructed by probing with four different value combinations for the $c_ij$ leading to the four equations:\n",
    "$$\n",
    "A_{ij}^{+}=\\int I(c_i=1, c_j=1) \\, d\\vec{x} =  \\left[ {\\begin{array}{cc}\n",
    "   1 & 1 \\\\\n",
    "  \\end{array} } \\right]\\cdot   \\left[ {\\begin{array}{cc}\n",
    "   X_{ii} & X_{ij} \\\\\n",
    "   X_{ji}& X_{jj} \\\\\n",
    "  \\end{array} } \\right] \\cdot  \\left[ {\\begin{array}{cc}\n",
    "   1 \\\\\n",
    "1\n",
    "  \\end{array} } \\right]\n",
    "$$\n",
    "\n",
    "$$\n",
    "A_{ij}^{-}=\\int I(c_i=1, c_j=-1) \\, d\\vec{x} =  \\left[ {\\begin{array}{cc}\n",
    "   1 & -1 \\\\\n",
    "  \\end{array} } \\right]\\cdot   \\left[ {\\begin{array}{cc}\n",
    "   X_{ii} & X_{ij} \\\\\n",
    "   X_{ji}& X_{jj} \\\\\n",
    "  \\end{array} } \\right] \\cdot  \\left[ {\\begin{array}{cc}\n",
    "   1 \\\\\n",
    "-1\n",
    "  \\end{array} } \\right]\n",
    "$$\n",
    "\n",
    "$$\n",
    "B_{ij}^{+}=\\int I(c_i=1, c_j=i)\\, d\\vec{x} =  \\left[ {\\begin{array}{cc}\n",
    "   1 & i \\\\\n",
    "  \\end{array} } \\right]\\cdot   \\left[ {\\begin{array}{cc}\n",
    "   X_{ii} & X_{ij} \\\\\n",
    "   X_{ji}& X_{jj} \\\\\n",
    "  \\end{array} } \\right] \\cdot  \\left[ {\\begin{array}{cc}\n",
    "   1 \\\\\n",
    "i\n",
    "  \\end{array} } \\right]\n",
    "$$\n",
    "\n",
    "$$\n",
    "B_{ij}^{-}=\\int I(c_i=1, c_j=-i) \\, d\\vec{x} =  \\left[ {\\begin{array}{cc}\n",
    "   1 & -i \\\\\n",
    "  \\end{array} } \\right]\\cdot   \\left[ {\\begin{array}{cc}\n",
    "   X_{ii} & X_{ij} \\\\\n",
    "   X_{ji}& X_{jj} \\\\\n",
    "  \\end{array} } \\right] \\cdot  \\left[ {\\begin{array}{cc}\n",
    "   1 \\\\\n",
    "-i\n",
    "  \\end{array} } \\right]\n",
    "$$\n",
    "The $A_{ij}$ and $B_{ij}$ are the elements of the sub-intensity matrix, the results of the integration over the phasespace when setting $c_i$ and $c_j$ to the respective values and the rest of to couplings to zero.\\\\\n",
    "The elements of $X$ can finally be expressed as:\n",
    "$$\n",
    "X_{ij} = \\frac{(A_{ij}^{+}-A_{ij}^{-})}{4}+i\\cdot\\frac{(B_{ij}^{+}-B_{ij}^{-})}{4}\n",
    "$$\n",
    "Two equations are needed for the real and two for the imaginary part of $X_{ij}$, as you can see in the expression above.\n",
    "## Speed up the construction of $X$\n",
    "Using four equations as mentioned above is not computational efficient as sub-intensity matrix for all four combinations of $c_i$ and $c_j$ has to be computed. However the hermitian property of the acceptance matrix can be used to reduce the number of equations necessary to construct the matrix to two. A hermitian matrix is mirror symmetric with respect to its main diagonal, up to the complex conjugation of all entries. Therefore one can only calculate the upper triangle of $X$ and then fill the lower triangle with the complex conjugate. As probes the vector ($c_i=1$,$c_j=1$) is used to obtain the real part  and ($c_i=i$,$c_j=1$) to obtain the imaginary part of the elements of $X_ {ij}$ . The diagonal of $X$ is real valued and is equal the the diagonal of the sub-intensity matrix can assuming $c_i=c_j=1$.\n",
    "The speed-up construction results in the following expression:\n",
    "$$\n",
    "X_{ij} = \\frac{A_{c_i=1,c_j=1}+A_{c_i=i,c_j=1}-(1 + i) (\\text{diagonal}[i] + \\text{diagonal}[j])}{2}\n",
    "$$"
   ]
  },
  {
   "cell_type": "markdown",
   "metadata": {},
   "source": [
    "## Prepare model and data"
   ]
  },
  {
   "cell_type": "markdown",
   "metadata": {},
   "source": [
    "### Define reaction"
   ]
  },
  {
   "cell_type": "code",
   "execution_count": 30,
   "metadata": {
    "jupyter": {
     "source_hidden": true
    },
    "mystnb": {
     "code_prompt_show": "Define additional particles"
    },
    "tags": [
     "hide-input",
     "scroll-input"
    ]
   },
   "outputs": [],
   "source": [
    "PDG = qrules.load_default_particles()\n",
    "PDG.add(\n",
    "    qrules.particle.create_particle(\n",
    "        template_particle=PDG.find(\"N(1720)+\"),\n",
    "        name=\"N(2060)+\",\n",
    "        mass=2.1,\n",
    "        width=0.4,\n",
    "        pid=200004,\n",
    "        parity=-1,\n",
    "        spin=5 / 2,\n",
    "        latex=\"N(2060)^+\",\n",
    "    ),\n",
    ")"
   ]
  },
  {
   "cell_type": "code",
   "execution_count": 31,
   "metadata": {
    "jupyter": {
     "source_hidden": true
    },
    "mystnb": {
     "code_prompt_show": "Generate reaction "
    },
    "tags": [
     "hide-input"
    ]
   },
   "outputs": [
    {
     "name": "stderr",
     "output_type": "stream",
     "text": [
      "Propagating quantum numbers: 100%|██████████████████████████████████████████████████████████████████████| 24/24 [00:00<00:00, 40.56it/s]\n"
     ]
    },
    {
     "data": {
      "image/svg+xml": [
       "<?xml version=\"1.0\" encoding=\"UTF-8\" standalone=\"no\"?>\n",
       "<!DOCTYPE svg PUBLIC \"-//W3C//DTD SVG 1.1//EN\"\n",
       " \"http://www.w3.org/Graphics/SVG/1.1/DTD/svg11.dtd\">\n",
       "<!-- Generated by graphviz version 12.0.0 (20240803.0821)\n",
       " -->\n",
       "<!-- Pages: 1 -->\n",
       "<svg width=\"395pt\" height=\"314pt\"\n",
       " viewBox=\"0.00 0.00 394.72 314.00\" xmlns=\"http://www.w3.org/2000/svg\" xmlns:xlink=\"http://www.w3.org/1999/xlink\">\n",
       "<g id=\"graph0\" class=\"graph\" transform=\"scale(1 1) rotate(0) translate(4 310)\">\n",
       "<polygon fill=\"none\" stroke=\"none\" points=\"-4,4 -4,-310 390.72,-310 390.72,4 -4,4\"/>\n",
       "<!-- T0_0 -->\n",
       "<g id=\"node1\" class=\"node\">\n",
       "<title>T0_0</title>\n",
       "<text text-anchor=\"middle\" x=\"38\" y=\"-100.33\" font-family=\"Times,serif\" font-size=\"14.00\">J/psi(1S)</text>\n",
       "</g>\n",
       "<!-- T0_N0 -->\n",
       "<g id=\"node5\" class=\"node\">\n",
       "<title>T0_N0</title>\n",
       "</g>\n",
       "<!-- T0_0&#45;&gt;T0_N0 -->\n",
       "<g id=\"edge1\" class=\"edge\">\n",
       "<title>T0_0&#45;&gt;T0_N0</title>\n",
       "<path fill=\"none\" stroke=\"black\" d=\"M76,-105C93.92,-105 111.84,-105 112.95,-105\"/>\n",
       "</g>\n",
       "<!-- T0_1 -->\n",
       "<g id=\"node2\" class=\"node\">\n",
       "<title>T0_1</title>\n",
       "<text text-anchor=\"middle\" x=\"341.22\" y=\"-67.33\" font-family=\"Times,serif\" font-size=\"14.00\">1: K0</text>\n",
       "</g>\n",
       "<!-- T0_2 -->\n",
       "<g id=\"node3\" class=\"node\">\n",
       "<title>T0_2</title>\n",
       "<text text-anchor=\"middle\" x=\"341.22\" y=\"-13.32\" font-family=\"Times,serif\" font-size=\"14.00\">2: Sigma+</text>\n",
       "</g>\n",
       "<!-- T0_3 -->\n",
       "<g id=\"node4\" class=\"node\">\n",
       "<title>T0_3</title>\n",
       "<text text-anchor=\"middle\" x=\"341.22\" y=\"-121.33\" font-family=\"Times,serif\" font-size=\"14.00\">3: p~</text>\n",
       "</g>\n",
       "<!-- T0_N0&#45;&gt;T0_3 -->\n",
       "<g id=\"edge3\" class=\"edge\">\n",
       "<title>T0_N0&#45;&gt;T0_3</title>\n",
       "<path fill=\"none\" stroke=\"black\" d=\"M113.83,-105.06C114.92,-105.63 123.86,-110.25 131.72,-112 195.99,-126.3 273.93,-127.36 313.85,-126.77\"/>\n",
       "</g>\n",
       "<!-- T0_N1 -->\n",
       "<g id=\"node6\" class=\"node\">\n",
       "<title>T0_N1</title>\n",
       "</g>\n",
       "<!-- T0_N0&#45;&gt;T0_N1 -->\n",
       "<g id=\"edge2\" class=\"edge\">\n",
       "<title>T0_N0&#45;&gt;T0_N1</title>\n",
       "<path fill=\"none\" stroke=\"black\" d=\"M113.83,-104.92C114.89,-104.13 123.61,-97.69 131.72,-94.75 184.38,-75.64 255.46,-72.11 257.67,-72\"/>\n",
       "<text text-anchor=\"middle\" x=\"185.72\" y=\"-98.95\" font-family=\"Times,serif\" font-size=\"14.00\">N(2060)+</text>\n",
       "</g>\n",
       "<!-- T0_N1&#45;&gt;T0_1 -->\n",
       "<g id=\"edge4\" class=\"edge\">\n",
       "<title>T0_N1&#45;&gt;T0_1</title>\n",
       "<path fill=\"none\" stroke=\"black\" d=\"M258.78,-72C260.31,-72 291.36,-72 314.66,-72\"/>\n",
       "</g>\n",
       "<!-- T0_N1&#45;&gt;T0_2 -->\n",
       "<g id=\"edge5\" class=\"edge\">\n",
       "<title>T0_N1&#45;&gt;T0_2</title>\n",
       "<path fill=\"none\" stroke=\"black\" d=\"M258.78,-71.95C259.97,-71.02 279.31,-55.94 295.72,-45 300.23,-41.99 305.07,-38.91 309.84,-35.96\"/>\n",
       "</g>\n",
       "<!-- T1_0 -->\n",
       "<g id=\"node7\" class=\"node\">\n",
       "<title>T1_0</title>\n",
       "<text text-anchor=\"middle\" x=\"38\" y=\"-258.32\" font-family=\"Times,serif\" font-size=\"14.00\">J/psi(1S)</text>\n",
       "</g>\n",
       "<!-- T1_N0 -->\n",
       "<g id=\"node11\" class=\"node\">\n",
       "<title>T1_N0</title>\n",
       "</g>\n",
       "<!-- T1_0&#45;&gt;T1_N0 -->\n",
       "<g id=\"edge6\" class=\"edge\">\n",
       "<title>T1_0&#45;&gt;T1_N0</title>\n",
       "<path fill=\"none\" stroke=\"black\" d=\"M76,-263C93.92,-263 111.84,-263 112.95,-263\"/>\n",
       "</g>\n",
       "<!-- T1_1 -->\n",
       "<g id=\"node8\" class=\"node\">\n",
       "<title>T1_1</title>\n",
       "<text text-anchor=\"middle\" x=\"341.22\" y=\"-229.32\" font-family=\"Times,serif\" font-size=\"14.00\">1: K0</text>\n",
       "</g>\n",
       "<!-- T1_2 -->\n",
       "<g id=\"node9\" class=\"node\">\n",
       "<title>T1_2</title>\n",
       "<text text-anchor=\"middle\" x=\"341.22\" y=\"-283.32\" font-family=\"Times,serif\" font-size=\"14.00\">2: Sigma+</text>\n",
       "</g>\n",
       "<!-- T1_3 -->\n",
       "<g id=\"node10\" class=\"node\">\n",
       "<title>T1_3</title>\n",
       "<text text-anchor=\"middle\" x=\"341.22\" y=\"-175.32\" font-family=\"Times,serif\" font-size=\"14.00\">3: p~</text>\n",
       "</g>\n",
       "<!-- T1_N0&#45;&gt;T1_2 -->\n",
       "<g id=\"edge8\" class=\"edge\">\n",
       "<title>T1_N0&#45;&gt;T1_2</title>\n",
       "<path fill=\"none\" stroke=\"black\" d=\"M113.82,-263.09C114.85,-264 123.34,-271.34 131.72,-274 186.35,-291.37 252.97,-292.63 295.97,-291.05\"/>\n",
       "</g>\n",
       "<!-- T1_N1 -->\n",
       "<g id=\"node12\" class=\"node\">\n",
       "<title>T1_N1</title>\n",
       "</g>\n",
       "<!-- T1_N0&#45;&gt;T1_N1 -->\n",
       "<g id=\"edge7\" class=\"edge\">\n",
       "<title>T1_N0&#45;&gt;T1_N1</title>\n",
       "<path fill=\"none\" stroke=\"black\" d=\"M113.74,-262.95C114.12,-261.92 120.42,-245.39 131.72,-239.5 180.65,-214 255.34,-233.37 257.66,-233.99\"/>\n",
       "<text text-anchor=\"middle\" x=\"185.72\" y=\"-260.2\" font-family=\"Times,serif\" font-size=\"14.00\">Sigma(1750)~&#45;</text>\n",
       "<text text-anchor=\"middle\" x=\"185.72\" y=\"-242.95\" font-family=\"Times,serif\" font-size=\"14.00\">Sigma(1775)~&#45;</text>\n",
       "</g>\n",
       "<!-- T1_N1&#45;&gt;T1_1 -->\n",
       "<g id=\"edge9\" class=\"edge\">\n",
       "<title>T1_N1&#45;&gt;T1_1</title>\n",
       "<path fill=\"none\" stroke=\"black\" d=\"M258.78,-234C260.31,-234 291.36,-234 314.66,-234\"/>\n",
       "</g>\n",
       "<!-- T1_N1&#45;&gt;T1_3 -->\n",
       "<g id=\"edge10\" class=\"edge\">\n",
       "<title>T1_N1&#45;&gt;T1_3</title>\n",
       "<path fill=\"none\" stroke=\"black\" d=\"M258.78,-233.95C259.97,-233.02 279.31,-217.94 295.72,-207 301.59,-203.09 308.01,-199.06 314.1,-195.34\"/>\n",
       "</g>\n",
       "</g>\n",
       "</svg>\n"
      ],
      "text/plain": [
       "<graphviz.sources.Source at 0x79018e553080>"
      ]
     },
     "execution_count": 31,
     "metadata": {},
     "output_type": "execute_result"
    }
   ],
   "source": [
    "reaction = qrules.generate_transitions(\n",
    "    initial_state=[(\"J/psi(1S)\", [-1, +1])],\n",
    "    final_state=[\"K0\", \"Sigma+\", \"p~\"],\n",
    "    allowed_interaction_types=\"strong\",\n",
    "    allowed_intermediate_particles=[\n",
    "        \"N(2060)\",\n",
    "        \"Sigma(1750)\",\n",
    "        \"Sigma(1775)\",\n",
    "    ],\n",
    "    mass_conservation_factor=0,\n",
    "    particle_db=PDG,\n",
    ")\n",
    "reaction = normalize_state_ids(reaction)\n",
    "dot = qrules.io.asdot(reaction, collapse_graphs=True)\n",
    "graphviz.Source(dot)"
   ]
  },
  {
   "cell_type": "markdown",
   "metadata": {},
   "source": [
    "### Define amplitude model"
   ]
  },
  {
   "cell_type": "code",
   "execution_count": 32,
   "metadata": {
    "jupyter": {
     "source_hidden": true
    },
    "mystnb": {
     "code_prompt_show": "Definition of dynamics builder functions"
    },
    "tags": [
     "hide-input",
     "scroll-input"
    ]
   },
   "outputs": [],
   "source": [
    "def formulate_breit_wigner_with_ff(\n",
    "    chain: ThreeBodyDecayChain,\n",
    ") -> tuple[sp.Expr, dict[sp.Symbol, float]]:\n",
    "    s = _get_mandelstam_s(chain)\n",
    "    parameter_defaults = {}\n",
    "    production_ff, new_pars = _create_form_factor(s, chain.production_node)\n",
    "    parameter_defaults.update(new_pars)\n",
    "    decay_ff, new_pars = _create_form_factor(s, chain.decay_node)\n",
    "    parameter_defaults.update(new_pars)\n",
    "    breit_wigner, new_pars = _create_breit_wigner(s, chain.decay_node)\n",
    "    parameter_defaults.update(new_pars)\n",
    "    return (\n",
    "        production_ff * decay_ff * breit_wigner,\n",
    "        parameter_defaults,\n",
    "    )\n",
    "\n",
    "\n",
    "def _create_form_factor(\n",
    "    s: sp.Symbol,\n",
    "    isobar: IsobarNode,\n",
    ") -> tuple[sp.Expr, dict[sp.Symbol, float]]:\n",
    "    assert isobar.interaction is not None, \"Need LS-couplings\"\n",
    "    inv_mass = _generate_mass_symbol(isobar.parent, s)\n",
    "    outgoing_state_mass1 = _generate_mass_symbol(_get_particle(isobar.child1), s)\n",
    "    outgoing_state_mass2 = _generate_mass_symbol(_get_particle(isobar.child2), s)\n",
    "    meson_radius = _create_meson_radius_symbol(isobar.parent)\n",
    "    form_factor = FormFactor(\n",
    "        s=inv_mass**2,\n",
    "        m1=outgoing_state_mass1,\n",
    "        m2=outgoing_state_mass2,\n",
    "        angular_momentum=isobar.interaction.L,\n",
    "        meson_radius=meson_radius,\n",
    "    )\n",
    "    parameter_defaults = {\n",
    "        meson_radius: 1,\n",
    "    }\n",
    "    return form_factor, parameter_defaults\n",
    "\n",
    "\n",
    "def _generate_mass_symbol(state: State | Particle, s: sp.Symbol) -> sp.Symbol:\n",
    "    if isinstance(state, State):\n",
    "        return create_mass_symbol(state)\n",
    "    return sp.sqrt(s)\n",
    "\n",
    "\n",
    "def _create_breit_wigner(\n",
    "    s: sp.Symbol,\n",
    "    isobar: IsobarNode,\n",
    ") -> tuple[sp.Expr, dict[sp.Symbol, float]]:\n",
    "    assert isobar.interaction is not None, \"Need LS-couplings\"\n",
    "    outgoing_state_mass1 = create_mass_symbol(isobar.child1)\n",
    "    outgoing_state_mass2 = create_mass_symbol(isobar.child2)\n",
    "    angular_momentum = isobar.interaction.L\n",
    "    res_mass = create_mass_symbol(isobar.parent)\n",
    "    res_width = sp.Symbol(Rf\"\\Gamma_{{{isobar.parent.latex}}}\", nonnegative=True)\n",
    "    meson_radius = _create_meson_radius_symbol(isobar.parent)\n",
    "\n",
    "    breit_wigner_expr = RelativisticBreitWigner(\n",
    "        s=s,\n",
    "        mass0=res_mass,\n",
    "        gamma0=res_width,\n",
    "        m1=outgoing_state_mass1,\n",
    "        m2=outgoing_state_mass2,\n",
    "        angular_momentum=angular_momentum,\n",
    "        meson_radius=meson_radius,\n",
    "    )\n",
    "    parameter_defaults = {\n",
    "        res_mass: isobar.parent.mass,\n",
    "        res_width: isobar.parent.width,\n",
    "        meson_radius: 1,\n",
    "    }\n",
    "    return breit_wigner_expr, parameter_defaults\n",
    "\n",
    "\n",
    "def _create_meson_radius_symbol(isobar: IsobarNode) -> sp.Symbol:\n",
    "    particle = _get_particle(isobar)\n",
    "    if isinstance(particle, State):\n",
    "        if particle.index != 0:\n",
    "            msg = \"Only the initial state has a meson radius\"\n",
    "            raise NotImplementedError(msg)\n",
    "        return sp.Symbol(R\"R_{J/\\psi}\")\n",
    "    return sp.Symbol(Rf\"R_\\mathrm{{{particle.latex}}}\")\n",
    "\n",
    "\n",
    "def create_mass_symbol(particle: IsobarNode | Particle) -> sp.Symbol:\n",
    "    particle = _get_particle(particle)\n",
    "    if isinstance(particle, State):\n",
    "        return sp.Symbol(f\"m{particle.index}\", nonnegative=True)\n",
    "    return sp.Symbol(f\"m_{{{particle.latex}}}\", nonnegative=True)\n",
    "\n",
    "\n",
    "def _get_mandelstam_s(decay: ThreeBodyDecayChain) -> sp.Symbol:\n",
    "    s1, s2, s3 = sp.symbols(\"sigma1:4\", nonnegative=True)\n",
    "    m1, m2, m3 = map(create_mass_symbol, decay.final_state)\n",
    "    decay_masses = {create_mass_symbol(p) for p in decay.decay_products}\n",
    "    if decay_masses == {m2, m3}:\n",
    "        return s1\n",
    "    if decay_masses == {m1, m3}:\n",
    "        return s2\n",
    "    if decay_masses == {m1, m2}:\n",
    "        return s3\n",
    "    msg = f\"Cannot find Mandelstam variable for {''.join(decay_masses)}\"\n",
    "    raise NotImplementedError(msg)\n",
    "\n",
    "\n",
    "def _get_particle(isobar: IsobarNode | State) -> State | Particle:\n",
    "    if isinstance(isobar, IsobarNode):\n",
    "        return isobar.parent\n",
    "    return isobar"
   ]
  },
  {
   "cell_type": "code",
   "execution_count": 33,
   "metadata": {
    "jupyter": {
     "source_hidden": true
    },
    "tags": [
     "hide-input",
     "scroll-input"
    ]
   },
   "outputs": [],
   "source": [
    "def prepare_for_phsp(model: AmplitudeModel) -> AmplitudeModel:\n",
    "    p1, p2, p3 = (FourMomentumSymbol(f\"p{i}\", shape=[]) for i in (1, 2, 3))\n",
    "    s1, s2, s3 = sp.symbols(\"sigma1:4\", nonnegative=True)\n",
    "    mass_definitions = {\n",
    "        s1: InvariantMassSquared(p2 + p3),\n",
    "        s2: InvariantMassSquared(p1 + p3),\n",
    "        s3: InvariantMassSquared(p1 + p2),\n",
    "        sp.Symbol(\"m0\", nonnegative=True): InvariantMass(p1 + p2 + p3),\n",
    "        sp.Symbol(\"m1\", nonnegative=True): InvariantMass(p1),\n",
    "        sp.Symbol(\"m2\", nonnegative=True): InvariantMass(p2),\n",
    "        sp.Symbol(\"m3\", nonnegative=True): InvariantMass(p3),\n",
    "    }\n",
    "    mass_definitions = {k: sp.sympify(v) for k, v in mass_definitions.items()}\n",
    "    angle_and_mandelstam_definitions = {\n",
    "        symbol: expr.xreplace(mass_definitions)\n",
    "        for symbol, expr in model.variables.items()\n",
    "    }\n",
    "    angle_and_mandelstam_definitions.update(mass_definitions)\n",
    "    polarized_intensity = set_initial_state_polarization(\n",
    "        model.intensity,\n",
    "        spin_projections=(-1, +1),\n",
    "    )\n",
    "    new_parameter_defaults = {\n",
    "        symbol: v\n",
    "        for symbol, v in model.parameter_defaults.items()\n",
    "        if not re.match(r\"m[0-3]\", symbol.name)\n",
    "    }\n",
    "    return attrs.evolve(\n",
    "        model,\n",
    "        intensity=polarized_intensity,\n",
    "        variables=angle_and_mandelstam_definitions,\n",
    "        parameter_defaults=new_parameter_defaults,\n",
    "    )\n",
    "\n",
    "\n",
    "def set_initial_state_polarization(\n",
    "    intensity: PoolSum, spin_projections: Iterable[sp.Rational | float]\n",
    ") -> PoolSum:\n",
    "    helicity_symbol, _ = intensity.indices[0]\n",
    "    helicity_values = tuple(sp.Rational(i) for i in spin_projections)\n",
    "    new_indices = (\n",
    "        (helicity_symbol, helicity_values),\n",
    "        *intensity.indices[1:],\n",
    "    )\n",
    "    return PoolSum(intensity.expression, *new_indices)\n",
    "\n",
    "\n",
    "@unevaluated\n",
    "class InvariantMassSquared(sp.Expr):\n",
    "    momentum: sp.Basic\n",
    "    _latex_repr_ = R\"M^2\\left({momentum}\\right)\"\n",
    "\n",
    "    def evaluate(self) -> sp.Expr:\n",
    "        p = self.momentum\n",
    "        p_xyz = ThreeMomentum(p)\n",
    "        return Energy(p) ** 2 - EuclideanNorm(p_xyz) ** 2"
   ]
  },
  {
   "cell_type": "code",
   "execution_count": 34,
   "metadata": {
    "tags": [
     "full-width"
    ]
   },
   "outputs": [
    {
     "data": {
      "text/latex": [
       "$\\displaystyle \\sum_{\\lambda_{0}\\in\\left\\{-1,1\\right\\}} \\sum_{\\lambda_{2}=-1/2}^{1/2} \\sum_{\\lambda_{3}=-1/2}^{1/2}{\\left|{\\sum_{\\lambda_0^{\\prime}=-1}^{1} \\sum_{\\lambda_2^{\\prime}=-1/2}^{1/2} \\sum_{\\lambda_3^{\\prime}=-1/2}^{1/2}{A^{2}_{\\lambda_0^{\\prime}, 0, \\lambda_2^{\\prime}, \\lambda_3^{\\prime}} d^{\\frac{1}{2}}_{\\lambda_2^{\\prime},\\lambda_{2}}\\left(\\zeta^2_{2(2)}\\right) d^{\\frac{1}{2}}_{\\lambda_3^{\\prime},\\lambda_{3}}\\left(\\zeta^3_{2(2)}\\right) d^{1}_{\\lambda_{0},\\lambda_0^{\\prime}}\\left(\\zeta^0_{2(2)}\\right) + A^{3}_{\\lambda_0^{\\prime}, 0, \\lambda_2^{\\prime}, \\lambda_3^{\\prime}} d^{\\frac{1}{2}}_{\\lambda_2^{\\prime},\\lambda_{2}}\\left(\\zeta^2_{3(2)}\\right) d^{\\frac{1}{2}}_{\\lambda_3^{\\prime},\\lambda_{3}}\\left(\\zeta^3_{3(2)}\\right) d^{1}_{\\lambda_{0},\\lambda_0^{\\prime}}\\left(\\zeta^0_{3(2)}\\right)}}\\right|^{2}}$"
      ],
      "text/plain": [
       "PoolSum(Abs(PoolSum(A^2[\\lambda_0^{\\prime}, 0, \\lambda_2^{\\prime}, \\lambda_3^{\\prime}]*WignerD(1/2, \\lambda_2^{\\prime}, lambda2, 0, \\zeta^2_{2(2)}, 0)*WignerD(1/2, \\lambda_3^{\\prime}, lambda3, 0, \\zeta^3_{2(2)}, 0)*WignerD(1, lambda0, \\lambda_0^{\\prime}, 0, \\zeta^0_{2(2)}, 0) + A^3[\\lambda_0^{\\prime}, 0, \\lambda_2^{\\prime}, \\lambda_3^{\\prime}]*WignerD(1/2, \\lambda_2^{\\prime}, lambda2, 0, \\zeta^2_{3(2)}, 0)*WignerD(1/2, \\lambda_3^{\\prime}, lambda3, 0, \\zeta^3_{3(2)}, 0)*WignerD(1, lambda0, \\lambda_0^{\\prime}, 0, \\zeta^0_{3(2)}, 0), (\\lambda_0^{\\prime}, (-1, 0, 1)), (\\lambda_2^{\\prime}, (-1/2, 1/2)), (\\lambda_3^{\\prime}, (-1/2, 1/2))))**2, (lambda0, (-1, 1)), (lambda2, (-1/2, 1/2)), (lambda3, (-1/2, 1/2)))"
      ]
     },
     "execution_count": 34,
     "metadata": {},
     "output_type": "execute_result"
    }
   ],
   "source": [
    "decay = to_three_body_decay(reaction.transitions, min_ls=False)\n",
    "builder = DalitzPlotDecompositionBuilder(decay, min_ls=False)\n",
    "for chain in builder.decay.chains:\n",
    "    builder.dynamics_choices.register_builder(chain, formulate_breit_wigner_with_ff)\n",
    "model = builder.formulate(reference_subsystem=2, cleanup_summations=True)\n",
    "model = prepare_for_phsp(model)\n",
    "model.intensity.cleanup()"
   ]
  },
  {
   "cell_type": "markdown",
   "metadata": {},
   "source": [
    "### Generate phase space sample"
   ]
  },
  {
   "cell_type": "code",
   "execution_count": 35,
   "metadata": {},
   "outputs": [],
   "source": [
    "dpd_transformer = SympyDataTransformer.from_sympy(model.variables, backend=\"jax\")"
   ]
  },
  {
   "cell_type": "code",
   "execution_count": 36,
   "metadata": {
    "jupyter": {
     "source_hidden": true
    },
    "mystnb": {
     "code_prompt_show": "Generate phase space sample"
    },
    "tags": [
     "hide-input",
     "remove-output"
    ]
   },
   "outputs": [
    {
     "name": "stderr",
     "output_type": "stream",
     "text": [
      "Generating phase space sample: 100%|████████████████████████████████████████████████████████| 100000/100000 [00:00<00:00, 212864.64it/s]\n"
     ]
    }
   ],
   "source": [
    "phsp_generator = TFPhaseSpaceGenerator(\n",
    "    initial_state_mass=reaction.initial_state[0].mass,\n",
    "    final_state_masses={i: p.mass for i, p in reaction.final_state.items()},\n",
    ")\n",
    "rng = TFUniformRealNumberGenerator(seed=0)\n",
    "phsp = phsp_generator.generate(100_000, rng)\n",
    "phsp = dpd_transformer(phsp)\n",
    "phsp = {k: phsp[k] for k in sorted(phsp)}\n",
    "phsp = {k: v if jnp.iscomplex(v).any() else v.real for k, v in phsp.items()}"
   ]
  },
  {
   "cell_type": "code",
   "execution_count": 37,
   "metadata": {
    "mystnb": {
     "code_prompt_show": "Generate phase space sample"
    }
   },
   "outputs": [
    {
     "data": {
      "text/plain": [
       "{'\\\\zeta^0_{2(2)}': Array(0, dtype=int64, weak_type=True),\n",
       " '\\\\zeta^0_{3(2)}': Array([-2.53357417, -2.43246297, -2.75588118, ..., -1.62304026, -2.86346239, -2.82115694], dtype=float64),\n",
       " '\\\\zeta^2_{2(2)}': Array(0, dtype=int64, weak_type=True),\n",
       " '\\\\zeta^2_{3(2)}': Array([0.48645084, 0.58458208, 0.26202874, ..., 0.46663255, 0.17000109, 1.20388426], dtype=float64),\n",
       " '\\\\zeta^3_{2(2)}': Array(0, dtype=int64, weak_type=True),\n",
       " '\\\\zeta^3_{3(2)}': Array([0.78587981, 0.67615773, 1.17998783, ..., 0.55902986, 1.50696702, 0.22775613], dtype=float64),\n",
       " 'm0': Array([3.0969, 3.0969, 3.0969, ..., 3.0969, 3.0969, 3.0969], dtype=float64),\n",
       " 'm1': Array([0.497611, 0.497611, 0.497611, ..., 0.497611, 0.497611, 0.497611], dtype=float64),\n",
       " 'm2': Array([1.18937, 1.18937, 1.18937, ..., 1.18937, 1.18937, 1.18937], dtype=float64),\n",
       " 'm3': Array([0.93827209, 0.93827209, 0.93827209, ..., 0.93827209, 0.93827209, 0.93827209], dtype=float64),\n",
       " 'sigma1': Array([5.9276109 , 5.8019359 , 6.08202612, ..., 4.94158867, 6.08062347, 6.2749799 ], dtype=float64),\n",
       " 'sigma2': Array([2.51882444, 2.67122   , 2.23124228, ..., 3.06252643, 2.14778394, 2.86465137], dtype=float64),\n",
       " 'sigma3': Array([3.68692649, 3.66020593, 3.82009343, ..., 4.12924673, 3.90495441, 2.99373056], dtype=float64),\n",
       " 'theta_12': Array([2.00195379, 1.79913544, 2.46359496, ..., 1.1176826 , 2.6722318 , 1.58636451], dtype=float64),\n",
       " 'theta_31': Array([1.46225035, 1.45618234, 1.61596876, ..., 2.13377945, 1.82166751, 0.58614258], dtype=float64)}"
      ]
     },
     "execution_count": 37,
     "metadata": {},
     "output_type": "execute_result"
    }
   ],
   "source": [
    "phsp"
   ]
  },
  {
   "cell_type": "markdown",
   "metadata": {},
   "source": [
    "### Prepare numerical function"
   ]
  },
  {
   "cell_type": "code",
   "execution_count": 38,
   "metadata": {},
   "outputs": [],
   "source": [
    "full_intensity_expr = cached.unfold(model)"
   ]
  },
  {
   "cell_type": "code",
   "execution_count": 39,
   "metadata": {},
   "outputs": [],
   "source": [
    "fixed_parameters = {\n",
    "    symbol: value\n",
    "    for symbol, value in model.parameter_defaults.items()\n",
    "    if \"production\" not in str(symbol)\n",
    "}\n",
    "full_intensity_expr = cached.xreplace(full_intensity_expr, fixed_parameters)"
   ]
  },
  {
   "cell_type": "code",
   "execution_count": 40,
   "metadata": {},
   "outputs": [],
   "source": [
    "coupling_parameters = {\n",
    "    symbol: value\n",
    "    for symbol, value in model.parameter_defaults.items()\n",
    "    if symbol not in fixed_parameters\n",
    "}"
   ]
  },
  {
   "cell_type": "code",
   "execution_count": 41,
   "metadata": {},
   "outputs": [],
   "source": [
    "intensity_func = cached.lambdify(\n",
    "    full_intensity_expr,\n",
    "    parameters=coupling_parameters,\n",
    "    backend=\"jax\",\n",
    ")"
   ]
  },
  {
   "cell_type": "markdown",
   "metadata": {},
   "source": [
    "## Compute acceptance matrix"
   ]
  },
  {
   "cell_type": "markdown",
   "metadata": {},
   "source": [
    "#### Brute-force computation"
   ]
  },
  {
   "cell_type": "code",
   "execution_count": 42,
   "metadata": {
    "tags": [
     "hide-input"
    ]
   },
   "outputs": [],
   "source": [
    "def compute_intensity_matrix(\n",
    "    func: ParametrizedFunction, phsp: DataSample, ci: complex, cj: complex\n",
    ") -> np.ndarray:\n",
    "    original_parameters = func.parameters.copy()\n",
    "    coupling_parameters = [p for p in func.parameters if \"production\" in p]\n",
    "    n = len(coupling_parameters)\n",
    "    sub_intensity_matrix = np.zeros((n, n))\n",
    "    for (i, c1), (j, c2) in itertools.product(\n",
    "        enumerate(coupling_parameters),\n",
    "        enumerate(coupling_parameters),\n",
    "    ):\n",
    "        new_parameters = dict.fromkeys(coupling_parameters, 0)\n",
    "        if c1 == c2:\n",
    "            new_parameters[c1] = 1\n",
    "        else:\n",
    "            new_parameters[c1] = ci\n",
    "            new_parameters[c2] = cj\n",
    "        func.update_parameters(new_parameters)\n",
    "        sub_intensities = func(phsp)\n",
    "        func.update_parameters(original_parameters)\n",
    "        sub_intensity_matrix[i, j] = integrate_intensity(sub_intensities)\n",
    "    return sub_intensity_matrix"
   ]
  },
  {
   "cell_type": "code",
   "execution_count": 43,
   "metadata": {},
   "outputs": [],
   "source": [
    "def integrate_intensity(intensities: jnp.ndarray) -> float:\n",
    "    flattened_intensities = intensities.flatten()\n",
    "    non_nan_intensities = flattened_intensities[~jnp.isnan(flattened_intensities)]\n",
    "    return float(jnp.sum(non_nan_intensities) / len(non_nan_intensities))"
   ]
  },
  {
   "cell_type": "code",
   "execution_count": 44,
   "metadata": {},
   "outputs": [
    {
     "name": "stdout",
     "output_type": "stream",
     "text": [
      "CPU times: user 2.78 s, sys: 65.5 ms, total: 2.85 s\n",
      "Wall time: 412 ms\n"
     ]
    }
   ],
   "source": [
    "%%time\n",
    "A_plus = compute_intensity_matrix(intensity_func, phsp, ci=1, cj=+1)\n",
    "B_plus = compute_intensity_matrix(intensity_func, phsp, ci=1, cj=+1j)\n",
    "A_minus = compute_intensity_matrix(intensity_func, phsp, ci=1, cj=-1)\n",
    "B_minus = compute_intensity_matrix(intensity_func, phsp, ci=1, cj=-1j)"
   ]
  },
  {
   "cell_type": "code",
   "execution_count": 45,
   "metadata": {},
   "outputs": [
    {
     "data": {
      "text/plain": [
       "array([[ 9.19800e-04+0.0000e+00j,  1.86000e-05-1.7880e-04j,  0.00000e+00+0.0000e+00j,  5.00000e-07-1.8000e-06j],\n",
       "       [ 1.86000e-05+1.7880e-04j,  1.95840e-03+0.0000e+00j,  0.00000e+00+0.0000e+00j, -8.14600e-04+3.1594e-03j],\n",
       "       [ 0.00000e+00+0.0000e+00j,  0.00000e+00+0.0000e+00j,  0.00000e+00+0.0000e+00j,  0.00000e+00+0.0000e+00j],\n",
       "       [ 5.00000e-07+1.8000e-06j, -8.14600e-04-3.1594e-03j,  0.00000e+00+0.0000e+00j,  9.51321e-02+0.0000e+00j]])"
      ]
     },
     "execution_count": 45,
     "metadata": {},
     "output_type": "execute_result"
    }
   ],
   "source": [
    "X_temp = (A_plus - A_minus) / 4 + 1j / 4 * (B_plus - B_minus)\n",
    "diagonal = np.tril(A_plus) - np.tril(A_plus, k=-1)\n",
    "X_brute_force = diagonal + np.tril(X_temp, k=-1) + np.triu(X_temp, k=1)\n",
    "X_brute_force.round(7)"
   ]
  },
  {
   "cell_type": "code",
   "execution_count": 46,
   "metadata": {},
   "outputs": [],
   "source": [
    "np.testing.assert_almost_equal(X_brute_force, X_brute_force.T.conj())"
   ]
  },
  {
   "cell_type": "markdown",
   "metadata": {},
   "source": [
    "#### Smarter computation"
   ]
  },
  {
   "cell_type": "code",
   "execution_count": 47,
   "metadata": {
    "tags": [
     "hide-input",
     "scroll-input"
    ]
   },
   "outputs": [],
   "source": [
    "def compute_acceptance_matrix(\n",
    "    intensity_func: ParametrizedFunction,\n",
    "    phsp: DataSample,\n",
    ") -> np.ndarray:\n",
    "    a_matrix = compute_intensity_matrix_upper_triangle(intensity_func, phsp, ci=1, cj=1)\n",
    "    b_matrix = compute_intensity_matrix_upper_triangle(\n",
    "        intensity_func, phsp, ci=1j, cj=1\n",
    "    )\n",
    "    diagonal = compute_intensity_matrix_diagonal(intensity_func, phsp)\n",
    "    x_matrix = np.zeros(a_matrix.shape, dtype=complex)\n",
    "    for i, j in itertools.product(range(a_matrix.shape[0]), range(a_matrix.shape[1])):\n",
    "        if i < j:\n",
    "            x_matrix[j, i] = (\n",
    "                a_matrix[i, j]\n",
    "                + 1j * b_matrix[i, j]\n",
    "                - (1 + 1j) * (diagonal[i] + diagonal[j])\n",
    "            ) / 2\n",
    "    conjugate_upper_triangle = x_matrix.conjugate().T\n",
    "    x_matrix += np.diag(diagonal) + conjugate_upper_triangle\n",
    "    return x_matrix\n",
    "\n",
    "\n",
    "def compute_intensity_matrix_upper_triangle(\n",
    "    func: ParametrizedFunction, phsp: DataSample, ci: complex, cj: complex\n",
    ") -> np.ndarray:\n",
    "    original_parameters = func.parameters.copy()\n",
    "    coupling_parameters = [p for p in func.parameters if \"production\" in p]\n",
    "    n = len(coupling_parameters)\n",
    "    sub_intensity_matrix = np.zeros((n, n))\n",
    "    for (i, c1), (j, c2) in itertools.product(\n",
    "        enumerate(coupling_parameters),\n",
    "        enumerate(coupling_parameters),\n",
    "    ):\n",
    "        if i >= j:\n",
    "            continue\n",
    "        new_parameters = dict.fromkeys(coupling_parameters, 0)\n",
    "        new_parameters[c1] = ci\n",
    "        new_parameters[c2] = cj\n",
    "\n",
    "        func.update_parameters(new_parameters)\n",
    "        sub_intensities = func(phsp)\n",
    "        func.update_parameters(original_parameters)\n",
    "\n",
    "        sub_intensity_matrix[i, j] = integrate_intensity(sub_intensities)\n",
    "\n",
    "    return sub_intensity_matrix\n",
    "\n",
    "\n",
    "def compute_intensity_matrix_diagonal(\n",
    "    func: ParametrizedFunction, phsp: DataSample\n",
    ") -> np.ndarray:\n",
    "    original_parameters = func.parameters.copy()\n",
    "    coupling_parameters = [p for p in func.parameters if \"production\" in p]\n",
    "    n = len(coupling_parameters)\n",
    "    sub_intensity_array = np.zeros(n)\n",
    "\n",
    "    for i, c1 in enumerate(coupling_parameters):\n",
    "        for j in range(i, n):\n",
    "            c2 = coupling_parameters[j]\n",
    "            new_parameters = dict.fromkeys(coupling_parameters, 0)\n",
    "            if c1 == c2:\n",
    "                new_parameters[c1] = 1\n",
    "            else:\n",
    "                continue\n",
    "\n",
    "            func.update_parameters(new_parameters)\n",
    "            sub_intensities = func(phsp)\n",
    "            func.update_parameters(original_parameters)\n",
    "\n",
    "            sub_intensity_array[i] = integrate_intensity(sub_intensities)\n",
    "\n",
    "    return sub_intensity_array\n"
   ]
  },
  {
   "cell_type": "code",
   "execution_count": 48,
   "metadata": {
    "tags": [
     "hide-input",
     "scroll-input"
    ]
   },
   "outputs": [
    {
     "name": "stdout",
     "output_type": "stream",
     "text": [
      "CPU times: user 711 ms, sys: 10.1 ms, total: 721 ms\n",
      "Wall time: 105 ms\n"
     ]
    }
   ],
   "source": [
    "%%time\n",
    "X = compute_acceptance_matrix(intensity_func, phsp)"
   ]
  },
  {
   "cell_type": "code",
   "execution_count": 49,
   "metadata": {},
   "outputs": [
    {
     "data": {
      "text/plain": [
       "array([[ 9.19800e-04+0.0000e+00j,  1.86000e-05-1.7880e-04j,  0.00000e+00+0.0000e+00j,  5.00000e-07-1.8000e-06j],\n",
       "       [ 1.86000e-05+1.7880e-04j,  1.95840e-03+0.0000e+00j,  0.00000e+00+0.0000e+00j, -8.14600e-04+3.1594e-03j],\n",
       "       [ 0.00000e+00+0.0000e+00j,  0.00000e+00+0.0000e+00j,  0.00000e+00+0.0000e+00j,  0.00000e+00+0.0000e+00j],\n",
       "       [ 5.00000e-07+1.8000e-06j, -8.14600e-04-3.1594e-03j,  0.00000e+00+0.0000e+00j,  9.51321e-02+0.0000e+00j]])"
      ]
     },
     "execution_count": 49,
     "metadata": {},
     "output_type": "execute_result"
    }
   ],
   "source": [
    "X.round(7)"
   ]
  },
  {
   "cell_type": "code",
   "execution_count": 50,
   "metadata": {},
   "outputs": [],
   "source": [
    "np.testing.assert_almost_equal(X, X.T.conj())\n",
    "np.testing.assert_almost_equal(X, X_brute_force)"
   ]
  },
  {
   "cell_type": "markdown",
   "metadata": {},
   "source": [
    "## Test bilinear form \n",
    "The the bilinear form with the acceptance matrix is to be used within for thge optimatzation of the coupling parameters $c_{ij}$. The bilinear form should lead to trhe same result when calculating the sub-intensity directly by Monte-Carlo integration. In the following this expected behaviour is tested for different $c$."
   ]
  },
  {
   "cell_type": "markdown",
   "metadata": {},
   "source": [
    "Result taking every element of $c$ as $2+1i$ or 0 \\\n",
    "**Direct integration:**"
   ]
  },
  {
   "cell_type": "code",
   "execution_count": 52,
   "metadata": {},
   "outputs": [
    {
     "name": "stdout",
     "output_type": "stream",
     "text": [
      "c = (0j, 0j, 0j, (-2+1j)) : 0.47566059240154324\n",
      "c = (0j, 0j, (-2+1j), 0j) : 0.0\n",
      "c = (0j, 0j, (-2+1j), (-2+1j)) : 0.47566059240154324\n",
      "c = (0j, (-2+1j), 0j, 0j) : 0.009791940106611881\n",
      "c = (0j, (-2+1j), 0j, (-2+1j)) : 0.47730695795678885\n",
      "c = (0j, (-2+1j), (-2+1j), 0j) : 0.009791940106611881\n",
      "c = (0j, (-2+1j), (-2+1j), (-2+1j)) : 0.47730695795678885\n",
      "c = ((-2+1j), 0j, 0j, 0j) : 0.004598829255514586\n",
      "c = ((-2+1j), 0j, 0j, (-2+1j)) : 0.4802644031397207\n",
      "c = ((-2+1j), 0j, (-2+1j), 0j) : 0.004598829255514586\n",
      "c = ((-2+1j), 0j, (-2+1j), (-2+1j)) : 0.4802644031397207\n",
      "c = ((-2+1j), (-2+1j), 0j, 0j) : 0.014576716058889274\n",
      "c = ((-2+1j), (-2+1j), 0j, (-2+1j)) : 0.48209671539172916\n",
      "c = ((-2+1j), (-2+1j), (-2+1j), 0j) : 0.014576716058889274\n",
      "c = ((-2+1j), (-2+1j), (-2+1j), (-2+1j)) : 0.48209671539172916\n"
     ]
    }
   ],
   "source": [
    "parameter_names = list(intensity_func.parameters)\n",
    "n = len(parameter_names)\n",
    "all_c = [np.array(c, dtype=complex) for c in product([0, -2+1j], repeat=n) if any(c)]\n",
    "\n",
    "integration_results = []\n",
    "for c in all_c:\n",
    "    new_parameters = dict(zip(parameter_names, c, strict=True))\n",
    "    intensity_func.update_parameters(new_parameters)\n",
    "    intensity_value = integrate_intensity(intensity_func(phsp))\n",
    "    integration_results.append((tuple(c.astype(complex)), intensity_value))\n",
    "\n",
    "for c_tuple, value in integration_results:\n",
    "    print(f\"c = {c_tuple} : {value}\")"
   ]
  },
  {
   "cell_type": "markdown",
   "metadata": {},
   "source": [
    "**Bilinear form:**"
   ]
  },
  {
   "cell_type": "code",
   "execution_count": 65,
   "metadata": {},
   "outputs": [
    {
     "name": "stdout",
     "output_type": "stream",
     "text": [
      "c = (0j, 0j, 0j, (-2+1j)) : (0.4756605924015433+0j)\n",
      "c = (0j, 0j, (-2+1j), 0j) : 0j\n",
      "c = (0j, 0j, (-2+1j), (-2+1j)) : (0.4756605924015433+0j)\n",
      "c = (0j, (-2+1j), 0j, 0j) : (0.009791940106611883+0j)\n",
      "c = (0j, (-2+1j), 0j, (-2+1j)) : (0.4773069579567889-2.7755575615628914e-17j)\n",
      "c = (0j, (-2+1j), (-2+1j), 0j) : (0.009791940106611883+0j)\n",
      "c = (0j, (-2+1j), (-2+1j), (-2+1j)) : (0.4773069579567889-2.7755575615628914e-17j)\n",
      "c = ((-2+1j), 0j, 0j, 0j) : (0.004598829255514586+0j)\n",
      "c = ((-2+1j), 0j, 0j, (-2+1j)) : (0.4802644031397208-2.7755575615628914e-17j)\n",
      "c = ((-2+1j), 0j, (-2+1j), 0j) : (0.004598829255514586+0j)\n",
      "c = ((-2+1j), 0j, (-2+1j), (-2+1j)) : (0.4802644031397208-2.7755575615628914e-17j)\n",
      "c = ((-2+1j), (-2+1j), 0j, 0j) : (0.014576716058889268+0j)\n",
      "c = ((-2+1j), (-2+1j), 0j, (-2+1j)) : (0.48209671539172927+0j)\n",
      "c = ((-2+1j), (-2+1j), (-2+1j), 0j) : (0.014576716058889268+0j)\n",
      "c = ((-2+1j), (-2+1j), (-2+1j), (-2+1j)) : (0.48209671539172927+0j)\n"
     ]
    }
   ],
   "source": [
    "bilinear_results = []\n",
    "for c in all_c:\n",
    "    c_dagger = c.conj().T\n",
    "    result = c_dagger @ X @ c\n",
    "    bilinear_results.append((tuple(c.astype(complex)), result))\n",
    "\n",
    "for c_tuple, value in bilinear_results:\n",
    "    print(f\"c = {c_tuple} : {value}\")"
   ]
  },
  {
   "cell_type": "markdown",
   "metadata": {},
   "source": [
    "**Difference:**"
   ]
  },
  {
   "cell_type": "code",
   "execution_count": 66,
   "metadata": {},
   "outputs": [
    {
     "name": "stdout",
     "output_type": "stream",
     "text": [
      "(0j, 0j, 0j, (-2+1j)) : False  (5.551115123125783e-17+0j)\n",
      "(0j, 0j, (-2+1j), 0j) : True   0j\n",
      "(0j, 0j, (-2+1j), (-2+1j)) : False  (5.551115123125783e-17+0j)\n",
      "(0j, (-2+1j), 0j, 0j) : False  (1.734723475976807e-18+0j)\n",
      "(0j, (-2+1j), 0j, (-2+1j)) : False  (5.551115123125783e-17-2.7755575615628914e-17j)\n",
      "(0j, (-2+1j), (-2+1j), 0j) : False  (1.734723475976807e-18+0j)\n",
      "(0j, (-2+1j), (-2+1j), (-2+1j)) : False  (5.551115123125783e-17-2.7755575615628914e-17j)\n",
      "((-2+1j), 0j, 0j, 0j) : True   0j\n",
      "((-2+1j), 0j, 0j, (-2+1j)) : False  (1.1102230246251565e-16-2.7755575615628914e-17j)\n",
      "((-2+1j), 0j, (-2+1j), 0j) : True   0j\n",
      "((-2+1j), 0j, (-2+1j), (-2+1j)) : False  (1.1102230246251565e-16-2.7755575615628914e-17j)\n",
      "((-2+1j), (-2+1j), 0j, 0j) : False  (-5.204170427930421e-18+0j)\n",
      "((-2+1j), (-2+1j), 0j, (-2+1j)) : False  (1.1102230246251565e-16+0j)\n",
      "((-2+1j), (-2+1j), (-2+1j), 0j) : False  (-5.204170427930421e-18+0j)\n",
      "((-2+1j), (-2+1j), (-2+1j), (-2+1j)) : False  (1.1102230246251565e-16+0j)\n"
     ]
    }
   ],
   "source": [
    "for (c, bilinear), (_, integration) in zip(\n",
    "    bilinear_results, integration_results, strict=True\n",
    "):\n",
    "    print(f\"{c} : {bilinear == integration!r:6s} {bilinear - integration}\")"
   ]
  },
  {
   "cell_type": "markdown",
   "metadata": {},
   "source": [
    "Now new values for the elements of $c$ are generated by variing the magnitude of the $c_i$ around one according the a log-normal distribution and the complex phase according to a uniform distrubution. **Note that this time each $c_i$ has a different phase and magnitude.**"
   ]
  },
  {
   "cell_type": "code",
   "execution_count": 67,
   "metadata": {},
   "outputs": [
    {
     "data": {
      "text/plain": [
       "'Coupling vector:[-1.06569825+2.53801196j -2.28954735+1.39798407j  2.27154164+1.79968397j  0.35290261+2.72418355j]'"
      ]
     },
     "metadata": {},
     "output_type": "display_data"
    },
    {
     "data": {
      "text/plain": [
       "'Difference of bilinear form and integration: [ 0.23648689+0.j  0.00888089+0.j  0.45263134+0.j ... -0.48454498+0.j  0.51066115+0.j -0.37047465+0.j]'"
      ]
     },
     "metadata": {},
     "output_type": "display_data"
    },
    {
     "data": {
      "text/plain": [
       "'Coupling vector:[-1.58290193+1.97822173j -2.34204613-0.50169816j  0.3255897 +2.53319191j -1.22915563-2.43712076j]'"
      ]
     },
     "metadata": {},
     "output_type": "display_data"
    },
    {
     "data": {
      "text/plain": [
       "'Difference of bilinear form and integration: [ 0.18662545+0.j -0.01126296+0.j  0.30587783+0.j ... -0.67935309+0.j  0.29209441+0.j -0.65611383+0.j]'"
      ]
     },
     "metadata": {},
     "output_type": "display_data"
    }
   ],
   "source": [
    "n_tests = 2\n",
    "rng = np.random.default_rng(seed=0)\n",
    "for _ in range(n_tests):\n",
    "    c_abs = rng.lognormal(mean=1, sigma=0.1, size=n)\n",
    "    c_phase = rng.uniform(-np.pi, +np.pi, size=n)\n",
    "    c = c_abs * np.exp(1j * c_phase)\n",
    "\n",
    "\n",
    "    new_parameters = dict(zip(parameter_names, c, strict=True))\n",
    "    intensity_func.update_parameters(new_parameters)\n",
    "\n",
    "    intensity_value_original = (intensity_func(phsp))\n",
    "\n",
    "    c_dagger = c.conj().T\n",
    "    intensity_value_bilinear = c_dagger @ X @ c\n",
    "\n",
    "    difference = intensity_value_bilinear - intensity_value_original\n",
    "    display(f\"Coupling vector:{c}\")\n",
    "    display(f\"Difference of bilinear form and integration: {difference.round(40)}\")"
   ]
  },
  {
   "cell_type": "code",
   "execution_count": null,
   "metadata": {},
   "outputs": [],
   "source": []
  }
 ],
 "metadata": {
  "colab": {
   "toc_visible": true
  },
  "kernelspec": {
   "display_name": "Pyproject Local",
   "language": "python",
   "name": "pyproject_local_kernel"
  },
  "language_info": {
   "codemirror_mode": {
    "name": "ipython",
    "version": 3
   },
   "file_extension": ".py",
   "mimetype": "text/x-python",
   "name": "python",
   "nbconvert_exporter": "python",
   "pygments_lexer": "ipython3",
   "version": "3.12.3"
  }
 },
 "nbformat": 4,
 "nbformat_minor": 4
}
