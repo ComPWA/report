{
 "cells": [
  {
   "cell_type": "markdown",
   "metadata": {},
   "source": [
    "```{autolink-concat}\n",
    "```"
   ]
  },
  {
   "cell_type": "markdown",
   "metadata": {
    "tags": [
     "dynamics",
     "K-matrix",
     "physics"
    ]
   },
   "source": [
    "::::{margin}\n",
    ":::{card} Symbolic K-matrix expressions\n",
    "TR-005\n",
    "^^^\n",
    "Implementation of this report is tracked through [ampform#67](https://github.com/ComPWA/ampform/issues/67).\n",
    "+++\n",
    "To be implemented\n",
    ":::\n",
    "::::"
   ]
  },
  {
   "cell_type": "markdown",
   "metadata": {},
   "source": [
    "# K-matrix"
   ]
  },
  {
   "cell_type": "markdown",
   "metadata": {
    "tags": [
     "remove-cell"
    ]
   },
   "source": [
    "<!-- cspell:ignore Cayley -->"
   ]
  },
  {
   "cell_type": "markdown",
   "metadata": {},
   "source": [
    "This report investigates how to implement $K$-matrix dynamics with {doc}`SymPy <sympy:index>`. We here describe only the version that is **not Lorentz-invariant**, because it is simplest and allows us to check whether the case $n_R=1, n=1$ (single resonance, single channel) reduces to a Breit-Wigner function. We followed the physics as described by {pdg-review}`Resonances` and {cite}`Chung:1995dx,petersPartialWaveAnalysis2004,meyerMatrixTutorial2008`. For the Lorentz-invariant version, see [TR-009](009.ipynb).\n",
    "\n",
    "A brief overview of the origin of the $\\boldsymbol{K}$-matrix is given first. This overview follows {cite}`Chung:1995dx`, but skips over quite a few details, as this is only an attempt to provide some context of what is going on."
   ]
  },
  {
   "cell_type": "code",
   "execution_count": null,
   "metadata": {
    "tags": [
     "remove-cell"
    ]
   },
   "outputs": [],
   "source": [
    "%pip install -q ampform==0.11.* mpl-interactions~=0.24.2"
   ]
  },
  {
   "cell_type": "code",
   "execution_count": null,
   "metadata": {
    "jupyter": {
     "source_hidden": true
    },
    "tags": [
     "hide-cell"
    ]
   },
   "outputs": [],
   "source": [
    "from __future__ import annotations\n",
    "\n",
    "import warnings\n",
    "from pathlib import Path\n",
    "\n",
    "import graphviz\n",
    "import matplotlib.pyplot as plt\n",
    "import mpl_interactions.ipyplot as iplt\n",
    "import numpy as np\n",
    "import symplot\n",
    "import sympy as sp\n",
    "from IPython.display import Math, display\n",
    "from ipywidgets import widgets as ipywidgets\n",
    "from mpl_interactions.controller import Controls\n",
    "\n",
    "warnings.filterwarnings(\"ignore\")"
   ]
  },
  {
   "cell_type": "code",
   "execution_count": null,
   "metadata": {
    "cellView": "form",
    "jupyter": {
     "source_hidden": true
    },
    "tags": [
     "remove-cell"
    ]
   },
   "outputs": [],
   "source": [
    "# @title\n",
    "if \"COLAB_RELEASE_TAG\" in os.environ:\n",
    "    import subprocess\n",
    "\n",
    "    from google.colab import output\n",
    "\n",
    "    output.enable_custom_widget_manager()\n",
    "    subprocess.run(\"pip install -q ipympl\".split(), check=False)"
   ]
  },
  {
   "cell_type": "markdown",
   "metadata": {},
   "source": [
    "## Physics"
   ]
  },
  {
   "cell_type": "markdown",
   "metadata": {
    "tags": [
     "scroll-input"
    ]
   },
   "source": [
    "The $\\boldsymbol{K}$-matrix formalism is used to describe **coupled, two-body scattering processes** of the type $c_id_i \\to R \\to a_ib_i$, with $i$ representing each separate channel and $R$ a number of resonances that these channels have in common."
   ]
  },
  {
   "cell_type": "code",
   "execution_count": null,
   "metadata": {
    "jupyter": {
     "source_hidden": true
    },
    "tags": [
     "hide-input",
     "remove-output"
    ]
   },
   "outputs": [],
   "source": [
    "dot = \"\"\"\n",
    "digraph {\n",
    "    rankdir=LR;\n",
    "    node [shape=point, width=0];\n",
    "    edge [arrowhead=none];\n",
    "    \"Na\" [shape=none, label=\"aᵢ\"];\n",
    "    \"Nb\" [shape=none, label=\"bᵢ\"];\n",
    "    \"Nc\" [shape=none, label=\"cᵢ\"];\n",
    "    \"Nd\" [shape=none, label=\"dᵢ\"];\n",
    "    { rank=same \"Nc\", \"Nd\" };\n",
    "    { rank=same \"Na\", \"Nb\" };\n",
    "    \"Nc\" -> \"N0\";\n",
    "    \"Nd\" -> \"N0\";\n",
    "    \"N1\" -> \"Na\";\n",
    "    \"N1\" -> \"Nb\";\n",
    "    \"N0\" -> \"N1\" [label=\"R\"];\n",
    "    \"N0\" [shape=none, label=\"\"];\n",
    "    \"N1\" [shape=none, label=\"\"];\n",
    "}\n",
    "\"\"\"\n",
    "graph = graphviz.Source(dot)\n",
    "graph"
   ]
  },
  {
   "cell_type": "markdown",
   "metadata": {},
   "source": [
    "```{image} https://user-images.githubusercontent.com/29308176/164994485-fc4843c3-856b-4853-857a-679e258cf7c8.svg\n",
    ":align: center\n",
    "```"
   ]
  },
  {
   "cell_type": "code",
   "execution_count": null,
   "metadata": {
    "jupyter": {
     "source_hidden": true
    },
    "tags": [
     "remove-cell"
    ]
   },
   "outputs": [],
   "source": [
    "output_file = Path(\"005/two-body-scattering\")\n",
    "output_file.parent.mkdir(exist_ok=True)\n",
    "graph.render(output_file, format=\"svg\");"
   ]
  },
  {
   "cell_type": "markdown",
   "metadata": {},
   "source": [
    "### Partial wave expansion\n",
    "\n",
    "In amplitude analysis, the main aim is to express the differential cross section $\\frac{d\\sigma}{d\\Omega}$ (that is, the intensity distribution in each spherical direction $\\Omega=(\\phi,\\theta)$ as we can observe in experiments). This differential cross section can be expressed in terms of the **scattering amplitude** $A$ as:\n",
    "\n",
    "$$\n",
    "\\frac{d\\sigma}{d\\Omega} = \\left|A(\\Omega)\\right|^2\n",
    "$$ (differential cross section)\n",
    "\n",
    "We can now further express $A$ in terms of partial wave amplitudes by splitting it up in terms of its angular momentum components $J$:\n",
    "\n",
    "$$\n",
    "A(\\Omega) = \\frac{1}{2q_i}\\sum_J\\left(2J+1\\right) T^J(s) {D^J_{\\lambda\\mu}}^*\\left(\\phi,\\theta,0\\right)\n",
    "$$ (partial waves)\n",
    "\n",
    "with $\\lambda=\\lambda_a-\\lambda_b$ and $\\mu=\\lambda_c-\\lambda_d$ the helicity differences of the final and initial states $ab,cd$.\n",
    "\n",
    "The above sketch is just with one channel in mind, but the same holds true though for a number of channels $n$, with the only difference that the $T$ operator becomes a $\\boldsymbol{T}$-matrix of rank $n$.\n",
    "\n",
    "### Transition operator\n",
    "\n",
    "The important point is that we have now expressed $A$ in terms of an angular part (depending on $\\Omega$) and a dynamical part $\\boldsymbol{T}$ that depends on the {ref}`Mandelstam variable <pwa:introduction:Mandelstam variables>` $s$.\n",
    "\n",
    "\n",
    "The dynamical part $\\boldsymbol{T}$ is usually called the **transition operator**. The reason is that it describes the interacting part of the **scattering operator** $\\boldsymbol{S}$, which describes the (complex) amplitude $\\langle f|\\boldsymbol{S}|i\\rangle$  of an initial state $|i\\rangle$ transitioning to a final state $|f\\rangle$. The scattering operator describes both the non-interacting amplitude and the transition amplitude, so it relates to the transition operator as:[^1]\n",
    "\n",
    "[^1]: Some authors like {cite}`Chung:1995dx` multiply the transition operator by a factor 2.\n",
    "\n",
    "$$\n",
    "\\boldsymbol{S} = \\boldsymbol{I} + i\\boldsymbol{T}\n",
    "$$ (scattering operator)\n",
    "\n",
    "with $\\boldsymbol{I}$ the identity operator. With this in mind, there is an important restriction that the $T$-operator needs to comply with: **unitarity**. This means that $\\boldsymbol{S}$ should conserve probability, namely $\\boldsymbol{S}^\\dagger\\boldsymbol{S} = \\boldsymbol{I}$.\n",
    "\n",
    "### K-matrix formalism\n",
    "\n",
    "Now there is a trick to ensure unitarity of $\\boldsymbol{S}$. We can express $\\boldsymbol{S}$ in terms of an operator $\\boldsymbol{K}$ by applying a [Cayley transformation](https://en.wikipedia.org/wiki/Cayley_transform):\n",
    "\n",
    "$$\n",
    "\\boldsymbol{S} = (\\boldsymbol{I} + i\\boldsymbol{K})(I - i\\boldsymbol{K})^{-1}\n",
    "$$ (Cayley transformation)\n",
    "\n",
    "Unitarity is conserved if $K$ is real. Finally, the $\\boldsymbol{T}$-matrix can be expressed in terms of $\\boldsymbol{K}$ as follows:\n",
    "\n",
    "$$\n",
    "\\boldsymbol{T} = \\boldsymbol{K} \\left(\\boldsymbol{I} - i\\boldsymbol{K}\\right)^{-1}\n",
    "$$ (T-in-terms-of-K)\n",
    "\n",
    "### Resonances\n",
    "\n",
    "The challenge is now to choose a correct parametrization for the elements of $\\boldsymbol{K}$ so that it correctly describes the resonances we observe. There are several choices, but a common one is the following summation over the resonances $R$:\n",
    "\n",
    "$$\n",
    "K_{ij} = \\sum_R\\frac{g_{R,i}^*g_{R,j}}{m_R^2-m^2}\n",
    "$$ (K-matrix-parametrization)\n",
    "\n",
    "with $g_{R,i}$ the residue functions that can be further expressed as\n",
    "\n",
    "$$\n",
    "g_{R,i}=\\gamma_{R,i}\\sqrt{m_R\\Gamma_R}\n",
    "$$ (residue-function)"
   ]
  },
  {
   "cell_type": "markdown",
   "metadata": {},
   "source": [
    "## Implementation"
   ]
  },
  {
   "cell_type": "markdown",
   "metadata": {},
   "source": [
    "The challenge is to generate a correct parametrization for an arbitrary **number of coupled channels $n$** and an arbitrary **number of resonances $n_R$**. Our approach is to construct an $n \\times n$ {obj}`sympy.Matrix <sympy.matrices.dense.Matrix>` with {class}`~sympy.core.symbol.Symbol`s as its elements. We then use substitute these {class}`~sympy.core.symbol.Symbol`s with certain parametrizations using {meth}`~sympy.core.basic.Basic.subs`. In order to generate symbols for $n_R$ resonances and $n$ channels, we use {doc}`indexed symbols <sympy:modules/tensor/indexed>`.\n",
    "\n",
    "This approach is less elegant and (theoretically) slower than using {class}`~sympy.matrices.expressions.MatrixSymbol`s. That approach is explored in [TR-007](007.ipynb)."
   ]
  },
  {
   "cell_type": "markdown",
   "metadata": {},
   "source": [
    "It would be nice to use a {class}`~sympy.core.symbol.Symbol` to represent the number of channels $n$ and specify its value later."
   ]
  },
  {
   "cell_type": "code",
   "execution_count": null,
   "metadata": {},
   "outputs": [],
   "source": [
    "n_channels = sp.Symbol(\"n\", integer=True, positive=True)"
   ]
  },
  {
   "cell_type": "markdown",
   "metadata": {},
   "source": [
    "Unfortunately, this does not work well in the {obj}`~sympy.matrices.dense.Matrix` class. We therefore set variables $n$ to a specific {obj}`int` value and define some other {class}`~sympy.core.symbol.Symbol`s for the rest of the implementation.[^2] The value we choose in this example is `n_channels=1`, because we want to see if this reproduces a Breit-Wigner function.[^3]\n",
    "\n",
    "[^2]: We use {class}`~sympy.core.symbol.Symbol`s as indices, because that renders more nicely.\n",
    "\n",
    "[^3]: Of course, there is no need to work with matrices in this $1 \\times 1$ case. To keeps things general, however, we keep using matrices.\n"
   ]
  },
  {
   "cell_type": "code",
   "execution_count": null,
   "metadata": {},
   "outputs": [],
   "source": [
    "n_channels = 1\n",
    "i, j, R, n_resonances = sp.symbols(\"i j R n_R\", integer=True, negative=False)\n",
    "m = sp.Symbol(\"m\", real=True)\n",
    "M = sp.IndexedBase(\"m\", shape=(n_resonances,))\n",
    "Gamma = sp.IndexedBase(\"Gamma\", shape=(n_resonances,))\n",
    "gamma = sp.IndexedBase(\"gamma\", shape=(n_resonances, n_channels))"
   ]
  },
  {
   "cell_type": "markdown",
   "metadata": {},
   "source": [
    "The parametrization of $K_{ij}$ from Eq. {eq}`K-matrix-parametrization` can be expressed as follows:"
   ]
  },
  {
   "cell_type": "code",
   "execution_count": null,
   "metadata": {},
   "outputs": [],
   "source": [
    "def Kij(\n",
    "    m: sp.Symbol,\n",
    "    M: sp.IndexedBase,\n",
    "    Gamma: sp.IndexedBase,\n",
    "    gamma: sp.IndexedBase,\n",
    "    i: int,\n",
    "    j: int,\n",
    "    n_resonances: int | sp.Symbol,\n",
    ") -> sp.Expr:\n",
    "    g_i = gamma[R, i] * sp.sqrt(M[R] * Gamma[R])\n",
    "    g_j = gamma[R, j] * sp.sqrt(M[R] * Gamma[R])\n",
    "    parametrization = (g_i * g_j) / (M[R] ** 2 - m**2)\n",
    "    return sp.Sum(parametrization, (R, 0, n_resonances - 1))"
   ]
  },
  {
   "cell_type": "code",
   "execution_count": null,
   "metadata": {
    "jupyter": {
     "source_hidden": true
    },
    "tags": [
     "hide-input",
     "keep_output"
    ]
   },
   "outputs": [
    {
     "data": {
      "text/latex": [
       "$\\displaystyle K_{ij} = \\sum_{R=0}^{n_{R} - 1} \\frac{{\\Gamma}_{R} {\\gamma}_{R,i} {\\gamma}_{R,j} {m}_{R}}{- m^{2} + {m}_{R}^{2}}$"
      ],
      "text/plain": [
       "<IPython.core.display.Math object>"
      ]
     },
     "execution_count": null,
     "metadata": {},
     "output_type": "execute_result"
    }
   ],
   "source": [
    "n_R = sp.Symbol(\"n_R\")\n",
    "kij = Kij(m, M, Gamma, gamma, i, j, n_R)\n",
    "Math(\"K_{ij} = \" + f\"{sp.latex(kij)}\")"
   ]
  },
  {
   "cell_type": "markdown",
   "metadata": {},
   "source": [
    "We now define the $\\boldsymbol{K}$-matrix in terms of a {obj}`~sympy.matrices.dense.Matrix` with {class}`~sympy.tensor.indexed.IndexedBase` instances as elements that can serve as {class}`~sympy.core.symbol.Symbol`s. These {class}`~sympy.core.symbol.Symbol`s will be substituted with the parametrization later. We could of course have inserted the parametrization directly, but this slows down matrix multiplication in the following steps."
   ]
  },
  {
   "cell_type": "code",
   "execution_count": null,
   "metadata": {
    "tags": [
     "keep_output"
    ]
   },
   "outputs": [
    {
     "data": {
      "text/latex": [
       "$\\displaystyle {K}_{i,j}$"
      ],
      "text/plain": [
       "K[i, j]"
      ]
     },
     "metadata": {},
     "output_type": "display_data"
    },
    {
     "data": {
      "text/latex": [
       "$\\displaystyle \\left[\\begin{matrix}{K}_{0,0}\\end{matrix}\\right]$"
      ],
      "text/plain": [
       "Matrix([[K[0, 0]]])"
      ]
     },
     "metadata": {},
     "output_type": "display_data"
    }
   ],
   "source": [
    "K_symbol = sp.IndexedBase(\"K\", shape=(n_channels, n_channels))\n",
    "K = sp.Matrix([[K_symbol[i, j] for j in range(n_channels)] for i in range(n_channels)])\n",
    "display(K_symbol[i, j], K)"
   ]
  },
  {
   "cell_type": "markdown",
   "metadata": {},
   "source": [
    "The $\\boldsymbol{T}$-matrix can now be computed from Eq. {eq}`T-in-terms-of-K`:"
   ]
  },
  {
   "cell_type": "code",
   "execution_count": null,
   "metadata": {
    "tags": [
     "keep_output"
    ]
   },
   "outputs": [
    {
     "data": {
      "text/latex": [
       "$\\displaystyle \\left[\\begin{matrix}\\frac{{K}_{0,0}}{- i {K}_{0,0} + 1}\\end{matrix}\\right]$"
      ],
      "text/plain": [
       "Matrix([[K[0, 0]/(-I*K[0, 0] + 1)]])"
      ]
     },
     "execution_count": null,
     "metadata": {},
     "output_type": "execute_result"
    }
   ],
   "source": [
    "T = K * (sp.eye(n_channels) - sp.I * K).inv()\n",
    "T"
   ]
  },
  {
   "cell_type": "markdown",
   "metadata": {},
   "source": [
    "Next, we need to substitute the elements $K_{i,j}$ with the parametrization we defined above:"
   ]
  },
  {
   "cell_type": "code",
   "execution_count": null,
   "metadata": {
    "tags": [
     "keep_output"
    ]
   },
   "outputs": [
    {
     "data": {
      "text/latex": [
       "$\\displaystyle \\left[\\begin{matrix}\\frac{\\sum_{R=0}^{n_{R} - 1} \\frac{{\\Gamma}_{R} {\\gamma}_{R,0}^{2} {m}_{R}}{- m^{2} + {m}_{R}^{2}}}{- i \\sum_{R=0}^{n_{R} - 1} \\frac{{\\Gamma}_{R} {\\gamma}_{R,0}^{2} {m}_{R}}{- m^{2} + {m}_{R}^{2}} + 1}\\end{matrix}\\right]$"
      ],
      "text/plain": [
       "Matrix([[Sum(Gamma[R]*gamma[R, 0]**2*m[R]/(-m**2 + m[R]**2), (R, 0, n_R - 1))/(-I*Sum(Gamma[R]*gamma[R, 0]**2*m[R]/(-m**2 + m[R]**2), (R, 0, n_R - 1)) + 1)]])"
      ]
     },
     "execution_count": null,
     "metadata": {},
     "output_type": "execute_result"
    }
   ],
   "source": [
    "T_subs = T.subs({\n",
    "    K[i, j]: Kij(m, M, Gamma, gamma, i, j, n_resonances)\n",
    "    for i in range(n_channels)\n",
    "    for j in range(n_channels)\n",
    "})\n",
    "T_subs"
   ]
  },
  {
   "cell_type": "markdown",
   "metadata": {},
   "source": [
    ":::{warning}\n",
    "\n",
    "It is important to perform {meth}`~sympy.core.basic.Basic.doit` _after_ {meth}`~sympy.core.basic.Basic.subs`, otherwise the {class}`~sympy.concrete.summations.Sum` cannot be evaluated and there will be no warning of a failed substitution.\n",
    "\n",
    ":::\n",
    "\n",
    "Now indeed, when taking $n_R=1$, the resulting element from the $\\boldsymbol{T}$-matrix looks like a Breit-Wigner function (compare {func}`~ampform.dynamics.relativistic_breit_wigner`)!"
   ]
  },
  {
   "cell_type": "code",
   "execution_count": null,
   "metadata": {
    "jupyter": {
     "source_hidden": true
    },
    "tags": [
     "hide-input",
     "keep_output"
    ]
   },
   "outputs": [
    {
     "data": {
      "text/latex": [
       "$\\displaystyle - \\frac{{\\Gamma}_{0} {\\gamma}_{0,0}^{2} {m}_{0}}{m^{2} + i {\\Gamma}_{0} {\\gamma}_{0,0}^{2} {m}_{0} - {m}_{0}^{2}}$"
      ],
      "text/plain": [
       "-Gamma[0]*gamma[0, 0]**2*m[0]/(m**2 + I*Gamma[0]*gamma[0, 0]**2*m[0] - m[0]**2)"
      ]
     },
     "execution_count": null,
     "metadata": {},
     "output_type": "execute_result"
    }
   ],
   "source": [
    "n_resonances_val = 1\n",
    "rel_bw = T_subs[0, 0].subs(n_resonances, n_resonances_val).doit()\n",
    "if n_resonances_val == 1 or n == 2:\n",
    "    rel_bw = rel_bw.simplify()\n",
    "rel_bw"
   ]
  },
  {
   "cell_type": "markdown",
   "metadata": {},
   "source": [
    "## Generalization"
   ]
  },
  {
   "cell_type": "markdown",
   "metadata": {},
   "source": [
    "The above procedure has been condensed into a function that can handle an arbitrary number of resonances and an arbitrary number of channels."
   ]
  },
  {
   "cell_type": "code",
   "execution_count": null,
   "metadata": {},
   "outputs": [],
   "source": [
    "def create_symbol_matrix(name: str, n: int) -> sp.Matrix:\n",
    "    symbol = sp.IndexedBase(\"K\", shape=(n, n))\n",
    "    return sp.Matrix([[symbol[i, j] for j in range(n)] for i in range(n)])\n",
    "\n",
    "\n",
    "def k_matrix(n_resonances: int, n_channels: int) -> sp.Matrix:\n",
    "    # Define symbols\n",
    "    m = sp.Symbol(\"m\", real=True)\n",
    "    M = sp.IndexedBase(\"m\", shape=(n_resonances,))\n",
    "    Gamma = sp.IndexedBase(\"Gamma\", shape=(n_resonances,))\n",
    "    gamma = sp.IndexedBase(\"gamma\", shape=(n_resonances, n_channels))\n",
    "    # Define K-matrix and T-matrix\n",
    "    K = create_symbol_matrix(\"K\", n_channels)\n",
    "    T = K * (sp.eye(n_channels) - sp.I * K).inv()\n",
    "    # Substitute elements\n",
    "    return T.subs({\n",
    "        K[i, j]: Kij(m, M, Gamma, gamma, i, j, n_resonances)\n",
    "        for i in range(n_channels)\n",
    "        for j in range(n_channels)\n",
    "    })"
   ]
  },
  {
   "cell_type": "markdown",
   "metadata": {},
   "source": [
    "Single channel, single resonance:"
   ]
  },
  {
   "cell_type": "code",
   "execution_count": null,
   "metadata": {
    "tags": [
     "keep_output"
    ]
   },
   "outputs": [
    {
     "data": {
      "text/latex": [
       "$\\displaystyle - \\frac{{\\Gamma}_{0} {\\gamma}_{0,0}^{2} {m}_{0}}{m^{2} + i {\\Gamma}_{0} {\\gamma}_{0,0}^{2} {m}_{0} - {m}_{0}^{2}}$"
      ],
      "text/plain": [
       "-Gamma[0]*gamma[0, 0]**2*m[0]/(m**2 + I*Gamma[0]*gamma[0, 0]**2*m[0] - m[0]**2)"
      ]
     },
     "execution_count": null,
     "metadata": {},
     "output_type": "execute_result"
    }
   ],
   "source": [
    "k_matrix(n_resonances=1, n_channels=1)[0, 0].doit().simplify()"
   ]
  },
  {
   "cell_type": "markdown",
   "metadata": {},
   "source": [
    "Single channel, $n_R$ resonances"
   ]
  },
  {
   "cell_type": "code",
   "execution_count": null,
   "metadata": {
    "tags": [
     "keep_output"
    ]
   },
   "outputs": [
    {
     "data": {
      "text/latex": [
       "$\\displaystyle \\frac{\\sum_{R=0}^{n_{R} - 1} \\frac{{\\Gamma}_{R} {\\gamma}_{R,0}^{2} {m}_{R}}{- m^{2} + {m}_{R}^{2}}}{- i \\sum_{R=0}^{n_{R} - 1} \\frac{{\\Gamma}_{R} {\\gamma}_{R,0}^{2} {m}_{R}}{- m^{2} + {m}_{R}^{2}} + 1}$"
      ],
      "text/plain": [
       "Sum(Gamma[R]*gamma[R, 0]**2*m[R]/(-m**2 + m[R]**2), (R, 0, n_R - 1))/(-I*Sum(Gamma[R]*gamma[R, 0]**2*m[R]/(-m**2 + m[R]**2), (R, 0, n_R - 1)) + 1)"
      ]
     },
     "execution_count": null,
     "metadata": {},
     "output_type": "execute_result"
    }
   ],
   "source": [
    "k_matrix(n_resonances=sp.Symbol(\"n_R\"), n_channels=1)[0, 0]"
   ]
  },
  {
   "cell_type": "markdown",
   "metadata": {},
   "source": [
    "Two channels, one resonance (Flatté function):"
   ]
  },
  {
   "cell_type": "code",
   "execution_count": null,
   "metadata": {
    "tags": [
     "keep_output"
    ]
   },
   "outputs": [
    {
     "data": {
      "text/latex": [
       "$\\displaystyle - \\frac{{\\Gamma}_{0} {\\gamma}_{0,0}^{2} {m}_{0}}{m^{2} + i {\\Gamma}_{0} {\\gamma}_{0,0}^{2} {m}_{0} + i {\\Gamma}_{0} {\\gamma}_{0,1}^{2} {m}_{0} - {m}_{0}^{2}}$"
      ],
      "text/plain": [
       "-Gamma[0]*gamma[0, 0]**2*m[0]/(m**2 + I*Gamma[0]*gamma[0, 0]**2*m[0] + I*Gamma[0]*gamma[0, 1]**2*m[0] - m[0]**2)"
      ]
     },
     "execution_count": null,
     "metadata": {},
     "output_type": "execute_result"
    }
   ],
   "source": [
    "k_matrix(n_resonances=1, n_channels=2)[0, 0].doit().simplify()"
   ]
  },
  {
   "cell_type": "markdown",
   "metadata": {
    "tags": [
     "keep_output"
    ]
   },
   "source": [
    "Two channels, $n_R$ resonances:"
   ]
  },
  {
   "cell_type": "code",
   "execution_count": null,
   "metadata": {
    "tags": [
     "full-width",
     "keep_output"
    ]
   },
   "outputs": [
    {
     "data": {
      "text/latex": [
       "$\\displaystyle \\begin{align*}\n",
       "\\mathtt{\\text{}} = & \\frac{\\left(i \\sum_{R=0}^{n_{R} - 1} \\frac{{\\Gamma}_{R} {\\gamma}_{R,1}^{2} {m}_{R}}{- m^{2} + {m}_{R}^{2}} - 1\\right) \\sum_{R=0}^{n_{R} - 1} \\frac{{\\Gamma}_{R} {\\gamma}_{R,0}^{2} {m}_{R}}{- m^{2} + {m}_{R}^{2}}}{\\left(\\sum_{R=0}^{n_{R} - 1} \\frac{{\\Gamma}_{R} {\\gamma}_{R,0}^{2} {m}_{R}}{- m^{2} + {m}_{R}^{2}}\\right) \\sum_{R=0}^{n_{R} - 1} \\frac{{\\Gamma}_{R} {\\gamma}_{R,1}^{2} {m}_{R}}{- m^{2} + {m}_{R}^{2}} + i \\sum_{R=0}^{n_{R} - 1} \\frac{{\\Gamma}_{R} {\\gamma}_{R,0}^{2} {m}_{R}}{- m^{2} + {m}_{R}^{2}} + i \\sum_{R=0}^{n_{R} - 1} \\frac{{\\Gamma}_{R} {\\gamma}_{R,1}^{2} {m}_{R}}{- m^{2} + {m}_{R}^{2}} - \\left(\\sum_{R=0}^{n_{R} - 1} \\frac{{\\Gamma}_{R} {\\gamma}_{R,0} {\\gamma}_{R,1} {m}_{R}}{- m^{2} + {m}_{R}^{2}}\\right)^{2} - 1} \\\\\n",
       "& + \\frac{i \\left(\\sum_{R=0}^{n_{R} - 1} \\frac{{\\Gamma}_{R} {\\gamma}_{R,0} {\\gamma}_{R,1} {m}_{R}}{- m^{2} + {m}_{R}^{2}}\\right)^{2}}{- \\left(\\sum_{R=0}^{n_{R} - 1} \\frac{{\\Gamma}_{R} {\\gamma}_{R,0}^{2} {m}_{R}}{- m^{2} + {m}_{R}^{2}}\\right) \\sum_{R=0}^{n_{R} - 1} \\frac{{\\Gamma}_{R} {\\gamma}_{R,1}^{2} {m}_{R}}{- m^{2} + {m}_{R}^{2}} - i \\sum_{R=0}^{n_{R} - 1} \\frac{{\\Gamma}_{R} {\\gamma}_{R,0}^{2} {m}_{R}}{- m^{2} + {m}_{R}^{2}} - i \\sum_{R=0}^{n_{R} - 1} \\frac{{\\Gamma}_{R} {\\gamma}_{R,1}^{2} {m}_{R}}{- m^{2} + {m}_{R}^{2}} + \\left(\\sum_{R=0}^{n_{R} - 1} \\frac{{\\Gamma}_{R} {\\gamma}_{R,0} {\\gamma}_{R,1} {m}_{R}}{- m^{2} + {m}_{R}^{2}}\\right)^{2} + 1} \n",
       "\\end{align*}$"
      ],
      "text/plain": [
       "<IPython.core.display.Math object>"
      ]
     },
     "execution_count": null,
     "metadata": {},
     "output_type": "execute_result"
    }
   ],
   "source": [
    "expr = k_matrix(n_resonances=sp.Symbol(\"n_R\"), n_channels=2)[0, 0]\n",
    "Math(sp.multiline_latex(\"\", expr))"
   ]
  },
  {
   "cell_type": "markdown",
   "metadata": {},
   "source": [
    "## Visualization"
   ]
  },
  {
   "cell_type": "markdown",
   "metadata": {},
   "source": [
    "Now, let's use [`matplotlib`](https://matplotlib.org), [`mpl_interactions`](https://mpl-interactions.rtfd.io), and {mod}`symplot` to visualize the $\\boldsymbol{K}$-matrix for arbitrary $n$ and $n_R$.\n",
    "\n",
    ":::{margin}\n",
    "\n",
    "[TR-008](008.ipynb) explains the need for {func}`symplot.substitute_indexed_symbols`.\n",
    "\n",
    ":::"
   ]
  },
  {
   "cell_type": "code",
   "execution_count": null,
   "metadata": {
    "tags": [
     "remove-input"
    ]
   },
   "outputs": [],
   "source": [
    "%matplotlib widget"
   ]
  },
  {
   "cell_type": "code",
   "execution_count": null,
   "metadata": {
    "jupyter": {
     "source_hidden": true
    },
    "tags": [
     "hide-input",
     "scroll-input"
    ]
   },
   "outputs": [],
   "source": [
    "def plot_k_matrix(\n",
    "    n_channels: int,\n",
    "    n_resonances: int,\n",
    "    title: str = \"\",\n",
    ") -> None:\n",
    "    # Convert to Symbol: symplot cannot handle IndexedBase\n",
    "    i = sp.Symbol(\"i\", integer=True, negative=False)\n",
    "    expr = k_matrix(n_resonances, n_channels)[i, i].doit()\n",
    "    expr = symplot.substitute_indexed_symbols(expr)\n",
    "    np_expr, sliders = symplot.prepare_sliders(expr, plot_symbol=m)\n",
    "    symbol_to_arg = {symbol: arg for arg, symbol in sliders._arg_to_symbol.items()}\n",
    "\n",
    "    # Set plot domain\n",
    "    x_min, x_max = 1e-3, 3\n",
    "    y_min, y_max = -0.5, +0.5\n",
    "\n",
    "    plot_domain = np.linspace(x_min, x_max, num=500)\n",
    "    x_values = np.linspace(x_min, x_max, num=160)\n",
    "    y_values = np.linspace(y_min, y_max, num=80)\n",
    "    X, Y = np.meshgrid(x_values, y_values)\n",
    "    plot_domain_complex = X + Y * 1j\n",
    "\n",
    "    # Set slider values and ranges\n",
    "    m0_values = np.linspace(x_min, x_max, num=n_resonances + 2)\n",
    "    m0_values = m0_values[1:-1]\n",
    "    for R in range(n_resonances):\n",
    "        for i in range(n_channels):\n",
    "            sliders.set_ranges({\n",
    "                \"i\": (0, n_channels - 1),\n",
    "                f\"m{R}\": (0, 3, 100),\n",
    "                f\"Gamma{R}\": (-1, 1, 100),\n",
    "                Rf\"\\gamma_{{{R},{i}}}\": (0, 2, 100),\n",
    "            })\n",
    "            sliders.set_values({\n",
    "                f\"m{R}\": m0_values[R],\n",
    "                f\"Gamma{R}\": (R + 1) * 0.1,\n",
    "                Rf\"\\gamma_{{{R},{i}}}\": 1 - 0.1 * R + 0.1 * i,\n",
    "            })\n",
    "\n",
    "    # Create interactive plots\n",
    "    controls = Controls(**sliders)\n",
    "    fig, (ax_2d, ax_3d) = plt.subplots(\n",
    "        nrows=2,\n",
    "        figsize=(8, 6),\n",
    "        sharex=True,\n",
    "        tight_layout=True,\n",
    "    )\n",
    "\n",
    "    fig.canvas.toolbar_visible = False\n",
    "    fig.canvas.header_visible = False\n",
    "    fig.canvas.footer_visible = False\n",
    "    if not title:\n",
    "        title = (\n",
    "            Rf\"${n_channels} \\times {n_channels}$ $K$-matrix\"\n",
    "            f\" with {n_resonances} resonances\"\n",
    "        )\n",
    "    fig.suptitle(title)\n",
    "\n",
    "    ax_2d.set_ylabel(\"$|T|^{2}$\")\n",
    "    ax_2d.set_yticks([])\n",
    "    ax_3d.set_xlabel(\"Re $m$\")\n",
    "    ax_3d.set_ylabel(\"Im $m$\")\n",
    "    ax_3d.set_xticks([])\n",
    "    ax_3d.set_yticks([])\n",
    "    ax_3d.set_facecolor(\"white\")\n",
    "\n",
    "    ax_3d.axhline(0, linewidth=0.5, c=\"black\", linestyle=\"dotted\")\n",
    "\n",
    "    # 2D plot\n",
    "    def plot(channel: int):\n",
    "        def wrapped(*args, **kwargs) -> sp.Expr:\n",
    "            kwargs[\"i\"] = channel\n",
    "            return np.abs(np_expr(*args, **kwargs)) ** 2\n",
    "\n",
    "        return wrapped\n",
    "\n",
    "    for i in range(n_channels):\n",
    "        iplt.plot(\n",
    "            plot_domain,\n",
    "            plot(i),\n",
    "            ax=ax_2d,\n",
    "            controls=controls,\n",
    "            ylim=\"auto\",\n",
    "            label=f\"channel {i}\",\n",
    "        )\n",
    "    if n_channels > 1:\n",
    "        ax_2d.legend(loc=\"upper right\")\n",
    "    mass_line_style = {\n",
    "        \"c\": \"red\",\n",
    "        \"alpha\": 0.3,\n",
    "    }\n",
    "    for name in controls.params:\n",
    "        if not name.startswith(\"m\"):\n",
    "            continue\n",
    "        iplt.axvline(controls[name], ax=ax_2d, **mass_line_style)\n",
    "\n",
    "    # 3D plot\n",
    "    color_mesh = None\n",
    "    resonances_indicators = []\n",
    "\n",
    "    def plot3(*, z_cutoff, complex_rendering, **kwargs):\n",
    "        nonlocal color_mesh\n",
    "        Z = np_expr(plot_domain_complex, **kwargs)\n",
    "        if complex_rendering == \"imag\":\n",
    "            Z_values = Z.imag\n",
    "            ax_title = \"Re $T$\"\n",
    "        elif complex_rendering == \"real\":\n",
    "            Z_values = Z.real\n",
    "            ax_title = \"Im $T$\"\n",
    "        elif complex_rendering == \"abs\":\n",
    "            Z_values = np.abs(Z)\n",
    "            ax_title = \"$|T|$\"\n",
    "        else:\n",
    "            raise NotImplementedError\n",
    "\n",
    "        if n_channels == 1:\n",
    "            ax_3d.set_title(ax_title)\n",
    "        else:\n",
    "            i = kwargs[\"i\"]\n",
    "            ax_3d.set_title(f\"{ax_title}, channel {i}\")\n",
    "\n",
    "        if color_mesh is None:\n",
    "            color_mesh = ax_3d.pcolormesh(X, Y, Z_values, cmap=plt.cm.coolwarm)\n",
    "        else:\n",
    "            color_mesh.set_array(Z_values)\n",
    "        color_mesh.set_clim(vmin=-z_cutoff, vmax=+z_cutoff)\n",
    "\n",
    "        if resonances_indicators:\n",
    "            for R, (line, text) in enumerate(resonances_indicators):\n",
    "                mass = kwargs[f\"m{R}\"]\n",
    "                line.set_xdata(mass)\n",
    "                text.set_x(mass + (x_max - x_min) * 0.008)\n",
    "        else:\n",
    "            for R in range(n_resonances):\n",
    "                mass = kwargs[f\"m{R}\"]\n",
    "                resonances_indicators.append(\n",
    "                    (\n",
    "                        ax_3d.axvline(mass, **mass_line_style),\n",
    "                        ax_3d.text(\n",
    "                            x=mass + (x_max - x_min) * 0.008,\n",
    "                            y=0.95 * y_min,\n",
    "                            s=f\"$m_{R}$\",\n",
    "                            c=\"red\",\n",
    "                        ),\n",
    "                    ),\n",
    "                )\n",
    "\n",
    "    # Create switch for imag/real/abs\n",
    "    name = \"complex_rendering\"\n",
    "    sliders._sliders[name] = ipywidgets.RadioButtons(\n",
    "        options=[\"imag\", \"real\", \"abs\"],\n",
    "        description=R\"\\(s\\)-plane plot\",\n",
    "    )\n",
    "    sliders._arg_to_symbol[name] = name\n",
    "\n",
    "    # Create cut-off slider for z-direction\n",
    "    name = \"z_cutoff\"\n",
    "    sliders._sliders[name] = ipywidgets.FloatSlider(\n",
    "        value=1.5,\n",
    "        min=0.01,\n",
    "        max=10,\n",
    "        step=0.1,\n",
    "        description=R\"\\(z\\)-cutoff\",\n",
    "    )\n",
    "    sliders._arg_to_symbol[name] = name\n",
    "\n",
    "    # Create GUI\n",
    "    sliders_copy = dict(sliders)\n",
    "    h_boxes = []\n",
    "    for R in range(n_resonances):\n",
    "        buttons = [\n",
    "            sliders_copy.pop(f\"m{R}\"),\n",
    "            sliders_copy.pop(f\"Gamma{R}\"),\n",
    "        ]\n",
    "        if n_channels == 1:\n",
    "            dummy_name = symbol_to_arg[Rf\"\\gamma_{{{R},0}}\"]\n",
    "            buttons.append(sliders_copy.pop(dummy_name))\n",
    "        h_box = ipywidgets.HBox(buttons)\n",
    "        h_boxes.append(h_box)\n",
    "    remaining_sliders = sorted(sliders_copy.values(), key=lambda s: s.description)\n",
    "    if n_channels == 1:\n",
    "        remaining_sliders.remove(sliders[\"i\"])\n",
    "    ui = ipywidgets.VBox(h_boxes + remaining_sliders)\n",
    "    output = ipywidgets.interactive_output(plot3, controls=sliders)\n",
    "    display(ui, output)"
   ]
  },
  {
   "cell_type": "code",
   "execution_count": null,
   "metadata": {
    "tags": [
     "remove-output"
    ]
   },
   "outputs": [],
   "source": [
    "plot_k_matrix(n_resonances=3, n_channels=1)"
   ]
  },
  {
   "cell_type": "markdown",
   "metadata": {},
   "source": [
    "{{ run_interactive }}\n",
    "\n",
    "![record](https://user-images.githubusercontent.com/29308176/164994739-c1d128cd-2689-4849-8fa5-5c1ca7909f21.gif)"
   ]
  },
  {
   "cell_type": "code",
   "execution_count": null,
   "metadata": {
    "tags": [
     "remove-output"
    ]
   },
   "outputs": [],
   "source": [
    "plot_k_matrix(n_resonances=2, n_channels=2)"
   ]
  },
  {
   "cell_type": "markdown",
   "metadata": {},
   "source": [
    "{{ run_interactive }}\n",
    "\n",
    "![](https://user-images.githubusercontent.com/29308176/164994885-9bc96678-bfb2-4750-8368-7651610a7b4a.gif)"
   ]
  }
 ],
 "metadata": {
  "colab": {
   "toc_visible": true
  },
  "kernelspec": {
   "display_name": "Python 3 (ipykernel)",
   "language": "python",
   "name": "python3"
  },
  "language_info": {
   "codemirror_mode": {
    "name": "ipython",
    "version": 3
   },
   "file_extension": ".py",
   "mimetype": "text/x-python",
   "name": "python",
   "nbconvert_exporter": "python",
   "pygments_lexer": "ipython3",
   "version": "3.12.6"
  }
 },
 "nbformat": 4,
 "nbformat_minor": 4
}
