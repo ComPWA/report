{
 "cells": [
  {
   "cell_type": "markdown",
   "metadata": {},
   "source": [
    "```{autolink-concat}\n",
    "```"
   ]
  },
  {
   "cell_type": "markdown",
   "metadata": {
    "tags": [
     "physics"
    ]
   },
   "source": [
    "::::{margin}\n",
    ":::{card} Spin alignment with data\n",
    "TR-013\n",
    "^^^\n",
    "In this report, we attempt to check the effect of activating spin alignment ([ampform#245](https://github.com/ComPWA/ampform/pull/245)) and compare it with [Figure 2](https://downloads.hindawi.com/journals/ahep/2020/6674595.pdf#page=9)  in {cite}`Marangotto:2019ucc`.\n",
    "\n",
    "See also [TR-014](014.ipynb) and [TR-015](015.ipynb).\n",
    "+++\n",
    "WIP\n",
    ":::\n",
    "::::"
   ]
  },
  {
   "cell_type": "markdown",
   "metadata": {},
   "source": [
    "# Spin alignment with data"
   ]
  },
  {
   "cell_type": "code",
   "execution_count": null,
   "metadata": {
    "tags": [
     "remove-cell"
    ]
   },
   "outputs": [],
   "source": [
    "%pip install -q ampform==0.13.3 qrules[viz]==0.9.7 tensorwaves[jax,pwa]==0.4.8"
   ]
  },
  {
   "cell_type": "code",
   "execution_count": null,
   "metadata": {
    "jupyter": {
     "source_hidden": true
    },
    "tags": [
     "hide-cell"
    ]
   },
   "outputs": [],
   "source": [
    "%config InlineBackend.figure_formats = ['svg']\n",
    "\n",
    "import logging\n",
    "import warnings\n",
    "\n",
    "from IPython.display import display\n",
    "\n",
    "LOGGER = logging.getLogger()\n",
    "LOGGER.setLevel(logging.ERROR)\n",
    "warnings.filterwarnings(\"ignore\")"
   ]
  },
  {
   "cell_type": "markdown",
   "metadata": {},
   "source": [
    "## Phase space sample"
   ]
  },
  {
   "cell_type": "code",
   "execution_count": null,
   "metadata": {
    "jupyter": {
     "source_hidden": true
    },
    "tags": [
     "hide-cell"
    ]
   },
   "outputs": [],
   "source": [
    "import qrules\n",
    "\n",
    "PDG = qrules.load_pdg()"
   ]
  },
  {
   "cell_type": "code",
   "execution_count": null,
   "metadata": {},
   "outputs": [],
   "source": [
    "from tensorwaves.data import TFPhaseSpaceGenerator, TFUniformRealNumberGenerator\n",
    "\n",
    "phsp_generator = TFPhaseSpaceGenerator(\n",
    "    initial_state_mass=PDG[\"Lambda(c)+\"].mass,\n",
    "    final_state_masses={\n",
    "        0: PDG[\"p\"].mass,\n",
    "        1: PDG[\"K-\"].mass,\n",
    "        2: PDG[\"pi+\"].mass,\n",
    "    },\n",
    ")\n",
    "rng = TFUniformRealNumberGenerator(seed=0)\n",
    "phsp_momenta = phsp_generator.generate(1_000_000, rng)"
   ]
  },
  {
   "cell_type": "markdown",
   "metadata": {},
   "source": [
    "## Generate transitions"
   ]
  },
  {
   "cell_type": "code",
   "execution_count": null,
   "metadata": {
    "jupyter": {
     "source_hidden": true
    },
    "tags": [
     "hide-cell"
    ]
   },
   "outputs": [],
   "source": [
    "from qrules.particle import ParticleCollection, create_particle\n",
    "\n",
    "particle_db = ParticleCollection()\n",
    "particle_db.add(PDG[\"Lambda(c)+\"])\n",
    "particle_db.add(PDG[\"p\"])\n",
    "particle_db.add(PDG[\"K-\"])\n",
    "particle_db.add(PDG[\"pi+\"])\n",
    "\n",
    "particle_db.add(\n",
    "    create_particle(\n",
    "        PDG[\"K*(892)0\"],\n",
    "        name=\"K*\",\n",
    "        latex=\"K^*\",\n",
    "    )\n",
    ")\n",
    "particle_db.add(\n",
    "    create_particle(\n",
    "        PDG[\"Lambda(1405)\"],\n",
    "        name=\"Lambda*\",\n",
    "        latex=R\"\\Lambda^*\",\n",
    "    )\n",
    ")\n",
    "particle_db.add(\n",
    "    create_particle(\n",
    "        PDG[\"Delta(1232)++\"],\n",
    "        name=\"Delta*++\",\n",
    "        latex=R\"\\Delta^*\",\n",
    "    )\n",
    ")"
   ]
  },
  {
   "cell_type": "code",
   "execution_count": null,
   "metadata": {},
   "outputs": [],
   "source": [
    "reaction = qrules.generate_transitions(\n",
    "    initial_state=(\"Lambda(c)+\", [-0.5, +0.5]),\n",
    "    final_state=[\"p\", \"K-\", \"pi+\"],\n",
    "    formalism=\"helicity\",\n",
    "    particle_db=particle_db,\n",
    ")"
   ]
  },
  {
   "cell_type": "code",
   "execution_count": null,
   "metadata": {
    "jupyter": {
     "source_hidden": true
    },
    "tags": [
     "hide-input",
     "remove-output"
    ]
   },
   "outputs": [],
   "source": [
    "import graphviz\n",
    "\n",
    "n = len(reaction.transitions)\n",
    "for i, t in enumerate(reaction.transitions[:: n // 3]):\n",
    "    dot = qrules.io.asdot([t], collapse_graphs=True, size=3.5)\n",
    "    graph = graphviz.Source(dot)\n",
    "    graph.render(f\"013-graph{i}\", format=\"svg\")\n",
    "    display(graph)"
   ]
  },
  {
   "cell_type": "markdown",
   "metadata": {},
   "source": [
    "```{container} full-width\n",
    "![013_12_0](https://user-images.githubusercontent.com/29308176/164991353-d3228bee-4ce7-40f6-87c1-4ec9babba238.svg)\n",
    "![013_12_1](https://user-images.githubusercontent.com/29308176/164991356-98885719-874c-486f-b70b-58e8cd2d9b09.svg)\n",
    "![013_12_2](https://user-images.githubusercontent.com/29308176/164991358-c2b5e5f3-4b62-433e-af4b-fff44ad0822b.svg)\n",
    "```"
   ]
  },
  {
   "cell_type": "markdown",
   "metadata": {},
   "source": [
    "## Distribution without alignment"
   ]
  },
  {
   "cell_type": "markdown",
   "metadata": {},
   "source": [
    "Amplitude model formulated following [Appendix C](https://downloads.hindawi.com/journals/ahep/2020/6674595.pdf#page=13):"
   ]
  },
  {
   "cell_type": "code",
   "execution_count": null,
   "metadata": {
    "tags": [
     "keep_output"
    ]
   },
   "outputs": [
    {
     "data": {
      "text/latex": [
       "$\\displaystyle \\sum_{m_{A}=-1/2}^{1/2} \\sum_{m_{0}=-1/2}^{1/2} \\sum_{m_{1}=0} \\sum_{m_{2}=0}{\\left|{{A^{01}}_{m_{A},m_{0},m_{1},m_{2}} + {A^{02}}_{m_{A},m_{0},m_{1},m_{2}} + {A^{12}}_{m_{A},m_{0},m_{1},m_{2}}}\\right|^{2}}$"
      ],
      "text/plain": [
       "PoolSum(Abs(A^01[m_A, m0, m1, m2] + A^02[m_A, m0, m1, m2] + A^12[m_A, m0, m1, m2])**2, (m_A, (1/2, -1/2)), (m0, (1/2, -1/2)), (m1, (0,)), (m2, (0,)))"
      ]
     },
     "execution_count": null,
     "metadata": {},
     "output_type": "execute_result"
    }
   ],
   "source": [
    "import ampform\n",
    "from ampform.dynamics.builder import RelativisticBreitWignerBuilder\n",
    "\n",
    "builder = ampform.get_builder(reaction)\n",
    "builder.align_spin = False\n",
    "builder.stable_final_state_ids = list(reaction.final_state)\n",
    "builder.scalar_initial_state_mass = True\n",
    "bw_builder = RelativisticBreitWignerBuilder()\n",
    "for name in reaction.get_intermediate_particles().names:\n",
    "    builder.set_dynamics(name, bw_builder)\n",
    "standard_model = builder.formulate()\n",
    "standard_model.intensity"
   ]
  },
  {
   "cell_type": "code",
   "execution_count": null,
   "metadata": {
    "jupyter": {
     "source_hidden": true
    },
    "tags": [
     "hide-input",
     "full-width"
    ]
   },
   "outputs": [],
   "source": [
    "import sympy as sp\n",
    "from IPython.display import Math, display\n",
    "\n",
    "for i, (symbol, expr) in enumerate(standard_model.amplitudes.items()):\n",
    "    if i == 3:\n",
    "        display(Math(R\"\\dots\"))\n",
    "        break\n",
    "    latex = sp.multiline_latex(symbol, expr, environment=\"eqnarray\")\n",
    "    display(Math(latex))"
   ]
  },
  {
   "cell_type": "markdown",
   "metadata": {},
   "source": [
    "Importing the parameter values given by [Table 1](https://downloads.hindawi.com/journals/ahep/2020/6674595.pdf#page=13):"
   ]
  },
  {
   "cell_type": "code",
   "execution_count": null,
   "metadata": {
    "jupyter": {
     "source_hidden": true
    },
    "tags": [
     "full-width",
     "hide-cell"
    ]
   },
   "outputs": [],
   "source": [
    "from ampform.helicity import HelicityModel\n",
    "\n",
    "# fmt: off\n",
    "parameter_table = {\n",
    "    # K*\n",
    "    R\"C_{\\Lambda_{c}^{+} \\to K^*_{0} p_{+1/2}; K^* \\to K^{-}_{0} \\pi^{+}_{0}}\": 1,\n",
    "    R\"C_{\\Lambda_{c}^{+} \\to K^*_{+1} p_{+1/2}; K^* \\to K^{-}_{0} \\pi^{+}_{0}}\": 0.5 + 0.5j,\n",
    "    R\"C_{\\Lambda_{c}^{+} \\to K^*_{-1} p_{-1/2}; K^* \\to K^{-}_{0} \\pi^{+}_{0}}\": 1j,\n",
    "    R\"C_{\\Lambda_{c}^{+} \\to K^*_{0} p_{-1/2}; K^* \\to K^{-}_{0} \\pi^{+}_{0}}\": -0.5 - 0.5j,\n",
    "    \"m_{K^*}\": 0.9,  # GeV\n",
    "    R\"\\Gamma_{K^*}\": 0.2,  # GeV\n",
    "    # Λ*\n",
    "    R\"C_{\\Lambda_{c}^{+} \\to \\Lambda^*_{-1/2} \\pi^{+}_{0}; \\Lambda^* \\to K^{-}_{0} p_{+1/2}}\": 1j,\n",
    "    R\"C_{\\Lambda_{c}^{+} \\to \\Lambda^*_{+1/2} \\pi^{+}_{0}; \\Lambda^* \\to K^{-}_{0} p_{+1/2}}\": 0.8 - 0.4j,\n",
    "    R\"m_{\\Lambda^*}\": 1.6,  # GeV\n",
    "    R\"\\Gamma_{\\Lambda^*}\": 0.2,  # GeV\n",
    "    # Δ*\n",
    "    R\"C_{\\Lambda_{c}^{+} \\to \\Delta^*_{+1/2} K^{-}_{0}; \\Delta^* \\to p_{+1/2} \\pi^{+}_{0}}\": 0.6 - 0.4j,\n",
    "    R\"C_{\\Lambda_{c}^{+} \\to \\Delta^*_{-1/2} K^{-}_{0}; \\Delta^* \\to p_{+1/2} \\pi^{+}_{0}}\": 0.1j,\n",
    "    R\"m_{\\Delta^*}\": 1.4,  # GeV\n",
    "    R\"\\Gamma_{\\Delta^*}\": 0.2,  # GeV\n",
    "}\n",
    "# fmt: on\n",
    "\n",
    "\n",
    "def set_coefficients(model: HelicityModel) -> None:\n",
    "    for name, value in parameter_table.items():\n",
    "        model.parameter_defaults[name] = value"
   ]
  },
  {
   "cell_type": "code",
   "execution_count": null,
   "metadata": {
    "jupyter": {
     "source_hidden": true
    },
    "tags": [
     "hide-input",
     "keep_output"
    ]
   },
   "outputs": [
    {
     "data": {
      "text/latex": [
       "$\\displaystyle \\begin{array}{lc}\n",
       "  C_{\\Lambda_{c}^{+} \\to K^*_{0} p_{+1/2}; K^* \\to K^{-}_{0} \\pi^{+}_{0}} & 1 \\\\\n",
       "  C_{\\Lambda_{c}^{+} \\to K^*_{+1} p_{+1/2}; K^* \\to K^{-}_{0} \\pi^{+}_{0}} & 0.5+0.5i \\\\\n",
       "  C_{\\Lambda_{c}^{+} \\to K^*_{-1} p_{-1/2}; K^* \\to K^{-}_{0} \\pi^{+}_{0}} & 1i \\\\\n",
       "  C_{\\Lambda_{c}^{+} \\to K^*_{0} p_{-1/2}; K^* \\to K^{-}_{0} \\pi^{+}_{0}} & -0.5-0.5i \\\\\n",
       "  m_{K^*} & 0.9 \\\\\n",
       "  \\Gamma_{K^*} & 0.2 \\\\\n",
       "  C_{\\Lambda_{c}^{+} \\to \\Lambda^*_{-1/2} \\pi^{+}_{0}; \\Lambda^* \\to K^{-}_{0} p_{+1/2}} & 1i \\\\\n",
       "  C_{\\Lambda_{c}^{+} \\to \\Lambda^*_{+1/2} \\pi^{+}_{0}; \\Lambda^* \\to K^{-}_{0} p_{+1/2}} & 0.8-0.4i \\\\\n",
       "  m_{\\Lambda^*} & 1.6 \\\\\n",
       "  \\Gamma_{\\Lambda^*} & 0.2 \\\\\n",
       "  C_{\\Lambda_{c}^{+} \\to \\Delta^*_{+1/2} K^{-}_{0}; \\Delta^* \\to p_{+1/2} \\pi^{+}_{0}} & 0.6-0.4i \\\\\n",
       "  C_{\\Lambda_{c}^{+} \\to \\Delta^*_{-1/2} K^{-}_{0}; \\Delta^* \\to p_{+1/2} \\pi^{+}_{0}} & 0.1i \\\\\n",
       "  m_{\\Delta^*} & 1.4 \\\\\n",
       "  \\Gamma_{\\Delta^*} & 0.2 \\\\\n",
       "\\end{array}$"
      ],
      "text/plain": [
       "<IPython.core.display.Math object>"
      ]
     },
     "execution_count": null,
     "metadata": {},
     "output_type": "execute_result"
    }
   ],
   "source": [
    "set_coefficients(standard_model)\n",
    "\n",
    "latex = R\"\\begin{array}{lc}\" + \"\\n\"\n",
    "for par_name, value in parameter_table.items():\n",
    "    value = str(value).lstrip(\"(\").rstrip(\")\").replace(\"j\", \"i\")\n",
    "    symbol = sp.Symbol(par_name)\n",
    "    latex += Rf\"  {sp.latex(symbol)} & {value} \\\\\" + \"\\n\"\n",
    "latex += R\"\\end{array}\"\n",
    "Math(latex)"
   ]
  },
  {
   "cell_type": "markdown",
   "metadata": {},
   "source": [
    "### Generate data"
   ]
  },
  {
   "cell_type": "code",
   "execution_count": null,
   "metadata": {
    "jupyter": {
     "source_hidden": true
    },
    "tags": [
     "hide-cell"
    ]
   },
   "outputs": [],
   "source": [
    "import matplotlib.pyplot as plt\n",
    "import numpy as np\n",
    "from tensorwaves.data import SympyDataTransformer\n",
    "from tensorwaves.function.sympy import create_function\n",
    "\n",
    "\n",
    "def compute_sub_intensities(\n",
    "    model: HelicityModel, resonance_name: str, phsp, full_expression\n",
    ") -> np.ndarray:\n",
    "    parameter_values = {}\n",
    "    for symbol, value in model.parameter_defaults.items():\n",
    "        if resonance_name not in symbol.name and symbol.name.startswith(\"C\"):\n",
    "            parameter_values[symbol] = 0\n",
    "        else:\n",
    "            parameter_values[symbol] = value\n",
    "    sub_expression = full_expression.subs(parameter_values)\n",
    "    sub_intensity = create_function(sub_expression, backend=\"jax\")\n",
    "    return np.array(sub_intensity(phsp).real)\n",
    "\n",
    "\n",
    "def plot_distributions(model: HelicityModel) -> None:\n",
    "    helicity_transformer = SympyDataTransformer.from_sympy(\n",
    "        model.kinematic_variables, backend=\"jax\"\n",
    "    )\n",
    "    phsp = helicity_transformer(phsp_momenta)\n",
    "    phsp = {k: v.real for k, v in phsp.items()}\n",
    "\n",
    "    full_expression = model.expression.doit()\n",
    "    substituted_expression = full_expression.xreplace(model.parameter_defaults)\n",
    "    intensity_func = create_function(substituted_expression, backend=\"jax\")\n",
    "    intensities_all = np.array(intensity_func(phsp).real)\n",
    "    intensities_k = compute_sub_intensities(model, \"K^*\", phsp, full_expression)\n",
    "    intensities_delta = compute_sub_intensities(model, \"Delta^*\", phsp, full_expression)\n",
    "    intensities_lambda = compute_sub_intensities(\n",
    "        model, \"Lambda^*\", phsp, full_expression\n",
    "    )\n",
    "\n",
    "    fig, ax = plt.subplots(nrows=2, ncols=3, figsize=(8, 5))\n",
    "    hist_kwargs = {\n",
    "        \"bins\": 80,\n",
    "        \"histtype\": \"step\",\n",
    "    }\n",
    "\n",
    "    for x in ax.flatten():\n",
    "        x.set_yticks([])\n",
    "\n",
    "    ax[0, 0].set_xlabel(\"$m^2(pK^-)$ [GeV$^2/c^4$]\")\n",
    "    ax[0, 1].set_xlabel(R\"$m^2(K^-\\pi^+)$ [GeV$^2/c^4$]\")\n",
    "    ax[0, 2].set_xlabel(R\"$m^2(p\\pi^+)$ [GeV$^2/c^4$]\")\n",
    "    ax[1, 0].set_xlabel(R\"$\\cos\\theta(p)$\")\n",
    "    ax[1, 1].set_xlabel(R\"$\\phi(p)$\")\n",
    "    ax[1, 2].set_xlabel(R\"$\\chi$\")\n",
    "\n",
    "    for x, xticks in {\n",
    "        ax[0, 0]: [2, 2.5, 3, 3.5, 4, 4.5],\n",
    "        ax[0, 1]: [0.4, 0.6, 0.8, 1, 1.2, 1.4, 1.6, 1.8, 2],\n",
    "        ax[0, 2]: [1, 1.5, 2, 2.5, 3],\n",
    "        ax[1, 0]: [-1, -0.5, 0, 0.5, 1],\n",
    "        ax[1, 1]: [-3, -2, -1, 0, 1, 2, 3],\n",
    "    }.items():\n",
    "        x.set_xticks(xticks)\n",
    "        x.set_xticklabels(xticks)\n",
    "\n",
    "    for weights, color, label in [\n",
    "        (intensities_all, \"red\", \"Model\"),\n",
    "        (intensities_k, \"orange\", R\"$K^*\\to\\,K^{^-}\\pi^+$\"),\n",
    "        (intensities_delta, \"brown\", R\"$\\Delta^{*^{++}} \\to\\,p\\pi^+$\"),\n",
    "        (intensities_lambda, \"purple\", R\"$\\Lambda^* \\to\\,p K^{^-}$\"),\n",
    "    ]:\n",
    "        kwargs = dict(weights=weights, color=color, **hist_kwargs)\n",
    "        ax[0, 0].hist(np.array(phsp[\"m_01\"] ** 2), **kwargs)\n",
    "        ax[0, 1].hist(np.array(phsp[\"m_12\"] ** 2), **kwargs)\n",
    "        ax[0, 2].hist(np.array(phsp[\"m_02\"] ** 2), **kwargs)\n",
    "        ax[1, 0].hist(np.array(np.cos(phsp[\"theta_01\"])), **kwargs)\n",
    "        ax[1, 1].hist(np.array(phsp[\"phi_01\"]), **kwargs, label=label)\n",
    "\n",
    "    ax[1, 2].remove()\n",
    "    handles, labels = ax[1, 1].get_legend_handles_labels()\n",
    "    fig.legend(handles, labels, loc=\"lower right\")\n",
    "\n",
    "    ax[0, 2].set_xlim(1, 3.4)\n",
    "    ax[1, 0].set_xlim(-1, +1)\n",
    "    ax[1, 1].set_xlim(-np.pi, +np.pi)\n",
    "\n",
    "    fig.tight_layout()\n",
    "\n",
    "    plt.show()"
   ]
  },
  {
   "cell_type": "markdown",
   "metadata": {},
   "source": [
    ":::{warning}\n",
    "\n",
    "It takes several minutes to lambdify the full expression and expressions for the Wigner rotation angles.\n",
    "\n",
    ":::"
   ]
  },
  {
   "cell_type": "code",
   "execution_count": null,
   "metadata": {
    "tags": [
     "hide-input",
     "remove-output"
    ]
   },
   "outputs": [],
   "source": [
    "plot_distributions(standard_model)"
   ]
  },
  {
   "cell_type": "markdown",
   "metadata": {},
   "source": [
    "![013_23_0](https://user-images.githubusercontent.com/29308176/164991359-ee679063-0571-4beb-9ff4-b15e6dbf65a0.svg)"
   ]
  },
  {
   "cell_type": "markdown",
   "metadata": {},
   "source": [
    "## Spin alignment sum"
   ]
  },
  {
   "cell_type": "markdown",
   "metadata": {},
   "source": [
    "Now, with the spin alignment sum from [ampform#245](https://github.com/ComPWA/ampform/pull/245) inserted:"
   ]
  },
  {
   "cell_type": "code",
   "execution_count": null,
   "metadata": {
    "tags": [
     "full-width",
     "keep_output"
    ]
   },
   "outputs": [
    {
     "data": {
      "text/latex": [
       "$\\displaystyle \\sum_{m_{A}=-1/2}^{1/2} \\sum_{m_{0}=-1/2}^{1/2} \\sum_{m_{1}=0} \\sum_{m_{2}=0}{\\left|{\\sum_{\\lambda^{01}_{0}=-1/2}^{1/2} \\sum_{\\mu^{01}_{0}=-1/2}^{1/2} \\sum_{\\nu^{01}_{0}=-1/2}^{1/2} \\sum_{\\lambda^{01}_{1}=0} \\sum_{\\mu^{01}_{1}=0} \\sum_{\\nu^{01}_{1}=0} \\sum_{\\lambda^{01}_{2}=0}{{A^{01}}_{m_{A},\\lambda^{01}_{0},- \\lambda^{01}_{1},- \\lambda^{01}_{2}} D^{0}_{m_{1},\\nu^{01}_{1}}\\left(\\alpha^{01}_{1},\\beta^{01}_{1},\\gamma^{01}_{1}\\right) D^{0}_{m_{2},\\lambda^{01}_{2}}\\left(\\phi_{01},\\theta_{01},0\\right) D^{0}_{\\mu^{01}_{1},\\lambda^{01}_{1}}\\left(\\phi^{01}_{0},\\theta^{01}_{0},0\\right) D^{0}_{\\nu^{01}_{1},\\mu^{01}_{1}}\\left(\\phi_{01},\\theta_{01},0\\right) D^{\\frac{1}{2}}_{m_{0},\\nu^{01}_{0}}\\left(\\alpha^{01}_{0},\\beta^{01}_{0},\\gamma^{01}_{0}\\right) D^{\\frac{1}{2}}_{\\mu^{01}_{0},\\lambda^{01}_{0}}\\left(\\phi^{01}_{0},\\theta^{01}_{0},0\\right) D^{\\frac{1}{2}}_{\\nu^{01}_{0},\\mu^{01}_{0}}\\left(\\phi_{01},\\theta_{01},0\\right)} + \\sum_{\\lambda^{02}_{0}=-1/2}^{1/2} \\sum_{\\mu^{02}_{0}=-1/2}^{1/2} \\sum_{\\nu^{02}_{0}=-1/2}^{1/2} \\sum_{\\lambda^{02}_{1}=0} \\sum_{\\lambda^{02}_{2}=0} \\sum_{\\mu^{02}_{2}=0} \\sum_{\\nu^{02}_{2}=0}{{A^{02}}_{m_{A},\\lambda^{02}_{0},- \\lambda^{02}_{1},- \\lambda^{02}_{2}} D^{0}_{m_{1},\\lambda^{02}_{1}}\\left(\\phi_{02},\\theta_{02},0\\right) D^{0}_{m_{2},\\nu^{02}_{2}}\\left(\\alpha^{02}_{2},\\beta^{02}_{2},\\gamma^{02}_{2}\\right) D^{0}_{\\mu^{02}_{2},\\lambda^{02}_{2}}\\left(\\phi^{02}_{0},\\theta^{02}_{0},0\\right) D^{0}_{\\nu^{02}_{2},\\mu^{02}_{2}}\\left(\\phi_{02},\\theta_{02},0\\right) D^{\\frac{1}{2}}_{m_{0},\\nu^{02}_{0}}\\left(\\alpha^{02}_{0},\\beta^{02}_{0},\\gamma^{02}_{0}\\right) D^{\\frac{1}{2}}_{\\mu^{02}_{0},\\lambda^{02}_{0}}\\left(\\phi^{02}_{0},\\theta^{02}_{0},0\\right) D^{\\frac{1}{2}}_{\\nu^{02}_{0},\\mu^{02}_{0}}\\left(\\phi_{02},\\theta_{02},0\\right)} + \\sum_{\\lambda^{12}_{0}=-1/2}^{1/2} \\sum_{\\lambda^{12}_{1}=0} \\sum_{\\mu^{12}_{1}=0} \\sum_{\\nu^{12}_{1}=0} \\sum_{\\lambda^{12}_{2}=0} \\sum_{\\mu^{12}_{2}=0} \\sum_{\\nu^{12}_{2}=0}{{A^{12}}_{m_{A},\\lambda^{12}_{0},\\lambda^{12}_{1},- \\lambda^{12}_{2}} D^{0}_{m_{1},\\nu^{12}_{1}}\\left(\\alpha^{12}_{1},\\beta^{12}_{1},\\gamma^{12}_{1}\\right) D^{0}_{m_{2},\\nu^{12}_{2}}\\left(\\alpha^{12}_{2},\\beta^{12}_{2},\\gamma^{12}_{2}\\right) D^{0}_{\\mu^{12}_{1},\\lambda^{12}_{1}}\\left(\\phi^{12}_{1},\\theta^{12}_{1},0\\right) D^{0}_{\\mu^{12}_{2},\\lambda^{12}_{2}}\\left(\\phi^{12}_{1},\\theta^{12}_{1},0\\right) D^{0}_{\\nu^{12}_{1},\\mu^{12}_{1}}\\left(\\phi_{0},\\theta_{0},0\\right) D^{0}_{\\nu^{12}_{2},\\mu^{12}_{2}}\\left(\\phi_{0},\\theta_{0},0\\right) D^{\\frac{1}{2}}_{m_{0},\\lambda^{12}_{0}}\\left(\\phi_{0},\\theta_{0},0\\right)}}\\right|^{2}}$"
      ],
      "text/plain": [
       "PoolSum(Abs(PoolSum(A^01[m_A, lambda_0^01, -lambda_1^01, -lambda_2^01]*WignerD(0, m1, nu_1^01, alpha_1^01, beta_1^01, gamma_1^01)*WignerD(0, m2, lambda_2^01, phi_01, theta_01, 0)*WignerD(0, mu_1^01, lambda_1^01, phi_0^01, theta_0^01, 0)*WignerD(0, nu_1^01, mu_1^01, phi_01, theta_01, 0)*WignerD(1/2, m0, nu_0^01, alpha_0^01, beta_0^01, gamma_0^01)*WignerD(1/2, mu_0^01, lambda_0^01, phi_0^01, theta_0^01, 0)*WignerD(1/2, nu_0^01, mu_0^01, phi_01, theta_01, 0), (lambda_0^01, (-1/2, 1/2)), (mu_0^01, (-1/2, 1/2)), (nu_0^01, (-1/2, 1/2)), (lambda_1^01, (0,)), (mu_1^01, (0,)), (nu_1^01, (0,)), (lambda_2^01, (0,))) + PoolSum(A^02[m_A, lambda_0^02, -lambda_1^02, -lambda_2^02]*WignerD(0, m1, lambda_1^02, phi_02, theta_02, 0)*WignerD(0, m2, nu_2^02, alpha_2^02, beta_2^02, gamma_2^02)*WignerD(0, mu_2^02, lambda_2^02, phi_0^02, theta_0^02, 0)*WignerD(0, nu_2^02, mu_2^02, phi_02, theta_02, 0)*WignerD(1/2, m0, nu_0^02, alpha_0^02, beta_0^02, gamma_0^02)*WignerD(1/2, mu_0^02, lambda_0^02, phi_0^02, theta_0^02, 0)*WignerD(1/2, nu_0^02, mu_0^02, phi_02, theta_02, 0), (lambda_0^02, (-1/2, 1/2)), (mu_0^02, (-1/2, 1/2)), (nu_0^02, (-1/2, 1/2)), (lambda_1^02, (0,)), (lambda_2^02, (0,)), (mu_2^02, (0,)), (nu_2^02, (0,))) + PoolSum(A^12[m_A, lambda_0^12, lambda_1^12, -lambda_2^12]*WignerD(0, m1, nu_1^12, alpha_1^12, beta_1^12, gamma_1^12)*WignerD(0, m2, nu_2^12, alpha_2^12, beta_2^12, gamma_2^12)*WignerD(0, mu_1^12, lambda_1^12, phi_1^12, theta_1^12, 0)*WignerD(0, mu_2^12, lambda_2^12, phi_1^12, theta_1^12, 0)*WignerD(0, nu_1^12, mu_1^12, phi_0, theta_0, 0)*WignerD(0, nu_2^12, mu_2^12, phi_0, theta_0, 0)*WignerD(1/2, m0, lambda_0^12, phi_0, theta_0, 0), (lambda_0^12, (-1/2, 1/2)), (lambda_1^12, (0,)), (mu_1^12, (0,)), (nu_1^12, (0,)), (lambda_2^12, (0,)), (mu_2^12, (0,)), (nu_2^12, (0,))))**2, (m_A, (1/2, -1/2)), (m0, (1/2, -1/2)), (m1, (0,)), (m2, (0,)))"
      ]
     },
     "execution_count": null,
     "metadata": {},
     "output_type": "execute_result"
    }
   ],
   "source": [
    "builder.align_spin = True\n",
    "aligned_model = builder.formulate()\n",
    "set_coefficients(aligned_model)\n",
    "aligned_model.intensity"
   ]
  },
  {
   "cell_type": "code",
   "execution_count": null,
   "metadata": {
    "tags": [
     "hide-input",
     "remove-output"
    ]
   },
   "outputs": [],
   "source": [
    "plot_distributions(aligned_model)"
   ]
  },
  {
   "cell_type": "markdown",
   "metadata": {},
   "source": [
    "![013_28_0](https://user-images.githubusercontent.com/29308176/164991360-35450331-9174-4abe-9715-0a07dbb164ac.svg)\n",
    "\n",
    "Compare with [Figure 2](https://downloads.hindawi.com/journals/ahep/2020/6674595.pdf#page=9). Note that the distributions differ close to threshold, because the distributions in the paper are produced [with form factors](https://ampform.readthedocs.io/en/0.12.x/api/ampform.dynamics.html#ampform.dynamics.relativistic_breit_wigner_with_ff) and an [energy-dependent width](https://ampform.readthedocs.io/en/0.12.x/api/ampform.dynamics.html#ampform.dynamics.EnergyDependentWidth)."
   ]
  }
 ],
 "metadata": {
  "colab": {
   "toc_visible": true
  },
  "kernelspec": {
   "display_name": "Python 3 (ipykernel)",
   "language": "python",
   "name": "python3"
  },
  "language_info": {
   "codemirror_mode": {
    "name": "ipython",
    "version": 3
   },
   "file_extension": ".py",
   "mimetype": "text/x-python",
   "name": "python",
   "nbconvert_exporter": "python",
   "pygments_lexer": "ipython3",
   "version": "3.12.6"
  }
 },
 "nbformat": 4,
 "nbformat_minor": 4
}
