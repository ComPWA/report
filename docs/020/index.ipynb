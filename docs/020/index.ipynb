{
 "cells": [
  {
   "cell_type": "markdown",
   "metadata": {},
   "source": [
    "```{autolink-concat}\n",
    "```"
   ]
  },
  {
   "cell_type": "markdown",
   "metadata": {
    "tags": [
     "physics",
     "sympy",
     "tensorwaves"
    ]
   },
   "source": [
    "::::{margin}\n",
    ":::{card} Amplitude analysis with zfit\n",
    "TR-020\n",
    "^^^\n",
    "This reports builds a [simple symbolic amplitude model](https://tensorwaves.readthedocs.io/en/0.4.5/amplitude-analysis.html) with {mod}`qrules` and {mod}`ampform` and feeds it to [zfit](https://zfit.rtfd.io) instead of {mod}`tensorwaves`.\n",
    "+++\n",
    "✅&nbsp;[compwa.github.io#151](https://github.com/ComPWA/compwa.github.io/issues/151)<br>\n",
    "WIP&nbsp;[ComPWA/.github#14](https://github.com/ComPWA/.github/issues/14)\n",
    ":::\n",
    "::::"
   ]
  },
  {
   "cell_type": "markdown",
   "metadata": {},
   "source": [
    "# Amplitude analysis with zfit"
   ]
  },
  {
   "cell_type": "code",
   "execution_count": null,
   "metadata": {
    "jupyter": {
     "source_hidden": true
    },
    "tags": [
     "hide-cell"
    ]
   },
   "outputs": [],
   "source": [
    "%config InlineBackend.figure_formats = ['svg']\n",
    "\n",
    "import logging\n",
    "import os\n",
    "import warnings\n",
    "\n",
    "JAX_LOGGER = logging.getLogger(\"absl\")\n",
    "JAX_LOGGER.setLevel(logging.ERROR)\n",
    "os.environ[\"TF_CPP_MIN_LOG_LEVEL\"] = \"3\"\n",
    "warnings.simplefilter(\"ignore\", UserWarning)\n",
    "warnings.filterwarnings(\"ignore\")"
   ]
  },
  {
   "cell_type": "markdown",
   "metadata": {},
   "source": [
    "## Formulating the model"
   ]
  },
  {
   "cell_type": "code",
   "execution_count": null,
   "metadata": {},
   "outputs": [],
   "source": [
    "import qrules\n",
    "\n",
    "reaction = qrules.generate_transitions(\n",
    "    initial_state=(\"J/psi(1S)\", [-1, +1]),\n",
    "    final_state=[\"gamma\", \"pi0\", \"pi0\"],\n",
    "    allowed_intermediate_particles=[\"f(0)\"],\n",
    "    allowed_interaction_types=[\"strong\", \"EM\"],\n",
    "    formalism=\"helicity\",\n",
    ")"
   ]
  },
  {
   "cell_type": "code",
   "execution_count": null,
   "metadata": {
    "jupyter": {
     "source_hidden": true
    },
    "tags": [
     "remove-output",
     "hide-input"
    ]
   },
   "outputs": [],
   "source": [
    "import graphviz\n",
    "\n",
    "dot = qrules.io.asdot(reaction, collapse_graphs=True)\n",
    "graphviz.Source(dot)"
   ]
  },
  {
   "cell_type": "markdown",
   "metadata": {},
   "source": [
    "![image](https://user-images.githubusercontent.com/29308176/194346498-ff9b9379-90f1-4348-81ba-d5a57ddccc83.png)"
   ]
  },
  {
   "cell_type": "code",
   "execution_count": null,
   "metadata": {},
   "outputs": [],
   "source": [
    "import ampform\n",
    "from ampform.dynamics.builder import (\n",
    "    create_non_dynamic_with_ff,\n",
    "    create_relativistic_breit_wigner_with_ff,\n",
    ")\n",
    "\n",
    "model_builder = ampform.get_builder(reaction)\n",
    "model_builder.scalar_initial_state_mass = True\n",
    "model_builder.stable_final_state_ids = [0, 1, 2]\n",
    "model_builder.set_dynamics(\"J/psi(1S)\", create_non_dynamic_with_ff)\n",
    "for name in reaction.get_intermediate_particles().names:\n",
    "    model_builder.set_dynamics(name, create_relativistic_breit_wigner_with_ff)\n",
    "model = model_builder.formulate()"
   ]
  },
  {
   "cell_type": "markdown",
   "metadata": {},
   "source": [
    "## Generate data"
   ]
  },
  {
   "cell_type": "markdown",
   "metadata": {},
   "source": [
    "### Phase space sample"
   ]
  },
  {
   "cell_type": "code",
   "execution_count": null,
   "metadata": {},
   "outputs": [],
   "source": [
    "from tensorwaves.data import TFPhaseSpaceGenerator, TFUniformRealNumberGenerator\n",
    "\n",
    "rng = TFUniformRealNumberGenerator(seed=0)\n",
    "phsp_generator = TFPhaseSpaceGenerator(\n",
    "    initial_state_mass=reaction.initial_state[-1].mass,\n",
    "    final_state_masses={i: p.mass for i, p in reaction.final_state.items()},\n",
    ")\n",
    "phsp_momenta = phsp_generator.generate(100_000, rng)"
   ]
  },
  {
   "cell_type": "markdown",
   "metadata": {},
   "source": [
    "### Intensity-based sample"
   ]
  },
  {
   "cell_type": "code",
   "execution_count": null,
   "metadata": {},
   "outputs": [],
   "source": [
    "from tensorwaves.function.sympy import create_function\n",
    "\n",
    "unfolded_expression = model.expression.doit()\n",
    "fixed_intensity_func = create_function(\n",
    "    unfolded_expression.xreplace(model.parameter_defaults),\n",
    "    backend=\"jax\",\n",
    ")"
   ]
  },
  {
   "cell_type": "code",
   "execution_count": null,
   "metadata": {},
   "outputs": [],
   "source": [
    "from tensorwaves.data import SympyDataTransformer\n",
    "\n",
    "transform_momenta = SympyDataTransformer.from_sympy(\n",
    "    model.kinematic_variables, backend=\"jax\"\n",
    ")"
   ]
  },
  {
   "cell_type": "code",
   "execution_count": null,
   "metadata": {},
   "outputs": [],
   "source": [
    "from tensorwaves.data import (\n",
    "    IntensityDistributionGenerator,\n",
    "    TFWeightedPhaseSpaceGenerator,\n",
    ")\n",
    "\n",
    "weighted_phsp_generator = TFWeightedPhaseSpaceGenerator(\n",
    "    initial_state_mass=reaction.initial_state[-1].mass,\n",
    "    final_state_masses={i: p.mass for i, p in reaction.final_state.items()},\n",
    ")\n",
    "data_generator = IntensityDistributionGenerator(\n",
    "    domain_generator=weighted_phsp_generator,\n",
    "    function=fixed_intensity_func,\n",
    "    domain_transformer=transform_momenta,\n",
    ")\n",
    "data_momenta = data_generator.generate(10_000, rng)"
   ]
  },
  {
   "cell_type": "code",
   "execution_count": null,
   "metadata": {
    "tags": [
     "keep_output"
    ]
   },
   "outputs": [
    {
     "data": {
      "text/html": [
       "<div>\n",
       "<style scoped>\n",
       "    .dataframe tbody tr th:only-of-type {\n",
       "        vertical-align: middle;\n",
       "    }\n",
       "\n",
       "    .dataframe tbody tr th {\n",
       "        vertical-align: top;\n",
       "    }\n",
       "\n",
       "    .dataframe thead th {\n",
       "        text-align: right;\n",
       "    }\n",
       "</style>\n",
       "<table border=\"1\" class=\"dataframe\">\n",
       "  <thead>\n",
       "    <tr style=\"text-align: right;\">\n",
       "      <th></th>\n",
       "      <th>m_12</th>\n",
       "      <th>phi_0</th>\n",
       "      <th>phi_1^12</th>\n",
       "      <th>theta_0</th>\n",
       "      <th>theta_1^12</th>\n",
       "    </tr>\n",
       "  </thead>\n",
       "  <tbody>\n",
       "    <tr>\n",
       "      <th>0</th>\n",
       "      <td>1.499845+0.000000j</td>\n",
       "      <td>2.941350</td>\n",
       "      <td>-0.984419</td>\n",
       "      <td>2.344617</td>\n",
       "      <td>1.064114</td>\n",
       "    </tr>\n",
       "    <tr>\n",
       "      <th>1</th>\n",
       "      <td>0.580070+0.000000j</td>\n",
       "      <td>1.422127</td>\n",
       "      <td>0.183725</td>\n",
       "      <td>1.086667</td>\n",
       "      <td>1.535691</td>\n",
       "    </tr>\n",
       "    <tr>\n",
       "      <th>2</th>\n",
       "      <td>1.495937+0.000000j</td>\n",
       "      <td>2.695585</td>\n",
       "      <td>3.063622</td>\n",
       "      <td>0.777978</td>\n",
       "      <td>1.730394</td>\n",
       "    </tr>\n",
       "    <tr>\n",
       "      <th>3</th>\n",
       "      <td>1.172263+0.000000j</td>\n",
       "      <td>0.527850</td>\n",
       "      <td>1.515685</td>\n",
       "      <td>1.343530</td>\n",
       "      <td>0.602596</td>\n",
       "    </tr>\n",
       "    <tr>\n",
       "      <th>4</th>\n",
       "      <td>1.581282+0.000000j</td>\n",
       "      <td>-0.678981</td>\n",
       "      <td>-2.951556</td>\n",
       "      <td>2.987470</td>\n",
       "      <td>1.959462</td>\n",
       "    </tr>\n",
       "    <tr>\n",
       "      <th>...</th>\n",
       "      <td>...</td>\n",
       "      <td>...</td>\n",
       "      <td>...</td>\n",
       "      <td>...</td>\n",
       "      <td>...</td>\n",
       "    </tr>\n",
       "    <tr>\n",
       "      <th>9995</th>\n",
       "      <td>1.486016+0.000000j</td>\n",
       "      <td>-1.271331</td>\n",
       "      <td>-1.387495</td>\n",
       "      <td>2.792571</td>\n",
       "      <td>2.565453</td>\n",
       "    </tr>\n",
       "    <tr>\n",
       "      <th>9996</th>\n",
       "      <td>0.584599+0.000000j</td>\n",
       "      <td>-2.452912</td>\n",
       "      <td>-1.957086</td>\n",
       "      <td>1.070889</td>\n",
       "      <td>2.313677</td>\n",
       "    </tr>\n",
       "    <tr>\n",
       "      <th>9997</th>\n",
       "      <td>1.956302+0.000000j</td>\n",
       "      <td>0.378314</td>\n",
       "      <td>2.711496</td>\n",
       "      <td>0.588987</td>\n",
       "      <td>1.551541</td>\n",
       "    </tr>\n",
       "    <tr>\n",
       "      <th>9998</th>\n",
       "      <td>1.585024+0.000000j</td>\n",
       "      <td>-0.816920</td>\n",
       "      <td>-1.166315</td>\n",
       "      <td>2.076068</td>\n",
       "      <td>1.807813</td>\n",
       "    </tr>\n",
       "    <tr>\n",
       "      <th>9999</th>\n",
       "      <td>1.712966+0.000000j</td>\n",
       "      <td>0.604657</td>\n",
       "      <td>0.553347</td>\n",
       "      <td>1.264140</td>\n",
       "      <td>2.079405</td>\n",
       "    </tr>\n",
       "  </tbody>\n",
       "</table>\n",
       "<p>10000 rows × 5 columns</p>\n",
       "</div>"
      ],
      "text/plain": [
       "                    m_12     phi_0  phi_1^12   theta_0  theta_1^12\n",
       "0     1.499845+0.000000j  2.941350 -0.984419  2.344617    1.064114\n",
       "1     0.580070+0.000000j  1.422127  0.183725  1.086667    1.535691\n",
       "2     1.495937+0.000000j  2.695585  3.063622  0.777978    1.730394\n",
       "3     1.172263+0.000000j  0.527850  1.515685  1.343530    0.602596\n",
       "4     1.581282+0.000000j -0.678981 -2.951556  2.987470    1.959462\n",
       "...                  ...       ...       ...       ...         ...\n",
       "9995  1.486016+0.000000j -1.271331 -1.387495  2.792571    2.565453\n",
       "9996  0.584599+0.000000j -2.452912 -1.957086  1.070889    2.313677\n",
       "9997  1.956302+0.000000j  0.378314  2.711496  0.588987    1.551541\n",
       "9998  1.585024+0.000000j -0.816920 -1.166315  2.076068    1.807813\n",
       "9999  1.712966+0.000000j  0.604657  0.553347  1.264140    2.079405\n",
       "\n",
       "[10000 rows x 5 columns]"
      ]
     },
     "execution_count": null,
     "metadata": {},
     "output_type": "execute_result"
    }
   ],
   "source": [
    "import pandas as pd\n",
    "\n",
    "phsp = transform_momenta(phsp_momenta)\n",
    "data = transform_momenta(data_momenta)\n",
    "pd.DataFrame(data)"
   ]
  },
  {
   "cell_type": "code",
   "execution_count": null,
   "metadata": {
    "jupyter": {
     "source_hidden": true
    },
    "tags": [
     "hide-input",
     "remove-output"
    ]
   },
   "outputs": [],
   "source": [
    "import matplotlib.pyplot as plt\n",
    "import numpy as np\n",
    "\n",
    "resonances = sorted(\n",
    "    reaction.get_intermediate_particles(),\n",
    "    key=lambda p: p.mass,\n",
    ")\n",
    "evenly_spaced_interval = np.linspace(0, 1, len(resonances))\n",
    "colors = [plt.cm.rainbow(x) for x in evenly_spaced_interval]\n",
    "fig, ax = plt.subplots(figsize=(9, 4))\n",
    "ax.hist(\n",
    "    np.real(data[\"m_12\"]),\n",
    "    bins=100,\n",
    "    alpha=0.5,\n",
    "    density=True,\n",
    ")\n",
    "ax.set_xlabel(\"$m$ [GeV]\")\n",
    "for p, color in zip(resonances, colors, strict=True):\n",
    "    ax.axvline(x=p.mass, linestyle=\"dotted\", label=p.name, color=color)\n",
    "ax.legend()\n",
    "plt.show()"
   ]
  },
  {
   "cell_type": "markdown",
   "metadata": {},
   "source": [
    "![](https://user-images.githubusercontent.com/29308176/194346791-c6e9f66f-ccf8-48b0-9b4b-5ea964db88d4.svg)"
   ]
  },
  {
   "cell_type": "markdown",
   "metadata": {},
   "source": [
    "## Fit"
   ]
  },
  {
   "cell_type": "markdown",
   "metadata": {},
   "source": [
    "### Determine free parameters"
   ]
  },
  {
   "cell_type": "code",
   "execution_count": null,
   "metadata": {},
   "outputs": [],
   "source": [
    "initial_parameters = {\n",
    "    R\"C_{J/\\psi(1S) \\to {f_{0}(1500)}_{0} \\gamma_{+1}; f_{0}(1500) \\to \\pi^{0}_{0} \\pi^{0}_{0}}\": (\n",
    "        1.0 + 0.0j\n",
    "    ),\n",
    "    \"m_{f_{0}(500)}\": 0.4,\n",
    "    \"m_{f_{0}(980)}\": 0.88,\n",
    "    \"m_{f_{0}(1370)}\": 1.22,\n",
    "    \"m_{f_{0}(1500)}\": 1.45,\n",
    "    \"m_{f_{0}(1710)}\": 1.83,\n",
    "    R\"\\Gamma_{f_{0}(500)}\": 0.3,\n",
    "    R\"\\Gamma_{f_{0}(980)}\": 0.1,\n",
    "    R\"\\Gamma_{f_{0}(1710)}\": 0.3,\n",
    "}"
   ]
  },
  {
   "cell_type": "markdown",
   "metadata": {},
   "source": [
    "### Parametrized function and caching"
   ]
  },
  {
   "cell_type": "code",
   "execution_count": null,
   "metadata": {},
   "outputs": [],
   "source": [
    "from tensorwaves.function.sympy import create_parametrized_function\n",
    "\n",
    "intensity_func = create_parametrized_function(\n",
    "    expression=unfolded_expression,\n",
    "    parameters=model.parameter_defaults,\n",
    "    backend=\"jax\",\n",
    ")"
   ]
  },
  {
   "cell_type": "code",
   "execution_count": null,
   "metadata": {},
   "outputs": [],
   "source": [
    "from tensorwaves.estimator import create_cached_function\n",
    "\n",
    "free_parameter_symbols = [\n",
    "    symbol\n",
    "    for symbol in model.parameter_defaults\n",
    "    if symbol.name in set(initial_parameters)\n",
    "]\n",
    "cached_intensity_func, transform_to_cache = create_cached_function(\n",
    "    unfolded_expression,\n",
    "    parameters=model.parameter_defaults,\n",
    "    free_parameters=free_parameter_symbols,\n",
    "    backend=\"jax\",\n",
    ")\n",
    "cached_data = transform_to_cache(data)\n",
    "cached_phsp = transform_to_cache(phsp)"
   ]
  },
  {
   "cell_type": "markdown",
   "metadata": {},
   "source": [
    "### Estimator"
   ]
  },
  {
   "cell_type": "code",
   "execution_count": null,
   "metadata": {},
   "outputs": [],
   "source": [
    "from tensorwaves.estimator import UnbinnedNLL\n",
    "\n",
    "estimator = UnbinnedNLL(\n",
    "    intensity_func,\n",
    "    data=data,\n",
    "    phsp=phsp,\n",
    "    backend=\"jax\",\n",
    ")\n",
    "estimator_with_caching = UnbinnedNLL(\n",
    "    cached_intensity_func,\n",
    "    data=cached_data,\n",
    "    phsp=cached_phsp,\n",
    "    backend=\"jax\",\n",
    ")"
   ]
  },
  {
   "cell_type": "markdown",
   "metadata": {},
   "source": [
    "### Optimize fit parameters"
   ]
  },
  {
   "cell_type": "code",
   "execution_count": null,
   "metadata": {
    "jupyter": {
     "source_hidden": true
    },
    "tags": [
     "hide-cell"
    ]
   },
   "outputs": [],
   "source": [
    "import matplotlib.pyplot as plt\n",
    "import numpy as np\n",
    "\n",
    "reaction_info = model.reaction_info\n",
    "resonances = sorted(\n",
    "    reaction_info.get_intermediate_particles(),\n",
    "    key=lambda p: p.mass,\n",
    ")\n",
    "\n",
    "evenly_spaced_interval = np.linspace(0, 1, len(resonances))\n",
    "colors = [plt.cm.rainbow(x) for x in evenly_spaced_interval]\n",
    "\n",
    "\n",
    "def indicate_masses(ax):\n",
    "    ax.set_xlabel(\"$m$ [GeV]\")\n",
    "    for color, resonance in zip(colors, resonances, strict=True):\n",
    "        ax.axvline(\n",
    "            x=resonance.mass,\n",
    "            linestyle=\"dotted\",\n",
    "            label=resonance.name,\n",
    "            color=color,\n",
    "        )\n",
    "\n",
    "\n",
    "def compare_model(\n",
    "    variable_name,\n",
    "    data,\n",
    "    phsp,\n",
    "    function,\n",
    "    bins=100,\n",
    "):\n",
    "    intensities = function(phsp)\n",
    "    _, ax = plt.subplots(figsize=(9, 4))\n",
    "    data_projection = np.real(data[variable_name])\n",
    "    ax = plt.gca()\n",
    "    ax.hist(\n",
    "        data_projection,\n",
    "        bins=bins,\n",
    "        alpha=0.5,\n",
    "        label=\"data\",\n",
    "        density=True,\n",
    "    )\n",
    "    phsp_projection = np.real(phsp[variable_name])\n",
    "    ax.hist(\n",
    "        phsp_projection,\n",
    "        weights=np.array(intensities),\n",
    "        bins=bins,\n",
    "        histtype=\"step\",\n",
    "        color=\"red\",\n",
    "        label=\"fit model\",\n",
    "        density=True,\n",
    "    )\n",
    "    indicate_masses(ax)\n",
    "    ax.legend()"
   ]
  },
  {
   "cell_type": "code",
   "execution_count": null,
   "metadata": {
    "tags": [
     "remove-output"
    ]
   },
   "outputs": [],
   "source": [
    "original_parameters = intensity_func.parameters\n",
    "intensity_func.update_parameters(initial_parameters)\n",
    "compare_model(\"m_12\", data, phsp, intensity_func)"
   ]
  },
  {
   "cell_type": "markdown",
   "metadata": {},
   "source": [
    "![](https://user-images.githubusercontent.com/29308176/194347028-0fe1354e-0f2d-4684-a6d7-172ab53db8d5.svg)"
   ]
  },
  {
   "cell_type": "code",
   "execution_count": null,
   "metadata": {
    "tags": [
     "keep_output"
    ]
   },
   "outputs": [
    {
     "data": {
      "application/vnd.jupyter.widget-view+json": {
       "model_id": "20e7fb7c0b5a482f801be4eb16b4d6b7",
       "version_major": 2,
       "version_minor": 0
      },
      "text/plain": [
       "0it [00:00, ?it/s]"
      ]
     },
     "metadata": {},
     "output_type": "display_data"
    },
    {
     "data": {
      "text/plain": [
       "FitResult(\n",
       " minimum_valid=True,\n",
       " execution_time=7.060763359069824,\n",
       " function_calls=539,\n",
       " estimator_value=-4891.01730754809,\n",
       " parameter_values={\n",
       "  'm_{f_{0}(500)}': 0.6102707294724865,\n",
       "  'm_{f_{0}(980)}': 0.9902119846615327,\n",
       "  'm_{f_{0}(1370)}': 1.3456300421915652,\n",
       "  'm_{f_{0}(1500)}': 1.50502995100389,\n",
       "  'm_{f_{0}(1710)}': 1.7096496843682751,\n",
       "  '\\\\Gamma_{f_{0}(500)}': 0.4226040807774344,\n",
       "  '\\\\Gamma_{f_{0}(980)}': 0.06479339507889993,\n",
       "  '\\\\Gamma_{f_{0}(1710)}': 0.13301019075808046,\n",
       "  'C_{J/\\\\psi(1S) \\\\to {f_{0}(1500)}_{0} \\\\gamma_{+1}; f_{0}(1500) \\\\to \\\\pi^{0}_{0} \\\\pi^{0}_{0}}': (1.0699249014701417-0.018664035501929042j),\n",
       " },\n",
       " parameter_errors={\n",
       "  'm_{f_{0}(500)}': 0.006168655466103817,\n",
       "  'm_{f_{0}(980)}': 0.0016283609785222876,\n",
       "  'm_{f_{0}(1370)}': 0.005122588422790316,\n",
       "  'm_{f_{0}(1500)}': 0.0033157863330869892,\n",
       "  'm_{f_{0}(1710)}': 0.0025660827305775034,\n",
       "  '\\\\Gamma_{f_{0}(500)}': 0.023838186430050128,\n",
       "  '\\\\Gamma_{f_{0}(980)}': 0.003556673018336295,\n",
       "  '\\\\Gamma_{f_{0}(1710)}': 0.007573518980113613,\n",
       "  'C_{J/\\\\psi(1S) \\\\to {f_{0}(1500)}_{0} \\\\gamma_{+1}; f_{0}(1500) \\\\to \\\\pi^{0}_{0} \\\\pi^{0}_{0}}': (0.04106392764099969+0.07043808181098646j),\n",
       " },\n",
       ")"
      ]
     },
     "execution_count": null,
     "metadata": {},
     "output_type": "execute_result"
    }
   ],
   "source": [
    "from tensorwaves.optimizer import Minuit2\n",
    "from tensorwaves.optimizer.callbacks import CSVSummary\n",
    "\n",
    "minuit2 = Minuit2(\n",
    "    callback=CSVSummary(\"fit_traceback.csv\"),\n",
    "    use_analytic_gradient=False,\n",
    ")\n",
    "fit_result = minuit2.optimize(estimator, initial_parameters)\n",
    "fit_result"
   ]
  },
  {
   "cell_type": "code",
   "execution_count": null,
   "metadata": {
    "tags": [
     "keep_output"
    ]
   },
   "outputs": [
    {
     "data": {
      "application/vnd.jupyter.widget-view+json": {
       "model_id": "d2728281b6e842908798f10cfc6e1a30",
       "version_major": 2,
       "version_minor": 0
      },
      "text/plain": [
       "0it [00:00, ?it/s]"
      ]
     },
     "metadata": {},
     "output_type": "display_data"
    },
    {
     "data": {
      "text/plain": [
       "FitResult(\n",
       " minimum_valid=True,\n",
       " execution_time=3.6658225059509277,\n",
       " function_calls=539,\n",
       " estimator_value=-4891.01730754809,\n",
       " parameter_values={\n",
       "  'm_{f_{0}(500)}': 0.6102707294731716,\n",
       "  'm_{f_{0}(980)}': 0.9902119846618569,\n",
       "  'm_{f_{0}(1370)}': 1.3456300421927978,\n",
       "  'm_{f_{0}(1500)}': 1.5050299510041418,\n",
       "  'm_{f_{0}(1710)}': 1.7096496843680975,\n",
       "  '\\\\Gamma_{f_{0}(500)}': 0.42260408077678696,\n",
       "  '\\\\Gamma_{f_{0}(980)}': 0.06479339507977673,\n",
       "  '\\\\Gamma_{f_{0}(1710)}': 0.13301019075895135,\n",
       "  'C_{J/\\\\psi(1S) \\\\to {f_{0}(1500)}_{0} \\\\gamma_{+1}; f_{0}(1500) \\\\to \\\\pi^{0}_{0} \\\\pi^{0}_{0}}': (1.069924901473717-0.018664035486070114j),\n",
       " },\n",
       " parameter_errors={\n",
       "  'm_{f_{0}(500)}': 0.006168655451483166,\n",
       "  'm_{f_{0}(980)}': 0.0016283609759060128,\n",
       "  'm_{f_{0}(1370)}': 0.005122588414282541,\n",
       "  'm_{f_{0}(1500)}': 0.0033157863009583644,\n",
       "  'm_{f_{0}(1710)}': 0.0025660827200538303,\n",
       "  '\\\\Gamma_{f_{0}(500)}': 0.023838186345858253,\n",
       "  '\\\\Gamma_{f_{0}(980)}': 0.00355667300785808,\n",
       "  '\\\\Gamma_{f_{0}(1710)}': 0.007573518972833387,\n",
       "  'C_{J/\\\\psi(1S) \\\\to {f_{0}(1500)}_{0} \\\\gamma_{+1}; f_{0}(1500) \\\\to \\\\pi^{0}_{0} \\\\pi^{0}_{0}}': (0.04106392765352627+0.07043808113241967j),\n",
       " },\n",
       ")"
      ]
     },
     "execution_count": null,
     "metadata": {},
     "output_type": "execute_result"
    }
   ],
   "source": [
    "minuit2 = Minuit2()\n",
    "fit_result_with_caching = minuit2.optimize(estimator_with_caching, initial_parameters)\n",
    "fit_result_with_caching"
   ]
  },
  {
   "cell_type": "markdown",
   "metadata": {},
   "source": [
    "### Fit result analysis"
   ]
  },
  {
   "cell_type": "code",
   "execution_count": null,
   "metadata": {
    "tags": [
     "remove-output",
     "hide-input"
    ]
   },
   "outputs": [],
   "source": [
    "intensity_func.update_parameters(fit_result.parameter_values)\n",
    "compare_model(\"m_12\", data, phsp, intensity_func)"
   ]
  },
  {
   "cell_type": "markdown",
   "metadata": {},
   "source": [
    "![](https://user-images.githubusercontent.com/29308176/194347843-0ce5e251-a78a-4123-a9b3-09fdd632a524.svg)"
   ]
  },
  {
   "cell_type": "code",
   "execution_count": null,
   "metadata": {
    "jupyter": {
     "source_hidden": true
    },
    "tags": [
     "hide-input",
     "remove-output"
    ]
   },
   "outputs": [],
   "source": [
    "fit_traceback = pd.read_csv(\"fit_traceback.csv\")\n",
    "fig, (ax1, ax2) = plt.subplots(\n",
    "    2, figsize=(7, 9), sharex=True, gridspec_kw={\"height_ratios\": [1, 2]}\n",
    ")\n",
    "fit_traceback.plot(\"function_call\", \"estimator_value\", ax=ax1)\n",
    "fit_traceback.plot(\"function_call\", sorted(initial_parameters), ax=ax2)\n",
    "fig.tight_layout()\n",
    "ax2.set_xlabel(\"function call\")\n",
    "plt.show()"
   ]
  },
  {
   "cell_type": "markdown",
   "metadata": {},
   "source": [
    "![](https://user-images.githubusercontent.com/29308176/194347685-7bd12eee-ea65-44e1-b6b5-3a615234040a.svg)"
   ]
  },
  {
   "cell_type": "markdown",
   "metadata": {},
   "source": [
    "## Zfit"
   ]
  },
  {
   "cell_type": "markdown",
   "metadata": {},
   "source": [
    "### PDF definition"
   ]
  },
  {
   "cell_type": "code",
   "execution_count": null,
   "metadata": {},
   "outputs": [],
   "source": [
    "import jax.numpy as jnp\n",
    "import zfit  # suppress tf warnings\n",
    "import zfit.z.numpy as znp\n",
    "from zfit import supports, z\n",
    "\n",
    "zfit.run.set_graph_mode(False)  # We cannot (yet) compile through the function\n",
    "zfit.run.set_autograd_mode(False)\n",
    "\n",
    "\n",
    "class TensorWavesPDF(zfit.pdf.BasePDF):\n",
    "    def __init__(self, intensity, norm, obs, params=None, name=\"tensorwaves\"):\n",
    "        \"\"\"tensorwaves intensity normalized over the *norm* dataset.\"\"\"\n",
    "        super().__init__(obs, params, name)\n",
    "        self.intensity = intensity\n",
    "        norm = {\n",
    "            ob: jnp.asarray(ar)\n",
    "            for ob, ar in zip(self.obs, z.unstack_x(norm), strict=True)\n",
    "        }\n",
    "        self.norm_sample = norm\n",
    "\n",
    "    @supports(norm=True)\n",
    "    def _pdf(self, x, norm):\n",
    "        # we can also use better mechanics, where it automatically normalizes or not\n",
    "        # this here is rather to take full control, it is always possible\n",
    "\n",
    "        # updating the parameters of the model. This seems not very TF compatible?\n",
    "        self.intensity.update_parameters({\n",
    "            p.name: float(p) for p in self.params.values()\n",
    "        })\n",
    "\n",
    "        # converting the data to a dict for tensorwaves\n",
    "        data = {\n",
    "            ob: jnp.asarray(ar) for ob, ar in zip(self.obs, z.unstack_x(x), strict=True)\n",
    "        }\n",
    "\n",
    "        non_normalized_pdf = self.intensity(data)\n",
    "        # this is not really needed, but can be useful for e.g. sampling with `pdf(..., norm_range=False)`\n",
    "        if norm is False:\n",
    "            out = non_normalized_pdf\n",
    "        else:\n",
    "            out = non_normalized_pdf / jnp.mean(self.intensity(self.norm_sample))\n",
    "        return znp.asarray(out)"
   ]
  },
  {
   "cell_type": "code",
   "execution_count": null,
   "metadata": {},
   "outputs": [],
   "source": [
    "params = [\n",
    "    zfit.param.convert_to_parameter(val, name, prefer_constant=False)\n",
    "    for name, val in model.parameter_defaults.items()\n",
    "]"
   ]
  },
  {
   "cell_type": "code",
   "execution_count": null,
   "metadata": {},
   "outputs": [],
   "source": [
    "def reset_parameters():\n",
    "    for p in params_fit:\n",
    "        if p.name in initial_parameters:\n",
    "            p.set_value(initial_parameters[p.name])"
   ]
  },
  {
   "cell_type": "code",
   "execution_count": null,
   "metadata": {},
   "outputs": [],
   "source": [
    "obs = [\n",
    "    zfit.Space(ob, limits=(np.min(data[ob]) - 1, np.max(data[ob]) + 1))\n",
    "    for ob in pd.DataFrame(phsp)\n",
    "]\n",
    "obs_all = zfit.dimension.combine_spaces(*obs)"
   ]
  },
  {
   "cell_type": "markdown",
   "metadata": {},
   "source": [
    "### Data conversion"
   ]
  },
  {
   "cell_type": "code",
   "execution_count": null,
   "metadata": {},
   "outputs": [],
   "source": [
    "phsp_zfit = zfit.Data.from_pandas(pd.DataFrame(phsp), obs=obs_all)\n",
    "data_zfit = zfit.Data.from_pandas(pd.DataFrame(data), obs=obs_all)"
   ]
  },
  {
   "cell_type": "markdown",
   "metadata": {},
   "source": [
    "### Perform fit"
   ]
  },
  {
   "cell_type": "markdown",
   "metadata": {},
   "source": [
    "{obj}`complex` parameters need to be removed first:"
   ]
  },
  {
   "cell_type": "code",
   "execution_count": null,
   "metadata": {},
   "outputs": [],
   "source": [
    "params_fit = [p for p in params if p.name in initial_parameters if p.independent]"
   ]
  },
  {
   "cell_type": "code",
   "execution_count": null,
   "metadata": {},
   "outputs": [],
   "source": [
    "jax_intensity_func = create_parametrized_function(\n",
    "    expression=unfolded_expression,\n",
    "    parameters=model.parameter_defaults,\n",
    "    backend=\"jax\",\n",
    ")"
   ]
  },
  {
   "cell_type": "code",
   "execution_count": null,
   "metadata": {},
   "outputs": [],
   "source": [
    "reset_parameters()"
   ]
  },
  {
   "cell_type": "code",
   "execution_count": null,
   "metadata": {},
   "outputs": [],
   "source": [
    "pdf = TensorWavesPDF(\n",
    "    obs=obs_all,\n",
    "    intensity=jax_intensity_func,\n",
    "    norm=phsp_zfit,\n",
    "    params={f\"{p.name}\": p for i, p in enumerate(params_fit)},\n",
    ")\n",
    "loss = zfit.loss.UnbinnedNLL(pdf, data_zfit)"
   ]
  },
  {
   "cell_type": "code",
   "execution_count": null,
   "metadata": {},
   "outputs": [],
   "source": [
    "minimizer = zfit.minimize.Minuit(gradient=True, mode=0)"
   ]
  },
  {
   "cell_type": "markdown",
   "metadata": {},
   "source": [
    ":::{note}\n",
    "You can also try different minimizers, like [`ScipyTrustConstrV1`](https://zfit.readthedocs.io/en/v0.18.1/user_api/minimize/_generated/minimizers/zfit.minimize.ScipyTrustConstrV1.html), but {class}`~zfit.minimizers.minimizer_minuit.Minuit` seems to perform best.\n",
    ":::"
   ]
  },
  {
   "cell_type": "code",
   "execution_count": null,
   "metadata": {
    "tags": [
     "keep_output"
    ]
   },
   "outputs": [
    {
     "name": "stdout",
     "output_type": "stream",
     "text": [
      "CPU times: user 22 s, sys: 188 ms, total: 22.2 s\n",
      "Wall time: 8.56 s\n"
     ]
    },
    {
     "data": {
      "text/plain": [
       "\u001b[1mFitResult\u001b[22m of\n",
       "<UnbinnedNLL model=[<zfit.<class '__main__.TensorWavesPDF'>  params=[\\Gamma_{f_{0}(1710)}, \\Gamma_{f_{0}(500)}, \\Gamma_{f_{0}(980)}, m_{f_{0}(1370)}, m_{f_{0}(1500)}, m_{f_{0}(1710)}, m_{f_{0}(500)}, m_{f_{0}(980)}]] data=[<zfit.core.data.Data object at 0x7fdc203d0430>] constraints=[]> \n",
       "with\n",
       "<Minuit Minuit tol=0.001>\n",
       "\n",
       "╒═════════╤═════════════╤══════════════════╤═════════╤═════════════╕\n",
       "│ valid   │ converged   │ param at limit   │ edm     │ min value   │\n",
       "╞═════════╪═════════════╪══════════════════╪═════════╪═════════════╡\n",
       "│ True\u001b[0m    │ True\u001b[0m        │ False\u001b[0m            │ 0.00041 │ -1871.035   │\n",
       "╘═════════╧═════════════╧══════════════════╧═════════╧═════════════╛\n",
       "\n",
       "\u001b[1mParameters\n",
       "\u001b[22mname                    value  (rounded)    at limit\n",
       "--------------------  ------------------  ----------\n",
       "m_{f_{0}(500)}                  0.608864       False\u001b[0m\n",
       "\\Gamma_{f_{0}(500)}             0.419716       False\u001b[0m\n",
       "m_{f_{0}(980)}                  0.990038       False\u001b[0m\n",
       "\\Gamma_{f_{0}(980)}            0.0643328       False\u001b[0m\n",
       "m_{f_{0}(1370)}                  1.35137       False\u001b[0m\n",
       "m_{f_{0}(1500)}                  1.50627       False\u001b[0m\n",
       "m_{f_{0}(1710)}                  1.70956       False\u001b[0m\n",
       "\\Gamma_{f_{0}(1710)}            0.132484       False\u001b[0m"
      ]
     },
     "execution_count": null,
     "metadata": {},
     "output_type": "execute_result"
    }
   ],
   "source": [
    "%%time\n",
    "\n",
    "result = minimizer.minimize(loss)\n",
    "result"
   ]
  },
  {
   "cell_type": "code",
   "execution_count": null,
   "metadata": {
    "tags": [
     "keep_output"
    ]
   },
   "outputs": [
    {
     "name": "stdout",
     "output_type": "stream",
     "text": [
      "CPU times: user 2.5 s, sys: 12.6 ms, total: 2.51 s\n",
      "Wall time: 953 ms\n"
     ]
    },
    {
     "data": {
      "text/plain": [
       "\u001b[1mFitResult\u001b[22m of\n",
       "<UnbinnedNLL model=[<zfit.<class '__main__.TensorWavesPDF'>  params=[\\Gamma_{f_{0}(1710)}, \\Gamma_{f_{0}(500)}, \\Gamma_{f_{0}(980)}, m_{f_{0}(1370)}, m_{f_{0}(1500)}, m_{f_{0}(1710)}, m_{f_{0}(500)}, m_{f_{0}(980)}]] data=[<zfit.core.data.Data object at 0x7fdc203d0430>] constraints=[]> \n",
       "with\n",
       "<Minuit Minuit tol=0.001>\n",
       "\n",
       "╒═════════╤═════════════╤══════════════════╤═════════╤═════════════╕\n",
       "│ valid   │ converged   │ param at limit   │ edm     │ min value   │\n",
       "╞═════════╪═════════════╪══════════════════╪═════════╪═════════════╡\n",
       "│ True\u001b[0m    │ True\u001b[0m        │ False\u001b[0m            │ 0.00041 │ -1871.035   │\n",
       "╘═════════╧═════════════╧══════════════════╧═════════╧═════════════╛\n",
       "\n",
       "\u001b[1mParameters\n",
       "\u001b[22mname                    value  (rounded)        hesse    at limit\n",
       "--------------------  ------------------  -----------  ----------\n",
       "m_{f_{0}(500)}                  0.608864  +/-  0.0061       False\u001b[0m\n",
       "\\Gamma_{f_{0}(500)}             0.419716  +/-   0.024       False\u001b[0m\n",
       "m_{f_{0}(980)}                  0.990038  +/-  0.0016       False\u001b[0m\n",
       "\\Gamma_{f_{0}(980)}            0.0643328  +/-  0.0035       False\u001b[0m\n",
       "m_{f_{0}(1370)}                  1.35137  +/-  0.0039       False\u001b[0m\n",
       "m_{f_{0}(1500)}                  1.50627  +/-   0.002       False\u001b[0m\n",
       "m_{f_{0}(1710)}                  1.70956  +/-  0.0023       False\u001b[0m\n",
       "\\Gamma_{f_{0}(1710)}            0.132484  +/-   0.007       False\u001b[0m"
      ]
     },
     "execution_count": null,
     "metadata": {},
     "output_type": "execute_result"
    }
   ],
   "source": [
    "%%time\n",
    "\n",
    "result.hesse(name=\"hesse\")\n",
    "result"
   ]
  },
  {
   "cell_type": "code",
   "execution_count": null,
   "metadata": {
    "tags": [
     "keep_output"
    ]
   },
   "outputs": [
    {
     "name": "stdout",
     "output_type": "stream",
     "text": [
      "CPU times: user 45.3 s, sys: 393 ms, total: 45.7 s\n",
      "Wall time: 17.2 s\n"
     ]
    },
    {
     "data": {
      "text/plain": [
       "\u001b[1mFitResult\u001b[22m of\n",
       "<UnbinnedNLL model=[<zfit.<class '__main__.TensorWavesPDF'>  params=[\\Gamma_{f_{0}(1710)}, \\Gamma_{f_{0}(500)}, \\Gamma_{f_{0}(980)}, m_{f_{0}(1370)}, m_{f_{0}(1500)}, m_{f_{0}(1710)}, m_{f_{0}(500)}, m_{f_{0}(980)}]] data=[<zfit.core.data.Data object at 0x7fdc203d0430>] constraints=[]> \n",
       "with\n",
       "<Minuit Minuit tol=0.001>\n",
       "\n",
       "╒═════════╤═════════════╤══════════════════╤═════════╤═════════════╕\n",
       "│ valid   │ converged   │ param at limit   │ edm     │ min value   │\n",
       "╞═════════╪═════════════╪══════════════════╪═════════╪═════════════╡\n",
       "│ True\u001b[0m    │ True\u001b[0m        │ False\u001b[0m            │ 0.00041 │ -1871.035   │\n",
       "╘═════════╧═════════════╧══════════════════╧═════════╧═════════════╛\n",
       "\n",
       "\u001b[1mParameters\n",
       "\u001b[22mname                    value  (rounded)        hesse               errors    at limit\n",
       "--------------------  ------------------  -----------  -------------------  ----------\n",
       "m_{f_{0}(500)}                  0.608864  +/-  0.0061  -  0.006   + 0.0063       False\u001b[0m\n",
       "\\Gamma_{f_{0}(500)}             0.419716  +/-   0.024  -  0.024   +  0.023       False\u001b[0m\n",
       "m_{f_{0}(980)}                  0.990038  +/-  0.0016  - 0.0016   + 0.0016       False\u001b[0m\n",
       "\\Gamma_{f_{0}(980)}            0.0643328  +/-  0.0035  - 0.0034   + 0.0036       False\u001b[0m\n",
       "m_{f_{0}(1370)}                  1.35137  +/-  0.0039  - 0.0039   + 0.0039       False\u001b[0m\n",
       "m_{f_{0}(1500)}                  1.50627  +/-   0.002  -  0.002   +  0.002       False\u001b[0m\n",
       "m_{f_{0}(1710)}                  1.70956  +/-  0.0023  - 0.0024   + 0.0024       False\u001b[0m\n",
       "\\Gamma_{f_{0}(1710)}            0.132484  +/-   0.007  - 0.0068   + 0.0073       False\u001b[0m"
      ]
     },
     "execution_count": null,
     "metadata": {},
     "output_type": "execute_result"
    }
   ],
   "source": [
    "%%time\n",
    "\n",
    "result.errors(name=\"errors\")\n",
    "result"
   ]
  },
  {
   "cell_type": "markdown",
   "metadata": {},
   "source": [
    "### Statistical inference using the hepstats library\n",
    "\n",
    "{mod}`hepstats` is built on top of [`zfit-interface`](https://zfit-interface.readthedocs.io):"
   ]
  },
  {
   "cell_type": "code",
   "execution_count": null,
   "metadata": {},
   "outputs": [],
   "source": [
    "from hepstats.hypotests import ConfidenceInterval\n",
    "from hepstats.hypotests.calculators import AsymptoticCalculator\n",
    "from hepstats.hypotests.parameters import POIarray"
   ]
  },
  {
   "cell_type": "code",
   "execution_count": null,
   "metadata": {},
   "outputs": [],
   "source": [
    "calculator = AsymptoticCalculator(result, minimizer)"
   ]
  },
  {
   "cell_type": "markdown",
   "metadata": {},
   "source": [
    "We take one of the parameters as POI:"
   ]
  },
  {
   "cell_type": "code",
   "execution_count": null,
   "metadata": {
    "tags": [
     "keep_output"
    ]
   },
   "outputs": [
    {
     "data": {
      "text/plain": [
       "<zfit.Parameter '\\Gamma_{f_{0}(500)}' floating=True value=0.4197>"
      ]
     },
     "execution_count": null,
     "metadata": {},
     "output_type": "execute_result"
    }
   ],
   "source": [
    "poi = pdf.params[r\"\\Gamma_{f_{0}(500)}\"]\n",
    "poi"
   ]
  },
  {
   "cell_type": "code",
   "execution_count": null,
   "metadata": {
    "tags": [
     "keep_output"
    ]
   },
   "outputs": [
    {
     "name": "stdout",
     "output_type": "stream",
     "text": [
      "\n",
      "Confidence interval on \\Gamma_{f_{0}(500)}:\n",
      "\t0.3964206394323228 < \\Gamma_{f_{0}(500)} < 0.44257337109434974 at 67.2% C.L.\n"
     ]
    }
   ],
   "source": [
    "poi_null = POIarray(poi, np.linspace(poi - 0.1, poi + 0.1, 50))\n",
    "ci = ConfidenceInterval(calculator, poi_null)\n",
    "alpha = 0.328\n",
    "ci.interval(alpha=alpha);"
   ]
  },
  {
   "cell_type": "markdown",
   "metadata": {},
   "source": [
    "A helper function to plot the result:"
   ]
  },
  {
   "cell_type": "code",
   "execution_count": null,
   "metadata": {},
   "outputs": [],
   "source": [
    "def one_minus_cl_plot(x, pvalues, alpha=None, ax=None):\n",
    "    if alpha is None:\n",
    "        alpha = [0.32]\n",
    "    if isinstance(alpha, float | int):\n",
    "        alpha = [alpha]\n",
    "    if ax is None:\n",
    "        ax = plt.gca()\n",
    "\n",
    "    ax.plot(x, pvalues, \".--\")\n",
    "    for a in alpha:\n",
    "        ax.axhline(a, color=\"red\", label=\"$\\\\alpha = \" + str(a) + \"$\")\n",
    "    ax.set_ylabel(\"1-CL\")\n",
    "\n",
    "    return ax"
   ]
  },
  {
   "cell_type": "code",
   "execution_count": null,
   "metadata": {
    "tags": [
     "remove-output"
    ]
   },
   "outputs": [],
   "source": [
    "plt.figure(figsize=(9, 8))\n",
    "one_minus_cl_plot(poi_null.values, ci.pvalues(), alpha=alpha)\n",
    "plt.xlabel(f\"${poi.name}$\")\n",
    "plt.show()"
   ]
  },
  {
   "cell_type": "markdown",
   "metadata": {},
   "source": [
    "![](https://user-images.githubusercontent.com/29308176/194348046-c0b9026e-d4e9-434a-830d-351e6ba6e635.svg)"
   ]
  }
 ],
 "metadata": {
  "colab": {
   "toc_visible": true
  },
  "kernelspec": {
   "display_name": "Python 3 (ipykernel)",
   "language": "python",
   "name": "pyproject_local_kernel"
  },
  "language_info": {
   "codemirror_mode": {
    "name": "ipython",
    "version": 3
   },
   "file_extension": ".py",
   "mimetype": "text/x-python",
   "name": "python",
   "nbconvert_exporter": "python",
   "pygments_lexer": "ipython3",
   "version": "3.12.6"
  }
 },
 "nbformat": 4,
 "nbformat_minor": 4
}
