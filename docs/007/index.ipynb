{
 "cells": [
  {
   "cell_type": "markdown",
   "metadata": {},
   "source": [
    "```{autolink-concat}\n",
    "```"
   ]
  },
  {
   "cell_type": "markdown",
   "metadata": {
    "tags": [
     "sympy"
    ]
   },
   "source": [
    "::::{margin}\n",
    ":::{card} `MatrixSymbols`\n",
    "TR-007\n",
    "^^^\n",
    "This report is a sequel to [TR-005](../005/index.ipynb). In that report, the $\\boldsymbol{K}$ was constructed with a {obj}`sympy.Matrix <sympy.matrices.dense.Matrix>`, but it might be more elegant to work with {class}`~sympy.matrices.expressions.MatrixSymbol`s.\n",
    "+++\n",
    "WIP\n",
    ":::\n",
    "::::"
   ]
  },
  {
   "cell_type": "markdown",
   "metadata": {},
   "source": [
    "# `MatrixSymbol`s"
   ]
  },
  {
   "cell_type": "code",
   "execution_count": null,
   "metadata": {
    "tags": [
     "hide-cell"
    ]
   },
   "outputs": [],
   "source": [
    "import sympy as sp\n",
    "from IPython.display import display"
   ]
  },
  {
   "cell_type": "markdown",
   "metadata": {},
   "source": [
    "Here are some examples of computations with {class}`~sympy.matrices.expressions.MatrixSymbol`."
   ]
  },
  {
   "cell_type": "code",
   "execution_count": null,
   "metadata": {},
   "outputs": [],
   "source": [
    "N = sp.Symbol(\"n\", integer=True, positive=True)\n",
    "i, j = sp.symbols(\"i j\", integer=True, negative=False)\n",
    "K = sp.MatrixSymbol(\"K\", N, N)\n",
    "display(K, K[i, j], K[0, 0])"
   ]
  },
  {
   "cell_type": "code",
   "execution_count": null,
   "metadata": {},
   "outputs": [],
   "source": [
    "A = sp.MatrixSymbol(\"A\", N, N)\n",
    "(A * K)[0, 0]"
   ]
  },
  {
   "cell_type": "markdown",
   "metadata": {},
   "source": [
    "The important thing is that elements of a {class}`~sympy.matrices.expressions.MatrixSymbol` can be substituted:"
   ]
  },
  {
   "cell_type": "code",
   "execution_count": null,
   "metadata": {},
   "outputs": [],
   "source": [
    "K[0, 0].subs(K[0, 0], i)"
   ]
  },
  {
   "cell_type": "code",
   "execution_count": null,
   "metadata": {},
   "outputs": [],
   "source": [
    "A * K"
   ]
  },
  {
   "cell_type": "code",
   "execution_count": null,
   "metadata": {},
   "outputs": [],
   "source": [
    "(A * K)[0, 0]"
   ]
  },
  {
   "cell_type": "markdown",
   "metadata": {},
   "source": [
    "Now make the matrices $2 \\times 2$ by specifying $n$:"
   ]
  },
  {
   "cell_type": "code",
   "execution_count": null,
   "metadata": {},
   "outputs": [],
   "source": [
    "A_n2 = A.subs(N, 2)\n",
    "K_n2 = K.subs(N, 2)"
   ]
  },
  {
   "cell_type": "code",
   "execution_count": null,
   "metadata": {},
   "outputs": [],
   "source": [
    "(A_n2 * K_n2)[0, 0]"
   ]
  },
  {
   "cell_type": "code",
   "execution_count": null,
   "metadata": {},
   "outputs": [],
   "source": [
    "v, w, x, y = sp.symbols(\"v, w, x, y\", real=True)\n",
    "substitutions = {\n",
    "    A_n2[0, 0]: v,\n",
    "    A_n2[0, 1]: w,\n",
    "    K_n2[0, 0]: x,\n",
    "    K_n2[1, 0]: y,\n",
    "}\n",
    "(A_n2 * K_n2)[0, 0].subs(substitutions)"
   ]
  }
 ],
 "metadata": {
  "colab": {
   "toc_visible": true
  },
  "kernelspec": {
   "display_name": "Python 3 (ipykernel)",
   "language": "python",
   "name": "pyproject_local_kernel"
  },
  "language_info": {
   "codemirror_mode": {
    "name": "ipython",
    "version": 3
   },
   "file_extension": ".py",
   "mimetype": "text/x-python",
   "name": "python",
   "nbconvert_exporter": "python",
   "pygments_lexer": "ipython3",
   "version": "3.12.6"
  }
 },
 "nbformat": 4,
 "nbformat_minor": 4
}
