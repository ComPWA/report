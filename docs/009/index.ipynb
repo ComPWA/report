{
 "cells": [
  {
   "cell_type": "markdown",
   "metadata": {},
   "source": [
    "```{autolink-concat}\n",
    "```"
   ]
  },
  {
   "cell_type": "markdown",
   "metadata": {
    "tags": [
     "K-matrix",
     "dynamics",
     "physics",
     "sympy"
    ]
   },
   "source": [
    "::::{margin}\n",
    ":::{card} Symbolic expressions for Lorentz-invariant K-matrix\n",
    "TR-009\n",
    "^^^\n",
    "This report is a sequel to [TR-005](../005/index.ipynb).\n",
    "+++\n",
    "✅&nbsp;[ampform#120](https://github.com/ComPWA/ampform/issues/120)\n",
    ":::\n",
    "::::"
   ]
  },
  {
   "cell_type": "markdown",
   "metadata": {},
   "source": [
    "# Lorentz-invariant K-matrix"
   ]
  },
  {
   "cell_type": "markdown",
   "metadata": {},
   "source": [
    "## Physics"
   ]
  },
  {
   "cell_type": "markdown",
   "metadata": {
    "tags": [
     "scroll-input"
    ]
   },
   "source": [
    "The **Lorentz-invariant description $\\boldsymbol{\\hat{T}}$ of the $\\boldsymbol{T}$-matrix** is:\n",
    "\n",
    "$$\n",
    "\\boldsymbol{T} = \\sqrt{\\boldsymbol{\\rho^\\dagger}} \\, \\boldsymbol{\\hat{T}} \\sqrt{\\boldsymbol{\\rho}}\n",
    "$$ (covariant-T-matrix)\n",
    "\n",
    "with the phase space factor matrix $\\boldsymbol{\\rho}$ defined as:\n",
    "\n",
    "$$\n",
    "\\sqrt{\\boldsymbol{\\rho}} = \\begin{pmatrix}\n",
    "\\rho_0 & \\cdots & 0      \\\\\n",
    "\\vdots & \\ddots & \\vdots \\\\\n",
    "0      & \\cdots & \\rho_{n-1}\n",
    "\\end{pmatrix}\n",
    "$$ (rho matrix)\n",
    "\n",
    "and\n",
    "\n",
    "$$\n",
    "\\rho_i = \\frac{2q_i}{m} = \\sqrt{\n",
    "  \\left[1-\\left(\\frac{m_{i,a}+m_{i,b}}{m}\\right)^2\\right]\n",
    "  \\left[1-\\left(\\frac{m_{i,a}-m_{i,b}}{m}\\right)^2\\right]\n",
    "}\n",
    "$$ (phase space factor)\n",
    "\n",
    "This results in a similar transformation for the $\\boldsymbol{K}$-matrix\n",
    "\n",
    "$$\n",
    "\\boldsymbol{K} = \\sqrt{\\boldsymbol{\\rho^\\dagger}} \\; \\boldsymbol{\\hat{K}} \\sqrt{\\boldsymbol{\\rho}}\n",
    "$$ (covariant-K-matrix)\n",
    "\n",
    "with (compare Eq. {eq}`T-in-terms-of-K` in [TR-005](../005/index.ipynb)):\n",
    "\n",
    "$$\n",
    "\\boldsymbol{\\hat{T}} = \\boldsymbol{\\hat{K}}(\\boldsymbol{I} - i\\boldsymbol{\\rho}\\boldsymbol{\\hat{K}})^{-1}\n",
    "$$ (covariant-T-matrix as K)\n",
    "\n",
    "It's common to integrate these phase space factors into the parametrization of $K_{ij}$ as well:\n",
    "\n",
    "$$\n",
    "K_{ij} = \\sum_R \\frac{g_{R,i}(m)g_{R,j}(m)}{\\left(m_R^2-m^2\\right)\\sqrt{\\rho_i\\rho_j}}\n",
    "$$ (covariant parametrization)\n",
    "\n",
    "Compare this with Eq. {eq}`K-matrix-parametrization` in [TR-005](../005/index.ipynb).\n",
    "\n",
    "In addition, one often uses an \"energy dependent\" [`coupled_width()`](https://ampform.readthedocs.io/en/0.10.5/api/ampform.dynamics.html#ampform.dynamics.coupled_width) $\\Gamma_R(m)$ instead of a fixed width $\\Gamma_R$ as done in [TR-005](../005/index.ipynb)."
   ]
  },
  {
   "cell_type": "code",
   "execution_count": null,
   "metadata": {
    "jupyter": {
     "source_hidden": true
    },
    "tags": [
     "hide-cell"
    ]
   },
   "outputs": [],
   "source": [
    "from __future__ import annotations\n",
    "\n",
    "import os\n",
    "import re\n",
    "import warnings\n",
    "from typing import TYPE_CHECKING\n",
    "\n",
    "import matplotlib.pyplot as plt\n",
    "import mpl_interactions.ipyplot as iplt\n",
    "import numpy as np\n",
    "import symplot\n",
    "import sympy as sp\n",
    "from ampform.dynamics import coupled_width, phase_space_factor_complex\n",
    "from ampform.dynamics.decorator import (\n",
    "    UnevaluatedExpression,\n",
    "    create_expression,\n",
    "    implement_doit_method,\n",
    ")\n",
    "from IPython.display import Math, display\n",
    "from ipywidgets import widgets as ipywidgets\n",
    "from mpl_interactions.controller import Controls\n",
    "\n",
    "if TYPE_CHECKING:\n",
    "    from sympy.printing.latex import LatexPrinter\n",
    "\n",
    "warnings.filterwarnings(\"ignore\")\n",
    "STATIC_WEB_PAGE = {\"EXECUTE_NB\", \"READTHEDOCS\"}.intersection(os.environ)"
   ]
  },
  {
   "cell_type": "code",
   "execution_count": null,
   "metadata": {
    "cellView": "form",
    "jupyter": {
     "source_hidden": true
    },
    "tags": [
     "remove-cell"
    ]
   },
   "outputs": [],
   "source": [
    "# @title\n",
    "if \"COLAB_RELEASE_TAG\" in os.environ:\n",
    "    import subprocess\n",
    "\n",
    "    from google.colab import output\n",
    "\n",
    "    output.enable_custom_widget_manager()\n",
    "    subprocess.run(\"pip install -q ipympl\".split(), check=False)"
   ]
  },
  {
   "cell_type": "markdown",
   "metadata": {},
   "source": [
    "## Implementation"
   ]
  },
  {
   "cell_type": "markdown",
   "metadata": {},
   "source": [
    "### Wrapping expressions"
   ]
  },
  {
   "cell_type": "markdown",
   "metadata": {},
   "source": [
    "To keep a nice rendering, we wrap the expressions for [`phase_space_factor()`](https://ampform.readthedocs.io/en/0.10.5/api/ampform.dynamics.html#ampform.dynamics.phase_space_factor) and [`coupled_width()`](https://ampform.readthedocs.io/en/0.10.5/api/ampform.dynamics.html#ampform.dynamics.coupled_width) into a class that derives from {class}`~sympy.core.expr.Expr` (see e.g. the implementation of {class}`~ampform.dynamics.BlattWeisskopfSquared`). Note that we need to use {func}`~symplot.partial_doit` to keep these expression symbols after evaluating the {class}`~sympy.concrete.summations.Sum`."
   ]
  },
  {
   "cell_type": "code",
   "execution_count": null,
   "metadata": {
    "jupyter": {
     "source_hidden": true
    },
    "tags": [
     "scroll-input"
    ]
   },
   "outputs": [],
   "source": [
    "@implement_doit_method()\n",
    "class PhaseSpaceFactor(UnevaluatedExpression):\n",
    "    is_commutative = True\n",
    "\n",
    "    def __new__(\n",
    "        cls,\n",
    "        s: sp.Symbol,\n",
    "        m_a: sp.Symbol,\n",
    "        m_b: sp.Symbol,\n",
    "        i: int,\n",
    "        **hints,\n",
    "    ) -> PhaseSpaceFactor:\n",
    "        return create_expression(cls, s, m_a, m_b, i, **hints)\n",
    "\n",
    "    def evaluate(self) -> sp.Expr:\n",
    "        s, m_a, m_b, *_ = self.args\n",
    "        return phase_space_factor_complex(s, m_a, m_b)\n",
    "\n",
    "    def _latex(self, printer: LatexPrinter, *args) -> str:\n",
    "        s = printer._print(self.args[0])\n",
    "        i = self.args[-1]\n",
    "        return Rf\"\\rho_{{{i}}}({s})\"\n",
    "\n",
    "\n",
    "@implement_doit_method()\n",
    "class CoupledWidth(UnevaluatedExpression):\n",
    "    is_commutative = True\n",
    "\n",
    "    def __new__(\n",
    "        cls,\n",
    "        s: sp.Symbol,\n",
    "        mass0: sp.IndexedBase,\n",
    "        gamma0: sp.IndexedBase,\n",
    "        m_a: sp.IndexedBase,\n",
    "        m_b: sp.IndexedBase,\n",
    "        angular_momentum: int,\n",
    "        R: int | sp.Symbol,\n",
    "        i: int,\n",
    "        **hints,\n",
    "    ) -> CoupledWidth:\n",
    "        return create_expression(\n",
    "            cls, s, mass0, gamma0, m_a, m_b, angular_momentum, R, i, **hints\n",
    "        )\n",
    "\n",
    "    def evaluate(self) -> sp.Expr:\n",
    "        s, mass0, gamma0, m_a, m_b, angular_momentum, R, i = self.args\n",
    "\n",
    "        def phsp_factor(s, m_a, m_b):\n",
    "            return PhaseSpaceFactor(s, m_a, m_b, i)\n",
    "\n",
    "        return coupled_width(\n",
    "            s,\n",
    "            mass0[R],\n",
    "            gamma0[R, i],\n",
    "            m_a[i],\n",
    "            m_b[i],\n",
    "            angular_momentum=angular_momentum,\n",
    "            meson_radius=1,\n",
    "            phsp_factor=phsp_factor,\n",
    "        )\n",
    "\n",
    "    def _latex(self, printer: LatexPrinter, *args) -> str:\n",
    "        s = printer._print(self.args[0])\n",
    "        R = self.args[-2]\n",
    "        i = self.args[-1]\n",
    "        return Rf\"{{\\Gamma_{{{R},{i}}}}}({s})\""
   ]
  },
  {
   "cell_type": "markdown",
   "metadata": {},
   "source": [
    "And here is what the equations look like:"
   ]
  },
  {
   "cell_type": "code",
   "execution_count": null,
   "metadata": {},
   "outputs": [],
   "source": [
    "n_channels = 2\n",
    "n_resonances, i, R, L = sp.symbols(\"n_R, i, R, L\", integer=True, negative=False)\n",
    "m = sp.Symbol(\"m\", real=True)\n",
    "M = sp.IndexedBase(\"m\", shape=(n_resonances,))\n",
    "Gamma = sp.IndexedBase(\"Gamma\", shape=(n_resonances, n_channels))\n",
    "gamma = sp.IndexedBase(\"gamma\", shape=(n_resonances, n_channels))\n",
    "m_a = sp.IndexedBase(\"m_a\", shape=(n_channels,))\n",
    "m_b = sp.IndexedBase(\"m_b\", shape=(n_channels,))"
   ]
  },
  {
   "cell_type": "code",
   "execution_count": null,
   "metadata": {},
   "outputs": [],
   "source": [
    "width_expr = CoupledWidth(m**2, M, Gamma, m_a, m_b, 0, R, i)\n",
    "phsp_expr = PhaseSpaceFactor(m**2, m_a[i], m_b[i], i)"
   ]
  },
  {
   "cell_type": "code",
   "execution_count": null,
   "metadata": {
    "jupyter": {
     "source_hidden": true
    },
    "tags": [
     "hide-input",
     "keep_output"
    ]
   },
   "outputs": [
    {
     "data": {
      "text/latex": [
       "$\\displaystyle \\begin{align*}\n",
       "{\\Gamma_{R,i}}(m^{2}) = & \\frac{B_{0}^2\\left(\\frac{\\left(m^{2} - \\left({m_{a}}_{i} - {m_{b}}_{i}\\right)^{2}\\right) \\left(m^{2} - \\left({m_{a}}_{i} + {m_{b}}_{i}\\right)^{2}\\right)}{4 m^{2}}\\right) {\\Gamma}_{R,i} \\rho_{i}(m^{2})}{B_{0}^2\\left(\\frac{\\left(- \\left({m_{a}}_{i} - {m_{b}}_{i}\\right)^{2} + {m}_{R}^{2}\\right) \\left(- \\left({m_{a}}_{i} + {m_{b}}_{i}\\right)^{2} + {m}_{R}^{2}\\right)}{4 {m}_{R}^{2}}\\right) \\rho_{i}({m}_{R}^{2})} \n",
       "\\end{align*}$"
      ],
      "text/plain": [
       "<IPython.core.display.Math object>"
      ]
     },
     "execution_count": null,
     "metadata": {},
     "output_type": "execute_result"
    }
   ],
   "source": [
    "Math(\n",
    "    sp.multiline_latex(\n",
    "        lhs=width_expr,\n",
    "        rhs=width_expr.evaluate(),\n",
    "    )\n",
    ")"
   ]
  },
  {
   "cell_type": "code",
   "execution_count": null,
   "metadata": {
    "jupyter": {
     "source_hidden": true
    },
    "tags": [
     "hide-input",
     "keep_output"
    ]
   },
   "outputs": [
    {
     "data": {
      "text/latex": [
       "$\\displaystyle \\begin{align*}\n",
       "\\rho_{i}(m^{2}) = & \\frac{\\sqrt[\\mathrm{c}]{\\frac{\\left(m^{2} - \\left({m_{a}}_{i} - {m_{b}}_{i}\\right)^{2}\\right) \\left(m^{2} - \\left({m_{a}}_{i} + {m_{b}}_{i}\\right)^{2}\\right)}{4 m^{2}}}}{8 \\pi m} \n",
       "\\end{align*}$"
      ],
      "text/plain": [
       "<IPython.core.display.Math object>"
      ]
     },
     "execution_count": null,
     "metadata": {},
     "output_type": "execute_result"
    }
   ],
   "source": [
    "Math(\n",
    "    sp.multiline_latex(\n",
    "        lhs=phsp_expr,\n",
    "        rhs=phsp_expr.doit().simplify().subs(sp.Abs(m), m),\n",
    "    )\n",
    ")"
   ]
  },
  {
   "cell_type": "markdown",
   "metadata": {},
   "source": [
    ":::{note}\n",
    "\n",
    "In `PhaseSpaceFactor`, we used {class}`~ampform.dynamics.phasespace.PhaseSpaceFactorComplex` instead of {class}`~ampform.dynamics.phasespace.PhaseSpaceFactor`, meaning that we choose the _positive_ square root when values under the square root are negative. The only reason for doing this is, so that there is output in the figure under {ref}`009/index:Visualization`. The choice for which square root to choose has to do with analyticity (see [TR-004](../004/index.ipynb)) and choosing which Riemann sheet to connect to. This issue is ignored in this report.\n",
    "\n",
    ":::"
   ]
  },
  {
   "cell_type": "markdown",
   "metadata": {},
   "source": [
    "## Generalization"
   ]
  },
  {
   "cell_type": "markdown",
   "metadata": {},
   "source": [
    "The implementation is quite similar to {ref}`that of TR-005 <005/index:Generalization>`, with the only difference being additional $\\boldsymbol{\\rho}$-matrix and the insertion of coupled width. Don't forget to convert back to $\\boldsymbol{T}$ from $\\boldsymbol{\\hat{T}}$ with Eq. {eq}`covariant-T-matrix`."
   ]
  },
  {
   "cell_type": "code",
   "execution_count": null,
   "metadata": {
    "tags": [
     "scroll-input"
    ]
   },
   "outputs": [],
   "source": [
    "def Kij_relativistic(\n",
    "    m: sp.Symbol,\n",
    "    M: sp.IndexedBase,\n",
    "    Gamma: sp.IndexedBase,\n",
    "    gamma: sp.IndexedBase,\n",
    "    i: int,\n",
    "    j: int,\n",
    "    n_resonances: int | sp.Symbol,\n",
    "    angular_momentum: int | sp.Symbol = 0,\n",
    ") -> sp.Expr:\n",
    "    def residue_function(i):\n",
    "        return gamma[R, i] * sp.sqrt(\n",
    "            M[R] * CoupledWidth(m**2, M, Gamma, m_a, m_b, angular_momentum, R, i)\n",
    "        )\n",
    "\n",
    "    g_i = residue_function(i)\n",
    "    g_j = residue_function(j)\n",
    "    parametrization = (g_i * g_j) / (M[R] ** 2 - m**2)\n",
    "    return sp.Sum(parametrization, (R, 0, n_resonances - 1))\n",
    "\n",
    "\n",
    "def relativistic_k_matrix(\n",
    "    n_resonances: int,\n",
    "    n_channels: int,\n",
    "    angular_momentum: int | sp.Symbol = 0,\n",
    ") -> sp.Matrix:\n",
    "    # Define symbols\n",
    "    m = sp.Symbol(\"m\", real=True)\n",
    "    M = sp.IndexedBase(\"m\", shape=(n_resonances,))\n",
    "    Gamma = sp.IndexedBase(\"Gamma\", shape=(n_resonances, n_channels))\n",
    "    gamma = sp.IndexedBase(\"gamma\", shape=(n_resonances, n_channels))\n",
    "    m_a = sp.IndexedBase(\"m_a\", shape=(n_channels,))\n",
    "    m_b = sp.IndexedBase(\"m_b\", shape=(n_channels,))\n",
    "    # Define phase space matrix\n",
    "    sqrt_rho = sp.zeros(n_channels, n_channels)\n",
    "    sqrt_rho_dagger = sp.zeros(n_channels, n_channels)\n",
    "    for i in range(n_channels):\n",
    "        rho = PhaseSpaceFactor(m**2, m_a[i], m_b[i], i)\n",
    "        sqrt_rho[i, i] = sp.sqrt(rho)\n",
    "        sqrt_rho_dagger[i, i] = 1 / sp.conjugate(sqrt_rho[i, i])\n",
    "    # Define K-matrix and T-matrix\n",
    "    K = create_symbol_matrix(\"K\", n_channels)\n",
    "    T_hat = K * (sp.eye(n_channels) - sp.I * rho * K).inv()\n",
    "    T = sqrt_rho_dagger * T_hat * sqrt_rho\n",
    "    # Substitute elements\n",
    "    return T.subs({\n",
    "        K[i, j]: Kij_relativistic(\n",
    "            m=m,\n",
    "            M=M,\n",
    "            Gamma=Gamma,\n",
    "            gamma=gamma,\n",
    "            i=i,\n",
    "            j=j,\n",
    "            n_resonances=n_resonances,\n",
    "            angular_momentum=angular_momentum,\n",
    "        )\n",
    "        for i in range(n_channels)\n",
    "        for j in range(n_channels)\n",
    "    })\n",
    "\n",
    "\n",
    "def create_symbol_matrix(name: str, n: int) -> sp.Matrix:\n",
    "    symbol = sp.IndexedBase(name, shape=(n, n))\n",
    "    return sp.Matrix([[symbol[i, j] for j in range(n)] for i in range(n)])"
   ]
  },
  {
   "cell_type": "markdown",
   "metadata": {
    "tags": [
     "full-width"
    ]
   },
   "source": [
    "Single channel, one resonance (compare {func}`~ampform.dynamics.relativistic_breit_wigner_with_ff`):"
   ]
  },
  {
   "cell_type": "code",
   "execution_count": null,
   "metadata": {
    "tags": [
     "keep_output"
    ]
   },
   "outputs": [
    {
     "data": {
      "text/latex": [
       "$\\displaystyle \\begin{align*}\n",
       "\\frac{\\sqrt{\\rho_{0}(m^{2})} \\sum_{R=0}^{0} \\frac{{\\Gamma_{R,0}}(m^{2}) {\\gamma}_{R,0}^{2} {m}_{R}}{- m^{2} + {m}_{R}^{2}}}{\\left(- i \\rho_{0}(m^{2}) \\sum_{R=0}^{0} \\frac{{\\Gamma_{R,0}}(m^{2}) {\\gamma}_{R,0}^{2} {m}_{R}}{- m^{2} + {m}_{R}^{2}} + 1\\right) \\overline{\\sqrt{\\rho_{0}(m^{2})}}} = &- \\frac{{\\Gamma_{0,0}}(m^{2}) {\\gamma}_{0,0}^{2} {m}_{0} \\sqrt{\\rho_{0}(m^{2})}}{\\left(m^{2} + i {\\Gamma_{0,0}}(m^{2}) {\\gamma}_{0,0}^{2} {m}_{0} \\rho_{0}(m^{2}) - {m}_{0}^{2}\\right) \\overline{\\sqrt{\\rho_{0}(m^{2})}}} \n",
       "\\end{align*}$"
      ],
      "text/plain": [
       "<IPython.core.display.Math object>"
      ]
     },
     "execution_count": null,
     "metadata": {},
     "output_type": "execute_result"
    }
   ],
   "source": [
    "expr = relativistic_k_matrix(n_resonances=1, n_channels=1)[0, 0]\n",
    "Math(\n",
    "    sp.multiline_latex(\n",
    "        lhs=expr,\n",
    "        rhs=symplot.partial_doit(expr, sp.Sum).simplify(doit=False),\n",
    "    )\n",
    ")"
   ]
  },
  {
   "cell_type": "markdown",
   "metadata": {},
   "source": [
    "Two channels, one resonance ('Flatté'):"
   ]
  },
  {
   "cell_type": "code",
   "execution_count": null,
   "metadata": {
    "tags": [
     "keep_output"
    ]
   },
   "outputs": [
    {
     "data": {
      "text/latex": [
       "$\\displaystyle \\frac{{\\Gamma_{0,0}}(m^{2}) {\\gamma}_{0,0}^{2} {m}_{0} \\sqrt{\\rho_{0}(m^{2})}}{\\left(- m^{2} - i {\\Gamma_{0,0}}(m^{2}) {\\gamma}_{0,0}^{2} {m}_{0} \\rho_{1}(m^{2}) - i {\\Gamma_{0,1}}(m^{2}) {\\gamma}_{0,1}^{2} {m}_{0} \\rho_{1}(m^{2}) + {m}_{0}^{2}\\right) \\overline{\\sqrt{\\rho_{0}(m^{2})}}}$"
      ],
      "text/plain": [
       "CoupledWidth(m**2, m, Gamma, m_a, m_b, 0, 0, 0)*gamma[0, 0]**2*m[0]*sqrt(PhaseSpaceFactor(m**2, m_a[0], m_b[0], 0))/((-m**2 - I*CoupledWidth(m**2, m, Gamma, m_a, m_b, 0, 0, 0)*gamma[0, 0]**2*m[0]*PhaseSpaceFactor(m**2, m_a[1], m_b[1], 1) - I*CoupledWidth(m**2, m, Gamma, m_a, m_b, 0, 0, 1)*gamma[0, 1]**2*m[0]*PhaseSpaceFactor(m**2, m_a[1], m_b[1], 1) + m[0]**2)*conjugate(sqrt(PhaseSpaceFactor(m**2, m_a[0], m_b[0], 0))))"
      ]
     },
     "execution_count": null,
     "metadata": {},
     "output_type": "execute_result"
    }
   ],
   "source": [
    "expr = relativistic_k_matrix(n_resonances=1, n_channels=2)[0, 0]\n",
    "symplot.partial_doit(expr, sp.Sum).simplify(doit=False)"
   ]
  },
  {
   "cell_type": "markdown",
   "metadata": {},
   "source": [
    "Single channel, $n_R$ resonances:"
   ]
  },
  {
   "cell_type": "code",
   "execution_count": null,
   "metadata": {
    "tags": [
     "keep_output"
    ]
   },
   "outputs": [
    {
     "data": {
      "text/latex": [
       "$\\displaystyle \\frac{\\sqrt{\\rho_{0}(m^{2})} \\sum_{R=0}^{n_{R} - 1} \\frac{{\\Gamma_{R,0}}(m^{2}) {\\gamma}_{R,0}^{2} {m}_{R}}{- m^{2} + {m}_{R}^{2}}}{\\left(- i \\rho_{0}(m^{2}) \\sum_{R=0}^{n_{R} - 1} \\frac{{\\Gamma_{R,0}}(m^{2}) {\\gamma}_{R,0}^{2} {m}_{R}}{- m^{2} + {m}_{R}^{2}} + 1\\right) \\overline{\\sqrt{\\rho_{0}(m^{2})}}}$"
      ],
      "text/plain": [
       "sqrt(PhaseSpaceFactor(m**2, m_a[0], m_b[0], 0))*Sum(CoupledWidth(m**2, m, Gamma, m_a, m_b, 0, R, 0)*gamma[R, 0]**2*m[R]/(-m**2 + m[R]**2), (R, 0, n_R - 1))/((-I*PhaseSpaceFactor(m**2, m_a[0], m_b[0], 0)*Sum(CoupledWidth(m**2, m, Gamma, m_a, m_b, 0, R, 0)*gamma[R, 0]**2*m[R]/(-m**2 + m[R]**2), (R, 0, n_R - 1)) + 1)*conjugate(sqrt(PhaseSpaceFactor(m**2, m_a[0], m_b[0], 0))))"
      ]
     },
     "execution_count": null,
     "metadata": {},
     "output_type": "execute_result"
    }
   ],
   "source": [
    "relativistic_k_matrix(n_resonances, n_channels=1)[0, 0]"
   ]
  },
  {
   "cell_type": "markdown",
   "metadata": {},
   "source": [
    "Two channels, $n_R$ resonances:"
   ]
  },
  {
   "cell_type": "code",
   "execution_count": null,
   "metadata": {
    "tags": [
     "full-width",
     "keep_output"
    ]
   },
   "outputs": [
    {
     "data": {
      "text/latex": [
       "$\\displaystyle \\begin{align*}\n",
       "\\mathtt{\\text{}} = & \\frac{\\left(\\frac{\\left(- i \\rho_{1}(m^{2}) \\sum_{R=0}^{n_{R} - 1} \\frac{{\\Gamma_{R,1}}(m^{2}) {\\gamma}_{R,1}^{2} {m}_{R}}{- m^{2} + {m}_{R}^{2}} + 1\\right) \\sum_{R=0}^{n_{R} - 1} \\frac{{\\Gamma_{R,0}}(m^{2}) {\\gamma}_{R,0}^{2} {m}_{R}}{- m^{2} + {m}_{R}^{2}}}{- \\rho_{1}(m^{2})^{2} \\left(\\sum_{R=0}^{n_{R} - 1} \\frac{{\\Gamma_{R,0}}(m^{2}) {\\gamma}_{R,0}^{2} {m}_{R}}{- m^{2} + {m}_{R}^{2}}\\right) \\sum_{R=0}^{n_{R} - 1} \\frac{{\\Gamma_{R,1}}(m^{2}) {\\gamma}_{R,1}^{2} {m}_{R}}{- m^{2} + {m}_{R}^{2}} + \\rho_{1}(m^{2})^{2} \\left(\\sum_{R=0}^{n_{R} - 1} \\frac{\\sqrt{{\\Gamma_{R,0}}(m^{2}) {m}_{R}} \\sqrt{{\\Gamma_{R,1}}(m^{2}) {m}_{R}} {\\gamma}_{R,0} {\\gamma}_{R,1}}{- m^{2} + {m}_{R}^{2}}\\right)^{2} - i \\rho_{1}(m^{2}) \\sum_{R=0}^{n_{R} - 1} \\frac{{\\Gamma_{R,0}}(m^{2}) {\\gamma}_{R,0}^{2} {m}_{R}}{- m^{2} + {m}_{R}^{2}} - i \\rho_{1}(m^{2}) \\sum_{R=0}^{n_{R} - 1} \\frac{{\\Gamma_{R,1}}(m^{2}) {\\gamma}_{R,1}^{2} {m}_{R}}{- m^{2} + {m}_{R}^{2}} + 1} + \\frac{i \\rho_{1}(m^{2}) \\left(\\sum_{R=0}^{n_{R} - 1} \\frac{\\sqrt{{\\Gamma_{R,0}}(m^{2}) {m}_{R}} \\sqrt{{\\Gamma_{R,1}}(m^{2}) {m}_{R}} {\\gamma}_{R,0} {\\gamma}_{R,1}}{- m^{2} + {m}_{R}^{2}}\\right)^{2}}{- \\rho_{1}(m^{2})^{2} \\left(\\sum_{R=0}^{n_{R} - 1} \\frac{{\\Gamma_{R,0}}(m^{2}) {\\gamma}_{R,0}^{2} {m}_{R}}{- m^{2} + {m}_{R}^{2}}\\right) \\sum_{R=0}^{n_{R} - 1} \\frac{{\\Gamma_{R,1}}(m^{2}) {\\gamma}_{R,1}^{2} {m}_{R}}{- m^{2} + {m}_{R}^{2}} + \\rho_{1}(m^{2})^{2} \\left(\\sum_{R=0}^{n_{R} - 1} \\frac{\\sqrt{{\\Gamma_{R,0}}(m^{2}) {m}_{R}} \\sqrt{{\\Gamma_{R,1}}(m^{2}) {m}_{R}} {\\gamma}_{R,0} {\\gamma}_{R,1}}{- m^{2} + {m}_{R}^{2}}\\right)^{2} - i \\rho_{1}(m^{2}) \\sum_{R=0}^{n_{R} - 1} \\frac{{\\Gamma_{R,0}}(m^{2}) {\\gamma}_{R,0}^{2} {m}_{R}}{- m^{2} + {m}_{R}^{2}} - i \\rho_{1}(m^{2}) \\sum_{R=0}^{n_{R} - 1} \\frac{{\\Gamma_{R,1}}(m^{2}) {\\gamma}_{R,1}^{2} {m}_{R}}{- m^{2} + {m}_{R}^{2}} + 1}\\right) \\sqrt{\\rho_{0}(m^{2})}}{\\overline{\\sqrt{\\rho_{0}(m^{2})}}} \n",
       "\\end{align*}$"
      ],
      "text/plain": [
       "<IPython.core.display.Math object>"
      ]
     },
     "execution_count": null,
     "metadata": {},
     "output_type": "execute_result"
    }
   ],
   "source": [
    "expr = relativistic_k_matrix(n_resonances, n_channels=2)[0, 0]\n",
    "Math(sp.multiline_latex(\"\", expr))"
   ]
  },
  {
   "cell_type": "markdown",
   "metadata": {},
   "source": [
    "## Visualization"
   ]
  },
  {
   "cell_type": "markdown",
   "metadata": {},
   "source": [
    ":::{margin}\n",
    "\n",
    "[TR-008](../008/index.ipynb) explains the need for {func}`symplot.substitute_indexed_symbols`.\n",
    "\n",
    ":::"
   ]
  },
  {
   "cell_type": "code",
   "execution_count": null,
   "metadata": {
    "tags": [
     "remove-input"
    ]
   },
   "outputs": [],
   "source": [
    "%matplotlib widget"
   ]
  },
  {
   "cell_type": "code",
   "execution_count": null,
   "metadata": {
    "jupyter": {
     "source_hidden": true
    },
    "tags": [
     "hide-input",
     "scroll-input"
    ]
   },
   "outputs": [],
   "source": [
    "def plot_relativistic_k_matrix(\n",
    "    n_channels: int,\n",
    "    n_resonances: int,\n",
    "    angular_momentum: int | sp.Symbol = 0,\n",
    "    title: str = \"\",\n",
    ") -> None:\n",
    "    # Convert to Symbol: symplot cannot handle IndexedBase\n",
    "    epsilon = sp.Symbol(\"epsilon\")\n",
    "    i, j = sp.symbols(\"i, j\", integer=True, negative=False)\n",
    "    j = i\n",
    "    expr = relativistic_k_matrix(\n",
    "        n_resonances, n_channels, angular_momentum=angular_momentum\n",
    "    ).doit()[i, j]\n",
    "    expr = symplot.substitute_indexed_symbols(expr)\n",
    "    expr = expr.subs(m, m + epsilon * sp.I)\n",
    "    np_expr, sliders = symplot.prepare_sliders(expr, m)\n",
    "    symbol_to_arg = {symbol: arg for arg, symbol in sliders._arg_to_symbol.items()}\n",
    "\n",
    "    # Set plot domain\n",
    "    x_min, x_max = 1e-3, 3\n",
    "    y_min, y_max = -0.5, +0.5\n",
    "\n",
    "    plot_domain = np.linspace(x_min, x_max, num=500)\n",
    "    x_values = np.linspace(x_min, x_max, num=160)\n",
    "    y_values = np.linspace(y_min, y_max, num=80)\n",
    "    X, Y = np.meshgrid(x_values, y_values)\n",
    "    plot_domain_complex = X + Y * 1j\n",
    "\n",
    "    # Set slider values and ranges\n",
    "    m0_values = np.linspace(x_min, x_max, num=n_resonances + 2)\n",
    "    m0_values = m0_values[1:-1]\n",
    "    if \"L\" in sliders:\n",
    "        sliders.set_ranges(L=(0, 8))\n",
    "    for R in range(n_resonances):\n",
    "        for i in range(n_channels):\n",
    "            sliders.set_ranges({\n",
    "                \"i\": (0, n_channels - 1),\n",
    "                \"epsilon\": (y_min * 0.2, y_max * 0.2, 0.01),\n",
    "                f\"m{R}\": (0, 3, 100),\n",
    "                Rf\"\\Gamma_{{{R},{i}}}\": (-2, +2, 100),\n",
    "                Rf\"\\gamma_{{{R},{i}}}\": (0, 10, 100),\n",
    "                f\"m_a{i}\": (0, 1, 0.01),\n",
    "                f\"m_b{i}\": (0, 1, 0.01),\n",
    "            })\n",
    "            sliders.set_values({\n",
    "                f\"m{R}\": m0_values[R],\n",
    "                Rf\"\\Gamma_{{{R},{i}}}\": 2.0 * (0.4 + R * 0.2 - i * 0.3),\n",
    "                Rf\"\\gamma_{{{R},{i}}}\": 0.25 * (10 - R + i),\n",
    "                f\"m_a{i}\": (i + 1) * 0.25,\n",
    "                f\"m_b{i}\": (i + 1) * 0.25,\n",
    "            })\n",
    "\n",
    "    # Create interactive plots\n",
    "    controls = Controls(**sliders)\n",
    "    fig, axes = plt.subplots(\n",
    "        nrows=2,\n",
    "        figsize=(8, 6),\n",
    "        sharex=True,\n",
    "        tight_layout=True,\n",
    "    )\n",
    "    fig.canvas.toolbar_visible = False\n",
    "    fig.canvas.header_visible = False\n",
    "    fig.canvas.footer_visible = False\n",
    "    if not title:\n",
    "        title = (\n",
    "            Rf\"${n_channels} \\times {n_channels}$ $K$-matrix\"\n",
    "            f\" with {n_resonances} resonances\"\n",
    "        )\n",
    "    fig.suptitle(title)\n",
    "\n",
    "    for ax in axes:\n",
    "        ax.set_xlim(x_min, x_max)\n",
    "    ax_2d, ax_3d = axes\n",
    "    ax_2d.set_ylabel(\"$|T|^{2}$\")\n",
    "    ax_2d.set_yticks([])\n",
    "    ax_3d.set_xlabel(\"Re $m$\")\n",
    "    ax_3d.set_ylabel(\"Im $m$\")\n",
    "    ax_3d.set_xticks([])\n",
    "    ax_3d.set_yticks([])\n",
    "    ax_3d.set_facecolor(\"white\")\n",
    "\n",
    "    ax_3d.axhline(0, linewidth=0.5, c=\"black\", linestyle=\"dotted\")\n",
    "\n",
    "    # 2D plot\n",
    "    def plot(channel: int):\n",
    "        def wrapped(*args, **kwargs) -> sp.Expr:\n",
    "            kwargs[\"i\"] = channel\n",
    "            return np.abs(np_expr(*args, **kwargs)) ** 2\n",
    "\n",
    "        return wrapped\n",
    "\n",
    "    for i in range(n_channels):\n",
    "        iplt.plot(\n",
    "            plot_domain,\n",
    "            plot(i),\n",
    "            ax=axes[0],\n",
    "            controls=controls,\n",
    "            ylim=\"auto\",\n",
    "            label=f\"channel {i}\",\n",
    "        )\n",
    "    if n_channels > 1:\n",
    "        axes[0].legend(loc=\"upper right\")\n",
    "    mass_line_style = {\n",
    "        \"c\": \"red\",\n",
    "        \"alpha\": 0.3,\n",
    "    }\n",
    "    for name in controls.params:\n",
    "        if not re.match(r\"^m[0-9]+$\", name):\n",
    "            continue\n",
    "        iplt.axvline(controls[name], ax=axes[0], **mass_line_style)\n",
    "\n",
    "    # 3D plot\n",
    "    color_mesh = None\n",
    "    epsilon_indicator = None\n",
    "    resonances_indicators = []\n",
    "    threshold_indicators = []\n",
    "\n",
    "    def plot3(*, z_cutoff, complex_rendering, **kwargs):\n",
    "        nonlocal color_mesh, epsilon_indicator\n",
    "        epsilon = kwargs[\"epsilon\"]\n",
    "        kwargs[\"epsilon\"] = 0\n",
    "        Z = np_expr(plot_domain_complex, **kwargs)\n",
    "        if complex_rendering == \"imag\":\n",
    "            Z_values = Z.imag\n",
    "            ax_title = \"Re $T$\"\n",
    "        elif complex_rendering == \"real\":\n",
    "            Z_values = Z.real\n",
    "            ax_title = \"Im $T$\"\n",
    "        elif complex_rendering == \"abs\":\n",
    "            Z_values = np.abs(Z)\n",
    "            ax_title = \"$|T|$\"\n",
    "        else:\n",
    "            raise NotImplementedError\n",
    "\n",
    "        if n_channels == 1:\n",
    "            axes[-1].set_title(ax_title)\n",
    "        else:\n",
    "            i = kwargs[\"i\"]\n",
    "            axes[-1].set_title(f\"{ax_title}, channel {i}\")\n",
    "\n",
    "        if color_mesh is None:\n",
    "            color_mesh = ax_3d.pcolormesh(X, Y, Z_values, cmap=plt.cm.coolwarm)\n",
    "        else:\n",
    "            color_mesh.set_array(Z_values)\n",
    "        color_mesh.set_clim(vmin=-z_cutoff, vmax=+z_cutoff)\n",
    "\n",
    "        if resonances_indicators:\n",
    "            for R, (line, text) in enumerate(resonances_indicators):\n",
    "                mass = kwargs[f\"m{R}\"]\n",
    "                line.set_xdata(mass)\n",
    "                text.set_x(mass + (x_max - x_min) * 0.008)\n",
    "        else:\n",
    "            for R in range(n_resonances):\n",
    "                mass = kwargs[f\"m{R}\"]\n",
    "                line = ax_3d.axvline(mass, **mass_line_style)\n",
    "                text = ax_3d.text(\n",
    "                    x=mass + (x_max - x_min) * 0.008,\n",
    "                    y=0.95 * y_min,\n",
    "                    s=f\"$m_{R}$\",\n",
    "                    c=\"red\",\n",
    "                )\n",
    "                resonances_indicators.append((line, text))\n",
    "\n",
    "        if epsilon_indicator is None:\n",
    "            line = ax.axhline(\n",
    "                epsilon,\n",
    "                linewidth=0.5,\n",
    "                c=\"blue\",\n",
    "                linestyle=\"dotted\",\n",
    "                label=R\"$\\epsilon$\",\n",
    "            )\n",
    "            text = axes[-1].text(\n",
    "                x=x_min + 0.008,\n",
    "                y=epsilon + 0.01,\n",
    "                s=R\"$\\epsilon$\",\n",
    "                c=\"blue\",\n",
    "            )\n",
    "            epsilon_indicator = line, text\n",
    "        else:\n",
    "            line, text = epsilon_indicator\n",
    "            line.set_xdata(epsilon)\n",
    "            text.set_y(epsilon + 0.01)\n",
    "\n",
    "        x_offset = (x_max - x_min) * 0.015\n",
    "        if threshold_indicators:\n",
    "            for i, (line_thr, line_diff, text_thr, text_diff) in enumerate(\n",
    "                threshold_indicators\n",
    "            ):\n",
    "                m_a = kwargs[f\"m_a{i}\"]\n",
    "                m_b = kwargs[f\"m_b{i}\"]\n",
    "                s_thr = m_a + m_b\n",
    "                m_diff = m_a - m_b\n",
    "                line_thr.set_xdata(s_thr)\n",
    "                line_diff.set_xdata(m_diff)\n",
    "                text_thr.set_x(s_thr)\n",
    "                text_diff.set_x(m_diff - x_offset)\n",
    "        else:\n",
    "            colors = plt.cm.plasma(np.linspace(0, 1, n_channels))\n",
    "            for i, color in enumerate(colors):\n",
    "                m_a = kwargs[f\"m_a{i}\"]\n",
    "                m_b = kwargs[f\"m_b{i}\"]\n",
    "                s_thr = m_a + m_b\n",
    "                m_diff = m_a - m_b\n",
    "                line_thr = ax.axvline(s_thr, c=color, linestyle=\"dotted\")\n",
    "                line_diff = ax.axvline(m_diff, c=color, linestyle=\"dashed\")\n",
    "                text_thr = ax.text(\n",
    "                    x=s_thr,\n",
    "                    y=0.95 * y_min,\n",
    "                    s=f\"$m_{{a{i}}}+m_{{b{i}}}$\",\n",
    "                    c=color,\n",
    "                    rotation=-90,\n",
    "                )\n",
    "                text_diff = ax.text(\n",
    "                    x=m_diff - x_offset,\n",
    "                    y=0.95 * y_min,\n",
    "                    s=f\"$m_{{a{i}}}-m_{{b{i}}}$\",\n",
    "                    c=color,\n",
    "                    rotation=+90,\n",
    "                )\n",
    "                threshold_indicators.append((line_thr, line_diff, text_thr, text_diff))\n",
    "        for i, (_, line_diff, _, text_diff) in enumerate(threshold_indicators):\n",
    "            m_a = kwargs[f\"m_a{i}\"]\n",
    "            m_b = kwargs[f\"m_b{i}\"]\n",
    "            s_thr = m_a + m_b\n",
    "            m_diff = m_a - m_b\n",
    "            if m_diff > x_offset + 0.01 and s_thr - abs(m_diff) > x_offset:\n",
    "                line_diff.set_alpha(0.5)\n",
    "                text_diff.set_alpha(0.5)\n",
    "            else:\n",
    "                line_diff.set_alpha(0)\n",
    "                text_diff.set_alpha(0)\n",
    "\n",
    "    # Create switch for imag/real/abs\n",
    "    name = \"complex_rendering\"\n",
    "    sliders._sliders[name] = ipywidgets.RadioButtons(\n",
    "        options=[\"imag\", \"real\", \"abs\"],\n",
    "        description=R\"\\(s\\)-plane plot\",\n",
    "    )\n",
    "    sliders._arg_to_symbol[name] = name\n",
    "\n",
    "    # Create cut-off slider for z-direction\n",
    "    name = \"z_cutoff\"\n",
    "    sliders._sliders[name] = ipywidgets.IntSlider(\n",
    "        value=30,\n",
    "        min=+1,\n",
    "        max=+100,\n",
    "        description=R\"\\(z\\)-cutoff\",\n",
    "    )\n",
    "    sliders._arg_to_symbol[name] = name\n",
    "\n",
    "    # Create GUI\n",
    "    sliders_copy = dict(sliders)\n",
    "    h_boxes = []\n",
    "    for R in range(n_resonances):\n",
    "        buttons = [sliders_copy.pop(f\"m{R}\")]\n",
    "        if n_channels == 1:\n",
    "            buttons.append(sliders_copy.pop(symbol_to_arg[Rf\"\\Gamma_{{{R},0}}\"]))\n",
    "            buttons.append(sliders_copy.pop(symbol_to_arg[Rf\"\\gamma_{{{R},0}}\"]))\n",
    "        h_box = ipywidgets.HBox(buttons)\n",
    "        h_boxes.append(h_box)\n",
    "    remaining_sliders = sorted(\n",
    "        sliders_copy.values(), key=lambda s: (str(type(s)), s.description)\n",
    "    )\n",
    "    if n_channels == 1:\n",
    "        remaining_sliders.remove(sliders[\"i\"])\n",
    "    ui = ipywidgets.VBox(h_boxes + remaining_sliders)\n",
    "    output = ipywidgets.interactive_output(plot3, controls=sliders)\n",
    "    display(ui, output)"
   ]
  },
  {
   "cell_type": "code",
   "execution_count": null,
   "metadata": {
    "jupyter": {
     "source_hidden": true
    },
    "tags": [
     "remove-cell"
    ]
   },
   "outputs": [],
   "source": [
    "if STATIC_WEB_PAGE:\n",
    "    L = 0"
   ]
  },
  {
   "cell_type": "code",
   "execution_count": null,
   "metadata": {
    "keep_output": false
   },
   "outputs": [],
   "source": [
    "plot_relativistic_k_matrix(\n",
    "    n_resonances=2,\n",
    "    n_channels=1,\n",
    "    angular_momentum=L,\n",
    "    title=\"Relativistic $K$-matrix, single channel\",\n",
    ")"
   ]
  },
  {
   "cell_type": "markdown",
   "metadata": {},
   "source": [
    "{{ run_interactive }}\n",
    "\n",
    "![](https://user-images.githubusercontent.com/29308176/164993776-43db5a5e-82b9-42f1-93c0-5d992d50477c.gif)"
   ]
  }
 ],
 "metadata": {
  "colab": {
   "toc_visible": true
  },
  "kernelspec": {
   "display_name": "Pyproject Local",
   "language": "python",
   "name": "pyproject_local_kernel"
  },
  "language_info": {
   "codemirror_mode": {
    "name": "ipython",
    "version": 3
   },
   "file_extension": ".py",
   "mimetype": "text/x-python",
   "name": "python",
   "nbconvert_exporter": "python",
   "pygments_lexer": "ipython3",
   "version": "3.12.6"
  }
 },
 "nbformat": 4,
 "nbformat_minor": 4
}
