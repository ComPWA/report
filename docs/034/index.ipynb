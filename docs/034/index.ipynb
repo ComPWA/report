{
 "cells": [
  {
   "cell_type": "markdown",
   "metadata": {
    "tags": [
     "remove-cell"
    ]
   },
   "source": [
    "```{autolink-concat}\n",
    "```"
   ]
  },
  {
   "cell_type": "markdown",
   "metadata": {
    "tags": [
     "physics"
    ]
   },
   "source": [
    "::::{margin}\n",
    ":::{card} Wigner&nbsp;$D$ and Pauli matrices\n",
    "TR-034\n",
    "^^^\n",
    "This report shows the symbolic representation of the Wigner-$d$ and -$D$ matrix elements and shows how $D^\\tfrac{1}{2}$ is related to the Pauli matrices.\n",
    ":::\n",
    "::::"
   ]
  },
  {
   "cell_type": "markdown",
   "metadata": {},
   "source": [
    "# Wigner&nbsp;$D$ and Pauli matrices"
   ]
  },
  {
   "cell_type": "code",
   "execution_count": null,
   "metadata": {
    "jupyter": {
     "source_hidden": true
    },
    "mystnb": {
     "code_prompt_show": "Import Python libraries"
    },
    "tags": [
     "hide-cell"
    ]
   },
   "outputs": [],
   "source": [
    "import sympy as sp\n",
    "from ampform.io import aslatex\n",
    "from IPython.display import Math\n",
    "from sympy import pi\n",
    "from sympy.physics.matrices import msigma\n",
    "from sympy.physics.quantum.spin import Rotation as Wigner\n",
    "\n",
    "j, m, mp = sp.symbols(R\"j m m^{\\prime}\", nonnegative=True, rational=True)\n",
    "alpha, beta, gamma = sp.symbols(\"alpha beta gamma\", real=True)\n",
    "half = sp.Rational(0.5)"
   ]
  },
  {
   "cell_type": "markdown",
   "metadata": {},
   "source": [
    "## Big Wigner&nbsp;$D$ matrices"
   ]
  },
  {
   "cell_type": "code",
   "execution_count": null,
   "metadata": {
    "jupyter": {
     "source_hidden": true
    },
    "mystnb": {
     "code_prompt_show": "Helper functions"
    },
    "tags": [
     "hide-input"
    ]
   },
   "outputs": [],
   "source": [
    "def render_wigner_big_d(j: sp.Rational) -> Math:\n",
    "    symbol = Wigner.D(j, m, mp, alpha, beta, gamma)\n",
    "    expr = get_wigner_big_d(j)\n",
    "    return Math(aslatex({symbol: sp.latex(expr)}))\n",
    "\n",
    "\n",
    "def get_wigner_big_d(j: sp.Rational) -> sp.Matrix:\n",
    "    dim = int(2 * j + 1)\n",
    "    return sp.Matrix([\n",
    "        [\n",
    "            Wigner.D(j, x - j, y - j, alpha, beta, gamma).doit().simplify()\n",
    "            for x in range(dim)\n",
    "        ]\n",
    "        for y in range(dim)\n",
    "    ])"
   ]
  },
  {
   "cell_type": "code",
   "execution_count": null,
   "metadata": {},
   "outputs": [],
   "source": [
    "render_wigner_big_d(j=half)"
   ]
  },
  {
   "cell_type": "code",
   "execution_count": null,
   "metadata": {},
   "outputs": [],
   "source": [
    "render_wigner_big_d(j=1)"
   ]
  },
  {
   "cell_type": "markdown",
   "metadata": {},
   "source": [
    "## Small Wigner&nbsp;$d$ matrices"
   ]
  },
  {
   "cell_type": "code",
   "execution_count": null,
   "metadata": {
    "jupyter": {
     "source_hidden": true
    },
    "mystnb": {
     "code_prompt_show": "Helper functions"
    },
    "tags": [
     "hide-input"
    ]
   },
   "outputs": [],
   "source": [
    "def render_wigner_small_d(j: sp.Rational) -> Math:\n",
    "    symbol = Wigner.d(j, m, mp, beta)\n",
    "    expr = get_wigner_small_d(j)\n",
    "    return Math(aslatex({symbol: sp.latex(expr)}))\n",
    "\n",
    "\n",
    "def get_wigner_small_d(j: sp.Rational) -> sp.Matrix:\n",
    "    dim = int(2 * j + 1)\n",
    "    return sp.Matrix([\n",
    "        [Wigner.d(j, x - j, y - j, beta).doit().simplify() for x in range(dim)]\n",
    "        for y in range(dim)\n",
    "    ])"
   ]
  },
  {
   "cell_type": "code",
   "execution_count": null,
   "metadata": {},
   "outputs": [],
   "source": [
    "render_wigner_small_d(j=half)"
   ]
  },
  {
   "cell_type": "code",
   "execution_count": null,
   "metadata": {},
   "outputs": [],
   "source": [
    "render_wigner_small_d(j=1)"
   ]
  },
  {
   "cell_type": "code",
   "execution_count": null,
   "metadata": {
    "tags": [
     "full-width"
    ]
   },
   "outputs": [],
   "source": [
    "render_wigner_small_d(j=3 * half)"
   ]
  },
  {
   "cell_type": "markdown",
   "metadata": {},
   "source": [
    "## Relation to Pauli matrices"
   ]
  },
  {
   "cell_type": "markdown",
   "metadata": {},
   "source": [
    "Note how the Pauli matrices are related to the rotation around each axis in 3D space, which lives in $SO(3)$, and each Wigner-$D$ matrix, which lives in $SU(2)$:\n",
    "\n",
    "$$\n",
    "\\begin{array}{rcl}\n",
    "\\sigma_x &=& i \\, D^\\tfrac{1}{2}(-\\pi,0,0) \\\\\n",
    "\\sigma_y &=& i \\, D^\\tfrac{1}{2}(0,+\\pi,0) \\\\\n",
    "\\sigma_z &=& i \\, D^\\tfrac{1}{2}(0,0,-\\pi) \\,.\n",
    "\\end{array}\n",
    "$$"
   ]
  },
  {
   "cell_type": "code",
   "execution_count": null,
   "metadata": {
    "tags": [
     "hide-input"
    ]
   },
   "outputs": [],
   "source": [
    "Math(aslatex({Rf\"\\sigma_{x}\": sp.latex(msigma(i)) for i, x in enumerate(\"xyz\", 1)}))"
   ]
  },
  {
   "cell_type": "code",
   "execution_count": null,
   "metadata": {},
   "outputs": [],
   "source": [
    "sp.I * get_wigner_big_d(j=half).subs({\n",
    "    alpha: -pi,\n",
    "    beta: 0,\n",
    "    gamma: 0,\n",
    "})"
   ]
  },
  {
   "cell_type": "code",
   "execution_count": null,
   "metadata": {},
   "outputs": [],
   "source": [
    "sp.I * get_wigner_big_d(j=half).subs({\n",
    "    alpha: 0,\n",
    "    beta: pi,\n",
    "    gamma: 0,\n",
    "})"
   ]
  },
  {
   "cell_type": "code",
   "execution_count": null,
   "metadata": {},
   "outputs": [],
   "source": [
    "sp.I * get_wigner_big_d(j=half).subs({\n",
    "    alpha: 0,\n",
    "    beta: 0,\n",
    "    gamma: -pi,\n",
    "})"
   ]
  }
 ],
 "metadata": {
  "colab": {
   "toc_visible": true
  },
  "kernelspec": {
   "display_name": "Pyproject Local",
   "language": "python",
   "name": "pyproject_local_kernel"
  },
  "language_info": {
   "codemirror_mode": {
    "name": "ipython",
    "version": 3
   },
   "file_extension": ".py",
   "mimetype": "text/x-python",
   "name": "python",
   "nbconvert_exporter": "python",
   "pygments_lexer": "ipython3",
   "version": "3.12.7"
  }
 },
 "nbformat": 4,
 "nbformat_minor": 4
}
