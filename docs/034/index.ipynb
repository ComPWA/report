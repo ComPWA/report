{
 "cells": [
  {
   "cell_type": "markdown",
   "metadata": {
    "tags": [
     "remove-cell"
    ]
   },
   "source": [
    "```{autolink-concat}\n",
    "```"
   ]
  },
  {
   "cell_type": "markdown",
   "metadata": {
    "tags": [
     "physics"
    ]
   },
   "source": [
    "::::{margin}\n",
    ":::{card} Wigner&nbsp;$D$ and Pauli matrices\n",
    "TR-034\n",
    "^^^\n",
    "This report shows the symbolic representation of the Wigner-$d$ and -$D$ matrix elements and shows how $D^\\tfrac{1}{2}$ is related to the Pauli matrices.\n",
    ":::\n",
    "::::"
   ]
  },
  {
   "cell_type": "markdown",
   "metadata": {},
   "source": [
    "# Wigner&nbsp;$D$ and Pauli matrices"
   ]
  },
  {
   "cell_type": "code",
   "execution_count": null,
   "metadata": {
    "jupyter": {
     "source_hidden": true
    },
    "mystnb": {
     "code_prompt_show": "Import Python libraries"
    },
    "tags": [
     "hide-cell",
     "remove-output"
    ]
   },
   "outputs": [],
   "source": [
    "import sympy as sp\n",
    "from ampform.io import aslatex\n",
    "from IPython.display import Math\n",
    "from sympy import pi\n",
    "from sympy.physics.matrices import msigma\n",
    "from sympy.physics.quantum.spin import Rotation as Wigner\n",
    "\n",
    "j, m, mp = sp.symbols(R\"j m m^{\\prime}\", nonnegative=True, rational=True)\n",
    "alpha, beta, gamma = sp.symbols(\"alpha beta gamma\", real=True)\n",
    "half = sp.Rational(0.5)"
   ]
  },
  {
   "cell_type": "markdown",
   "metadata": {},
   "source": [
    "## Big Wigner&nbsp;$D$ matrices"
   ]
  },
  {
   "cell_type": "code",
   "execution_count": null,
   "metadata": {
    "jupyter": {
     "source_hidden": true
    },
    "mystnb": {
     "code_prompt_show": "Helper functions"
    },
    "tags": [
     "hide-input"
    ]
   },
   "outputs": [],
   "source": [
    "def render_wigner_big_d(j: sp.Rational) -> Math:\n",
    "    symbol = Wigner.D(j, m, mp, alpha, beta, gamma)\n",
    "    expr = get_wigner_big_d(j)\n",
    "    return Math(aslatex({symbol: sp.latex(expr)}))\n",
    "\n",
    "\n",
    "def get_wigner_big_d(j: sp.Rational) -> sp.Matrix:\n",
    "    dim = int(2 * j + 1)\n",
    "    return sp.Matrix([\n",
    "        [\n",
    "            Wigner.D(j, x - j, y - j, alpha, beta, gamma).doit().simplify()\n",
    "            for x in range(dim)\n",
    "        ]\n",
    "        for y in range(dim)\n",
    "    ])"
   ]
  },
  {
   "cell_type": "code",
   "execution_count": null,
   "metadata": {
    "tags": [
     "keep_output"
    ]
   },
   "outputs": [
    {
     "data": {
      "text/latex": [
       "$\\displaystyle \\begin{array}{rcl}\n",
       "  D^{\\frac{1}{2}}_{m,m^{\\prime}}\\left(\\alpha,\\beta,\\gamma\\right) &=& \\left[\\begin{matrix}e^{\\frac{i \\left(\\alpha + \\gamma\\right)}{2}} \\cos{\\left(\\frac{\\beta}{2} \\right)} & - e^{- \\frac{i \\left(\\alpha - \\gamma\\right)}{2}} \\sin{\\left(\\frac{\\beta}{2} \\right)}\\\\e^{\\frac{i \\left(\\alpha - \\gamma\\right)}{2}} \\sin{\\left(\\frac{\\beta}{2} \\right)} & e^{- \\frac{i \\left(\\alpha + \\gamma\\right)}{2}} \\cos{\\left(\\frac{\\beta}{2} \\right)}\\end{matrix}\\right] \\\\\n",
       "\\end{array}$"
      ],
      "text/plain": [
       "<IPython.core.display.Math object>"
      ]
     },
     "execution_count": null,
     "metadata": {},
     "output_type": "execute_result"
    }
   ],
   "source": [
    "render_wigner_big_d(j=half)"
   ]
  },
  {
   "cell_type": "code",
   "execution_count": null,
   "metadata": {
    "tags": [
     "keep_output"
    ]
   },
   "outputs": [
    {
     "data": {
      "text/latex": [
       "$\\displaystyle \\begin{array}{rcl}\n",
       "  D^{1}_{m,m^{\\prime}}\\left(\\alpha,\\beta,\\gamma\\right) &=& \\left[\\begin{matrix}\\frac{\\left(\\cos{\\left(\\beta \\right)} + 1\\right) e^{i \\left(\\alpha + \\gamma\\right)}}{2} & - \\frac{\\sqrt{2} e^{i \\gamma} \\sin{\\left(\\beta \\right)}}{2} & \\frac{\\left(1 - \\cos{\\left(\\beta \\right)}\\right) e^{i \\left(- \\alpha + \\gamma\\right)}}{2}\\\\\\frac{\\sqrt{2} e^{i \\alpha} \\sin{\\left(\\beta \\right)}}{2} & \\cos{\\left(\\beta \\right)} & - \\frac{\\sqrt{2} e^{- i \\alpha} \\sin{\\left(\\beta \\right)}}{2}\\\\\\frac{\\left(1 - \\cos{\\left(\\beta \\right)}\\right) e^{i \\left(\\alpha - \\gamma\\right)}}{2} & \\frac{\\sqrt{2} e^{- i \\gamma} \\sin{\\left(\\beta \\right)}}{2} & \\frac{\\left(\\cos{\\left(\\beta \\right)} + 1\\right) e^{- i \\left(\\alpha + \\gamma\\right)}}{2}\\end{matrix}\\right] \\\\\n",
       "\\end{array}$"
      ],
      "text/plain": [
       "<IPython.core.display.Math object>"
      ]
     },
     "execution_count": null,
     "metadata": {},
     "output_type": "execute_result"
    }
   ],
   "source": [
    "render_wigner_big_d(j=1)"
   ]
  },
  {
   "cell_type": "markdown",
   "metadata": {},
   "source": [
    "## Small Wigner&nbsp;$d$ matrices"
   ]
  },
  {
   "cell_type": "code",
   "execution_count": null,
   "metadata": {
    "jupyter": {
     "source_hidden": true
    },
    "mystnb": {
     "code_prompt_show": "Helper functions"
    },
    "tags": [
     "hide-input"
    ]
   },
   "outputs": [],
   "source": [
    "def render_wigner_small_d(j: sp.Rational) -> Math:\n",
    "    symbol = Wigner.d(j, m, mp, beta)\n",
    "    expr = get_wigner_small_d(j)\n",
    "    return Math(aslatex({symbol: sp.latex(expr)}))\n",
    "\n",
    "\n",
    "def get_wigner_small_d(j: sp.Rational) -> sp.Matrix:\n",
    "    dim = int(2 * j + 1)\n",
    "    return sp.Matrix([\n",
    "        [Wigner.d(j, x - j, y - j, beta).doit().simplify() for x in range(dim)]\n",
    "        for y in range(dim)\n",
    "    ])"
   ]
  },
  {
   "cell_type": "code",
   "execution_count": null,
   "metadata": {
    "tags": [
     "keep_output"
    ]
   },
   "outputs": [
    {
     "data": {
      "text/latex": [
       "$\\displaystyle \\begin{array}{rcl}\n",
       "  d^{\\frac{1}{2}}_{m,m^{\\prime}}\\left(\\beta\\right) &=& \\left[\\begin{matrix}\\cos{\\left(\\frac{\\beta}{2} \\right)} & - \\sin{\\left(\\frac{\\beta}{2} \\right)}\\\\\\sin{\\left(\\frac{\\beta}{2} \\right)} & \\cos{\\left(\\frac{\\beta}{2} \\right)}\\end{matrix}\\right] \\\\\n",
       "\\end{array}$"
      ],
      "text/plain": [
       "<IPython.core.display.Math object>"
      ]
     },
     "execution_count": null,
     "metadata": {},
     "output_type": "execute_result"
    }
   ],
   "source": [
    "render_wigner_small_d(j=half)"
   ]
  },
  {
   "cell_type": "code",
   "execution_count": null,
   "metadata": {
    "tags": [
     "keep_output"
    ]
   },
   "outputs": [
    {
     "data": {
      "text/latex": [
       "$\\displaystyle \\begin{array}{rcl}\n",
       "  d^{1}_{m,m^{\\prime}}\\left(\\beta\\right) &=& \\left[\\begin{matrix}\\frac{\\cos{\\left(\\beta \\right)}}{2} + \\frac{1}{2} & - \\frac{\\sqrt{2} \\sin{\\left(\\beta \\right)}}{2} & \\frac{1}{2} - \\frac{\\cos{\\left(\\beta \\right)}}{2}\\\\\\frac{\\sqrt{2} \\sin{\\left(\\beta \\right)}}{2} & \\cos{\\left(\\beta \\right)} & - \\frac{\\sqrt{2} \\sin{\\left(\\beta \\right)}}{2}\\\\\\frac{1}{2} - \\frac{\\cos{\\left(\\beta \\right)}}{2} & \\frac{\\sqrt{2} \\sin{\\left(\\beta \\right)}}{2} & \\frac{\\cos{\\left(\\beta \\right)}}{2} + \\frac{1}{2}\\end{matrix}\\right] \\\\\n",
       "\\end{array}$"
      ],
      "text/plain": [
       "<IPython.core.display.Math object>"
      ]
     },
     "execution_count": null,
     "metadata": {},
     "output_type": "execute_result"
    }
   ],
   "source": [
    "render_wigner_small_d(j=1)"
   ]
  },
  {
   "cell_type": "code",
   "execution_count": null,
   "metadata": {
    "tags": [
     "full-width",
     "keep_output"
    ]
   },
   "outputs": [
    {
     "data": {
      "text/latex": [
       "$\\displaystyle \\begin{array}{rcl}\n",
       "  d^{\\frac{3}{2}}_{m,m^{\\prime}}\\left(\\beta\\right) &=& \\left[\\begin{matrix}\\frac{3 \\cos{\\left(\\frac{\\beta}{2} \\right)}}{4} + \\frac{\\cos{\\left(\\frac{3 \\beta}{2} \\right)}}{4} & - \\frac{\\sqrt{3} \\left(\\sin{\\left(\\frac{\\beta}{2} \\right)} + \\sin{\\left(\\frac{3 \\beta}{2} \\right)}\\right)}{4} & \\frac{\\sqrt{3} \\left(\\cos{\\left(\\frac{\\beta}{2} \\right)} - \\cos{\\left(\\frac{3 \\beta}{2} \\right)}\\right)}{4} & - \\frac{3 \\sin{\\left(\\frac{\\beta}{2} \\right)}}{4} + \\frac{\\sin{\\left(\\frac{3 \\beta}{2} \\right)}}{4}\\\\\\frac{\\sqrt{3} \\left(\\sin{\\left(\\frac{\\beta}{2} \\right)} + \\sin{\\left(\\frac{3 \\beta}{2} \\right)}\\right)}{4} & \\frac{\\cos{\\left(\\frac{\\beta}{2} \\right)}}{4} + \\frac{3 \\cos{\\left(\\frac{3 \\beta}{2} \\right)}}{4} & \\frac{\\sin{\\left(\\frac{\\beta}{2} \\right)}}{4} - \\frac{3 \\sin{\\left(\\frac{3 \\beta}{2} \\right)}}{4} & \\frac{\\sqrt{3} \\left(\\cos{\\left(\\frac{\\beta}{2} \\right)} - \\cos{\\left(\\frac{3 \\beta}{2} \\right)}\\right)}{4}\\\\\\frac{\\sqrt{3} \\left(\\cos{\\left(\\frac{\\beta}{2} \\right)} - \\cos{\\left(\\frac{3 \\beta}{2} \\right)}\\right)}{4} & - \\frac{\\sin{\\left(\\frac{\\beta}{2} \\right)}}{4} + \\frac{3 \\sin{\\left(\\frac{3 \\beta}{2} \\right)}}{4} & \\frac{\\cos{\\left(\\frac{\\beta}{2} \\right)}}{4} + \\frac{3 \\cos{\\left(\\frac{3 \\beta}{2} \\right)}}{4} & - \\frac{\\sqrt{3} \\left(\\sin{\\left(\\frac{\\beta}{2} \\right)} + \\sin{\\left(\\frac{3 \\beta}{2} \\right)}\\right)}{4}\\\\\\frac{3 \\sin{\\left(\\frac{\\beta}{2} \\right)}}{4} - \\frac{\\sin{\\left(\\frac{3 \\beta}{2} \\right)}}{4} & \\frac{\\sqrt{3} \\left(\\cos{\\left(\\frac{\\beta}{2} \\right)} - \\cos{\\left(\\frac{3 \\beta}{2} \\right)}\\right)}{4} & \\frac{\\sqrt{3} \\left(\\sin{\\left(\\frac{\\beta}{2} \\right)} + \\sin{\\left(\\frac{3 \\beta}{2} \\right)}\\right)}{4} & \\frac{3 \\cos{\\left(\\frac{\\beta}{2} \\right)}}{4} + \\frac{\\cos{\\left(\\frac{3 \\beta}{2} \\right)}}{4}\\end{matrix}\\right] \\\\\n",
       "\\end{array}$"
      ],
      "text/plain": [
       "<IPython.core.display.Math object>"
      ]
     },
     "execution_count": null,
     "metadata": {},
     "output_type": "execute_result"
    }
   ],
   "source": [
    "render_wigner_small_d(j=3 * half)"
   ]
  },
  {
   "cell_type": "markdown",
   "metadata": {},
   "source": [
    "## Relation to Pauli matrices"
   ]
  },
  {
   "cell_type": "markdown",
   "metadata": {},
   "source": [
    "Note how the Pauli matrices are related to the rotation around each axis in 3D space, which lives in $SO(3)$, and each Wigner-$D$ matrix, which lives in $SU(2)$:\n",
    "\n",
    "$$\n",
    "\\begin{array}{rcl}\n",
    "\\sigma_x &=& i \\, D^\\tfrac{1}{2}(-\\pi,0,0) \\\\\n",
    "\\sigma_y &=& i \\, D^\\tfrac{1}{2}(0,+\\pi,0) \\\\\n",
    "\\sigma_z &=& i \\, D^\\tfrac{1}{2}(0,0,-\\pi) \\,.\n",
    "\\end{array}\n",
    "$$"
   ]
  },
  {
   "cell_type": "code",
   "execution_count": null,
   "metadata": {
    "tags": [
     "hide-input",
     "keep_output"
    ]
   },
   "outputs": [
    {
     "data": {
      "text/latex": [
       "$\\displaystyle \\begin{array}{rcl}\n",
       "  \\sigma_x &=& \\left[\\begin{matrix}0 & 1\\\\1 & 0\\end{matrix}\\right] \\\\\n",
       "  \\sigma_y &=& \\left[\\begin{matrix}0 & - i\\\\i & 0\\end{matrix}\\right] \\\\\n",
       "  \\sigma_z &=& \\left[\\begin{matrix}1 & 0\\\\0 & -1\\end{matrix}\\right] \\\\\n",
       "\\end{array}$"
      ],
      "text/plain": [
       "<IPython.core.display.Math object>"
      ]
     },
     "execution_count": null,
     "metadata": {},
     "output_type": "execute_result"
    }
   ],
   "source": [
    "Math(aslatex({Rf\"\\sigma_{x}\": sp.latex(msigma(i)) for i, x in enumerate(\"xyz\", 1)}))"
   ]
  },
  {
   "cell_type": "code",
   "execution_count": null,
   "metadata": {
    "tags": [
     "keep_output"
    ]
   },
   "outputs": [
    {
     "data": {
      "text/latex": [
       "$\\displaystyle \\left[\\begin{matrix}1 & 0\\\\0 & -1\\end{matrix}\\right]$"
      ],
      "text/plain": [
       "Matrix([\n",
       "[1,  0],\n",
       "[0, -1]])"
      ]
     },
     "execution_count": null,
     "metadata": {},
     "output_type": "execute_result"
    }
   ],
   "source": [
    "sp.I * get_wigner_big_d(j=half).subs({\n",
    "    alpha: -pi,\n",
    "    beta: 0,\n",
    "    gamma: 0,\n",
    "})"
   ]
  },
  {
   "cell_type": "code",
   "execution_count": null,
   "metadata": {
    "tags": [
     "keep_output"
    ]
   },
   "outputs": [
    {
     "data": {
      "text/latex": [
       "$\\displaystyle \\left[\\begin{matrix}0 & - i\\\\i & 0\\end{matrix}\\right]$"
      ],
      "text/plain": [
       "Matrix([\n",
       "[0, -I],\n",
       "[I,  0]])"
      ]
     },
     "execution_count": null,
     "metadata": {},
     "output_type": "execute_result"
    }
   ],
   "source": [
    "sp.I * get_wigner_big_d(j=half).subs({\n",
    "    alpha: 0,\n",
    "    beta: pi,\n",
    "    gamma: 0,\n",
    "})"
   ]
  },
  {
   "cell_type": "code",
   "execution_count": null,
   "metadata": {
    "tags": [
     "keep_output"
    ]
   },
   "outputs": [
    {
     "data": {
      "text/latex": [
       "$\\displaystyle \\left[\\begin{matrix}1 & 0\\\\0 & -1\\end{matrix}\\right]$"
      ],
      "text/plain": [
       "Matrix([\n",
       "[1,  0],\n",
       "[0, -1]])"
      ]
     },
     "execution_count": null,
     "metadata": {},
     "output_type": "execute_result"
    }
   ],
   "source": [
    "sp.I * get_wigner_big_d(j=half).subs({\n",
    "    alpha: 0,\n",
    "    beta: 0,\n",
    "    gamma: -pi,\n",
    "})"
   ]
  }
 ],
 "metadata": {
  "colab": {
   "toc_visible": true
  },
  "kernelspec": {
   "display_name": "Pyproject Local",
   "language": "python",
   "name": "pyproject_local_kernel"
  },
  "language_info": {
   "codemirror_mode": {
    "name": "ipython",
    "version": 3
   },
   "file_extension": ".py",
   "mimetype": "text/x-python",
   "name": "python",
   "nbconvert_exporter": "python",
   "pygments_lexer": "ipython3",
   "version": "3.12.8"
  }
 },
 "nbformat": 4,
 "nbformat_minor": 4
}
