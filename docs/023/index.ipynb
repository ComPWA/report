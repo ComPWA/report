{
 "cells": [
  {
   "cell_type": "markdown",
   "metadata": {},
   "source": [
    "```{autolink-concat}\n",
    "```"
   ]
  },
  {
   "cell_type": "markdown",
   "metadata": {
    "tags": [
     "documentation",
     "jupyter",
     "sphinx",
     "3d"
    ]
   },
   "source": [
    "::::{margin}\n",
    ":::{card} Support for Plotly plots in Technical Reports\n",
    "TR-023\n",
    "^^^\n",
    "+++\n",
    "✅&nbsp;[compwa.github.io#206](https://github.com/ComPWA/compwa.github.io/issues/206)\n",
    ":::\n",
    "::::"
   ]
  },
  {
   "cell_type": "markdown",
   "metadata": {},
   "source": [
    "# 3D plots with Plotly\n",
    "<!-- cspell:ignore isomax isomin isosurface mgrid -->"
   ]
  },
  {
   "cell_type": "markdown",
   "metadata": {
    "tags": [
     "remove-cell"
    ]
   },
   "source": [
    "<!-- cspell:ignore cstride darkred labelpad matexpr rstride zorder -->"
   ]
  },
  {
   "cell_type": "markdown",
   "metadata": {},
   "source": [
    "This TR tests whether the HTML build of the TR notebooks supports [Plotly](https://plotly.com/python) figures. It's a follow-up to [TR-006](../006/index.ipynb), without the interactivity of `ipywidgets`, but with the better 3D rendering of Plotly. For more info on how Plotly figures can be embedded in Sphinx HTML builds, see [this page](https://myst-nb.readthedocs.io/en/v0.17.2/render/interactive.html#plotly) of MyST-NB (particularly the remark on [`html_js_files`](https://www.sphinx-doc.org/en/master/usage/configuration.html#confval-html_js_files).\n",
    "\n",
    "The following example is copied from [this tutorial](https://plotly.com/python/3d-isosurface-plots)."
   ]
  },
  {
   "cell_type": "code",
   "execution_count": null,
   "metadata": {},
   "outputs": [],
   "source": [
    "import numpy as np\n",
    "import plotly.graph_objects as go\n",
    "\n",
    "X, Y, Z = np.mgrid[-5:5:40j, -5:5:40j, -5:5:40j]\n",
    "ellipsoid = X * X * 0.5 + Y * Y + Z * Z * 2\n",
    "fig = go.Figure(\n",
    "    data=go.Isosurface(\n",
    "        x=X.flatten(),\n",
    "        y=Y.flatten(),\n",
    "        z=Z.flatten(),\n",
    "        value=ellipsoid.flatten(),\n",
    "        isomin=5,\n",
    "        isomax=50,\n",
    "        surface_fill=0.4,\n",
    "        caps=dict(x_show=False, y_show=False),\n",
    "        slices_z=dict(\n",
    "            show=True,\n",
    "            locations=[\n",
    "                -1,\n",
    "                -3,\n",
    "            ],\n",
    "        ),\n",
    "        slices_y=dict(show=True, locations=[0]),\n",
    "    )\n",
    ")\n",
    "fig.show()"
   ]
  },
  {
   "cell_type": "markdown",
   "metadata": {},
   "source": [
    ":::{seealso} {ref}`006/index:Plotly with ipywidgets`\n",
    ":::"
   ]
  }
 ],
 "metadata": {
  "colab": {
   "toc_visible": true
  },
  "kernelspec": {
   "display_name": "Python 3 (ipykernel)",
   "language": "python",
   "name": "pyproject_local_kernel"
  },
  "language_info": {
   "codemirror_mode": {
    "name": "ipython",
    "version": 3
   },
   "file_extension": ".py",
   "mimetype": "text/x-python",
   "name": "python",
   "nbconvert_exporter": "python",
   "pygments_lexer": "ipython3",
   "version": "3.12.6"
  }
 },
 "nbformat": 4,
 "nbformat_minor": 4
}
