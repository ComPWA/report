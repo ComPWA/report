{
 "cells": [
  {
   "cell_type": "markdown",
   "metadata": {},
   "source": [
    "```{autolink-concat}\n",
    "```"
   ]
  },
  {
   "cell_type": "markdown",
   "metadata": {
    "tags": [
     "PDG"
    ]
   },
   "source": [
    "::::{margin}\n",
    ":::{card} Example of how to query the PDG Python API for decay\n",
    "TR-028\n",
    "^^^\n",
    "This report shows how to search all known decays in the PDG using [its new Python API](https://pdgapi.lbl.gov/doc) and search three-body decays that have three equal particles in the final state.\n",
    "+++\n",
    "🚧&nbsp;[compwa.github.io#271](https://github.com/ComPWA/compwa.github.io/issues/271)\n",
    ":::\n",
    "::::"
   ]
  },
  {
   "cell_type": "markdown",
   "metadata": {},
   "source": [
    "# PDG Python API: decay query"
   ]
  },
  {
   "cell_type": "code",
   "execution_count": null,
   "metadata": {
    "tags": [
     "remove-cell"
    ]
   },
   "outputs": [],
   "source": [
    "%pip install -q pdg==0.1.2 tqdm==4.66.5"
   ]
  },
  {
   "cell_type": "code",
   "execution_count": null,
   "metadata": {
    "tags": [
     "remove-cell"
    ]
   },
   "outputs": [],
   "source": [
    "from __future__ import annotations"
   ]
  },
  {
   "cell_type": "code",
   "execution_count": null,
   "metadata": {},
   "outputs": [],
   "source": [
    "import pdg\n",
    "\n",
    "PDG = pdg.connect()"
   ]
  },
  {
   "cell_type": "markdown",
   "metadata": {},
   "source": [
    "This creates a [`PdgApi`](https://pdgapi.lbl.gov/doc/pdg.api.html#pdg.api.PdgApi) instance containing the following type of objects:"
   ]
  },
  {
   "cell_type": "code",
   "execution_count": null,
   "metadata": {
    "tags": [
     "keep_output"
    ]
   },
   "outputs": [
    {
     "data": {
      "text/plain": [
       "{pdg.data.PdgLifetime,\n",
       " pdg.data.PdgMass,\n",
       " pdg.data.PdgProperty,\n",
       " pdg.data.PdgWidth,\n",
       " pdg.decay.PdgBranchingFraction,\n",
       " pdg.particle.PdgParticleList}"
      ]
     },
     "execution_count": null,
     "metadata": {},
     "output_type": "execute_result"
    }
   ],
   "source": [
    "{type(obj) for obj in PDG.get_all()}"
   ]
  },
  {
   "cell_type": "markdown",
   "metadata": {},
   "source": [
    "In this example, we ask the question **which particles can decay to a final state with three equal particles?** For this, we use [`PdgBranchingFraction`](https://pdgapi.lbl.gov/doc/pdg.decay.html#pdg.decay.PdgBranchingFraction)s, which contain information about particle decays in their [`description`](https://pdgapi.lbl.gov/doc/pdg.data.html#pdg.data.PdgData.description):"
   ]
  },
  {
   "cell_type": "code",
   "execution_count": null,
   "metadata": {
    "tags": [
     "keep_output"
    ]
   },
   "outputs": [
    {
     "data": {
      "text/plain": [
       "pdg.decay.PdgBranchingFraction"
      ]
     },
     "execution_count": null,
     "metadata": {},
     "output_type": "execute_result"
    }
   ],
   "source": [
    "jpsi_decay = PDG.get(\"M070.313/2023\")\n",
    "type(jpsi_decay)"
   ]
  },
  {
   "cell_type": "code",
   "execution_count": null,
   "metadata": {
    "tags": [
     "keep_output"
    ]
   },
   "outputs": [
    {
     "data": {
      "text/plain": [
       "'J/psi(1S) --> rho(1700) pi --> pi+ pi- pi0'"
      ]
     },
     "execution_count": null,
     "metadata": {},
     "output_type": "execute_result"
    }
   ],
   "source": [
    "jpsi_decay.description"
   ]
  },
  {
   "cell_type": "markdown",
   "metadata": {},
   "source": [
    "So, let's pull all the decay descriptions from the PDG and do some clean up with {meth}`str.strip` and {obj}`set`:"
   ]
  },
  {
   "cell_type": "code",
   "execution_count": null,
   "metadata": {
    "tags": [
     "keep_output"
    ]
   },
   "outputs": [
    {
     "data": {
      "text/plain": [
       "7243"
      ]
     },
     "execution_count": null,
     "metadata": {},
     "output_type": "execute_result"
    }
   ],
   "source": [
    "from pdg.decay import PdgBranchingFraction\n",
    "\n",
    "all_decays = {obj for obj in PDG.get_all() if isinstance(obj, PdgBranchingFraction)}\n",
    "decay_descriptions = {dec.description.strip() for dec in all_decays}\n",
    "len(decay_descriptions)"
   ]
  },
  {
   "cell_type": "markdown",
   "metadata": {},
   "source": [
    "To get more insight into the decay products, we create a new {obj}`set` of decay descriptions, but now describe each item as an initial state with a {obj}`tuple` of decay products. We again have to do a bit of cleaning here. The final state description sometimes contains digits, like `\"3pi0\"`, which we want to be rendered as `(\"pi0\", \"pi0\", \"pi0\")`.\n",
    "\n",
    "Note that we decay all state descriptions in the decay chain into account. For example,\n",
    "```python\n",
    "\"J/psi(1S) --> rho(1700) pi --> pi+ pi- pi0\"\n",
    "```\n",
    "\n",
    "has two 'final' states:\n",
    "```python\n",
    "(\"rho(1700)\", \"pi\")\n",
    "(\"pi+\", \"pi-\", \"pi0\")\n",
    "```"
   ]
  },
  {
   "cell_type": "code",
   "execution_count": null,
   "metadata": {
    "jupyter": {
     "source_hidden": true
    },
    "tags": [
     "hide-input",
     "keep_output"
    ]
   },
   "outputs": [
    {
     "data": {
      "text/plain": [
       "7360"
      ]
     },
     "execution_count": null,
     "metadata": {},
     "output_type": "execute_result"
    }
   ],
   "source": [
    "def create_final_state(description: str) -> tuple[str, ...]:\n",
    "    items = []\n",
    "    for particle in description.split():\n",
    "        particle = particle.strip()\n",
    "        if particle in {\"\", \",\"}:\n",
    "            continue\n",
    "        multiplier = particle[0]\n",
    "        if multiplier.isdigit():\n",
    "            particles = int(multiplier) * particle[1:]\n",
    "            items.extend(particles)\n",
    "        else:\n",
    "            items.append(particle)\n",
    "    return tuple(sorted(items))\n",
    "\n",
    "\n",
    "decays: set[tuple[str, tuple[str, ...]]] = set()\n",
    "for description in decay_descriptions:\n",
    "    initial_state, *final_states = description.split(\" --> \")\n",
    "    initial_state = initial_state.strip()\n",
    "    decays.update(\n",
    "        (initial_state, create_final_state(final_state)) for final_state in final_states\n",
    "    )\n",
    "len(decays)"
   ]
  },
  {
   "cell_type": "markdown",
   "metadata": {},
   "source": [
    "Now selecting the three-body decays is an easy matter using filters on comprehensions."
   ]
  },
  {
   "cell_type": "code",
   "execution_count": null,
   "metadata": {
    "tags": [
     "keep_output"
    ]
   },
   "outputs": [
    {
     "data": {
      "text/plain": [
       "2181"
      ]
     },
     "execution_count": null,
     "metadata": {},
     "output_type": "execute_result"
    }
   ],
   "source": [
    "three_body_decays = {\n",
    "    (initial_state, final_state)\n",
    "    for initial_state, final_state in decays\n",
    "    if len(final_state) == 3\n",
    "}\n",
    "len(three_body_decays)"
   ]
  },
  {
   "cell_type": "code",
   "execution_count": null,
   "metadata": {
    "tags": [
     "keep_output"
    ]
   },
   "outputs": [
    {
     "data": {
      "text/plain": [
       "[('B0', ('K0S', 'K0S', 'K0S')),\n",
       " ('B0', ('a', 'a', 'a')),\n",
       " ('B_s()0', ('a', 'a', 'a')),\n",
       " ('B_s()0', ('phi', 'phi', 'phi')),\n",
       " ('J/psi(1S)', ('g', 'g', 'g')),\n",
       " ('J/psi(1S)', ('gamma', 'gamma', 'gamma')),\n",
       " ('Upsilon(1S)', ('g', 'g', 'g')),\n",
       " ('Upsilon(2S)', ('g', 'g', 'g')),\n",
       " ('Upsilon(3S)', ('g', 'g', 'g')),\n",
       " ('Z', ('g', 'g', 'g')),\n",
       " ('Z', ('gamma', 'gamma', 'gamma')),\n",
       " ('a_1(1260)', ('pi0', 'pi0', 'pi0')),\n",
       " ('a_1(1640)', ('pi', 'pi', 'pi')),\n",
       " ('pi_1(1600)', ('pi', 'pi', 'pi')),\n",
       " ('pi_2(1670)', ('pi0', 'pi0', 'pi0')),\n",
       " ('psi(2S)', ('g', 'g', 'g'))]"
      ]
     },
     "execution_count": null,
     "metadata": {},
     "output_type": "execute_result"
    }
   ],
   "source": [
    "equal_state_3body_decays = {\n",
    "    (initial_state, final_state)\n",
    "    for initial_state, final_state in three_body_decays\n",
    "    if len(set(final_state)) == 1\n",
    "}\n",
    "sorted(equal_state_3body_decays)"
   ]
  },
  {
   "cell_type": "markdown",
   "metadata": {},
   "source": [
    "Finally, and optionally, we can filter out final states that are not well defined, such as `g g g`, by checking whether they are defined in the PDG database."
   ]
  },
  {
   "cell_type": "code",
   "execution_count": null,
   "metadata": {
    "jupyter": {
     "source_hidden": true
    },
    "tags": [
     "hide-input",
     "keep_output"
    ]
   },
   "outputs": [
    {
     "name": "stdout",
     "output_type": "stream",
     "text": [
      "           J/psi(1S) → g g g\n",
      "           J/psi(1S) → gamma gamma gamma\n",
      "         Upsilon(1S) → g g g\n",
      "         Upsilon(2S) → g g g\n",
      "         Upsilon(3S) → g g g\n",
      "                   Z → g g g\n",
      "                   Z → gamma gamma gamma\n",
      "             psi(2S) → g g g\n"
     ]
    }
   ],
   "source": [
    "from pdg.errors import PdgAmbiguousValueError, PdgNoDataError\n",
    "\n",
    "for initial_state, final_state in sorted(equal_state_3body_decays):\n",
    "    try:\n",
    "        for name in (initial_state, *final_state):\n",
    "            PDG.get_particle_by_name(name)\n",
    "    except (PdgAmbiguousValueError, PdgNoDataError):\n",
    "        pass\n",
    "    else:\n",
    "        print(f\"{initial_state:>20} → {' '.join(final_state)}\")"
   ]
  },
  {
   "cell_type": "markdown",
   "metadata": {},
   "source": [
    ":::{warning}\n",
    "Not all final state in the [`description`](https://pdgapi.lbl.gov/doc/pdg.data.html#pdg.data.PdgData.description)s can be programmatically deciphered as individual particles. One could try to use [regular expressions](https://docs.python.org/3/howto/regex.html), but it's hard to cover all cases. Consider for instance the following case which contains $S$ and $D$ waves.\n",
    ":::"
   ]
  },
  {
   "cell_type": "code",
   "execution_count": null,
   "metadata": {
    "tags": [
     "keep_output"
    ]
   },
   "outputs": [
    {
     "data": {
      "text/plain": [
       "['a_1(1260) --> K^*(892) K',\n",
       " 'a_1(1260) --> ( rho(1450) pi )(S-wave) , rho --> pi pi',\n",
       " 'a_1(1260) --> f_2(1270) pi , f_2() --> pi pi',\n",
       " 'a_1(1260) --> f_0(500) pi , f_0() --> pi pi',\n",
       " 'a_1(1260) --> f_0(980) pi , f_0() --> pi pi',\n",
       " 'a_1(1260) --> pi0 pi0 pi0',\n",
       " 'a_1(1260) --> pi+ pi- pi0',\n",
       " 'a_1(1260) --> ( rho(1450) pi )(D-wave) , rho --> pi pi',\n",
       " 'a_1(1260) --> pi gamma',\n",
       " 'a_1(1260) --> ( rho pi )(D-wave) , rho --> pi pi',\n",
       " 'a_1(1260) --> 3 pi',\n",
       " 'a_1(1260) --> f_0(1370) pi , f_0() --> pi pi',\n",
       " 'a_1(1260) --> K K pi',\n",
       " 'a_1(1260) --> ( rho pi )(S-wave) , rho --> pi pi']"
      ]
     },
     "execution_count": null,
     "metadata": {},
     "output_type": "execute_result"
    }
   ],
   "source": [
    "[dec for dec in decay_descriptions if dec.startswith(\"a_1(1260)\")]"
   ]
  },
  {
   "cell_type": "markdown",
   "metadata": {},
   "source": [
    "Additionally, not all decays seem to be included. Here is an attempt to find $J/\\psi \\to \\pi^0 \\pi^0 \\pi^0$."
   ]
  },
  {
   "cell_type": "code",
   "execution_count": null,
   "metadata": {
    "jupyter": {
     "source_hidden": true
    },
    "tags": [
     "hide-input",
     "keep_output"
    ]
   },
   "outputs": [
    {
     "data": {
      "text/plain": [
       "['J/psi(1S) --> 2(pi+ pi- pi0)',\n",
       " 'J/psi(1S) --> 2(pi+ pi- pi0) eta',\n",
       " 'J/psi(1S) --> 2(pi+ pi-) 3pi0',\n",
       " 'J/psi(1S) --> 2(pi+ pi-) pi0',\n",
       " 'J/psi(1S) --> 3(pi+ pi-) pi0',\n",
       " 'J/psi(1S) --> 4(pi+ pi-) pi0',\n",
       " 'J/psi(1S) --> K+ K- pi0 pi0 pi0',\n",
       " 'J/psi(1S) --> K0S K+- pi-+ pi+ pi-',\n",
       " 'J/psi(1S) --> K0S K+- pi-+ pi0 pi0',\n",
       " 'J/psi(1S) --> K^*(892)+ K0S pi- + c.c. --> K0S K0S pi+ pi-',\n",
       " 'J/psi(1S) --> K^*(892)0 K- pi+ + c.c. --> K+ K- pi+ pi-',\n",
       " 'J/psi(1S) --> K_2^*(1430)0 K- pi+ + c.c. --> K+ K- pi+ pi-',\n",
       " 'J/psi(1S) --> a_2(1320)+ pi- pi0 + c.c --> 2 (pi+ pi- ) pi0',\n",
       " 'J/psi(1S) --> a_2(1320)0 pi+ pi- --> 2 (pi+ pi- ) pi0',\n",
       " 'J/psi(1S) --> eta pi+ pi- 3 pi0',\n",
       " 'J/psi(1S) --> eta pi+ pi- pi0',\n",
       " 'J/psi(1S) --> gamma pi+ pi- 2pi0',\n",
       " 'J/psi(1S) --> omega 3 pi0',\n",
       " 'J/psi(1S) --> omega pi+ pi+ pi- pi-',\n",
       " 'J/psi(1S) --> omega pi+ pi- 2pi0',\n",
       " 'J/psi(1S) --> omega pi+ pi- pi0',\n",
       " 'J/psi(1S) --> omega pi0 --> pi+ pi- pi0',\n",
       " 'J/psi(1S) --> p pbar pi+ pi- pi0',\n",
       " 'J/psi(1S) --> phi f_1(1285) --> phi pi0 f_0(980) --> phi 3pi0',\n",
       " 'J/psi(1S) --> phi f_1(1285) --> phi pi0 f_0(980) --> phi pi0 pi+ pi-',\n",
       " 'J/psi(1S) --> phi pi0 f_0(980) --> phi pi0 p0 pi0',\n",
       " 'J/psi(1S) --> phi pi0 f_0(980) --> phi pi0 pi+ pi-',\n",
       " 'J/psi(1S) --> pi+ pi- 3pi0',\n",
       " 'J/psi(1S) --> pi+ pi- 4 pi0',\n",
       " 'J/psi(1S) --> pi+ pi- pi0',\n",
       " 'J/psi(1S) --> pi+ pi- pi0 K+ K-',\n",
       " 'J/psi(1S) --> pi+ pi- pi0 pi0 eta',\n",
       " 'J/psi(1S) --> rho(1450) pi --> pi+ pi- pi0',\n",
       " 'J/psi(1S) --> rho(1700) pi --> pi+ pi- pi0',\n",
       " 'J/psi(1S) --> rho(2150) pi --> pi+ pi- pi0',\n",
       " 'J/psi(1S) --> rho+ K+ K- pi- + c.c --> K+ K- pi+ pi- pi0',\n",
       " 'J/psi(1S) --> rho+ rho- pi+ pi- pi0',\n",
       " 'J/psi(1S) --> rho+- pi-+ pi+ pi- 2pi0',\n",
       " 'J/psi(1S) --> rho+- pi-+ pi0 pi0',\n",
       " 'J/psi(1S) --> rho_3(1690) pi --> pi+ pi- pi0']"
      ]
     },
     "execution_count": null,
     "metadata": {},
     "output_type": "execute_result"
    }
   ],
   "source": [
    "import re\n",
    "\n",
    "sorted(\n",
    "    decay\n",
    "    for decay in decay_descriptions\n",
    "    if decay.startswith(\"J/psi\") and re.match(r\".*(3 ?pi|pi.*pi.*pi).*\", decay)\n",
    ")"
   ]
  }
 ],
 "metadata": {
  "colab": {
   "toc_visible": true
  },
  "kernelspec": {
   "display_name": "Python 3 (ipykernel)",
   "language": "python",
   "name": "python3"
  },
  "language_info": {
   "codemirror_mode": {
    "name": "ipython",
    "version": 3
   },
   "file_extension": ".py",
   "mimetype": "text/x-python",
   "name": "python",
   "nbconvert_exporter": "python",
   "pygments_lexer": "ipython3",
   "version": "3.12.6"
  }
 },
 "nbformat": 4,
 "nbformat_minor": 4
}
