{
 "cells": [
  {
   "cell_type": "markdown",
   "metadata": {},
   "source": [
    "```{autolink-concat}\n",
    "```"
   ]
  },
  {
   "cell_type": "markdown",
   "metadata": {
    "tags": [
     "dynamics",
     "physics"
    ]
   },
   "source": [
    "::::{margin}\n",
    ":::{card} Investigation of analyticity\n",
    "TR-004\n",
    "^^^\n",
    "+++\n",
    "WIP\n",
    ":::\n",
    "::::"
   ]
  },
  {
   "cell_type": "markdown",
   "metadata": {},
   "source": [
    "# Analyticity"
   ]
  },
  {
   "cell_type": "markdown",
   "metadata": {
    "tags": [
     "remove-cell"
    ]
   },
   "source": [
    "<!-- cspell:ignore cstride darkred labelpad matexpr rstride zorder -->"
   ]
  },
  {
   "cell_type": "code",
   "execution_count": null,
   "metadata": {
    "jupyter": {
     "source_hidden": true
    },
    "tags": [
     "hide-cell"
    ]
   },
   "outputs": [],
   "source": [
    "import os\n",
    "import warnings\n",
    "\n",
    "import matplotlib.pyplot as plt\n",
    "import numpy as np\n",
    "import sympy as sp\n",
    "from ampform.dynamics import (\n",
    "    BreakupMomentumSquared,\n",
    "    PhaseSpaceFactor,\n",
    "    relativistic_breit_wigner_with_ff,\n",
    ")\n",
    "from IPython.display import Math, display\n",
    "from ipywidgets import widgets\n",
    "from mpl_interactions import heatmap_slicer\n",
    "\n",
    "warnings.filterwarnings(\"ignore\")\n",
    "\n",
    "plt.rcParams.update({\"font.size\": 14})\n",
    "\n",
    "STATIC_WEB_PAGE = {\"EXECUTE_NB\", \"READTHEDOCS\"}.intersection(os.environ)"
   ]
  },
  {
   "cell_type": "markdown",
   "metadata": {},
   "source": [
    "## Branch points of $\\rho(s)$"
   ]
  },
  {
   "cell_type": "markdown",
   "metadata": {},
   "source": [
    "{{ run_interactive }}"
   ]
  },
  {
   "cell_type": "markdown",
   "metadata": {},
   "source": [
    "Investigation of Section 2.1.2 in {cite}`aitchisonUnitarityAnalyticityCrossing2015`."
   ]
  },
  {
   "cell_type": "code",
   "execution_count": null,
   "metadata": {
    "jupyter": {
     "source_hidden": true
    },
    "tags": [
     "hide-input"
    ]
   },
   "outputs": [],
   "source": [
    "s = sp.Symbol(\"s\")\n",
    "m1, m2 = sp.symbols(\"m1 m2\", real=True)\n",
    "rho = 16 * sp.pi * PhaseSpaceFactor(s, m1, m2).doit()\n",
    "rho"
   ]
  },
  {
   "cell_type": "markdown",
   "metadata": {},
   "source": [
    "Or, assuming both decay products to be of unit mass:"
   ]
  },
  {
   "cell_type": "code",
   "execution_count": null,
   "metadata": {
    "jupyter": {
     "source_hidden": true
    },
    "tags": [
     "hide-input"
    ]
   },
   "outputs": [],
   "source": [
    "rho.subs({\n",
    "    m1: 1,\n",
    "    m2: 1,\n",
    "})"
   ]
  },
  {
   "cell_type": "code",
   "execution_count": null,
   "metadata": {
    "jupyter": {
     "source_hidden": true
    },
    "tags": [
     "hide-cell"
    ]
   },
   "outputs": [],
   "source": [
    "np_rho = sp.lambdify((s, m1, m2), rho, \"numpy\")\n",
    "\n",
    "m1_val = 1.8\n",
    "m2_val = 0.5\n",
    "s_thr = (m1_val + m2_val) ** 2\n",
    "s_diff = abs(m1_val - m2_val) ** 2\n",
    "\n",
    "x = np.linspace(-1, +7, num=100)\n",
    "y = np.linspace(-2, +2, num=100)\n",
    "X, Y = np.meshgrid(x, y)\n",
    "s_values = X + Y * 1j\n",
    "rho_values = np_rho(s_values, m1=m1_val, m2=m2_val)"
   ]
  },
  {
   "cell_type": "code",
   "execution_count": null,
   "metadata": {
    "jupyter": {
     "source_hidden": true
    },
    "tags": [
     "remove-cell"
    ]
   },
   "outputs": [],
   "source": [
    "rho_min, rho_max = -5, +5\n",
    "Z = rho_values.real\n",
    "fig, ax = plt.subplots(\n",
    "    figsize=(10, 10),\n",
    "    subplot_kw={\"projection\": \"3d\"},\n",
    "    tight_layout=True,\n",
    ")\n",
    "fig.suptitle(R\"Solution sheet for $\\rho$ in the $s$-plane\")\n",
    "colors = np.select(\n",
    "    [rho_min > Z, Z < 0, Z >= 0, rho_max < Z],\n",
    "    [rho_min, Z / np.abs(rho_min), Z / np.abs(rho_max), rho_max],\n",
    ")\n",
    "colors = (colors + 1) / 2\n",
    "ax.plot_surface(\n",
    "    X,\n",
    "    Y,\n",
    "    Z,\n",
    "    facecolors=plt.cm.bwr(colors),\n",
    "    linewidth=0,\n",
    ")\n",
    "ax.set_xlabel(\"Re($s$)\")\n",
    "ax.set_ylabel(\"Im($s$)\")\n",
    "ax.set_zlabel(R\"Re($\\rho$)\")\n",
    "ax.set_zlim(rho_min, rho_max)\n",
    "ax.view_init(elev=25, azim=-110)\n",
    "plt.show()"
   ]
  },
  {
   "cell_type": "code",
   "execution_count": null,
   "metadata": {
    "jupyter": {
     "source_hidden": true
    },
    "tags": [
     "remove-input"
    ]
   },
   "outputs": [],
   "source": [
    "if STATIC_WEB_PAGE:\n",
    "    from IPython.display import Image\n",
    "\n",
    "    output_file = \"3D-plot.png\"\n",
    "    plt.savefig(output_file)\n",
    "    display(Image(output_file))"
   ]
  },
  {
   "cell_type": "code",
   "execution_count": null,
   "metadata": {
    "tags": [
     "remove-input"
    ]
   },
   "outputs": [],
   "source": [
    "%matplotlib widget"
   ]
  },
  {
   "cell_type": "code",
   "execution_count": null,
   "metadata": {
    "jupyter": {
     "source_hidden": true
    },
    "tags": [
     "hide-input",
     "remove-output"
    ]
   },
   "outputs": [],
   "source": [
    "fig, axes = heatmap_slicer(\n",
    "    x,\n",
    "    y,\n",
    "    (rho_values.real, rho_values.imag),\n",
    "    heatmap_names=(R\"Re($\\rho$)\", R\"Im($\\rho$)\"),\n",
    "    labels=(\"Re($s$)\", \"Im($s$)\"),\n",
    "    interaction_type=\"move\",\n",
    "    slices=\"both\",\n",
    "    vmin=-5,\n",
    "    vmax=5,\n",
    "    figsize=(12, 3),\n",
    ")\n",
    "for ax in axes[2:]:\n",
    "    ax.set_ylim(rho_min, rho_max)\n",
    "    tick_width = 5\n",
    "    tick_min = np.around(rho_min / tick_width, decimals=0) * tick_width\n",
    "    ax.set_yticks(np.arange(tick_min, rho_max + 0.1, 5))\n",
    "axes[2].set_title(\"Re($s$)\")\n",
    "axes[3].set_title(\"Im($s$)\")\n",
    "for ax in axes[:3]:\n",
    "    ax.axvline(s_diff, c=\"black\", linewidth=0.3, linestyle=\"dotted\")\n",
    "    ax.axvline(s_thr, c=\"black\", linewidth=0.3, linestyle=\"dotted\")\n",
    "for ax in axes:\n",
    "    ax.axvline(0, c=\"black\", linewidth=0.5)\n",
    "    ax.axhline(0, c=\"black\", linewidth=0.5)\n",
    "axes[3].axvline(0, c=\"black\", linewidth=0.5)\n",
    "plt.show()"
   ]
  },
  {
   "cell_type": "code",
   "execution_count": null,
   "metadata": {
    "jupyter": {
     "source_hidden": true
    },
    "tags": [
     "remove-input",
     "full-width"
    ]
   },
   "outputs": [],
   "source": [
    "if STATIC_WEB_PAGE:\n",
    "    from IPython.display import Image\n",
    "\n",
    "    output_file = \"interactive-locator.png\"\n",
    "    plt.savefig(output_file)\n",
    "    display(Image(output_file))"
   ]
  },
  {
   "cell_type": "markdown",
   "metadata": {},
   "source": [
    "## Physical vs. unphysical sheet"
   ]
  },
  {
   "cell_type": "markdown",
   "metadata": {},
   "source": [
    "Interactive reproduction of Figure 49.1 on {pdg-review}`2020; Resonances; p.2`. The formulas below come from a {func}`~ampform.dynamics.relativistic_breit_wigner_with_ff` with $L=0$. As phase space factor, we used the square root of {class}`~ampform.dynamics.phasespace.BreakupMomentumSquared` instead of the default {class}`~ampform.dynamics.phasespace.PhaseSpaceFactor`, because this introduces only one branch point in the $s$-plane (namely the one over the nominator)."
   ]
  },
  {
   "cell_type": "code",
   "execution_count": null,
   "metadata": {
    "jupyter": {
     "source_hidden": true
    },
    "tags": [
     "hide-input"
    ]
   },
   "outputs": [],
   "source": [
    "def breakup_momentum(s: sp.Symbol, m_a: sp.Symbol, m_b: sp.Symbol) -> sp.Expr:\n",
    "    return sp.sqrt(BreakupMomentumSquared(s, m_a, m_b).doit())\n",
    "\n",
    "\n",
    "s = sp.Symbol(\"s\")\n",
    "m0, gamma0, m1, m2 = sp.symbols(\"m0 Gamma0 m1 m2\", real=True, positive=True)\n",
    "\n",
    "unphysical_amp = relativistic_breit_wigner_with_ff(\n",
    "    s,\n",
    "    m0,\n",
    "    gamma0,\n",
    "    m_a=m1,\n",
    "    m_b=m2,\n",
    "    angular_momentum=0,\n",
    "    meson_radius=1,\n",
    "    phsp_factor=breakup_momentum,\n",
    ").doit()\n",
    "\n",
    "sqrt_term = unphysical_amp.args[2].args[0].args[2]\n",
    "physical_amp = unphysical_amp.subs(sqrt_term, sp.sqrt(sqrt_term**2))\n",
    "\n",
    "display(\n",
    "    Math(R\"\\mathrm{Physical:} \\quad \" + sp.latex(physical_amp)),\n",
    "    Math(R\"\\mathrm{Unphysical:} \\quad \" + sp.latex(unphysical_amp)),\n",
    ")"
   ]
  },
  {
   "cell_type": "code",
   "execution_count": null,
   "metadata": {
    "jupyter": {
     "source_hidden": true
    },
    "tags": [
     "remove-output",
     "hide-input"
    ]
   },
   "outputs": [],
   "source": [
    "args = (s, m0, gamma0, m1, m2)\n",
    "np_amp_physical = sp.lambdify(args, physical_amp, \"numpy\")\n",
    "np_amp_unphysical = sp.lambdify(args, unphysical_amp, \"numpy\")\n",
    "\n",
    "x_min, x_max = -0.2, 1.3\n",
    "y_min, y_max = -1.8, +1.8\n",
    "z_min, z_max = -2.5, +2.5\n",
    "\n",
    "x = np.linspace(x_min, x_max, num=50)\n",
    "y_neg = np.linspace(y_min, -1e-4, num=30)\n",
    "y_pos = np.linspace(1e-4, y_max, num=30)\n",
    "\n",
    "X, Y_neg = np.meshgrid(x, y_neg)\n",
    "X, Y_pos = np.meshgrid(x, y_pos)\n",
    "s_values_neg = X + Y_neg * 1j\n",
    "s_values_pos = X + Y_pos * 1j\n",
    "\n",
    "z_cut_min = 0.75 * z_min\n",
    "z_cut_max = 0.75 * z_max\n",
    "cut_off_min = np.vectorize(lambda z: max(z_cut_min, z))\n",
    "cut_off_max = np.vectorize(lambda z: min(z_cut_max, z))\n",
    "\n",
    "plot_style = {\n",
    "    \"linewidth\": 0,\n",
    "    \"alpha\": 0.7,\n",
    "    \"antialiased\": True,\n",
    "    \"rstride\": 1,\n",
    "    \"cstride\": 1,\n",
    "}\n",
    "axis_style = {\n",
    "    \"c\": \"black\",\n",
    "    \"linewidth\": 0.7,\n",
    "    \"linestyle\": \"dashed\",\n",
    "}\n",
    "\n",
    "fig, axes = plt.subplots(\n",
    "    ncols=2,\n",
    "    figsize=(10, 6),\n",
    "    subplot_kw={\"projection\": \"3d\"},\n",
    "    tight_layout=True,\n",
    ")\n",
    "ax1, ax2 = axes\n",
    "fig.suptitle(\"$S$-wave Breit-Wigner ($L=0$) plotted over the complex $s$-plane\")\n",
    "\n",
    "m0_min = np.sign(x_min) * np.sqrt(np.abs(x_min))\n",
    "m0_max = np.sign(x_max) * np.sqrt(np.abs(x_max))\n",
    "\n",
    "sliders = {\n",
    "    \"m0\": widgets.FloatSlider(\n",
    "        min=m0_min,\n",
    "        max=m0_max,\n",
    "        value=0.8,\n",
    "        step=0.01,\n",
    "        description=\"$m_0$\",\n",
    "    ),\n",
    "    \"gamma0\": widgets.FloatSlider(\n",
    "        min=0.0,\n",
    "        max=y_max,\n",
    "        value=0.3,\n",
    "        step=0.01,\n",
    "        description=R\"$\\Gamma_0$\",\n",
    "    ),\n",
    "    \"m1\": widgets.FloatSlider(\n",
    "        min=1e-4,\n",
    "        max=m0_max / 2,\n",
    "        step=0.01,\n",
    "        description=\"$m_1$\",\n",
    "    ),\n",
    "    \"m2\": widgets.FloatSlider(\n",
    "        min=1e-4,\n",
    "        max=m0_max / 2,\n",
    "        step=0.01,\n",
    "        description=\"$m_2$\",\n",
    "    ),\n",
    "}\n",
    "\n",
    "\n",
    "@widgets.interact(**sliders)\n",
    "def plot(m0, gamma0, m1, m2):\n",
    "    def plot_expression(ax, amp, neg_color=\"green\"):\n",
    "        ax.clear()\n",
    "        z_values_neg = amp(s_values_neg, m0, gamma0, m1, m2).imag\n",
    "        z_values_pos = amp(s_values_pos, m0, gamma0, m1, m2).imag\n",
    "        Z_neg = cut_off_min(cut_off_max(z_values_neg))\n",
    "        Z_pos = cut_off_min(cut_off_max(z_values_pos))\n",
    "\n",
    "        s_thr = (m1 + m2) ** 2\n",
    "        x0 = x[x >= s_thr] + 1e-4j\n",
    "        y0 = np.zeros(len(x0))\n",
    "        z0 = amp(x0, m0, gamma0, m1, m2).imag\n",
    "\n",
    "        ax.plot_surface(X, Y_neg, Z_neg, **plot_style, color=neg_color)\n",
    "        ax.plot_surface(X, Y_pos, Z_pos, **plot_style, color=\"green\")\n",
    "        ax.plot(x0, y0, z0, linewidth=2.5, c=\"darkred\", zorder=8)\n",
    "        ax.scatter([x0[0]], [0], [z0[0]], c=\"darkred\", s=20, zorder=9)\n",
    "\n",
    "        ax.set_xlabel(\"Re($s$)\", labelpad=-15)\n",
    "        ax.set_ylabel(\"Im($s$)\", labelpad=-15)\n",
    "        ax.set_zlabel(\"Im($A$)\", labelpad=-15)\n",
    "        ax.set_xticks([])\n",
    "        ax.set_yticks([])\n",
    "        ax.set_zticks([])\n",
    "        ax.set_zlim(z_min, z_max)\n",
    "\n",
    "    plot_expression(ax1, np_amp_physical)\n",
    "    plot_expression(ax2, np_amp_unphysical, neg_color=\"gold\")\n",
    "\n",
    "    ax1.text(x_min, y_max, z_max / 2, \"physical sheet\", c=\"green\")\n",
    "    ax2.text(x_min, y_min, -z_max, \"unphysical sheet\", c=\"gold\")\n",
    "\n",
    "    fig.canvas.draw_idle()"
   ]
  },
  {
   "cell_type": "code",
   "execution_count": null,
   "metadata": {
    "jupyter": {
     "source_hidden": true
    },
    "tags": [
     "remove-input",
     "full-width"
    ]
   },
   "outputs": [],
   "source": [
    "if STATIC_WEB_PAGE:\n",
    "    from IPython.display import SVG\n",
    "\n",
    "    output_file = \"physical-vs-unphysical.svg\"\n",
    "    plt.savefig(output_file)\n",
    "    display(SVG(output_file))"
   ]
  }
 ],
 "metadata": {
  "colab": {
   "toc_visible": true
  },
  "kernelspec": {
   "display_name": "Pyproject Local",
   "language": "python",
   "name": "pyproject_local_kernel"
  },
  "language_info": {
   "codemirror_mode": {
    "name": "ipython",
    "version": 3
   },
   "file_extension": ".py",
   "mimetype": "text/x-python",
   "name": "python",
   "nbconvert_exporter": "python",
   "pygments_lexer": "ipython3",
   "version": "3.12.6"
  }
 },
 "nbformat": 4,
 "nbformat_minor": 4
}
