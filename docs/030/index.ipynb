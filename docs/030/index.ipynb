{
 "cells": [
  {
   "cell_type": "markdown",
   "metadata": {},
   "source": [
    "```{autolink-concat}\n",
    "```"
   ]
  },
  {
   "cell_type": "markdown",
   "metadata": {
    "tags": [
     "dynamics",
     "K-matrix"
    ]
   },
   "source": [
    "::::{margin}\n",
    ":::{card} Sub-intensities of P-vector amplitude model\n",
    "TR-030\n",
    "^^^\n",
    "Sub-intensity plots for a model with $P$-vector dynamics. Also includes an investigation of phases in a $P$-vector lineshape.\n",
    "+++\n",
    "🚧&nbsp;[compwa.github.io#278](https://github.com/ComPWA/compwa.github.io/pull/278)\n",
    ":::\n",
    "::::"
   ]
  },
  {
   "cell_type": "markdown",
   "metadata": {},
   "source": [
    "# Sub-intensities of P vector"
   ]
  },
  {
   "cell_type": "code",
   "execution_count": null,
   "metadata": {
    "jupyter": {
     "source_hidden": true
    },
    "mystnb": {
     "code_prompt_show": "Import Python libraries"
    },
    "tags": [
     "hide-input",
     "scroll-input"
    ]
   },
   "outputs": [],
   "source": [
    "from __future__ import annotations\n",
    "\n",
    "import logging\n",
    "import os\n",
    "import re\n",
    "from collections import defaultdict\n",
    "from functools import lru_cache\n",
    "from pathlib import Path\n",
    "from typing import Any\n",
    "\n",
    "import ampform\n",
    "import attrs\n",
    "import graphviz\n",
    "import jax.numpy as jnp\n",
    "import matplotlib.pyplot as plt\n",
    "import numpy as np\n",
    "import qrules\n",
    "import sympy as sp\n",
    "from ampform.dynamics.builder import TwoBodyKinematicVariableSet\n",
    "from ampform.helicity import ParameterValues\n",
    "from ampform.io import aslatex, improve_latex_rendering\n",
    "from ampform.kinematics.phasespace import Kallen\n",
    "from ampform.sympy import perform_cached_doit, unevaluated\n",
    "from attrs import define, field\n",
    "from IPython.display import Math\n",
    "from qrules.particle import Particle, ParticleCollection\n",
    "from sympy import Abs\n",
    "from tensorwaves.data import (\n",
    "    SympyDataTransformer,\n",
    "    TFPhaseSpaceGenerator,\n",
    "    TFUniformRealNumberGenerator,\n",
    ")\n",
    "from tensorwaves.function.sympy import create_parametrized_function\n",
    "from tensorwaves.interface import DataSample, Function, ParametrizedFunction\n",
    "\n",
    "improve_latex_rendering()\n",
    "logging.getLogger(\"absl\").setLevel(logging.ERROR)\n",
    "os.environ[\"TF_CPP_MIN_LOG_LEVEL\"] = \"3\"\n",
    "plt.rc(\"font\", size=12)"
   ]
  },
  {
   "cell_type": "code",
   "execution_count": null,
   "metadata": {
    "tags": [
     "remove-input"
    ]
   },
   "outputs": [],
   "source": [
    "%config InlineBackend.figure_formats = ['svg']"
   ]
  },
  {
   "cell_type": "markdown",
   "metadata": {},
   "source": [
    "## Studied decay"
   ]
  },
  {
   "cell_type": "code",
   "execution_count": null,
   "metadata": {
    "jupyter": {
     "source_hidden": true
    },
    "mystnb": {
     "code_prompt_show": "Define N* resonances"
    },
    "tags": [
     "hide-input",
     "scroll-input"
    ]
   },
   "outputs": [],
   "source": [
    "@lru_cache(maxsize=1)\n",
    "def create_particle_database() -> ParticleCollection:\n",
    "    particles = qrules.load_default_particles()\n",
    "    for nstar in particles.filter(lambda p: p.name.startswith(\"N\")):\n",
    "        particles.remove(nstar)\n",
    "    particles += create_nstar(mass=1.82, width=0.6, parity=+1, spin=1.5, idx=1)\n",
    "    particles += create_nstar(mass=1.92, width=0.6, parity=+1, spin=1.5, idx=2)\n",
    "    return particles\n",
    "\n",
    "\n",
    "def create_nstar(\n",
    "    mass: float, width: float, parity: int, spin: float, idx: int\n",
    ") -> Particle:\n",
    "    spin = sp.Rational(spin)\n",
    "    parity_symbol = \"⁺\" if parity > 0 else \"⁻\"\n",
    "    unicode_subscripts = list(\"₀₁₂₃₄₅₆₇₈₉\")\n",
    "    return Particle(\n",
    "        name=f\"N{unicode_subscripts[idx]}({spin}{parity_symbol})\",\n",
    "        latex=Rf\"N_{idx}({spin.numerator}/{spin.denominator}^-)\",\n",
    "        pid=2024_05_00_00 + 100 * bool(parity + 1) + idx,\n",
    "        mass=mass,\n",
    "        width=width,\n",
    "        baryon_number=1,\n",
    "        charge=+1,\n",
    "        isospin=(0.5, +0.5),\n",
    "        parity=parity,\n",
    "        spin=1.5,\n",
    "    )"
   ]
  },
  {
   "cell_type": "code",
   "execution_count": null,
   "metadata": {},
   "outputs": [],
   "source": [
    "reaction = qrules.generate_transitions(\n",
    "    initial_state=\"J/psi(1S)\",\n",
    "    final_state=[\"eta\", \"p\", \"p~\"],\n",
    "    allowed_intermediate_particles=[\"N\"],\n",
    "    allowed_interaction_types=[\"strong\"],\n",
    "    formalism=\"helicity\",\n",
    "    particle_db=create_particle_database(),\n",
    ")"
   ]
  },
  {
   "cell_type": "code",
   "execution_count": null,
   "metadata": {
    "jupyter": {
     "source_hidden": true
    },
    "tags": [
     "hide-input",
     "remove-output"
    ]
   },
   "outputs": [],
   "source": [
    "dot = qrules.io.asdot(reaction, collapse_graphs=True)\n",
    "graph = graphviz.Source(dot)\n",
    "output_file = Path(\"qrules-output\")\n",
    "graph.render(output_file, format=\"svg\")\n",
    "output_file.unlink()\n",
    "graph"
   ]
  },
  {
   "cell_type": "markdown",
   "metadata": {},
   "source": [
    "![Image](https://github.com/user-attachments/assets/431c2299-2ec1-41ee-8f6f-5f3e5c036024)"
   ]
  },
  {
   "cell_type": "markdown",
   "metadata": {},
   "source": [
    "## Amplitude builder"
   ]
  },
  {
   "cell_type": "code",
   "execution_count": null,
   "metadata": {
    "jupyter": {
     "source_hidden": true
    },
    "mystnb": {
     "code_prompt_show": "Dynamics builder with X symbols of J^PC channels"
    },
    "tags": [
     "hide-input",
     "scroll-input"
    ]
   },
   "outputs": [],
   "source": [
    "@define\n",
    "class DynamicsSymbolBuilder:\n",
    "    collected_symbols: set[sp.Symbol, tuple[Particle, TwoBodyKinematicVariableSet]] = (\n",
    "        field(factory=lambda: defaultdict(set))\n",
    "    )\n",
    "\n",
    "    def __call__(\n",
    "        self, resonance: Particle, variable_pool: TwoBodyKinematicVariableSet\n",
    "    ) -> tuple[sp.Expr, dict[sp.Symbol, float]]:\n",
    "        jp = render_jp(resonance)\n",
    "        charge = resonance.charge\n",
    "        if variable_pool.angular_momentum is not None:\n",
    "            L = sp.Rational(variable_pool.angular_momentum)\n",
    "            X = sp.Symbol(Rf\"X_{{{jp}, Q={charge:+d}}}^{{l={L}}}\")\n",
    "        else:\n",
    "            X = sp.Symbol(Rf\"X_{{{jp}, Q={charge:+d}}}\")\n",
    "        self.collected_symbols[X].add((resonance, variable_pool))\n",
    "        parameter_defaults = {}\n",
    "        return X, parameter_defaults\n",
    "\n",
    "\n",
    "def render_jp(particle: Particle) -> str:\n",
    "    spin = sp.Rational(particle.spin)\n",
    "    j = (\n",
    "        str(spin)\n",
    "        if spin.denominator == 1\n",
    "        else Rf\"\\frac{{{spin.numerator}}}{{{spin.denominator}}}\"\n",
    "    )\n",
    "    if particle.parity is None:\n",
    "        return f\"J={j}\"\n",
    "    p = \"-\" if particle.parity < 0 else \"+\"\n",
    "    return f\"J^P={{{j}}}^{{{p}}}\""
   ]
  },
  {
   "cell_type": "code",
   "execution_count": null,
   "metadata": {
    "tags": [
     "keep_output"
    ]
   },
   "outputs": [
    {
     "data": {
      "text/latex": [
       "$\\displaystyle \\sum_{m_{A}=-1}^{1} \\sum_{m_{1}=-1/2}^{1/2} \\sum_{m_{2}=-1/2}^{1/2}{\\left|{A^{01}_{m_{A}, 0, m_{1}, m_{2}}}\\right|^{2}}$"
      ],
      "text/plain": [
       "PoolSum(Abs(A^01[m_A, 0, m1, m2])**2, (m_A, (0, 1, -1)), (m1, (-1/2, 1/2)), (m2, (-1/2, 1/2)))"
      ]
     },
     "execution_count": null,
     "metadata": {},
     "output_type": "execute_result"
    }
   ],
   "source": [
    "model_builder = ampform.get_builder(reaction)\n",
    "model_builder.adapter.permutate_registered_topologies()\n",
    "model_builder.config.scalar_initial_state_mass = True\n",
    "model_builder.config.stable_final_state_ids = [0, 1, 2]\n",
    "create_dynamics_symbol = DynamicsSymbolBuilder()\n",
    "for resonance in reaction.get_intermediate_particles():\n",
    "    model_builder.set_dynamics(resonance.name, create_dynamics_symbol)\n",
    "model = model_builder.formulate()\n",
    "model.intensity.cleanup()"
   ]
  },
  {
   "cell_type": "code",
   "execution_count": null,
   "metadata": {
    "jupyter": {
     "source_hidden": true
    },
    "tags": [
     "hide-input",
     "full-width",
     "keep_output"
    ]
   },
   "outputs": [
    {
     "data": {
      "text/latex": [
       "$\\displaystyle \\begin{array}{rcl}\n",
       "  A^{01}_{0, 0, - \\frac{1}{2}, - \\frac{1}{2}} &=& - C_{J/\\psi(1S) \\to {N_1(3/2^-)}_{+1/2} \\overline{p}_{+1/2}; N_1(3/2^-) \\to \\eta_{0} p_{+1/2}} X_{J^P={\\frac{3}{2}}^{+}, Q=+1} D^{1}_{0,0}\\left(- \\phi_{01},\\theta_{01},0\\right) D^{\\frac{3}{2}}_{- \\frac{1}{2},\\frac{1}{2}}\\left(- \\phi^{01}_{0},\\theta^{01}_{0},0\\right) \\\\\n",
       "    &+& - C_{J/\\psi(1S) \\to {N_1(3/2^-)}_{+1/2} \\overline{p}_{-1/2}; N_1(3/2^-) \\to \\eta_{0} p_{+1/2}} X_{J^P={\\frac{3}{2}}^{+}, Q=+1} D^{1}_{0,1}\\left(- \\phi_{01},\\theta_{01},0\\right) D^{\\frac{3}{2}}_{\\frac{1}{2},\\frac{1}{2}}\\left(- \\phi^{01}_{0},\\theta^{01}_{0},0\\right) \\\\\n",
       "    &+& - C_{J/\\psi(1S) \\to {N_1(3/2^-)}_{+3/2} \\overline{p}_{+1/2}; N_1(3/2^-) \\to \\eta_{0} p_{+1/2}} X_{J^P={\\frac{3}{2}}^{+}, Q=+1} D^{1}_{0,-1}\\left(- \\phi_{01},\\theta_{01},0\\right) D^{\\frac{3}{2}}_{- \\frac{3}{2},\\frac{1}{2}}\\left(- \\phi^{01}_{0},\\theta^{01}_{0},0\\right) \\\\\n",
       "    &+& - C_{J/\\psi(1S) \\to {N_2(3/2^-)}_{+1/2} \\overline{p}_{+1/2}; N_2(3/2^-) \\to \\eta_{0} p_{+1/2}} X_{J^P={\\frac{3}{2}}^{+}, Q=+1} D^{1}_{0,0}\\left(- \\phi_{01},\\theta_{01},0\\right) D^{\\frac{3}{2}}_{- \\frac{1}{2},\\frac{1}{2}}\\left(- \\phi^{01}_{0},\\theta^{01}_{0},0\\right) \\\\\n",
       "    &+& - C_{J/\\psi(1S) \\to {N_2(3/2^-)}_{+1/2} \\overline{p}_{-1/2}; N_2(3/2^-) \\to \\eta_{0} p_{+1/2}} X_{J^P={\\frac{3}{2}}^{+}, Q=+1} D^{1}_{0,1}\\left(- \\phi_{01},\\theta_{01},0\\right) D^{\\frac{3}{2}}_{\\frac{1}{2},\\frac{1}{2}}\\left(- \\phi^{01}_{0},\\theta^{01}_{0},0\\right) \\\\\n",
       "    &+& - C_{J/\\psi(1S) \\to {N_2(3/2^-)}_{+3/2} \\overline{p}_{+1/2}; N_2(3/2^-) \\to \\eta_{0} p_{+1/2}} X_{J^P={\\frac{3}{2}}^{+}, Q=+1} D^{1}_{0,-1}\\left(- \\phi_{01},\\theta_{01},0\\right) D^{\\frac{3}{2}}_{- \\frac{3}{2},\\frac{1}{2}}\\left(- \\phi^{01}_{0},\\theta^{01}_{0},0\\right) \\\\\n",
       "\\end{array}$"
      ],
      "text/plain": [
       "<IPython.core.display.Math object>"
      ]
     },
     "execution_count": null,
     "metadata": {},
     "output_type": "execute_result"
    }
   ],
   "source": [
    "selected_amplitudes = {\n",
    "    k: v for i, (k, v) in enumerate(model.amplitudes.items()) if i == 0\n",
    "}\n",
    "Math(aslatex(selected_amplitudes, terms_per_line=1))"
   ]
  },
  {
   "cell_type": "code",
   "execution_count": null,
   "metadata": {
    "jupyter": {
     "source_hidden": true
    },
    "tags": [
     "hide-input",
     "keep_output"
    ]
   },
   "outputs": [
    {
     "data": {
      "text/latex": [
       "$\\displaystyle \\begin{array}{cll}\n",
       "  X_{J^P={\\frac{3}{2}}^{+}, Q=+1} \\\\\n",
       "  N_2(3/2^-) & m=1.92\\text{ GeV} & \\Gamma=0.6\\text{ GeV} \\\\\n",
       "  N_1(3/2^-) & m=1.82\\text{ GeV} & \\Gamma=0.6\\text{ GeV} \\\\\n",
       "\\end{array}$"
      ],
      "text/plain": [
       "<IPython.core.display.Math object>"
      ]
     },
     "execution_count": null,
     "metadata": {},
     "output_type": "execute_result"
    }
   ],
   "source": [
    "src = R\"\\begin{array}{cll}\" \"\\n\"\n",
    "for symbol, resonances in create_dynamics_symbol.collected_symbols.items():\n",
    "    src += Rf\"  {symbol} \\\\\" \"\\n\"\n",
    "    for p, _ in resonances:\n",
    "        src += Rf\"  {p.latex} & m={p.mass:g}\\text{{ GeV}} & \\Gamma={p.width:g}\\text{{ GeV}} \\\\\"\n",
    "        src += \"\\n\"\n",
    "src += R\"\\end{array}\"\n",
    "Math(src)"
   ]
  },
  {
   "cell_type": "markdown",
   "metadata": {},
   "source": [
    "## Dynamics parametrization"
   ]
  },
  {
   "cell_type": "markdown",
   "metadata": {},
   "source": [
    "### Phasespace factor"
   ]
  },
  {
   "cell_type": "markdown",
   "metadata": {},
   "source": [
    ":::{seealso}\n",
    "**[TR-026](../026/index.ipynb)** and **[TR-027](../027/index.ipynb)** on analyticity and Riemann sheets.\n",
    ":::"
   ]
  },
  {
   "cell_type": "code",
   "execution_count": null,
   "metadata": {
    "jupyter": {
     "source_hidden": true
    },
    "mystnb": {
     "code_prompt_show": "Expression classes for phase space factors"
    },
    "tags": [
     "hide-input",
     "scroll-input"
    ]
   },
   "outputs": [],
   "source": [
    "@unevaluated(real=False)\n",
    "class PhaseSpaceCM(sp.Expr):\n",
    "    s: Any\n",
    "    m1: Any\n",
    "    m2: Any\n",
    "    _latex_repr_ = R\"\\rho^\\mathrm{{CM}}_{{{m1},{m2}}}\\left({s}\\right)\"\n",
    "\n",
    "    def evaluate(self) -> sp.Expr:\n",
    "        s, m1, m2 = self.args\n",
    "        return -16 * sp.pi * sp.I * ChewMandelstam(s, m1, m2)\n",
    "\n",
    "\n",
    "@unevaluated(real=False)\n",
    "class ChewMandelstam(sp.Expr):\n",
    "    s: Any\n",
    "    m1: Any\n",
    "    m2: Any\n",
    "    _latex_repr_ = R\"\\Sigma\\left({s}\\right)\"\n",
    "\n",
    "    def evaluate(self) -> sp.Expr:\n",
    "        s, m1, m2 = self.args\n",
    "        q = BreakupMomentum(s, m1, m2)\n",
    "        return (\n",
    "            (2 * q / sp.sqrt(s))\n",
    "            * sp.log(Abs((m1**2 + m2**2 - s + 2 * sp.sqrt(s) * q) / (2 * m1 * m2)))\n",
    "            - (m1**2 - m2**2) * (1 / s - 1 / (m1 + m2) ** 2) * sp.log(m1 / m2)\n",
    "        ) / (16 * sp.pi**2)\n",
    "\n",
    "\n",
    "@unevaluated(real=False)\n",
    "class BreakupMomentum(sp.Expr):\n",
    "    s: Any\n",
    "    m1: Any\n",
    "    m2: Any\n",
    "    _latex_repr_ = R\"q\\left({s}\\right)\"\n",
    "\n",
    "    def evaluate(self) -> sp.Expr:\n",
    "        s, m1, m2 = self.args\n",
    "        return sp.sqrt(Kallen(s, m1**2, m2**2)) / (2 * sp.sqrt(s))"
   ]
  },
  {
   "cell_type": "code",
   "execution_count": null,
   "metadata": {
    "jupyter": {
     "source_hidden": true
    },
    "tags": [
     "hide-input",
     "keep_output"
    ]
   },
   "outputs": [
    {
     "data": {
      "text/latex": [
       "$\\displaystyle \\begin{array}{rcl}\n",
       "  \\rho^\\mathrm{CM}_{m_{1},m_{2}}\\left(s\\right) &=& - 16 i \\pi \\Sigma\\left(s\\right) \\\\\n",
       "  \\Sigma\\left(s\\right) &=& \\frac{- \\left(m_{1}^{2} - m_{2}^{2}\\right) \\left(- \\frac{1}{\\left(m_{1} + m_{2}\\right)^{2}} + \\frac{1}{s}\\right) \\log{\\left(\\frac{m_{1}}{m_{2}} \\right)} + \\frac{2 \\log{\\left(\\frac{\\left|{m_{1}^{2} + m_{2}^{2} + 2 \\sqrt{s} q\\left(s\\right) - s}\\right|}{2 m_{1} m_{2}} \\right)} q\\left(s\\right)}{\\sqrt{s}}}{16 \\pi^{2}} \\\\\n",
       "  q\\left(s\\right) &=& \\frac{\\sqrt{\\lambda\\left(s, m_{1}^{2}, m_{2}^{2}\\right)}}{2 \\sqrt{s}} \\\\\n",
       "\\end{array}$"
      ],
      "text/plain": [
       "<IPython.core.display.Math object>"
      ]
     },
     "execution_count": null,
     "metadata": {},
     "output_type": "execute_result"
    }
   ],
   "source": [
    "s, m1, m2 = sp.symbols(\"s m1 m2\", nonnegative=True)\n",
    "exprs = [\n",
    "    PhaseSpaceCM(s, m1, m2),\n",
    "    ChewMandelstam(s, m1, m2),\n",
    "    BreakupMomentum(s, m1, m2),\n",
    "]\n",
    "Math(aslatex({e: e.doit(deep=False) for e in exprs}))"
   ]
  },
  {
   "cell_type": "markdown",
   "metadata": {},
   "source": [
    "### Relativistic Breit-Wigner"
   ]
  },
  {
   "cell_type": "code",
   "execution_count": null,
   "metadata": {},
   "outputs": [],
   "source": [
    "PARAMETERS_BW = dict(model.parameter_defaults)"
   ]
  },
  {
   "cell_type": "code",
   "execution_count": null,
   "metadata": {},
   "outputs": [],
   "source": [
    "def formulate_breit_wigner(\n",
    "    resonances: list[tuple[Particle, TwoBodyKinematicVariableSet]],\n",
    ") -> sp.Expr:\n",
    "    (_, variables), *_ = resonances\n",
    "    s = variables.incoming_state_mass**2\n",
    "    m1 = variables.outgoing_state_mass1\n",
    "    m2 = variables.outgoing_state_mass2\n",
    "    ρ = PhaseSpaceCM(s, m1, m2)\n",
    "    m = [sp.Symbol(Rf\"m_{{{p.latex}}}\") for p, _ in resonances]\n",
    "    Γ0 = [sp.Symbol(Rf\"\\Gamma_{{{p.latex}}}\") for p, _ in resonances]\n",
    "    β = [sp.Symbol(Rf\"\\beta_{{{p.latex}}}\") for p, _ in resonances]\n",
    "    expr = sum(\n",
    "        (β_ * m_ * Γ0_) / (m_**2 - s - m_ * Γ0_ * ρ)\n",
    "        for m_, Γ0_, β_ in zip(m, Γ0, β, strict=True)\n",
    "    )\n",
    "    for i, (resonance, _) in enumerate(resonances):\n",
    "        PARAMETERS_BW[β[i]] = 1 + 0j\n",
    "        PARAMETERS_BW[m[i]] = resonance.mass\n",
    "        PARAMETERS_BW[Γ0[i]] = resonance.width\n",
    "    return expr"
   ]
  },
  {
   "cell_type": "code",
   "execution_count": null,
   "metadata": {
    "jupyter": {
     "source_hidden": true
    },
    "tags": [
     "hide-input",
     "full-width",
     "keep_output"
    ]
   },
   "outputs": [
    {
     "data": {
      "text/latex": [
       "$\\displaystyle \\begin{array}{rcl}\n",
       "  X_{J^P={\\frac{3}{2}}^{+}, Q=+1} &=& \\frac{\\Gamma_{N_1(3/2^-)} \\beta_{N_1(3/2^-)} m_{N_1(3/2^-)}}{- \\Gamma_{N_1(3/2^-)} m_{N_1(3/2^-)} \\rho^\\mathrm{CM}_{m_{0},m_{1}}\\left(m_{01}^{2}\\right) - m_{01}^{2} + \\left(m_{N_1(3/2^-)}\\right)^{2}} + \\frac{\\Gamma_{N_2(3/2^-)} \\beta_{N_2(3/2^-)} m_{N_2(3/2^-)}}{- \\Gamma_{N_2(3/2^-)} m_{N_2(3/2^-)} \\rho^\\mathrm{CM}_{m_{0},m_{1}}\\left(m_{01}^{2}\\right) - m_{01}^{2} + \\left(m_{N_2(3/2^-)}\\right)^{2}} \\\\\n",
       "\\end{array}$"
      ],
      "text/plain": [
       "<IPython.core.display.Math object>"
      ]
     },
     "execution_count": null,
     "metadata": {},
     "output_type": "execute_result"
    }
   ],
   "source": [
    "dynamics_expressions_bw = {\n",
    "    symbol: formulate_breit_wigner(resonances)\n",
    "    for symbol, resonances in create_dynamics_symbol.collected_symbols.items()\n",
    "}\n",
    "model_bw = attrs.evolve(\n",
    "    model,\n",
    "    parameter_defaults=ParameterValues({\n",
    "        **model.parameter_defaults,\n",
    "        **PARAMETERS_BW,\n",
    "    }),\n",
    ")\n",
    "Math(aslatex(dynamics_expressions_bw))"
   ]
  },
  {
   "cell_type": "markdown",
   "metadata": {},
   "source": [
    "### $P$ vector"
   ]
  },
  {
   "cell_type": "code",
   "execution_count": null,
   "metadata": {},
   "outputs": [],
   "source": [
    "PARAMETERS_F = dict(model.parameter_defaults)"
   ]
  },
  {
   "cell_type": "code",
   "execution_count": null,
   "metadata": {},
   "outputs": [],
   "source": [
    "def formulate_k_matrix(\n",
    "    resonances: list[tuple[Particle, TwoBodyKinematicVariableSet]],\n",
    ") -> sp.Expr:\n",
    "    (_, variables), *_ = resonances\n",
    "    s = variables.incoming_state_mass**2\n",
    "    m = [sp.Symbol(Rf\"m_{{{p.latex}}}\") for p, _ in resonances]\n",
    "    g = [sp.Symbol(Rf\"g_{{{p.latex}}}\") for p, _ in resonances]\n",
    "    expr = sum((g_**2) / (m_**2 - s) for m_, g_ in zip(m, g, strict=True))\n",
    "    for i, (resonance, _) in enumerate(resonances):\n",
    "        PARAMETERS_F[m[i]] = resonance.mass\n",
    "        PARAMETERS_F[g[i]] = 1\n",
    "    return expr"
   ]
  },
  {
   "cell_type": "code",
   "execution_count": null,
   "metadata": {},
   "outputs": [],
   "source": [
    "def formulate_p_vector(\n",
    "    resonances: list[tuple[Particle, TwoBodyKinematicVariableSet]],\n",
    ") -> sp.Expr:\n",
    "    (_, variables), *_ = resonances\n",
    "    s = variables.incoming_state_mass**2\n",
    "    g = [sp.Symbol(Rf\"g_{{{p.latex}}}\") for p, _ in resonances]\n",
    "    m = [sp.Symbol(Rf\"m_{{{p.latex}}}\") for p, _ in resonances]\n",
    "    β = [sp.Symbol(Rf\"\\beta_{{{p.latex}}}\") for p, _ in resonances]\n",
    "    expr = sum((g_ * β_) / (m_**2 - s) for m_, g_, β_ in zip(m, g, β, strict=True))\n",
    "    for i, (resonance, _) in enumerate(resonances):\n",
    "        PARAMETERS_F[β[i]] = 1 + 0j\n",
    "        PARAMETERS_F[m[i]] = resonance.mass\n",
    "        PARAMETERS_F[g[i]] = 1\n",
    "    return expr"
   ]
  },
  {
   "cell_type": "code",
   "execution_count": null,
   "metadata": {},
   "outputs": [],
   "source": [
    "def formulate_f_vector(\n",
    "    resonances: list[tuple[Particle, TwoBodyKinematicVariableSet]],\n",
    ") -> sp.Expr:\n",
    "    (_, variables), *_ = resonances\n",
    "    s = variables.incoming_state_mass**2\n",
    "    m1 = variables.outgoing_state_mass1\n",
    "    m2 = variables.outgoing_state_mass2\n",
    "    rho = PhaseSpaceCM(s, m1, m2)\n",
    "    K = formulate_k_matrix(resonances)\n",
    "    P = formulate_p_vector(resonances)\n",
    "    return (1 / (1 - rho * K)) * P"
   ]
  },
  {
   "cell_type": "code",
   "execution_count": null,
   "metadata": {
    "jupyter": {
     "source_hidden": true
    },
    "tags": [
     "hide-input",
     "keep_output"
    ]
   },
   "outputs": [
    {
     "data": {
      "text/latex": [
       "$\\displaystyle \\begin{array}{rcl}\n",
       "  X_{J^P={\\frac{3}{2}}^{+}, Q=+1} &=& \\frac{\\frac{\\beta_{N_1(3/2^-)} g_{N_1(3/2^-)}}{- m_{01}^{2} + \\left(m_{N_1(3/2^-)}\\right)^{2}} + \\frac{\\beta_{N_2(3/2^-)} g_{N_2(3/2^-)}}{- m_{01}^{2} + \\left(m_{N_2(3/2^-)}\\right)^{2}}}{- \\left(\\frac{\\left(g_{N_1(3/2^-)}\\right)^{2}}{- m_{01}^{2} + \\left(m_{N_1(3/2^-)}\\right)^{2}} + \\frac{\\left(g_{N_2(3/2^-)}\\right)^{2}}{- m_{01}^{2} + \\left(m_{N_2(3/2^-)}\\right)^{2}}\\right) \\rho^\\mathrm{CM}_{m_{0},m_{1}}\\left(m_{01}^{2}\\right) + 1} \\\\\n",
       "\\end{array}$"
      ],
      "text/plain": [
       "<IPython.core.display.Math object>"
      ]
     },
     "execution_count": null,
     "metadata": {},
     "output_type": "execute_result"
    }
   ],
   "source": [
    "dynamics_expressions_fvector = {\n",
    "    symbol: formulate_f_vector(resonances)\n",
    "    for symbol, resonances in create_dynamics_symbol.collected_symbols.items()\n",
    "}\n",
    "model_fvector = attrs.evolve(\n",
    "    model,\n",
    "    parameter_defaults=ParameterValues({\n",
    "        **model.parameter_defaults,\n",
    "        **PARAMETERS_F,\n",
    "    }),\n",
    ")\n",
    "Math(aslatex(dynamics_expressions_fvector))"
   ]
  },
  {
   "cell_type": "markdown",
   "metadata": {},
   "source": [
    "### Create numerical functions"
   ]
  },
  {
   "cell_type": "markdown",
   "metadata": {},
   "source": [
    "#### Amplitude model function"
   ]
  },
  {
   "cell_type": "code",
   "execution_count": null,
   "metadata": {},
   "outputs": [],
   "source": [
    "full_expression_bw = perform_cached_doit(model_bw.expression).xreplace(\n",
    "    dynamics_expressions_bw\n",
    ")\n",
    "intensity_func_bw = create_parametrized_function(\n",
    "    expression=perform_cached_doit(full_expression_bw),\n",
    "    backend=\"jax\",\n",
    "    parameters=PARAMETERS_BW,\n",
    ")"
   ]
  },
  {
   "cell_type": "code",
   "execution_count": null,
   "metadata": {},
   "outputs": [],
   "source": [
    "full_expression_fvector = perform_cached_doit(model_fvector.expression).xreplace(\n",
    "    dynamics_expressions_fvector\n",
    ")\n",
    "intensity_func_fvector = create_parametrized_function(\n",
    "    expression=perform_cached_doit(full_expression_fvector),\n",
    "    backend=\"jax\",\n",
    "    parameters=PARAMETERS_F,\n",
    ")"
   ]
  },
  {
   "cell_type": "markdown",
   "metadata": {},
   "source": [
    "#### Dynamics function"
   ]
  },
  {
   "cell_type": "code",
   "execution_count": null,
   "metadata": {
    "mystnb": {
     "code_prompt_show": "Breit–Wigner parametrization"
    },
    "tags": [
     "full-width",
     "hide-input",
     "keep_output"
    ]
   },
   "outputs": [
    {
     "data": {
      "text/latex": [
       "$\\displaystyle \\frac{\\Gamma_{N_1(3/2^-)} \\beta_{N_1(3/2^-)} m_{N_1(3/2^-)}}{- \\Gamma_{N_1(3/2^-)} m_{N_1(3/2^-)} \\rho^\\mathrm{CM}_{m_{0},m_{1}}\\left(m_{01}^{2}\\right) - m_{01}^{2} + \\left(m_{N_1(3/2^-)}\\right)^{2}} + \\frac{\\Gamma_{N_2(3/2^-)} \\beta_{N_2(3/2^-)} m_{N_2(3/2^-)}}{- \\Gamma_{N_2(3/2^-)} m_{N_2(3/2^-)} \\rho^\\mathrm{CM}_{m_{0},m_{1}}\\left(m_{01}^{2}\\right) - m_{01}^{2} + \\left(m_{N_2(3/2^-)}\\right)^{2}}$"
      ],
      "text/plain": [
       "\\Gamma_{N_1(3/2^-)}*\\beta_{N_1(3/2^-)}*m_{N_1(3/2^-)}/(-\\Gamma_{N_1(3/2^-)}*m_{N_1(3/2^-)}*PhaseSpaceCM(m_01**2, m_0, m_1) - m_01**2 + m_{N_1(3/2^-)}**2) + \\Gamma_{N_2(3/2^-)}*\\beta_{N_2(3/2^-)}*m_{N_2(3/2^-)}/(-\\Gamma_{N_2(3/2^-)}*m_{N_2(3/2^-)}*PhaseSpaceCM(m_01**2, m_0, m_1) - m_01**2 + m_{N_2(3/2^-)}**2)"
      ]
     },
     "execution_count": null,
     "metadata": {},
     "output_type": "execute_result"
    }
   ],
   "source": [
    "dynamics_expr_bw, *_ = dynamics_expressions_bw.values()\n",
    "dynamics_expr_bw"
   ]
  },
  {
   "cell_type": "code",
   "execution_count": null,
   "metadata": {
    "mystnb": {
     "code_prompt_show": "F-vector parametrization"
    },
    "tags": [
     "full-width",
     "hide-input",
     "keep_output"
    ]
   },
   "outputs": [
    {
     "data": {
      "text/latex": [
       "$\\displaystyle \\frac{\\beta_{N_1(3/2^-)} g_{N_1(3/2^-)} \\left(m_{01}^{2} - \\left(m_{N_2(3/2^-)}\\right)^{2}\\right) + \\beta_{N_2(3/2^-)} g_{N_2(3/2^-)} \\left(m_{01}^{2} - \\left(m_{N_1(3/2^-)}\\right)^{2}\\right)}{- \\left(m_{01}^{2} - \\left(m_{N_1(3/2^-)}\\right)^{2}\\right) \\left(m_{01}^{2} - \\left(m_{N_2(3/2^-)}\\right)^{2}\\right) + \\left(- \\left(g_{N_1(3/2^-)}\\right)^{2} \\left(m_{01}^{2} - \\left(m_{N_2(3/2^-)}\\right)^{2}\\right) - \\left(g_{N_2(3/2^-)}\\right)^{2} \\left(m_{01}^{2} - \\left(m_{N_1(3/2^-)}\\right)^{2}\\right)\\right) \\rho^\\mathrm{CM}_{m_{0},m_{1}}\\left(m_{01}^{2}\\right)}$"
      ],
      "text/plain": [
       "(\\beta_{N_1(3/2^-)}*g_{N_1(3/2^-)}*(m_01**2 - m_{N_2(3/2^-)}**2) + \\beta_{N_2(3/2^-)}*g_{N_2(3/2^-)}*(m_01**2 - m_{N_1(3/2^-)}**2))/(-(m_01**2 - m_{N_1(3/2^-)}**2)*(m_01**2 - m_{N_2(3/2^-)}**2) + (-g_{N_1(3/2^-)}**2*(m_01**2 - m_{N_2(3/2^-)}**2) - g_{N_2(3/2^-)}**2*(m_01**2 - m_{N_1(3/2^-)}**2))*PhaseSpaceCM(m_01**2, m_0, m_1))"
      ]
     },
     "execution_count": null,
     "metadata": {},
     "output_type": "execute_result"
    }
   ],
   "source": [
    "dynamics_expr_fvector, *_ = dynamics_expressions_fvector.values()\n",
    "dynamics_expr_fvector.simplify(doit=False)"
   ]
  },
  {
   "cell_type": "code",
   "execution_count": null,
   "metadata": {},
   "outputs": [],
   "source": [
    "dynamics_func_bw = create_parametrized_function(\n",
    "    expression=perform_cached_doit(dynamics_expr_bw),\n",
    "    backend=\"jax\",\n",
    "    parameters=model_bw.parameter_defaults,\n",
    ")"
   ]
  },
  {
   "cell_type": "code",
   "execution_count": null,
   "metadata": {},
   "outputs": [],
   "source": [
    "dynamics_func_fvector = create_parametrized_function(\n",
    "    expression=perform_cached_doit(dynamics_expr_fvector),\n",
    "    backend=\"jax\",\n",
    "    parameters=model_fvector.parameter_defaults,\n",
    ")"
   ]
  },
  {
   "cell_type": "markdown",
   "metadata": {},
   "source": [
    "##  Generate data"
   ]
  },
  {
   "cell_type": "markdown",
   "metadata": {},
   "source": [
    "### Generate phase space sample"
   ]
  },
  {
   "cell_type": "code",
   "execution_count": null,
   "metadata": {},
   "outputs": [],
   "source": [
    "rng = TFUniformRealNumberGenerator(seed=0)\n",
    "phsp_generator = TFPhaseSpaceGenerator(\n",
    "    initial_state_mass=reaction.initial_state[-1].mass,\n",
    "    final_state_masses={i: p.mass for i, p in reaction.final_state.items()},\n",
    ")\n",
    "phsp_momenta = phsp_generator.generate(500_000, rng)\n",
    "\n",
    "ε = 1e-8\n",
    "transformer = SympyDataTransformer.from_sympy(model.kinematic_variables, backend=\"jax\")\n",
    "phsp = transformer(phsp_momenta)\n",
    "phsp = {k: v + ε * 1j if re.match(r\"^m_\\d\\d$\", k) else v for k, v in phsp.items()}"
   ]
  },
  {
   "cell_type": "markdown",
   "metadata": {},
   "source": [
    "### Update function parameters"
   ]
  },
  {
   "cell_type": "code",
   "execution_count": null,
   "metadata": {},
   "outputs": [],
   "source": [
    "m_res1 = 1.82\n",
    "m_res2 = 1.92\n",
    "g_res1 = 1\n",
    "g_res2 = 1"
   ]
  },
  {
   "cell_type": "code",
   "execution_count": null,
   "metadata": {},
   "outputs": [],
   "source": [
    "toy_parameters_bw = {\n",
    "    R\"m_{N_1(3/2^-)}\": m_res1,\n",
    "    R\"m_{N_2(3/2^-)}\": m_res2,\n",
    "    R\"\\Gamma_{N_1(3/2^-)}\": g_res1 / m_res1,\n",
    "    R\"\\Gamma_{N_2(3/2^-)}\": g_res2 / m_res2,\n",
    "}\n",
    "dynamics_func_bw.update_parameters(toy_parameters_bw)\n",
    "intensity_func_bw.update_parameters(toy_parameters_bw)"
   ]
  },
  {
   "cell_type": "code",
   "execution_count": null,
   "metadata": {},
   "outputs": [],
   "source": [
    "toy_parameters_fvector = {\n",
    "    R\"\\beta_{N_1(3/2^-)}\": 1 + 0j,\n",
    "    R\"\\beta_{N_2(3/2^-)}\": 1 + 0j,\n",
    "    R\"m_{N_1(3/2^-)}\": m_res1,\n",
    "    R\"m_{N_2(3/2^-)}\": m_res2,\n",
    "    R\"g_{N_1(3/2^-)}\": g_res1,\n",
    "    R\"g_{N_2(3/2^-)}\": g_res2,\n",
    "}\n",
    "dynamics_func_fvector.update_parameters(toy_parameters_fvector)\n",
    "intensity_func_fvector.update_parameters(toy_parameters_fvector)"
   ]
  },
  {
   "cell_type": "markdown",
   "metadata": {},
   "source": [
    "## Plots"
   ]
  },
  {
   "cell_type": "markdown",
   "metadata": {},
   "source": [
    "### Sub-intensities"
   ]
  },
  {
   "cell_type": "code",
   "execution_count": null,
   "metadata": {
    "jupyter": {
     "source_hidden": true
    },
    "mystnb": {
     "code_prompt_show": "Function for computing sub-intensities"
    },
    "tags": [
     "hide-input",
     "scroll-input"
    ]
   },
   "outputs": [],
   "source": [
    "def compute_sub_intensity(\n",
    "    func: ParametrizedFunction,\n",
    "    input_data: DataSample,\n",
    "    resonances: list[str],\n",
    "    coupling_pattern: str,\n",
    "):\n",
    "    original_parameters = dict(func.parameters)\n",
    "    negative_lookahead = f\"(?!{'|'.join(map(re.escape, resonances))})\"\n",
    "    # https://regex101.com/r/WrgGyD/1\n",
    "    pattern = rf\"^{coupling_pattern}({negative_lookahead}.)*$\"\n",
    "    set_parameters_to_zero(func, pattern)\n",
    "    array = func(input_data)\n",
    "    func.update_parameters(original_parameters)\n",
    "    return array\n",
    "\n",
    "\n",
    "def set_parameters_to_zero(func: ParametrizedFunction, name_pattern: str) -> None:\n",
    "    toy_parameters = dict(func.parameters)\n",
    "    for par_name in func.parameters:\n",
    "        if re.match(name_pattern, par_name) is not None:\n",
    "            toy_parameters[par_name] = 0\n",
    "    func.update_parameters(toy_parameters)"
   ]
  },
  {
   "cell_type": "code",
   "execution_count": null,
   "metadata": {},
   "outputs": [],
   "source": [
    "total_intensities_bw = intensity_func_bw(phsp)\n",
    "sub_intensities_bw = {\n",
    "    p: compute_sub_intensity(\n",
    "        intensity_func_bw,\n",
    "        phsp,\n",
    "        resonances=[p.latex],\n",
    "        coupling_pattern=r\"\\\\beta\",\n",
    "    )\n",
    "    for symbol, resonances in create_dynamics_symbol.collected_symbols.items()\n",
    "    for p, _ in resonances\n",
    "}"
   ]
  },
  {
   "cell_type": "code",
   "execution_count": null,
   "metadata": {},
   "outputs": [],
   "source": [
    "total_intensities_fvector = intensity_func_fvector(phsp)\n",
    "sub_intensities_fvector = {\n",
    "    p: compute_sub_intensity(\n",
    "        intensity_func_fvector,\n",
    "        phsp,\n",
    "        resonances=[p.latex],\n",
    "        coupling_pattern=r\"\\\\beta\",\n",
    "    )\n",
    "    for symbol, resonances in create_dynamics_symbol.collected_symbols.items()\n",
    "    for p, _ in resonances\n",
    "}"
   ]
  },
  {
   "cell_type": "code",
   "execution_count": null,
   "metadata": {
    "jupyter": {
     "source_hidden": true
    },
    "mystnb": {
     "code_prompt_show": "Function for plotting histograms with JAX"
    },
    "tags": [
     "hide-input"
    ]
   },
   "outputs": [],
   "source": [
    "def fast_histogram(\n",
    "    data: jnp.ndarray,\n",
    "    weights: jnp.ndarray | None = None,\n",
    "    bins: int = 100,\n",
    "    density: bool | None = None,\n",
    "    fill: bool = True,\n",
    "    ax=plt,\n",
    "    **plot_kwargs,\n",
    ") -> None:\n",
    "    bin_values, bin_edges = jnp.histogram(\n",
    "        data,\n",
    "        bins=bins,\n",
    "        density=density,\n",
    "        weights=weights,\n",
    "    )\n",
    "    if fill:\n",
    "        bin_rights = bin_edges[1:]\n",
    "        ax.fill_between(bin_rights, bin_values, step=\"pre\", **plot_kwargs)\n",
    "    else:\n",
    "        bin_mids = (bin_edges[:-1] + bin_edges[1:]) / 2\n",
    "        ax.step(bin_mids, bin_values, **plot_kwargs)"
   ]
  },
  {
   "cell_type": "code",
   "execution_count": null,
   "metadata": {
    "jupyter": {
     "source_hidden": true
    },
    "tags": [
     "hide-input",
     "scroll-input",
     "remove-output"
    ]
   },
   "outputs": [],
   "source": [
    "fig, ax = plt.subplots(figsize=(8, 5))\n",
    "ax.set_xlim(2, 5)\n",
    "ax.set_xlabel(R\"$m_{p\\eta}^{2}$ [GeV$^2$]\")\n",
    "ax.set_ylabel(R\"Intensity [a. u.]\")\n",
    "ax.set_yticks([])\n",
    "\n",
    "bins = 150\n",
    "phsp_projection = np.real(phsp[\"m_01\"]) ** 2\n",
    "fast_histogram(\n",
    "    phsp_projection,\n",
    "    weights=total_intensities_fvector,\n",
    "    alpha=0.2,\n",
    "    bins=bins,\n",
    "    color=\"hotpink\",\n",
    "    label=\"Full intensity $F$ vector\",\n",
    "    ax=ax,\n",
    ")\n",
    "fast_histogram(\n",
    "    phsp_projection,\n",
    "    weights=total_intensities_bw,\n",
    "    alpha=0.2,\n",
    "    bins=bins,\n",
    "    color=\"grey\",\n",
    "    label=\"Full intensity Breit-Wigner\",\n",
    "    ax=ax,\n",
    ")\n",
    "for i, (p, v) in enumerate(sub_intensities_fvector.items()):\n",
    "    fast_histogram(\n",
    "        phsp_projection,\n",
    "        weights=v,\n",
    "        alpha=0.6,\n",
    "        bins=bins,\n",
    "        color=f\"C{i}\",\n",
    "        fill=False,\n",
    "        label=Rf\"Resonance at ${p.mass}\\,\\mathrm{{GeV}}$ $F$ vector\",\n",
    "        linewidth=2,\n",
    "        ax=ax,\n",
    "    )\n",
    "for i, (p, v) in enumerate(sub_intensities_bw.items()):\n",
    "    fast_histogram(\n",
    "        phsp_projection,\n",
    "        weights=v,\n",
    "        alpha=0.6,\n",
    "        bins=bins,\n",
    "        color=f\"C{i}\",\n",
    "        fill=False,\n",
    "        label=Rf\"Resonance at ${p.mass}\\,\\mathrm{{GeV^2}}$ Breit-Wigner\",\n",
    "        linestyle=\"dashed\",\n",
    "        ax=ax,\n",
    "    )\n",
    "\n",
    "ax.set_ylim(0, None)\n",
    "fig.legend(loc=\"upper right\")\n",
    "fig.tight_layout()\n",
    "\n",
    "fig.savefig(\"sub-intensities.svg\", bbox_inches=\"tight\")\n",
    "plt.show()"
   ]
  },
  {
   "cell_type": "markdown",
   "metadata": {},
   "source": [
    "![Image](https://github.com/user-attachments/assets/116a418a-4394-4203-90ea-11d6c58c8aea)"
   ]
  },
  {
   "cell_type": "markdown",
   "metadata": {},
   "source": [
    "### Argand plots"
   ]
  },
  {
   "cell_type": "code",
   "execution_count": null,
   "metadata": {},
   "outputs": [],
   "source": [
    "ε = 1e-8\n",
    "x = np.linspace(2, 5, num=400)\n",
    "plot_data = {\"m_01\": np.sqrt(x) + ε * 1j}"
   ]
  },
  {
   "cell_type": "code",
   "execution_count": null,
   "metadata": {},
   "outputs": [],
   "source": [
    "total_dynamics_bw = dynamics_func_bw(plot_data)\n",
    "sub_dynamics_bw = {\n",
    "    p: compute_sub_intensity(\n",
    "        dynamics_func_bw,\n",
    "        plot_data,\n",
    "        resonances=[p.latex],\n",
    "        coupling_pattern=r\"\\\\beta\",\n",
    "    )\n",
    "    for symbol, resonances in create_dynamics_symbol.collected_symbols.items()\n",
    "    for p, _ in resonances\n",
    "}\n",
    "total_dynamics_fvector = dynamics_func_fvector(plot_data)\n",
    "sub_dynamics_fvector = {\n",
    "    p: compute_sub_intensity(\n",
    "        dynamics_func_fvector,\n",
    "        plot_data,\n",
    "        resonances=[p.latex],\n",
    "        coupling_pattern=r\"\\\\beta\",\n",
    "    )\n",
    "    for symbol, resonances in create_dynamics_symbol.collected_symbols.items()\n",
    "    for p, _ in resonances\n",
    "}"
   ]
  },
  {
   "cell_type": "code",
   "execution_count": null,
   "metadata": {},
   "outputs": [],
   "source": [
    "x1 = np.linspace(2.0, (m_res1**2 + m_res2**2) / 2, num=500)\n",
    "x2 = np.linspace((m_res1**2 + m_res2**2) / 2, 5.0, num=500)\n",
    "plot_data1 = {\"m_01\": np.sqrt(x1) + ε * 1j}\n",
    "plot_data2 = {\"m_01\": np.sqrt(x2) + ε * 1j}"
   ]
  },
  {
   "cell_type": "code",
   "execution_count": null,
   "metadata": {
    "jupyter": {
     "source_hidden": true
    },
    "mystnb": {
     "code_prompt_show": "Function definition for plotting Argand plots"
    },
    "tags": [
     "hide-input",
     "scroll-input"
    ]
   },
   "outputs": [],
   "source": [
    "def plot_argand(\n",
    "    total_func: Function, sub_funcs: dict[Particle, Function], title: str\n",
    ") -> None:\n",
    "    fig, axes = plt.subplots(1, 2, figsize=(10, 5), sharey=True)\n",
    "    fig.subplots_adjust(wspace=0.05)\n",
    "    fig.suptitle(title, y=0.99)\n",
    "    ax1, ax2 = axes\n",
    "    ax1.set_title(\"Total amplitude\")\n",
    "    ax2.set_title(\"Amplitude for resonance only\")\n",
    "    ax1.set_ylabel(R\"$\\text{Im}\\,F$\")\n",
    "    for ax in axes:\n",
    "        ax.axhline(0, color=\"black\", linewidth=0.5)\n",
    "        ax.axvline(0, color=\"black\", linewidth=0.5)\n",
    "        ax.set_xlabel(R\"$\\text{Re}\\,F$\")\n",
    "\n",
    "    y1 = total_func(plot_data1)\n",
    "    ax1.plot(\n",
    "        y1.real,\n",
    "        y1.imag,\n",
    "        label=f\"Domain of {m_res1}-GeV resonance \",\n",
    "        color=\"C0\",\n",
    "    )\n",
    "    y2 = total_func(plot_data2)\n",
    "    ax1.plot(\n",
    "        y2.real,\n",
    "        y2.imag,\n",
    "        label=f\"Domain of {m_res2}-GeV resonance \",\n",
    "        color=\"C1\",\n",
    "    )\n",
    "    for i, (k, v) in enumerate(sub_funcs.items()):\n",
    "        ax2.plot(\n",
    "            v.real,\n",
    "            v.imag,\n",
    "            color=f\"C{i}\",\n",
    "            label=f\"Resonance at {k.mass} GeV $F$-vector\",\n",
    "        )\n",
    "\n",
    "    ax1.legend(loc=\"upper left\")\n",
    "\n",
    "    output_file = f\"argand-{title.lower().replace(' ', '-')}.svg\"\n",
    "    fig.savefig(output_file, bbox_inches=\"tight\")\n",
    "    fig.show()"
   ]
  },
  {
   "cell_type": "code",
   "execution_count": null,
   "metadata": {
    "tags": [
     "hide-input",
     "remove-output"
    ]
   },
   "outputs": [],
   "source": [
    "plot_argand(\n",
    "    dynamics_func_fvector,\n",
    "    sub_dynamics_fvector,\n",
    "    title=\"F vector\",\n",
    ")"
   ]
  },
  {
   "cell_type": "markdown",
   "metadata": {},
   "source": [
    "![Image](https://github.com/user-attachments/assets/4c4060a0-dd38-4e3a-8e4c-04ac0a26f5ac)"
   ]
  },
  {
   "cell_type": "code",
   "execution_count": null,
   "metadata": {
    "tags": [
     "hide-input",
     "remove-output"
    ]
   },
   "outputs": [],
   "source": [
    "plot_argand(\n",
    "    dynamics_func_bw,\n",
    "    sub_dynamics_bw,\n",
    "    title=\"Breit-Wigner\",\n",
    ")"
   ]
  },
  {
   "cell_type": "markdown",
   "metadata": {},
   "source": [
    "![Image](https://github.com/user-attachments/assets/10816903-530f-4990-9cc6-0cb35269368f)"
   ]
  },
  {
   "cell_type": "markdown",
   "metadata": {},
   "source": [
    "### Phase"
   ]
  },
  {
   "cell_type": "code",
   "execution_count": null,
   "metadata": {},
   "outputs": [],
   "source": [
    "total_phase_bw = np.angle(total_dynamics_bw)\n",
    "total_phase_fvector = np.angle(total_dynamics_fvector)\n",
    "sub_phase_bw = {p: np.angle(v) for p, v in sub_dynamics_bw.items()}\n",
    "sub_phase_fvector = {p: np.angle(v) for p, v in sub_dynamics_fvector.items()}"
   ]
  },
  {
   "cell_type": "code",
   "execution_count": null,
   "metadata": {
    "jupyter": {
     "source_hidden": true
    },
    "mystnb": {
     "code_prompt_show": "Function definition for plotting phases"
    },
    "tags": [
     "hide-input",
     "scroll-input"
    ]
   },
   "outputs": [],
   "source": [
    "def plot_phases(\n",
    "    total_intensity_array: np.ndarray,\n",
    "    sub_intensity_arrays: dict[Particle, np.ndarray],\n",
    "    total_phase_array: np.ndarray,\n",
    "    sub_phase_arrays: dict[Particle, np.ndarray],\n",
    "    title: str,\n",
    ") -> None:\n",
    "    fig, ax1 = plt.subplots(figsize=(10, 6))\n",
    "    ax1.set_title(title)\n",
    "    ax2 = ax1.twinx()\n",
    "    ax1.set_xlim(2.0, 5.0)\n",
    "    ax1.set_xlabel(R\"$m_{p\\eta}^{2}$ [GeV$^{2}$]\")\n",
    "    ax1.set_ylabel(\"Intensity [a. u.]\")\n",
    "    ax2.set_ylabel(\"Angle\")\n",
    "    ax1.set_yticks([])\n",
    "    ax2.set_ylim([-np.pi, +np.pi])\n",
    "    ax2.set_yticks([\n",
    "        -np.pi,\n",
    "        -np.pi / 2,\n",
    "        0,\n",
    "        +np.pi / 2,\n",
    "        +np.pi,\n",
    "    ])\n",
    "    ax2.set_yticklabels([\n",
    "        R\"$-\\pi$\",\n",
    "        R\"$-\\frac{\\pi}{2}$\",\n",
    "        \"0\",\n",
    "        R\"$+\\frac{\\pi}{2}$\",\n",
    "        R\"$+\\pi$\",\n",
    "    ])\n",
    "    ax2.axhline(0, c=\"black\", lw=0.5)\n",
    "\n",
    "    # Plot background histograms\n",
    "    phsp_projection = np.real(phsp[\"m_01\"]) ** 2\n",
    "    fast_histogram(\n",
    "        phsp_projection,\n",
    "        weights=total_intensity_array,\n",
    "        bins=bins,\n",
    "        alpha=0.2,\n",
    "        color=\"gray\",\n",
    "        label=\"Full intensity\",\n",
    "        ax=ax1,\n",
    "    )\n",
    "    for i, (k, v) in enumerate(sub_intensity_arrays.items()):\n",
    "        fast_histogram(\n",
    "            phsp_projection,\n",
    "            weights=v,\n",
    "            bins=bins,\n",
    "            alpha=0.2,\n",
    "            color=f\"C{i}\",\n",
    "            label=Rf\"Resonance at ${k.mass}\\,\\mathrm{{GeV}}$\",\n",
    "            ax=ax1,\n",
    "        )\n",
    "    ax1.set_ylim(0, None)\n",
    "\n",
    "    # Plot phases\n",
    "    ax2.scatter(\n",
    "        x,\n",
    "        total_phase_array,\n",
    "        color=\"gray\",\n",
    "        label=\"Total Phase\",\n",
    "        s=18,\n",
    "    )\n",
    "    for i, (k, v) in enumerate(sub_phase_arrays.items()):\n",
    "        ax2.scatter(\n",
    "            x,\n",
    "            v,\n",
    "            alpha=0.5,\n",
    "            color=f\"C{i}\",\n",
    "            label=f\"Resonance at {k.mass} GeV\",\n",
    "            s=8,\n",
    "        )\n",
    "        ax2.axvline(k.mass**2, linestyle=\"dotted\", color=f\"C{i}\")\n",
    "\n",
    "    # Add legends\n",
    "    fig.legend(bbox_to_anchor=(0.1, 0.9), loc=\"upper left\")\n",
    "    fig.tight_layout()\n",
    "\n",
    "    output_file = f\"phase-{title.lower().replace(' ', '-')}.svg\"\n",
    "    fig.savefig(output_file, bbox_inches=\"tight\")\n",
    "    fig.show()"
   ]
  },
  {
   "cell_type": "code",
   "execution_count": null,
   "metadata": {
    "jupyter": {
     "source_hidden": true
    },
    "tags": [
     "hide-input",
     "remove-output"
    ]
   },
   "outputs": [],
   "source": [
    "plot_phases(\n",
    "    total_intensity_array=total_intensities_fvector,\n",
    "    sub_intensity_arrays=sub_intensities_fvector,\n",
    "    total_phase_array=total_phase_fvector,\n",
    "    sub_phase_arrays=sub_phase_fvector,\n",
    "    title=\"F vector\",\n",
    ")"
   ]
  },
  {
   "cell_type": "markdown",
   "metadata": {},
   "source": [
    "![Image](https://github.com/user-attachments/assets/a98341f5-9173-4aeb-a817-e9687a0bc7ec)"
   ]
  },
  {
   "cell_type": "code",
   "execution_count": null,
   "metadata": {
    "jupyter": {
     "source_hidden": true
    },
    "tags": [
     "hide-input",
     "remove-output"
    ]
   },
   "outputs": [],
   "source": [
    "plot_phases(\n",
    "    total_intensity_array=total_intensities_bw,\n",
    "    sub_intensity_arrays=sub_intensities_bw,\n",
    "    total_phase_array=total_phase_bw,\n",
    "    sub_phase_arrays=sub_phase_bw,\n",
    "    title=\"Breit-Wigner\",\n",
    ")"
   ]
  },
  {
   "cell_type": "markdown",
   "metadata": {},
   "source": [
    "![Image](https://github.com/user-attachments/assets/c718704d-2648-443e-bb44-4693f6da7e6c)"
   ]
  }
 ],
 "metadata": {
  "colab": {
   "toc_visible": true
  },
  "kernelspec": {
   "display_name": "Pyproject Local",
   "language": "python",
   "name": "pyproject_local_kernel"
  },
  "language_info": {
   "codemirror_mode": {
    "name": "ipython",
    "version": 3
   },
   "file_extension": ".py",
   "mimetype": "text/x-python",
   "name": "python",
   "nbconvert_exporter": "python",
   "pygments_lexer": "ipython3",
   "version": "3.12.6"
  }
 },
 "nbformat": 4,
 "nbformat_minor": 4
}
