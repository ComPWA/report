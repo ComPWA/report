{
 "cells": [
  {
   "cell_type": "markdown",
   "metadata": {},
   "source": [
    "```{autolink-concat}\n",
    "```"
   ]
  },
  {
   "cell_type": "markdown",
   "metadata": {
    "tags": [
     "physics",
     "tensorwaves"
    ]
   },
   "source": [
    "::::{margin}\n",
    ":::{card} Intensity distribution generator with importance sampling\n",
    "TR-018\n",
    "^^^\n",
    "This reports sets out how data generation with TensorWaves works and what would be the best approach to tackle [tensorwaves#402](https://github.com/ComPWA/tensorwaves/issues/402).\n",
    "+++\n",
    "WIP\n",
    ":::\n",
    "::::"
   ]
  },
  {
   "cell_type": "markdown",
   "metadata": {},
   "source": [
    "# Importance sampling"
   ]
  },
  {
   "cell_type": "code",
   "execution_count": null,
   "metadata": {
    "tags": [
     "remove-cell"
    ]
   },
   "outputs": [],
   "source": [
    "%pip install -q ampform==0.14.0 'qrules[viz]==0.9.7' scipy==1.8.0 sympy==1.10.1 'tensorwaves[jax,pwa]==0.4.8'"
   ]
  },
  {
   "cell_type": "markdown",
   "metadata": {},
   "source": [
    "## Model definition"
   ]
  },
  {
   "cell_type": "code",
   "execution_count": null,
   "metadata": {
    "jupyter": {
     "source_hidden": true
    },
    "tags": [
     "hide-cell"
    ]
   },
   "outputs": [],
   "source": [
    "from __future__ import annotations\n",
    "\n",
    "import logging\n",
    "import os\n",
    "import warnings\n",
    "from pathlib import Path\n",
    "\n",
    "import jax.numpy as jnp\n",
    "import numpy as np\n",
    "\n",
    "logging.getLogger(\"absl\").setLevel(logging.ERROR)  # no JAX warnings\n",
    "os.environ[\"TF_CPP_MIN_LOG_LEVEL\"] = \"3\"  # no TF warnings\n",
    "warnings.filterwarnings(\"ignore\")  # sqrt negative argument"
   ]
  },
  {
   "cell_type": "markdown",
   "metadata": {},
   "source": [
    "We generate data for the reaction $J/\\psi \\to \\gamma \\pi^0\\pi^0$. We limit ourselves to two resonances, so that the amplitude model contains one narrow structure. This makes it hard to numerically compute the integral over the intensity distribution."
   ]
  },
  {
   "cell_type": "code",
   "execution_count": null,
   "metadata": {},
   "outputs": [],
   "source": [
    "import qrules\n",
    "\n",
    "reaction = qrules.generate_transitions(\n",
    "    initial_state=(\"J/psi(1S)\", [-1, +1]),\n",
    "    final_state=[\"gamma\", \"pi0\", \"pi0\"],\n",
    "    allowed_intermediate_particles=[\"f(0)(980)\", \"omega(782)\"],\n",
    "    allowed_interaction_types=[\"strong\", \"EM\"],\n",
    "    formalism=\"canonical-helicity\",\n",
    ")"
   ]
  },
  {
   "cell_type": "code",
   "execution_count": null,
   "metadata": {
    "jupyter": {
     "source_hidden": true
    },
    "tags": [
     "hide-input",
     "remove-output"
    ]
   },
   "outputs": [],
   "source": [
    "import graphviz\n",
    "\n",
    "src = qrules.io.asdot(reaction, collapse_graphs=True)\n",
    "output_file = Path(\"graph\")\n",
    "graphviz.Source(src).render(output_file, format=\"svg\")\n",
    "output_file.unlink()"
   ]
  },
  {
   "cell_type": "markdown",
   "metadata": {},
   "source": [
    "![](https://user-images.githubusercontent.com/29308176/183455676-25af2dcf-ecac-43af-aa11-b3f71fe095f8.svg)"
   ]
  },
  {
   "cell_type": "code",
   "execution_count": null,
   "metadata": {},
   "outputs": [],
   "source": [
    "import ampform\n",
    "from ampform.dynamics.builder import (\n",
    "    create_non_dynamic_with_ff,\n",
    "    create_relativistic_breit_wigner_with_ff,\n",
    ")\n",
    "\n",
    "builder = ampform.get_builder(reaction)\n",
    "builder.align_spin = False\n",
    "builder.adapter.permutate_registered_topologies()\n",
    "builder.scalar_initial_state_mass = True\n",
    "builder.stable_final_state_ids = [0, 1, 2]\n",
    "builder.set_dynamics(\"J/psi(1S)\", create_non_dynamic_with_ff)\n",
    "for name in reaction.get_intermediate_particles().names:\n",
    "    builder.set_dynamics(name, create_relativistic_breit_wigner_with_ff)\n",
    "model = builder.formulate()"
   ]
  },
  {
   "cell_type": "markdown",
   "metadata": {},
   "source": [
    "## Phase space distribution"
   ]
  },
  {
   "cell_type": "markdown",
   "metadata": {},
   "source": [
    "An evenly distributed phase space sample can be generated with a {class}`~tensorwaves.data.phasespace.TFPhaseSpaceGenerator`:"
   ]
  },
  {
   "cell_type": "code",
   "execution_count": null,
   "metadata": {},
   "outputs": [],
   "source": [
    "from tensorwaves.data import (\n",
    "    SympyDataTransformer,\n",
    "    TFPhaseSpaceGenerator,\n",
    "    TFUniformRealNumberGenerator,\n",
    ")\n",
    "\n",
    "rng = TFUniformRealNumberGenerator(seed=0)\n",
    "phsp_generator = TFPhaseSpaceGenerator(\n",
    "    initial_state_mass=reaction.initial_state[-1].mass,\n",
    "    final_state_masses={i: p.mass for i, p in reaction.final_state.items()},\n",
    ")\n",
    "transformer = SympyDataTransformer.from_sympy(model.kinematic_variables, backend=\"jax\")\n",
    "phsp = phsp_generator.generate(1_000_000, rng)\n",
    "phsp = transformer(phsp)"
   ]
  },
  {
   "cell_type": "code",
   "execution_count": null,
   "metadata": {
    "tags": [
     "remove-input"
    ]
   },
   "outputs": [],
   "source": [
    "%config InlineBackend.figure_formats = ['png']"
   ]
  },
  {
   "cell_type": "code",
   "execution_count": null,
   "metadata": {
    "jupyter": {
     "source_hidden": true
    },
    "tags": [
     "hide-input",
     "remove-output"
    ]
   },
   "outputs": [],
   "source": [
    "import matplotlib.pyplot as plt\n",
    "\n",
    "\n",
    "def convert_zero_to_nan(array):\n",
    "    array = np.array(array).astype(\"float\")\n",
    "    array[array == 0] = np.nan\n",
    "    return jnp.array(array)\n",
    "\n",
    "\n",
    "Z, x_edges, y_edges = jnp.histogram2d(\n",
    "    phsp[\"m_01\"].real ** 2,\n",
    "    phsp[\"m_12\"].real ** 2,\n",
    "    bins=100,\n",
    ")\n",
    "X, Y = jnp.meshgrid(x_edges, y_edges)\n",
    "Z = convert_zero_to_nan(Z)\n",
    "\n",
    "bin_width_x = X[0, 1] - X[0, 0]\n",
    "bin_width_y = Y[1, 0] - Y[0, 0]\n",
    "bar_title = (\n",
    "    Rf\"events per ${1e3 * bin_width_x:.0f} \\times {1e3 * bin_width_y:.0f}$ MeV$^2/c^4$\"\n",
    ")\n",
    "xlabel = R\"$M^2\\left(\\gamma\\pi^0\\right)$\"\n",
    "ylabel = R\"$M^2\\left(\\pi^0\\pi^0\\right)$\"\n",
    "\n",
    "plt.ioff()\n",
    "fig, ax = plt.subplots(dpi=200, figsize=(4.5, 4))\n",
    "ax.set_title(\"TFPhaseSpaceGenerator sample\")\n",
    "ax.set_xlabel(xlabel)\n",
    "ax.set_ylabel(ylabel)\n",
    "mesh = ax.pcolormesh(X, Y, Z)\n",
    "c_bar = plt.colorbar(mesh, ax=ax)\n",
    "c_bar.ax.set_ylabel(bar_title)\n",
    "fig.savefig(\"TFPhaseSpaceGenerator.png\")\n",
    "plt.ion()\n",
    "plt.close(fig)"
   ]
  },
  {
   "cell_type": "markdown",
   "metadata": {},
   "source": [
    "![](https://user-images.githubusercontent.com/29308176/183455681-31745b0c-d1ec-48c1-a6d6-388f4725df42.png)\n",
    "\n",
    "This {class}`~tensorwaves.data.phasespace.TFPhaseSpaceGenerator` actually uses a **hit-and-miss** strategy on a distribution and its weights generated by a {class}`~tensorwaves.data.phasespace.TFWeightedPhaseSpaceGenerator`. That generator interfaces to the [`phasespace`](https://phasespace.readthedocs.io) package. We have a short look at the distribution and its weights generated by a {class}`~tensorwaves.data.phasespace.TFWeightedPhaseSpaceGenerator`. The 'unweighted' distribution is uneven, because four-momenta events are generated using a certain decay algorithm. The weights cause these events to be normalized, so that we again have the same, evenly distributed distribution from above when we combine them.\n",
    "\n",
    "::::{margin}\n",
    ":::{seealso}\n",
    "[tensorwaves#16](https://github.com/ComPWA/tensorwaves/issues/16) on a Python interface for [`EvtGen`](https://gitlab.cern.ch/evtgen/evtgen).\n",
    ":::\n",
    "::::"
   ]
  },
  {
   "cell_type": "code",
   "execution_count": null,
   "metadata": {},
   "outputs": [],
   "source": [
    "from tensorwaves.data import TFWeightedPhaseSpaceGenerator\n",
    "\n",
    "weighted_phsp_generator = TFWeightedPhaseSpaceGenerator(\n",
    "    initial_state_mass=reaction.initial_state[-1].mass,\n",
    "    final_state_masses={i: p.mass for i, p in reaction.final_state.items()},\n",
    ")\n",
    "unweighted_phsp = weighted_phsp_generator.generate(1_000_000, rng)\n",
    "phsp_weights = unweighted_phsp[\"weights\"]\n",
    "unweighted_phsp = transformer(unweighted_phsp)"
   ]
  },
  {
   "cell_type": "code",
   "execution_count": null,
   "metadata": {
    "jupyter": {
     "source_hidden": true
    },
    "tags": [
     "hide-input",
     "remove-output"
    ]
   },
   "outputs": [],
   "source": [
    "from typing import TYPE_CHECKING\n",
    "\n",
    "from scipy.interpolate import griddata\n",
    "\n",
    "if TYPE_CHECKING:\n",
    "    from tensorwaves.interface import DataSample\n",
    "\n",
    "\n",
    "def plot_distribution_and_weights(phsp: DataSample, weights: np.ndarray) -> None:\n",
    "    n_bins = 100\n",
    "    x = phsp[\"m_01\"].real ** 2\n",
    "    y = phsp[\"m_12\"].real ** 2\n",
    "    X, Y = jnp.meshgrid(\n",
    "        jnp.linspace(x.min(), x.max(), num=n_bins),\n",
    "        jnp.linspace(y.min(), y.max(), num=n_bins),\n",
    "    )\n",
    "\n",
    "    Z_weights = griddata(np.transpose([x, y]), weights, (X, Y))\n",
    "    Z_unweighted, x_edges, y_edges = jnp.histogram2d(x, y, bins=n_bins)\n",
    "    Z_weighted, x_edges, y_edges = jnp.histogram2d(x, y, bins=n_bins, weights=weights)\n",
    "    # https://numpy.org/doc/stable/reference/generated/numpy.histogram2d.html\n",
    "    Z_unweighted = Z_unweighted.T\n",
    "    Z_weighted = Z_weighted.T\n",
    "\n",
    "    X_edges, Y_edges = jnp.meshgrid(x_edges, y_edges)\n",
    "    Z_unweighted = convert_zero_to_nan(Z_unweighted)\n",
    "    Z_weighted = convert_zero_to_nan(Z_weighted)\n",
    "\n",
    "    _, axes = plt.subplots(\n",
    "        dpi=200,\n",
    "        figsize=(16, 5),\n",
    "        ncols=3,\n",
    "        tight_layout=True,\n",
    "    )\n",
    "    for ax in axes:\n",
    "        ax.set_xlabel(xlabel)\n",
    "        ax.set_ylabel(ylabel)\n",
    "    axes[0].set_title(\"Unweighted distribution\")\n",
    "    axes[1].set_title(\"Weights\")\n",
    "    axes[2].set_title(\"Weighted phase space distribution\")\n",
    "\n",
    "    mesh = axes[0].pcolormesh(X_edges, Y_edges, Z_unweighted)\n",
    "    c_bar = plt.colorbar(mesh, ax=axes[0])\n",
    "    c_bar.ax.set_ylabel(bar_title)\n",
    "\n",
    "    mesh = axes[1].pcolormesh(X, Y, Z_weights)\n",
    "    c_bar = plt.colorbar(mesh, ax=axes[1])\n",
    "    c_bar.ax.set_ylabel(\"phase space weight\")\n",
    "\n",
    "    mesh = axes[2].pcolormesh(X_edges, Y_edges, Z_weighted)\n",
    "    c_bar = plt.colorbar(mesh, ax=axes[2])\n",
    "    c_bar.ax.set_ylabel(bar_title)\n",
    "\n",
    "\n",
    "plot_distribution_and_weights(unweighted_phsp, phsp_weights)\n",
    "plt.gcf().suptitle(\"TFWeightedPhaseSpaceGenerator sample\")\n",
    "plt.savefig(\"TFWeightedPhaseSpaceGenerator.png\")\n",
    "plt.show()"
   ]
  },
  {
   "cell_type": "markdown",
   "metadata": {},
   "source": [
    "```{container} full-width\n",
    "![](https://user-images.githubusercontent.com/29308176/183455686-5fb52b80-bff3-4508-b2dd-69d9b2888678.png)\n",
    "```"
   ]
  },
  {
   "cell_type": "markdown",
   "metadata": {},
   "source": [
    "## Intensity distribution"
   ]
  },
  {
   "cell_type": "markdown",
   "metadata": {},
   "source": [
    "We now use a {class}`~tensorwaves.data.IntensityDistributionGenerator` to generate a hit-and-miss data sample based on the amplitude model that we formulated for this $J/\\psi \\to \\gamma\\pi^0\\pi^0$ reaction."
   ]
  },
  {
   "cell_type": "code",
   "execution_count": null,
   "metadata": {},
   "outputs": [],
   "source": [
    "from tensorwaves.function.sympy import create_parametrized_function\n",
    "\n",
    "intensity_expr = model.expression.doit()\n",
    "intensity_func = create_parametrized_function(\n",
    "    expression=intensity_expr,\n",
    "    parameters=model.parameter_defaults,\n",
    "    backend=\"jax\",\n",
    ")"
   ]
  },
  {
   "cell_type": "code",
   "execution_count": null,
   "metadata": {},
   "outputs": [],
   "source": [
    "from tensorwaves.data import IntensityDistributionGenerator\n",
    "\n",
    "data_generator = IntensityDistributionGenerator(\n",
    "    domain_generator=weighted_phsp_generator,\n",
    "    function=intensity_func,\n",
    "    domain_transformer=transformer,\n",
    ")\n",
    "data = data_generator.generate(100_000, rng)\n",
    "data = transformer(data)"
   ]
  },
  {
   "cell_type": "markdown",
   "metadata": {},
   "source": [
    "Note that it takes a long time to generate a distribution for amplitude model. This is because most phase space points are outside the region where the intensity is highest and therefore result in a 'miss'."
   ]
  },
  {
   "cell_type": "code",
   "execution_count": null,
   "metadata": {
    "jupyter": {
     "source_hidden": true
    },
    "tags": [
     "hide-input",
     "remove-output"
    ]
   },
   "outputs": [],
   "source": [
    "Z, x_edges, y_edges = jnp.histogram2d(\n",
    "    data[\"m_01\"].real ** 2,\n",
    "    data[\"m_12\"].real ** 2,\n",
    "    bins=100,\n",
    ")\n",
    "X, Y = jnp.meshgrid(x_edges, y_edges)\n",
    "Z = Z.T  # https://numpy.org/doc/stable/reference/generated/numpy.histogram2d.html\n",
    "Z = convert_zero_to_nan(Z)\n",
    "\n",
    "plt.ioff()\n",
    "fig, ax = plt.subplots(dpi=200, figsize=(4.5, 4))\n",
    "ax.set_xlabel(xlabel)\n",
    "ax.set_ylabel(ylabel)\n",
    "mesh = ax.pcolormesh(X, Y, Z)\n",
    "c_bar = plt.colorbar(mesh, ax=ax)\n",
    "c_bar.ax.set_ylabel(\"intensity\")\n",
    "fig.savefig(\"intensity-distribution.png\")\n",
    "plt.ion()\n",
    "plt.close(fig)"
   ]
  },
  {
   "cell_type": "markdown",
   "metadata": {},
   "source": [
    "![](https://user-images.githubusercontent.com/29308176/183458258-cae90095-e0d7-4251-a2e6-d7c71750094c.png)\n",
    "\n",
    "The $\\omega$ resonance appears as a narrow structure on the Dalitz plot. This is problematic when computing the integral over this distribution, which is important when performing an {class}`~tensorwaves.estimator.UnbinnedNLL` fit. The integral that appears in the log-likelihood has to be computed in each fit iteration and this can be done most efficiently when there are more points on which to evaluate the amplitude model in the phase space regions where the intensity is high.\n",
    "\n",
    "The solution is to evaluate the intensity over an **importance-sampled phase space sample**. This is a phase space sample with more events in the regions where the intensity is high. Each point $\\tau$ carries a weight that is set to $1/I(\\tau)$. In fact, all this is, is the intensity-based sample from the previous step, with the weights computed posteriorly by simply evaluating the a amplitude model over the sample (and taking the inverse)."
   ]
  },
  {
   "cell_type": "code",
   "execution_count": null,
   "metadata": {},
   "outputs": [],
   "source": [
    "from copy import deepcopy\n",
    "\n",
    "importance_phsp = deepcopy(data)\n",
    "importance_weights = 1 / intensity_func(importance_phsp)"
   ]
  },
  {
   "cell_type": "markdown",
   "metadata": {},
   "source": [
    "Of course, we could define a special class for this.\n",
    "\n",
    "As expected, the inverse-intensity weights flatten the distribution again to a flat phase space sample:"
   ]
  },
  {
   "cell_type": "code",
   "execution_count": null,
   "metadata": {
    "jupyter": {
     "source_hidden": true
    },
    "tags": [
     "hide-input",
     "remove-output"
    ]
   },
   "outputs": [],
   "source": [
    "plot_distribution_and_weights(importance_phsp, importance_weights)\n",
    "plt.gcf().suptitle(\"Importance-sampled phase space distribution\")\n",
    "plt.savefig(\"importance-sampling.png\")\n",
    "plt.show()"
   ]
  },
  {
   "cell_type": "markdown",
   "metadata": {},
   "source": [
    "```{container} full-width\n",
    "![](https://user-images.githubusercontent.com/29308176/183457906-ea95716f-1a82-4c0c-8992-62aa19131c33.png)\n",
    "```\n",
    "\n",
    "Now, aren't we duplicating things here? Not really. First, in an actual analysis, there would be no intensity-based data sample. Second, the importance-sampled phase space sample is generated _with a specific parameter values_. During a fit, the parameters change and the integral over the (importance-sampled) phase space changes. So after updating parameters during a fit iteration, we have to multiply the new intensities with the importance weights (the inverse of the _original_ intensity distribution) in order to get the new distribution. This needs to be done in particular when computing the negative log likelihood ({class}`~tensorwaves.estimator.UnbinnedNLL`).[^1]\n",
    "\n",
    "[^1]: As of [TensorWaves v0.4.*](https://tensorwaves.rtfd.io/en/0.4.x), weights are not part of a {obj}`~tensorwaves.interface.DataSample` and are therefore not passed to the {class}`~tensorwaves.estimator.UnbinnedNLL`, where would be needed to correctly compute the integral. This requires an interface change.\n",
    "\n",
    "In the following, extreme example, we move the mass of the $f_0(980)$ resonance far from its original position. As can be seen in the distribution below, the narrow structure has indeed moved, but the structure is still visible as a blur in the original position, because there are many more phase space points in that region."
   ]
  },
  {
   "cell_type": "code",
   "execution_count": null,
   "metadata": {},
   "outputs": [],
   "source": [
    "intensity_func.update_parameters({\"m_{f_{0}(980)}\": 2.0})\n",
    "new_intensities = intensity_func(importance_phsp)"
   ]
  },
  {
   "cell_type": "code",
   "execution_count": null,
   "metadata": {
    "jupyter": {
     "source_hidden": true
    },
    "tags": [
     "hide-input",
     "remove-output"
    ]
   },
   "outputs": [],
   "source": [
    "Z, x_edges, y_edges = jnp.histogram2d(\n",
    "    importance_phsp[\"m_01\"].real ** 2,\n",
    "    importance_phsp[\"m_12\"].real ** 2,\n",
    "    bins=100,\n",
    "    weights=new_intensities * importance_weights,\n",
    ")\n",
    "X, Y = jnp.meshgrid(x_edges, y_edges)\n",
    "Z = Z.T  # https://numpy.org/doc/stable/reference/generated/numpy.histogram2d.html\n",
    "Z = convert_zero_to_nan(Z)\n",
    "\n",
    "plt.ioff()\n",
    "fig, ax = plt.subplots(dpi=200, figsize=(4.5, 4))\n",
    "ax.set_xlabel(xlabel)\n",
    "ax.set_ylabel(ylabel)\n",
    "mesh = ax.pcolormesh(X, Y, Z)\n",
    "c_bar = plt.colorbar(mesh, ax=ax)\n",
    "c_bar.ax.set_ylabel(R\"new intensity $\\times$ importance weight\")\n",
    "fig.savefig(\"importance-sampling-after-modification.png\")\n",
    "plt.ion()\n",
    "plt.close(fig)"
   ]
  },
  {
   "cell_type": "markdown",
   "metadata": {},
   "source": [
    "![](https://user-images.githubusercontent.com/29308176/183459123-ab1f3bb5-d51d-4122-97f1-0b51065b94b8.png)"
   ]
  }
 ],
 "metadata": {
  "colab": {
   "toc_visible": true
  },
  "kernelspec": {
   "display_name": "Python 3 (ipykernel)",
   "language": "python",
   "name": "python3"
  },
  "language_info": {
   "codemirror_mode": {
    "name": "ipython",
    "version": 3
   },
   "file_extension": ".py",
   "mimetype": "text/x-python",
   "name": "python",
   "nbconvert_exporter": "python",
   "pygments_lexer": "ipython3",
   "version": "3.12.6"
  }
 },
 "nbformat": 4,
 "nbformat_minor": 4
}
