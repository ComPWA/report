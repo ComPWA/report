{
 "cells": [
  {
   "cell_type": "markdown",
   "metadata": {},
   "source": [
    "```{autolink-concat}\n",
    "```"
   ]
  },
  {
   "cell_type": "markdown",
   "metadata": {
    "tags": [
     "sympy"
    ]
   },
   "source": [
    "::::{margin}\n",
    ":::{card} Indexed free symbols\n",
    "TR-008\n",
    "^^^\n",
    "This report has been implemented in [ampform#111](https://github.com/ComPWA/ampform/issues/111). Additionally, [tensorwaves#427](https://github.com/ComPWA/tensorwaves/issues/427) makes it possible to lambdify {class}`sympy.Expr <sympy.core.expr.Expr>` with {class}`~sympy.tensor.indexed.Indexed` symbols directly.\n",
    "+++\n",
    "✅&nbsp;[ampform#111](https://github.com/ComPWA/ampform/issues/111)\n",
    ":::\n",
    "::::"
   ]
  },
  {
   "cell_type": "markdown",
   "metadata": {},
   "source": [
    "# `Indexed` free symbols"
   ]
  },
  {
   "cell_type": "markdown",
   "metadata": {},
   "source": [
    "In [TR-005](../005/index.ipynb), we made use of {doc}`indexed symbols <sympy:modules/tensor/indexed>` to create a $\\boldsymbol{K}$-matrix. The problem with that approach is that {class}`~sympy.tensor.indexed.IndexedBase` and their resulting {class}`~sympy.tensor.indexed.Indexed` instances when taking indices behave strangely in an expression tree.\n",
    "\n",
    "The following {class}`~sympy.core.expr.Expr` uses a {class}`~sympy.core.symbol.Symbol` and a elements in {class}`~sympy.tensor.indexed.IndexedBase`s (an {class}`~sympy.tensor.indexed.Indexed` instance):"
   ]
  },
  {
   "cell_type": "code",
   "execution_count": null,
   "metadata": {},
   "outputs": [
    {
     "data": {
      "text/latex": [
       "$\\displaystyle x {\\alpha}_{2} + {c}_{0,1}$"
      ],
      "text/plain": [
       "x*alpha[2] + c[0, 1]"
      ]
     },
     "execution_count": null,
     "metadata": {},
     "output_type": "execute_result"
    }
   ],
   "source": [
    "import sympy as sp\n",
    "\n",
    "x = sp.Symbol(\"x\")\n",
    "c = sp.IndexedBase(\"c\")\n",
    "alpha = sp.IndexedBase(\"alpha\")\n",
    "expression = c[0, 1] + alpha[2] * x\n",
    "expression"
   ]
  },
  {
   "cell_type": "markdown",
   "metadata": {},
   "source": [
    "Although seemingly there are just **three** {attr}`~sympy.core.basic.Basic.free_symbols`, there are actually **five**:"
   ]
  },
  {
   "cell_type": "code",
   "execution_count": null,
   "metadata": {},
   "outputs": [
    {
     "data": {
      "text/plain": [
       "{alpha, alpha[2], c, c[0, 1], x}"
      ]
     },
     "execution_count": null,
     "metadata": {},
     "output_type": "execute_result"
    }
   ],
   "source": [
    "expression.free_symbols"
   ]
  },
  {
   "cell_type": "markdown",
   "metadata": {},
   "source": [
    "This becomes problematic when using {func}`~sympy.utilities.lambdify.lambdify`, particularly through {func}`symplot.prepare_sliders`.\n",
    "\n",
    "In addition, while `c[0, 1]` and `alpha[2]` are {class}`~sympy.tensor.indexed.Indexed` as expected, `alpha` and `c` are {class}`~sympy.core.symbol.Symbol`s, not {class}`~sympy.tensor.indexed.IndexedBase`:"
   ]
  },
  {
   "cell_type": "code",
   "execution_count": null,
   "metadata": {},
   "outputs": [
    {
     "data": {
      "text/plain": [
       "{c: sympy.core.symbol.Symbol,\n",
       " alpha[2]: sympy.tensor.indexed.Indexed,\n",
       " x: sympy.core.symbol.Symbol,\n",
       " c[0, 1]: sympy.tensor.indexed.Indexed,\n",
       " alpha: sympy.core.symbol.Symbol}"
      ]
     },
     "execution_count": null,
     "metadata": {},
     "output_type": "execute_result"
    }
   ],
   "source": [
    "{s: type(s) for s in expression.free_symbols}"
   ]
  },
  {
   "cell_type": "markdown",
   "metadata": {},
   "source": [
    "The {doc}`expression tree <sympy:tutorials/intro-tutorial/manipulation>` partially explains this behavior:"
   ]
  },
  {
   "cell_type": "code",
   "execution_count": null,
   "metadata": {
    "keep_output": false
   },
   "outputs": [],
   "source": [
    "import graphviz\n",
    "\n",
    "dot = sp.dotprint(expression)\n",
    "graphviz.Source(dot);"
   ]
  },
  {
   "cell_type": "markdown",
   "metadata": {},
   "source": [
    "![](https://user-images.githubusercontent.com/29308176/164993648-13c6b74a-b85f-4492-aaf2-c64cdc30e345.svg)"
   ]
  },
  {
   "cell_type": "markdown",
   "metadata": {},
   "source": [
    "We would like to collapse the nodes under `c[0, 1]` and `alpha[2]` to two single {class}`~sympy.core.symbol.Symbol` nodes that are **still nicely rendered as $c_{0,1}$ and $\\alpha_2$**. The following function does that and converts the `[]` into subscripts. It does that in such a way that the name of the {class}`~sympy.core.symbol.Symbol` remains as short as possible, that is, short enough that it still renders nicely as LaTeX:"
   ]
  },
  {
   "cell_type": "code",
   "execution_count": null,
   "metadata": {},
   "outputs": [],
   "source": [
    "from sympy.printing.latex import translate\n",
    "\n",
    "\n",
    "def to_symbol(idx: sp.Indexed) -> sp.Symbol:\n",
    "    base_name, _, _ = str(idx).rpartition(\"[\")\n",
    "    subscript = \",\".join(map(str, idx.indices))\n",
    "    if len(idx.indices) > 1:\n",
    "        base_name = translate(base_name)\n",
    "        subscript = \"_{\" + subscript + \"}\"\n",
    "    return sp.Symbol(f\"{base_name}{subscript}\")"
   ]
  },
  {
   "cell_type": "markdown",
   "metadata": {},
   "source": [
    "Next, we use {meth}`~sympy.core.basic.Basic.subs` to substitute the nodes `c[0, 1]` and `alpha[2]` with these {class}`~sympy.core.symbol.Symbol`s:"
   ]
  },
  {
   "cell_type": "code",
   "execution_count": null,
   "metadata": {},
   "outputs": [],
   "source": [
    "def replace_indexed_symbols(expression: sp.Expr) -> sp.Expr:\n",
    "    return expression.subs({\n",
    "        s: to_symbol(s) for s in expression.free_symbols if isinstance(s, sp.Indexed)\n",
    "    })"
   ]
  },
  {
   "cell_type": "markdown",
   "metadata": {},
   "source": [
    "And indeed, the expression tree has been simplified correctly!"
   ]
  },
  {
   "cell_type": "code",
   "execution_count": null,
   "metadata": {},
   "outputs": [],
   "source": [
    "new_expression = replace_indexed_symbols(expression)\n",
    "dot = sp.dotprint(new_expression)\n",
    "graphviz.Source(dot);"
   ]
  },
  {
   "cell_type": "markdown",
   "metadata": {},
   "source": [
    "![](https://user-images.githubusercontent.com/29308176/164993649-47231cf6-0ee2-4eed-a122-633e2cf5db1a.svg)"
   ]
  }
 ],
 "metadata": {
  "colab": {
   "toc_visible": true
  },
  "keep_output": true,
  "kernelspec": {
   "display_name": "Pyproject Local",
   "language": "python",
   "name": "pyproject_local_kernel"
  },
  "language_info": {
   "codemirror_mode": {
    "name": "ipython",
    "version": 3
   },
   "file_extension": ".py",
   "mimetype": "text/x-python",
   "name": "python",
   "nbconvert_exporter": "python",
   "pygments_lexer": "ipython3",
   "version": "3.12.6"
  }
 },
 "nbformat": 4,
 "nbformat_minor": 4
}
