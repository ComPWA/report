{
 "cells": [
  {
   "cell_type": "markdown",
   "metadata": {},
   "source": [
    "```{autolink-concat}\n",
    "```"
   ]
  },
  {
   "cell_type": "markdown",
   "metadata": {
    "tags": [
     "K-matrix"
    ]
   },
   "source": [
    "::::{margin}\n",
    ":::{card} Rotated square root cut\n",
    "TR-025\n",
    "^^^\n",
    "Investigation of the branch cut in the two Riemann sheets of a square root and what happens if the cut is rotated around $z=0$.\n",
    "+++\n",
    "✅&nbsp;[compwa.github.io#236](https://github.com/ComPWA/compwa.github.io/pull/236)\n",
    ":::\n",
    "::::"
   ]
  },
  {
   "cell_type": "markdown",
   "metadata": {},
   "source": [
    "# Rotating square root cuts"
   ]
  },
  {
   "cell_type": "code",
   "execution_count": null,
   "metadata": {
    "jupyter": {
     "source_hidden": true
    },
    "tags": [
     "hide-cell"
    ]
   },
   "outputs": [],
   "source": [
    "import os\n",
    "from typing import Any\n",
    "\n",
    "import matplotlib.pyplot as plt\n",
    "import numpy as np\n",
    "import plotly.graph_objects as go\n",
    "import sympy as sp\n",
    "from ampform.io import aslatex\n",
    "from ampform.sympy import unevaluated\n",
    "from IPython.display import Image, Math, display\n",
    "from ipywidgets import FloatSlider, VBox, interactive_output\n",
    "from plotly.colors import DEFAULT_PLOTLY_COLORS\n",
    "from plotly.subplots import make_subplots\n",
    "\n",
    "STATIC_WEB_PAGE = {\"EXECUTE_NB\", \"READTHEDOCS\"}.intersection(os.environ)"
   ]
  },
  {
   "cell_type": "markdown",
   "metadata": {},
   "source": [
    ":::{seealso} [Lecture 17](https://compwa.github.io/strong2020-salamanca/lecture17/) on collision theory of the [STRONG2020 HaSP School](https://indico.ific.uv.es/event/6803) by Miguel Albaladejo.\n",
    "<!-- cspell:ignore Albaladejo -->\n",
    ":::\n",
    "\n",
    "There are multiple solutions for $x$ to the equation $y^2 = x$. The fact that we usually take $y = \\sqrt{x}$ with $\\sqrt{-1} = i$ to be 'the' solution to this equation is just a matter of convention. It would be more complete to represent the solution as a set of points in the complex plane, that is, the set $S = \\left\\{\\left(z, w\\right)\\in\\mathbb{C}^2 | w^2=z\\right\\}$. This is set forms a **Riemann surface** in $\\mathbb{C}^2$ space."
   ]
  },
  {
   "cell_type": "markdown",
   "metadata": {},
   "source": [
    "In the figure below we see the Riemann surface of a square root in $\\mathbb{C}^2$&nbsp;space. The $xy$&nbsp;plane forms the complex domain $\\mathbb{C}$, the $z$&nbsp;axis indicates the imaginary part of the Riemann surface and the color indicates the real part."
   ]
  },
  {
   "cell_type": "code",
   "execution_count": null,
   "metadata": {
    "jupyter": {
     "source_hidden": true
    },
    "tags": [
     "hide-input",
     "scroll-input"
    ]
   },
   "outputs": [],
   "source": [
    "resolution = 30\n",
    "R, Θ = np.meshgrid(\n",
    "    np.linspace(0, 1, num=resolution),\n",
    "    np.linspace(-np.pi, +np.pi, num=resolution),\n",
    ")\n",
    "X = R * np.cos(Θ)\n",
    "Y = R * np.sin(Θ)\n",
    "Z = X + Y * 1j\n",
    "T = np.sqrt(Z)\n",
    "style = lambda t: dict(\n",
    "    cmin=-1,\n",
    "    cmax=+1,\n",
    "    colorscale=\"RdBu_r\",\n",
    "    surfacecolor=t.real,\n",
    ")\n",
    "fig = go.Figure([\n",
    "    go.Surface(x=X, y=Y, z=+T.imag, **style(+T), name=\"+√z\"),\n",
    "    go.Surface(x=X, y=Y, z=-T.imag, **style(-T), name=\"-√z\", showscale=False),\n",
    "])\n",
    "fig.update_traces(selector=0, colorbar=dict(title=\"Re ±√z\"))\n",
    "fig.update_layout(\n",
    "    height=550,\n",
    "    margin=dict(l=0, r=0, t=30, b=0, pad=0),\n",
    "    title_text=\"Riemann surface of a square root\",\n",
    "    title_x=0.5,\n",
    ")\n",
    "fig.update_scenes(\n",
    "    camera_center=dict(z=-0.1),\n",
    "    camera_eye=dict(x=1.4, y=1.4, z=1.4),\n",
    "    xaxis_title=\"Re z\",\n",
    "    yaxis_title=\"Im z\",\n",
    "    zaxis_title=\"Im ±√z\",\n",
    ")\n",
    "fig.show()"
   ]
  },
  {
   "cell_type": "markdown",
   "metadata": {},
   "source": [
    "From this figure it becomes clear that it is impossible to define one **single-valued** function that gives the solution to $w^2 = u$ is $w \\neq 0$. The familiar single-valued square root operation&nbsp;$\\sqrt{}$ covers only one segment, or **sheet**, of the Riemann surface and it is defined in such a way that $\\sqrt{-1}=i$. The other half of the surface is covered by $-\\sqrt{}$.\n",
    "\n",
    "Notice, however, that the sheets for the imaginary component of $\\sqrt{}$ are not smoothly connected at each point. The sign flips around $z\\in\\mathbb{R^-}$, because we have $\\sqrt{-1+0i}=-1$ and $\\sqrt{-1+0i}=+1$. We call this discontinuity in the Riemann sheet a <font color=crimson>**branch cut**</font>."
   ]
  },
  {
   "cell_type": "code",
   "execution_count": null,
   "metadata": {
    "jupyter": {
     "source_hidden": true
    },
    "tags": [
     "hide-input",
     "scroll-input",
     "full-width"
    ]
   },
   "outputs": [],
   "source": [
    "x = np.linspace(-1, 0, num=resolution // 2)\n",
    "y = np.zeros(resolution // 2)\n",
    "t = np.sqrt(x + 1e-8j)\n",
    "T = np.sqrt(Z)\n",
    "\n",
    "C0 = DEFAULT_PLOTLY_COLORS[0]\n",
    "C1 = DEFAULT_PLOTLY_COLORS[1]\n",
    "\n",
    "style = lambda color, legend: dict(\n",
    "    colorscale=[[0, color], [1, color]],\n",
    "    showlegend=legend,\n",
    "    showscale=False,\n",
    "    surfacecolor=np.ones(T.shape),\n",
    ")\n",
    "linestyle = dict(\n",
    "    line_color=\"crimson\",\n",
    "    line_showscale=False,\n",
    "    line_width=15,\n",
    "    mode=\"lines\",\n",
    "    name=\"Branch cut\",\n",
    ")\n",
    "\n",
    "fig = make_subplots(\n",
    "    rows=1,\n",
    "    cols=2,\n",
    "    horizontal_spacing=0.01,\n",
    "    subplot_titles=(\"Re ±√z\", \"Im ±√z\"),\n",
    "    specs=[[{\"type\": \"surface\"}, {\"type\": \"surface\"}]],\n",
    ")\n",
    "fig.add_traces(\n",
    "    [\n",
    "        go.Surface(x=X, y=Y, z=+T.real, **style(C0, True), name=\"+√z\"),\n",
    "        go.Surface(x=X, y=Y, z=-T.real, **style(C1, True), name=\"-√z\"),\n",
    "    ],\n",
    "    cols=1,\n",
    "    rows=1,\n",
    ")\n",
    "fig.add_traces(\n",
    "    [\n",
    "        go.Surface(x=X, y=Y, z=+T.imag, **style(C0, False), name=\"+√z\"),\n",
    "        go.Surface(x=X, y=Y, z=-T.imag, **style(C1, False), name=\"-√z\"),\n",
    "        go.Scatter3d(x=x, y=y, z=-t.imag, **linestyle, showlegend=True),\n",
    "        go.Scatter3d(x=x, y=y, z=+t.imag, **linestyle, showlegend=False),\n",
    "    ],\n",
    "    cols=2,\n",
    "    rows=1,\n",
    ")\n",
    "ticks = dict(\n",
    "    tickvals=[-1, 0, +1],\n",
    "    ticktext=[\"-1\", \"0\", \"+1\"],\n",
    ")\n",
    "fig.update_layout(\n",
    "    height=400,\n",
    "    margin=dict(l=2, r=2, t=20, b=0, pad=0),\n",
    ")\n",
    "fig.update_scenes(\n",
    "    camera_center=dict(z=-0.1),\n",
    "    camera_eye=dict(x=1.4, y=1.4, z=1.4),\n",
    "    xaxis=dict(title=\"Re z\", **ticks),\n",
    "    yaxis=dict(title=\"Im z\", **ticks),\n",
    ")\n",
    "fig.update_scenes(selector=0, zaxis=dict(title=\"Re ±√z\", **ticks))\n",
    "fig.update_scenes(selector=1, zaxis=dict(title=\"Im ±√z\", **ticks))\n",
    "fig.show()"
   ]
  },
  {
   "cell_type": "markdown",
   "metadata": {},
   "source": [
    "By definition, the branch cut of $\\sqrt{}$ is located at $\\mathbb{R}^-$. There is no requirement about this definition though: we can segment the Riemann surface in any way into two sheets, as long as the sheets remain single-valued. One option is to **rotate** the cut. With the following definition, we have a single-value square-root function, where the cut is rotated over an angle $\\phi$ around $z=0$."
   ]
  },
  {
   "cell_type": "code",
   "execution_count": null,
   "metadata": {
    "jupyter": {
     "source_hidden": true
    },
    "tags": [
     "hide-input"
    ]
   },
   "outputs": [],
   "source": [
    "@unevaluated\n",
    "class RotatedSqrt(sp.Expr):\n",
    "    z: Any\n",
    "    phi: Any = 0\n",
    "    _latex_repr_ = R\"\\sqrt[{phi}]{{{z}}}\"\n",
    "\n",
    "    def evaluate(self) -> sp.Expr:\n",
    "        z, phi = self.args\n",
    "        return sp.exp(-phi * sp.I / 2) * sp.sqrt(z * sp.exp(phi * sp.I))\n",
    "\n",
    "\n",
    "z, phi = sp.symbols(\"z phi\")\n",
    "expr = RotatedSqrt(z, phi)\n",
    "Math(aslatex({expr: expr.doit(deep=False)}))"
   ]
  },
  {
   "cell_type": "markdown",
   "metadata": {},
   "source": [
    "In the following widget, we see what the new **rotated square root** looks like in the complex plane. The left panes show the imaginary part and the right side shows the real part. The upper figures show the value of the rotated square root on the real axis, $\\mathrm{Re}\\,z$."
   ]
  },
  {
   "cell_type": "code",
   "execution_count": null,
   "metadata": {
    "tags": [
     "remove-input"
    ]
   },
   "outputs": [],
   "source": [
    "%matplotlib widget"
   ]
  },
  {
   "cell_type": "code",
   "execution_count": null,
   "metadata": {
    "jupyter": {
     "source_hidden": true
    },
    "tags": [
     "hide-input",
     "remove-output"
    ]
   },
   "outputs": [],
   "source": [
    "symbols = (z, phi)\n",
    "func = sp.lambdify(symbols, expr.doit())\n",
    "\n",
    "mpl_fig, axes = plt.subplots(\n",
    "    figsize=(12, 8.5),\n",
    "    gridspec_kw=dict(\n",
    "        height_ratios=[1, 2],\n",
    "        width_ratios=[1, 1, 0.03],\n",
    "    ),\n",
    "    ncols=3,\n",
    "    nrows=2,\n",
    ")\n",
    "mpl_fig.canvas.toolbar_visible = False\n",
    "mpl_fig.canvas.header_visible = False\n",
    "mpl_fig.canvas.footer_visible = False\n",
    "axes[0, 2].remove()\n",
    "ax1re, ax2re = axes[:, 0]\n",
    "ax1im, ax2im = axes[:, 1]\n",
    "ax_bar = axes[1, 2]\n",
    "ax1re.set_ylabel(f\"${sp.latex(expr)}$\")\n",
    "ax1im.set_title(Rf\"$\\mathrm{{Im}}\\,{sp.latex(expr)}$\")\n",
    "ax1re.set_title(Rf\"$\\mathrm{{Re}}\\,{sp.latex(expr)}$\")\n",
    "ax2re.set_ylabel(R\"$\\mathrm{Im}\\,z$\")\n",
    "for ax in (ax1im, ax1re):\n",
    "    ax.set_yticks([-1, -0.5, 0, +0.5, +1])\n",
    "    ax.set_yticklabels([\"-1\", R\"$-\\frac{1}{2}$\", \"0\", R\"$+\\frac{1}{2}$\", \"+1\"])\n",
    "for ax in axes[:, :2].flatten():\n",
    "    ax.set_xlabel(R\"$\\mathrm{Re}\\,z$\")\n",
    "    ax.set_xticks([-1, 0, +1])\n",
    "    ax.set_xticklabels([\"-1\", \"0\", \"+1\"])\n",
    "    ax.set_yticks([-1, 0, +1])\n",
    "    ax.set_yticklabels([\"-1\", \"0\", \"+1\"])\n",
    "for i, ax in enumerate((ax2im, ax2re)):\n",
    "    ax.axhline(0, c=f\"C{i}\", ls=\"dotted\", zorder=99)\n",
    "    ax.set_ylim(-1, +1)\n",
    "\n",
    "data = None\n",
    "x = np.linspace(-1, +1, num=400)\n",
    "X_mpl, Y_mpl = np.meshgrid(x, x)\n",
    "Z_mpl = X_mpl + Y_mpl * 1j\n",
    "\n",
    "\n",
    "def plot(phi):\n",
    "    global data\n",
    "    mpl_fig.suptitle(Rf\"$\\phi={phi / np.pi:.4g}\\pi$\")\n",
    "    t_mpl = func(x, phi)\n",
    "    T_mpl = func(Z_mpl, phi)\n",
    "    if data is None:\n",
    "        data = {\n",
    "            \"im\": ax1im.plot(x, t_mpl.imag, label=\"imag\", c=\"C0\", ls=\"dotted\")[0],\n",
    "            \"re\": ax1re.plot(x, t_mpl.real, label=\"real\", c=\"C1\", ls=\"dotted\")[0],\n",
    "            \"im2D\": ax2im.pcolormesh(X_mpl, Y_mpl, T_mpl.imag, cmap=plt.cm.coolwarm),\n",
    "            \"re2D\": ax2re.pcolormesh(X_mpl, Y_mpl, T_mpl.real, cmap=plt.cm.coolwarm),\n",
    "        }\n",
    "    else:\n",
    "        data[\"re\"].set_ydata(t_mpl.real)\n",
    "        data[\"im\"].set_ydata(t_mpl.imag)\n",
    "        data[\"im2D\"].set_array(T_mpl.imag)\n",
    "        data[\"re2D\"].set_array(T_mpl.real)\n",
    "    data[\"im2D\"].set_clim(vmin=-1, vmax=+1)\n",
    "    data[\"re2D\"].set_clim(vmin=-1, vmax=+1)\n",
    "    ax1im.set_ylim(-1.2, +1.2)\n",
    "    ax1re.set_ylim(-1.2, +1.2)\n",
    "    mpl_fig.canvas.draw_idle()\n",
    "\n",
    "\n",
    "sliders = dict(\n",
    "    phi=FloatSlider(\n",
    "        min=-3 * np.pi,\n",
    "        max=+3 * np.pi,\n",
    "        step=np.pi / 8,\n",
    "        description=\"phi\",\n",
    "        value=-np.pi / 4,\n",
    "    ),\n",
    ")\n",
    "ui = VBox(tuple(sliders.values()))\n",
    "output = interactive_output(plot, controls=sliders)\n",
    "cbar = plt.colorbar(data[\"re2D\"], cax=ax_bar)\n",
    "cbar.ax.set_xlabel(f\"${sp.latex(expr)}$\")\n",
    "cbar.ax.set_yticks([-1, 0, +1])\n",
    "mpl_fig.tight_layout()\n",
    "display(ui, output)"
   ]
  },
  {
   "cell_type": "code",
   "execution_count": null,
   "metadata": {
    "jupyter": {
     "source_hidden": true
    },
    "tags": [
     "remove-input",
     "full-width"
    ]
   },
   "outputs": [],
   "source": [
    "if STATIC_WEB_PAGE:\n",
    "    output_file = \"rotated-sqrt-complex-plane.png\"\n",
    "    mpl_fig.savefig(output_file, dpi=200)\n",
    "    display(ui, Image(output_file))"
   ]
  },
  {
   "cell_type": "markdown",
   "metadata": {},
   "source": [
    ":::{note}\n",
    "The real part does not have a cut if $\\phi = 2\\pi n, n \\in \\mathbb{Z}$. The cut in the imaginary part disappears if $\\phi = \\pi + 2\\pi n$.\n",
    ":::"
   ]
  }
 ],
 "metadata": {
  "colab": {
   "toc_visible": true
  },
  "kernelspec": {
   "display_name": "Python 3 (ipykernel)",
   "language": "python",
   "name": "pyproject_local_kernel"
  },
  "language_info": {
   "codemirror_mode": {
    "name": "ipython",
    "version": 3
   },
   "file_extension": ".py",
   "mimetype": "text/x-python",
   "name": "python",
   "nbconvert_exporter": "python",
   "pygments_lexer": "ipython3",
   "version": "3.12.6"
  }
 },
 "nbformat": 4,
 "nbformat_minor": 4
}
