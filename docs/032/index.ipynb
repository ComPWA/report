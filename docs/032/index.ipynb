{
 "cells": [
  {
   "cell_type": "markdown",
   "metadata": {},
   "source": [
    "```{autolink-concat}\n",
    "```"
   ]
  },
  {
   "cell_type": "markdown",
   "metadata": {
    "tags": [
     "dynamics",
     "K-matrix"
    ]
   },
   "source": [
    "::::{margin}\n",
    ":::{card} Coupled-channel fit with $P$-vector dynamics for one single pole\n",
    "TR-032\n",
    "^^^\n",
    "Illustration of how to formulate an amplitude model for two channels with P-vector dynamics. A combined fit is performed over the sum of the likelihood over both distributions. The example uses a single pole, but can easily be extended to multiple poles.\n",
    "+++\n",
    "🚧&nbsp;[compwa.github.io#278](https://github.com/ComPWA/compwa.github.io/pull/278)\n",
    ":::\n",
    "::::"
   ]
  },
  {
   "cell_type": "markdown",
   "metadata": {},
   "source": [
    "# P-vector fit comparison"
   ]
  },
  {
   "cell_type": "code",
   "execution_count": null,
   "metadata": {
    "tags": [
     "remove-cell"
    ]
   },
   "outputs": [],
   "source": [
    "%pip install -q ampform==0.15.4 'qrules[viz]==0.10.2' sympy==1.12 'tensorwaves[jax,phsp]==0.4.12'"
   ]
  },
  {
   "cell_type": "code",
   "execution_count": null,
   "metadata": {
    "jupyter": {
     "source_hidden": true
    },
    "mystnb": {
     "code_prompt_show": "Import Python libraries"
    },
    "tags": [
     "hide-input",
     "scroll-input"
    ]
   },
   "outputs": [],
   "source": [
    "from __future__ import annotations\n",
    "\n",
    "import logging\n",
    "import os\n",
    "import re\n",
    "from collections import defaultdict\n",
    "from collections.abc import Iterable, Mapping\n",
    "from functools import lru_cache\n",
    "from itertools import product\n",
    "from pathlib import Path\n",
    "from textwrap import dedent\n",
    "from typing import Any\n",
    "\n",
    "import ampform\n",
    "import attrs\n",
    "import graphviz\n",
    "import jax.numpy as jnp\n",
    "import matplotlib.pyplot as plt\n",
    "import numpy as np\n",
    "import qrules\n",
    "import sympy as sp\n",
    "from ampform.dynamics.builder import TwoBodyKinematicVariableSet\n",
    "from ampform.helicity import HelicityModel\n",
    "from ampform.io import aslatex, improve_latex_rendering\n",
    "from ampform.kinematics.phasespace import Kallen\n",
    "from ampform.sympy import perform_cached_doit, unevaluated\n",
    "from attrs import define, field, frozen\n",
    "from IPython.display import Markdown, Math, display\n",
    "from qrules.particle import Particle, ParticleCollection\n",
    "from qrules.transition import ReactionInfo\n",
    "from sympy import Abs\n",
    "from sympy.matrices.expressions.matexpr import MatrixElement\n",
    "from tensorwaves.data import (\n",
    "    IntensityDistributionGenerator,\n",
    "    SympyDataTransformer,\n",
    "    TFPhaseSpaceGenerator,\n",
    "    TFUniformRealNumberGenerator,\n",
    "    TFWeightedPhaseSpaceGenerator,\n",
    ")\n",
    "from tensorwaves.estimator import UnbinnedNLL\n",
    "from tensorwaves.function.sympy import create_parametrized_function\n",
    "from tensorwaves.interface import (\n",
    "    DataSample,\n",
    "    Estimator,\n",
    "    FitResult,\n",
    "    Function,\n",
    "    ParameterValue,\n",
    ")\n",
    "from tensorwaves.optimizer import Minuit2\n",
    "\n",
    "improve_latex_rendering()\n",
    "logging.getLogger(\"absl\").setLevel(logging.ERROR)\n",
    "os.environ[\"TF_CPP_MIN_LOG_LEVEL\"] = \"3\"\n",
    "plt.rc(\"font\", size=12)"
   ]
  },
  {
   "cell_type": "code",
   "execution_count": null,
   "metadata": {
    "tags": [
     "remove-input"
    ]
   },
   "outputs": [],
   "source": [
    "%config InlineBackend.figure_formats = ['svg']"
   ]
  },
  {
   "cell_type": "markdown",
   "metadata": {},
   "source": [
    "## Studied decay"
   ]
  },
  {
   "cell_type": "code",
   "execution_count": null,
   "metadata": {
    "jupyter": {
     "source_hidden": true
    },
    "mystnb": {
     "code_prompt_show": "Define N* resonances"
    },
    "tags": [
     "hide-input",
     "scroll-input"
    ]
   },
   "outputs": [],
   "source": [
    "@lru_cache(maxsize=1)\n",
    "def create_particle_database() -> ParticleCollection:\n",
    "    particles = qrules.load_default_particles()\n",
    "    for nstar in particles.filter(lambda p: p.name.startswith(\"N\")):\n",
    "        particles.remove(nstar)\n",
    "    particles += create_nstar(mass=1.82, width=0.6, parity=+1, spin=1.5, idx=1)\n",
    "    return particles\n",
    "\n",
    "\n",
    "def create_nstar(\n",
    "    mass: float, width: float, parity: int, spin: float, idx: int\n",
    ") -> Particle:\n",
    "    spin = sp.Rational(spin)\n",
    "    parity_symbol = \"⁺\" if parity > 0 else \"⁻\"\n",
    "    unicode_subscripts = list(\"₀₁₂₃₄₅₆₇₈₉\")\n",
    "    return Particle(\n",
    "        name=f\"N{unicode_subscripts[idx]}({spin}{parity_symbol})\",\n",
    "        latex=Rf\"N_{idx}({spin.numerator}/{spin.denominator}^-)\",\n",
    "        pid=2024_05_00_00 + 100 * bool(parity + 1) + idx,\n",
    "        mass=mass,\n",
    "        width=width,\n",
    "        baryon_number=1,\n",
    "        charge=+1,\n",
    "        isospin=(0.5, +0.5),\n",
    "        parity=parity,\n",
    "        spin=1.5,\n",
    "    )"
   ]
  },
  {
   "cell_type": "code",
   "execution_count": null,
   "metadata": {},
   "outputs": [],
   "source": [
    "FINAL_STATES: list[tuple[str, ...]] = [\n",
    "    [\"K0\", \"Sigma+\", \"p~\"],\n",
    "    [\"eta\", \"p\", \"p~\"],\n",
    "]\n",
    "REACTIONS: list[ReactionInfo] = [\n",
    "    qrules.generate_transitions(\n",
    "        initial_state=\"J/psi(1S)\",\n",
    "        final_state=final_state,\n",
    "        allowed_intermediate_particles=[\"N\"],\n",
    "        allowed_interaction_types=[\"strong\"],\n",
    "        formalism=\"helicity\",\n",
    "        particle_db=create_particle_database(),\n",
    "    )\n",
    "    for final_state in FINAL_STATES\n",
    "]"
   ]
  },
  {
   "cell_type": "code",
   "execution_count": null,
   "metadata": {
    "jupyter": {
     "source_hidden": true
    },
    "tags": [
     "hide-input",
     "remove-output"
    ]
   },
   "outputs": [],
   "source": [
    "for i, reaction in enumerate(REACTIONS, 1):\n",
    "    src = qrules.io.asdot(reaction, collapse_graphs=True)\n",
    "    graph = graphviz.Source(src)\n",
    "    output_file = Path(f\"032/graph{i}\")\n",
    "    output_file.parent.mkdir(exist_ok=True)\n",
    "    graph.render(output_file, format=\"svg\")\n",
    "    output_file.unlink()\n",
    "    display(graph)\n",
    "    del reaction, src, output_file, graph"
   ]
  },
  {
   "cell_type": "markdown",
   "metadata": {},
   "source": [
    "![](https://github.com/user-attachments/assets/1357ff8a-de3e-45e1-8997-32c603df6df4)\n",
    "![](https://github.com/user-attachments/assets/04d02bba-c18a-4d53-b8ac-864a4ab12c53)"
   ]
  },
  {
   "cell_type": "markdown",
   "metadata": {},
   "source": [
    "## Amplitude builder"
   ]
  },
  {
   "cell_type": "code",
   "execution_count": null,
   "metadata": {
    "jupyter": {
     "source_hidden": true
    },
    "mystnb": {
     "code_prompt_show": "Dynamics builder with X symbols of J^PC channels"
    },
    "tags": [
     "hide-input",
     "scroll-input"
    ]
   },
   "outputs": [],
   "source": [
    "@define\n",
    "class DynamicsSymbolBuilder:\n",
    "    collected_symbols: set[sp.Symbol, tuple[Particle, TwoBodyKinematicVariableSet]] = (\n",
    "        field(factory=lambda: defaultdict(set))\n",
    "    )\n",
    "\n",
    "    def __call__(\n",
    "        self, resonance: Particle, variable_pool: TwoBodyKinematicVariableSet\n",
    "    ) -> tuple[sp.Expr, dict[sp.Symbol, float]]:\n",
    "        jp = render_jp(resonance)\n",
    "        charge = resonance.charge\n",
    "        if variable_pool.angular_momentum is not None:\n",
    "            L = sp.Rational(variable_pool.angular_momentum)\n",
    "            X = sp.Symbol(Rf\"X_{{{jp}, Q={charge:+d}}}^{{l={L}}}\")\n",
    "        else:\n",
    "            X = sp.Symbol(Rf\"X_{{{jp}, Q={charge:+d}}}\")\n",
    "        self.collected_symbols[X].add((resonance, variable_pool))\n",
    "        parameter_defaults = {}\n",
    "        return X, parameter_defaults\n",
    "\n",
    "\n",
    "def render_jp(particle: Particle) -> str:\n",
    "    spin = sp.Rational(particle.spin)\n",
    "    j = (\n",
    "        str(spin)\n",
    "        if spin.denominator == 1\n",
    "        else Rf\"\\frac{{{spin.numerator}}}{{{spin.denominator}}}\"\n",
    "    )\n",
    "    if particle.parity is None:\n",
    "        return f\"J={j}\"\n",
    "    p = \"-\" if particle.parity < 0 else \"+\"\n",
    "    return f\"J^P={{{j}}}^{{{p}}}\""
   ]
  },
  {
   "cell_type": "code",
   "execution_count": null,
   "metadata": {},
   "outputs": [],
   "source": [
    "MODELS: list[HelicityModel] = []\n",
    "for reaction in REACTIONS:\n",
    "    builder = ampform.get_builder(reaction)\n",
    "    builder.adapter.permutate_registered_topologies()\n",
    "    builder.config.scalar_initial_state_mass = True\n",
    "    builder.config.stable_final_state_ids = [0, 1, 2]\n",
    "    create_dynamics_symbol = DynamicsSymbolBuilder()\n",
    "    for resonance in reaction.get_intermediate_particles():\n",
    "        builder.set_dynamics(resonance.name, create_dynamics_symbol)\n",
    "    MODELS.append(builder.formulate())\n",
    "    del builder, reaction, resonance"
   ]
  },
  {
   "cell_type": "code",
   "execution_count": null,
   "metadata": {
    "jupyter": {
     "source_hidden": true
    },
    "tags": [
     "hide-input",
     "full-width",
     "keep_output"
    ]
   },
   "outputs": [
    {
     "data": {
      "text/latex": [
       "$\\displaystyle \\begin{array}{rcl}\n",
       "  A^{01}_{0, 0, - \\frac{1}{2}, - \\frac{1}{2}} &=& - C_{J/\\psi(1S) \\to {N_1(3/2^-)}_{+1/2} \\overline{p}_{+1/2}; N_1(3/2^-) \\to K^{0}_{0} \\Sigma^{+}_{+1/2}} X_{J^P={\\frac{3}{2}}^{+}, Q=+1} D^{1}_{0,0}\\left(- \\phi_{01},\\theta_{01},0\\right) D^{\\frac{3}{2}}_{- \\frac{1}{2},\\frac{1}{2}}\\left(- \\phi^{01}_{0},\\theta^{01}_{0},0\\right) \\\\\n",
       "    &+& - C_{J/\\psi(1S) \\to {N_1(3/2^-)}_{+1/2} \\overline{p}_{-1/2}; N_1(3/2^-) \\to K^{0}_{0} \\Sigma^{+}_{+1/2}} X_{J^P={\\frac{3}{2}}^{+}, Q=+1} D^{1}_{0,1}\\left(- \\phi_{01},\\theta_{01},0\\right) D^{\\frac{3}{2}}_{\\frac{1}{2},\\frac{1}{2}}\\left(- \\phi^{01}_{0},\\theta^{01}_{0},0\\right) \\\\\n",
       "    &+& - C_{J/\\psi(1S) \\to {N_1(3/2^-)}_{+3/2} \\overline{p}_{+1/2}; N_1(3/2^-) \\to K^{0}_{0} \\Sigma^{+}_{+1/2}} X_{J^P={\\frac{3}{2}}^{+}, Q=+1} D^{1}_{0,-1}\\left(- \\phi_{01},\\theta_{01},0\\right) D^{\\frac{3}{2}}_{- \\frac{3}{2},\\frac{1}{2}}\\left(- \\phi^{01}_{0},\\theta^{01}_{0},0\\right) \\\\\n",
       "\\end{array}$"
      ],
      "text/plain": [
       "<IPython.core.display.Math object>"
      ]
     },
     "execution_count": null,
     "metadata": {},
     "output_type": "execute_result"
    }
   ],
   "source": [
    "selected_amplitudes = {\n",
    "    k: v for i, (k, v) in enumerate(MODELS[0].amplitudes.items()) if i == 0\n",
    "}\n",
    "Math(aslatex(selected_amplitudes, terms_per_line=1))"
   ]
  },
  {
   "cell_type": "code",
   "execution_count": null,
   "metadata": {
    "jupyter": {
     "source_hidden": true
    },
    "tags": [
     "hide-input",
     "keep_output"
    ]
   },
   "outputs": [
    {
     "data": {
      "text/latex": [
       "$\\displaystyle \\begin{array}{cll}\n",
       "  X_{J^P={\\frac{3}{2}}^{+}, Q=+1} \\\\\n",
       "  N_1(3/2^-) & m=1.82\\text{ GeV} & \\Gamma=0.6\\text{ GeV} \\\\\n",
       "\\end{array}$"
      ],
      "text/plain": [
       "<IPython.core.display.Math object>"
      ]
     },
     "execution_count": null,
     "metadata": {},
     "output_type": "execute_result"
    }
   ],
   "source": [
    "src = R\"\\begin{array}{cll}\" \"\\n\"\n",
    "for symbol, resonances in create_dynamics_symbol.collected_symbols.items():\n",
    "    src += Rf\"  {symbol} \\\\\" \"\\n\"\n",
    "    for p, _ in resonances:\n",
    "        src += Rf\"  {p.latex} & m={p.mass:g}\\text{{ GeV}} & \\Gamma={p.width:g}\\text{{ GeV}} \\\\\"\n",
    "        src += \"\\n\"\n",
    "src += R\"\\end{array}\"\n",
    "Math(src)"
   ]
  },
  {
   "cell_type": "markdown",
   "metadata": {},
   "source": [
    "## Dynamics parametrization"
   ]
  },
  {
   "cell_type": "markdown",
   "metadata": {},
   "source": [
    "### Phasespace factor"
   ]
  },
  {
   "cell_type": "markdown",
   "metadata": {},
   "source": [
    ":::{seealso}\n",
    "**[TR-026](../026/index.ipynb)** and **[TR-027](../027/index.ipynb)** on analyticity and Riemann sheets.\n",
    ":::"
   ]
  },
  {
   "cell_type": "code",
   "execution_count": null,
   "metadata": {
    "jupyter": {
     "source_hidden": true
    },
    "mystnb": {
     "code_prompt_show": "Expression classes for phase space factors"
    },
    "tags": [
     "hide-input",
     "scroll-input"
    ]
   },
   "outputs": [],
   "source": [
    "@unevaluated(real=False)\n",
    "class PhaseSpaceCM(sp.Expr):\n",
    "    s: Any\n",
    "    m1: Any\n",
    "    m2: Any\n",
    "    _latex_repr_ = R\"\\rho^\\mathrm{{CM}}_{{{m1},{m2}}}\\left({s}\\right)\"\n",
    "\n",
    "    def evaluate(self) -> sp.Expr:\n",
    "        s, m1, m2 = self.args\n",
    "        return -16 * sp.pi * sp.I * ChewMandelstam(s, m1, m2)\n",
    "\n",
    "\n",
    "@unevaluated(real=False)\n",
    "class ChewMandelstam(sp.Expr):\n",
    "    s: Any\n",
    "    m1: Any\n",
    "    m2: Any\n",
    "    _latex_repr_ = R\"\\Sigma\\left({s}\\right)\"\n",
    "\n",
    "    def evaluate(self) -> sp.Expr:\n",
    "        s, m1, m2 = self.args\n",
    "        q = BreakupMomentum(s, m1, m2)\n",
    "        return (\n",
    "            (2 * q / sp.sqrt(s))\n",
    "            * sp.log(Abs((m1**2 + m2**2 - s + 2 * sp.sqrt(s) * q) / (2 * m1 * m2)))\n",
    "            - (m1**2 - m2**2) * (1 / s - 1 / (m1 + m2) ** 2) * sp.log(m1 / m2)\n",
    "        ) / (16 * sp.pi**2)\n",
    "\n",
    "\n",
    "@unevaluated(real=False)\n",
    "class BreakupMomentum(sp.Expr):\n",
    "    s: Any\n",
    "    m1: Any\n",
    "    m2: Any\n",
    "    _latex_repr_ = R\"q\\left({s}\\right)\"\n",
    "\n",
    "    def evaluate(self) -> sp.Expr:\n",
    "        s, m1, m2 = self.args\n",
    "        return sp.sqrt(Kallen(s, m1**2, m2**2)) / (2 * sp.sqrt(s))"
   ]
  },
  {
   "cell_type": "code",
   "execution_count": null,
   "metadata": {
    "jupyter": {
     "source_hidden": true
    },
    "tags": [
     "hide-input",
     "keep_output"
    ]
   },
   "outputs": [
    {
     "data": {
      "text/latex": [
       "$\\displaystyle \\begin{array}{rcl}\n",
       "  \\rho^\\mathrm{CM}_{m_{1},m_{2}}\\left(s\\right) &=& - 16 i \\pi \\Sigma\\left(s\\right) \\\\\n",
       "  \\Sigma\\left(s\\right) &=& \\frac{- \\left(m_{1}^{2} - m_{2}^{2}\\right) \\left(- \\frac{1}{\\left(m_{1} + m_{2}\\right)^{2}} + \\frac{1}{s}\\right) \\log{\\left(\\frac{m_{1}}{m_{2}} \\right)} + \\frac{2 \\log{\\left(\\frac{\\left|{m_{1}^{2} + m_{2}^{2} + 2 \\sqrt{s} q\\left(s\\right) - s}\\right|}{2 m_{1} m_{2}} \\right)} q\\left(s\\right)}{\\sqrt{s}}}{16 \\pi^{2}} \\\\\n",
       "  q\\left(s\\right) &=& \\frac{\\sqrt{\\lambda\\left(s, m_{1}^{2}, m_{2}^{2}\\right)}}{2 \\sqrt{s}} \\\\\n",
       "\\end{array}$"
      ],
      "text/plain": [
       "<IPython.core.display.Math object>"
      ]
     },
     "execution_count": null,
     "metadata": {},
     "output_type": "execute_result"
    }
   ],
   "source": [
    "s, m1, m2 = sp.symbols(\"s m1 m2\", nonnegative=True)\n",
    "exprs = [\n",
    "    PhaseSpaceCM(s, m1, m2),\n",
    "    ChewMandelstam(s, m1, m2),\n",
    "    BreakupMomentum(s, m1, m2),\n",
    "]\n",
    "Math(aslatex({e: e.doit(deep=False) for e in exprs}))"
   ]
  },
  {
   "cell_type": "markdown",
   "metadata": {},
   "source": [
    "### $K$-matrix formalism"
   ]
  },
  {
   "cell_type": "code",
   "execution_count": null,
   "metadata": {},
   "outputs": [],
   "source": [
    "n_channels = len(REACTIONS)\n",
    "I = sp.Identity(n_channels)\n",
    "K = sp.MatrixSymbol(\"K\", n_channels, n_channels)\n",
    "P = sp.MatrixSymbol(\"P\", n_channels, 1)\n",
    "F = sp.MatrixSymbol(\"F\", n_channels, 1)\n",
    "rho = sp.MatrixSymbol(\"rho\", n_channels, n_channels)"
   ]
  },
  {
   "cell_type": "code",
   "execution_count": null,
   "metadata": {
    "jupyter": {
     "source_hidden": true
    },
    "mystnb": {
     "code_prompt_show": "Find decay products per channel"
    },
    "tags": [
     "hide-input"
    ]
   },
   "outputs": [],
   "source": [
    "def get_decay_products(reaction: ReactionInfo) -> DecayProducts:\n",
    "    some_transition, *_ = reaction.transitions\n",
    "    decay_product_ids = some_transition.topology.get_edge_ids_outgoing_from_node(1)\n",
    "    for transition in reaction.transitions:\n",
    "        if decay_product_ids != transition.topology.get_edge_ids_outgoing_from_node(1):\n",
    "            msg = \"Reaction contains multiple sub-systems\"\n",
    "            raise ValueError(msg)\n",
    "    child1_id, child2_id = sorted(decay_product_ids)\n",
    "    return DecayProducts(\n",
    "        child1=reaction.final_state[child1_id],\n",
    "        child2=reaction.final_state[child2_id],\n",
    "    )\n",
    "\n",
    "\n",
    "@frozen\n",
    "class DecayProducts:\n",
    "    child1: Particle\n",
    "    child2: Particle\n",
    "\n",
    "    @property\n",
    "    def children(self) -> tuple[Particle, Particle]:\n",
    "        return self.child1, self.child2\n",
    "\n",
    "\n",
    "DECAYS = tuple(get_decay_products(m.reaction_info) for m in MODELS)"
   ]
  },
  {
   "cell_type": "code",
   "execution_count": null,
   "metadata": {
    "jupyter": {
     "source_hidden": true
    }
   },
   "outputs": [],
   "source": [
    "PARAMETERS_DEFAULTS = {}\n",
    "for model in MODELS:\n",
    "    PARAMETERS_DEFAULTS.update(model.parameter_defaults)\n",
    "    del model\n",
    "PARAMETERS_DEFAULTS = {\n",
    "    par: value\n",
    "    for par, value in PARAMETERS_DEFAULTS.items()\n",
    "    if not re.match(r\"^m_\\d+$\", par.name)\n",
    "}"
   ]
  },
  {
   "cell_type": "markdown",
   "metadata": {},
   "source": [
    "#### $K$-matrix parametrization"
   ]
  },
  {
   "cell_type": "code",
   "execution_count": null,
   "metadata": {
    "jupyter": {
     "source_hidden": true
    },
    "tags": [
     "hide-input",
     "scroll-input",
     "keep_output"
    ]
   },
   "outputs": [
    {
     "data": {
      "text/latex": [
       "$\\displaystyle \\left[\\begin{matrix}\\frac{\\left(g_{N_1(3/2^-),0}\\right)^{2}}{- m_{01}^{2} + \\left(m_{N_1(3/2^-)}\\right)^{2}} & \\frac{g_{N_1(3/2^-),0} g_{N_1(3/2^-),1}}{- m_{01}^{2} + \\left(m_{N_1(3/2^-)}\\right)^{2}}\\\\\\frac{g_{N_1(3/2^-),0} g_{N_1(3/2^-),1}}{- m_{01}^{2} + \\left(m_{N_1(3/2^-)}\\right)^{2}} & \\frac{\\left(g_{N_1(3/2^-),1}\\right)^{2}}{- m_{01}^{2} + \\left(m_{N_1(3/2^-)}\\right)^{2}}\\end{matrix}\\right]$"
      ],
      "text/plain": [
       "Matrix([\n",
       "[              g_{N_1(3/2^-),0}**2/(-m_01**2 + m_{N_1(3/2^-)}**2), g_{N_1(3/2^-),0}*g_{N_1(3/2^-),1}/(-m_01**2 + m_{N_1(3/2^-)}**2)],\n",
       "[g_{N_1(3/2^-),0}*g_{N_1(3/2^-),1}/(-m_01**2 + m_{N_1(3/2^-)}**2),               g_{N_1(3/2^-),1}**2/(-m_01**2 + m_{N_1(3/2^-)}**2)]])"
      ]
     },
     "execution_count": null,
     "metadata": {},
     "output_type": "execute_result"
    }
   ],
   "source": [
    "def formulate_k_matrix(\n",
    "    resonances: list[tuple[Particle, int]], n_channels: int\n",
    ") -> dict[MatrixElement, sp.Expr]:\n",
    "    expressions = {}\n",
    "    for i, j in product(range(n_channels), range(n_channels)):\n",
    "        resonance_contributions = []\n",
    "        for res, _ in resonances:\n",
    "            s = sp.Symbol(\"m_01\", real=True) ** 2\n",
    "            g_Ri = sp.Symbol(Rf\"g_{{{res.latex},{i}}}\")\n",
    "            g_Rj = sp.Symbol(Rf\"g_{{{res.latex},{j}}}\")\n",
    "            m_R = sp.Symbol(Rf\"m_{{{res.latex}}}\")\n",
    "            parameter_defaults = {\n",
    "                m_R: res.mass,\n",
    "                g_Ri: 1,\n",
    "                g_Rj: 0.1,\n",
    "            }\n",
    "            PARAMETERS_DEFAULTS.update(parameter_defaults)\n",
    "            expr = (g_Ri * g_Rj) / (m_R**2 - s)\n",
    "            resonance_contributions.append(expr)\n",
    "        expressions[K[i, j]] = sum(resonance_contributions)\n",
    "    return expressions\n",
    "\n",
    "\n",
    "K_expressions = formulate_k_matrix(resonances, n_channels=len(REACTIONS))\n",
    "K_matrix = K.as_explicit()\n",
    "K.as_explicit().xreplace(K_expressions)"
   ]
  },
  {
   "cell_type": "markdown",
   "metadata": {},
   "source": [
    "#### $P$-vector parametrization"
   ]
  },
  {
   "cell_type": "code",
   "execution_count": null,
   "metadata": {
    "jupyter": {
     "source_hidden": true
    },
    "tags": [
     "hide-input",
     "scroll-input",
     "keep_output"
    ]
   },
   "outputs": [
    {
     "data": {
      "text/latex": [
       "$\\displaystyle \\left[\\begin{matrix}\\frac{\\beta_{N_1(3/2^-)} g_{N_1(3/2^-),0}}{- m_{01}^{2} + \\left(m_{N_1(3/2^-)}\\right)^{2}}\\\\\\frac{\\beta_{N_1(3/2^-)} g_{N_1(3/2^-),1}}{- m_{01}^{2} + \\left(m_{N_1(3/2^-)}\\right)^{2}}\\end{matrix}\\right]$"
      ],
      "text/plain": [
       "Matrix([\n",
       "[\\beta_{N_1(3/2^-)}*g_{N_1(3/2^-),0}/(-m_01**2 + m_{N_1(3/2^-)}**2)],\n",
       "[\\beta_{N_1(3/2^-)}*g_{N_1(3/2^-),1}/(-m_01**2 + m_{N_1(3/2^-)}**2)]])"
      ]
     },
     "execution_count": null,
     "metadata": {},
     "output_type": "execute_result"
    }
   ],
   "source": [
    "def formulate_p_vector(\n",
    "    resonances: list[tuple[Particle, int]], n_channels: int\n",
    ") -> dict[MatrixElement, sp.Expr]:\n",
    "    expressions = {}\n",
    "    for i in range(n_channels):\n",
    "        resonance_contributions = []\n",
    "        for res, _ in resonances:\n",
    "            s = sp.Symbol(\"m_01\", real=True) ** 2\n",
    "            g_Ri = sp.Symbol(Rf\"g_{{{res.latex},{i}}}\")\n",
    "            beta_R = sp.Symbol(Rf\"\\beta_{{{res.latex}}}\")\n",
    "            m_R = sp.Symbol(Rf\"m_{{{res.latex}}}\")\n",
    "            parameter_defaults = {\n",
    "                m_R: res.mass,\n",
    "                beta_R: 1 + 0j,\n",
    "                g_Ri: 1,\n",
    "            }\n",
    "            PARAMETERS_DEFAULTS.update(parameter_defaults)\n",
    "            expr = (beta_R * g_Ri) / (m_R**2 - s)\n",
    "            resonance_contributions.append(expr)\n",
    "        expressions[P[i, 0]] = sum(resonance_contributions)\n",
    "    return expressions\n",
    "\n",
    "\n",
    "P_expressions = formulate_p_vector(resonances, n_channels=len(REACTIONS))\n",
    "P_vector = P.as_explicit()\n",
    "P.as_explicit().xreplace(P_expressions)"
   ]
  },
  {
   "cell_type": "markdown",
   "metadata": {},
   "source": [
    "#### Phase space factor parametrization"
   ]
  },
  {
   "cell_type": "code",
   "execution_count": null,
   "metadata": {
    "jupyter": {
     "source_hidden": true
    },
    "tags": [
     "hide-input",
     "scroll-input",
     "keep_output"
    ]
   },
   "outputs": [
    {
     "data": {
      "text/latex": [
       "$\\displaystyle \\left[\\begin{matrix}\\rho^\\mathrm{CM}_{m_{0,0},m_{1,0}}\\left(m_{01}^{2}\\right) & 0\\\\0 & \\rho^\\mathrm{CM}_{m_{0,1},m_{1,1}}\\left(m_{01}^{2}\\right)\\end{matrix}\\right]$"
      ],
      "text/plain": [
       "Matrix([\n",
       "[PhaseSpaceCM(m_01**2, m_{0,0}, m_{1,0}),                                       0],\n",
       "[                                      0, PhaseSpaceCM(m_01**2, m_{0,1}, m_{1,1})]])"
      ]
     },
     "execution_count": null,
     "metadata": {},
     "output_type": "execute_result"
    }
   ],
   "source": [
    "def formulate_phsp_factor_matrix(n_channels: int) -> dict[sp.MatrixElement, sp.Expr]:\n",
    "    expressions = {}\n",
    "    for i in range(n_channels):\n",
    "        for j in range(n_channels):\n",
    "            if i == j:\n",
    "                m_a_i = sp.Symbol(Rf\"m_{{0,{i}}}\")\n",
    "                m_b_i = sp.Symbol(Rf\"m_{{1,{i}}}\")\n",
    "                s = sp.Symbol(\"m_01\", real=True) ** 2\n",
    "                rho_i = PhaseSpaceCM(s, m_a_i, m_b_i)\n",
    "                expressions[rho[i, j]] = rho_i\n",
    "                parameter_defaults = {\n",
    "                    m_a_i: DECAYS[i].child1.mass,\n",
    "                    m_b_i: DECAYS[i].child2.mass,\n",
    "                }\n",
    "                PARAMETERS_DEFAULTS.update(parameter_defaults)\n",
    "            else:\n",
    "                expressions[rho[i, j]] = 0\n",
    "    return expressions\n",
    "\n",
    "\n",
    "rho_expressions = formulate_phsp_factor_matrix(n_channels=len(REACTIONS))\n",
    "rho.as_explicit().xreplace(rho_expressions)"
   ]
  },
  {
   "cell_type": "markdown",
   "metadata": {},
   "source": [
    "### $F$-vector construction"
   ]
  },
  {
   "cell_type": "markdown",
   "metadata": {},
   "source": [
    ":::{note}\n",
    "For some reason one has to leave out the multiplication of $\\rho$ by $i$ within the calculation of the $F$ vector\n",
    ":::"
   ]
  },
  {
   "cell_type": "code",
   "execution_count": null,
   "metadata": {
    "tags": [
     "keep_output"
    ]
   },
   "outputs": [
    {
     "data": {
      "text/latex": [
       "$\\displaystyle \\left(\\mathbb{I} + - i K \\rho\\right)^{-1} P$"
      ],
      "text/plain": [
       "(I - I*K*rho)**(-1)*P"
      ]
     },
     "execution_count": null,
     "metadata": {},
     "output_type": "execute_result"
    }
   ],
   "source": [
    "F = (I - sp.I * K * rho).inv() * P\n",
    "F"
   ]
  },
  {
   "cell_type": "code",
   "execution_count": null,
   "metadata": {},
   "outputs": [],
   "source": [
    "F_vector = F.as_explicit()"
   ]
  },
  {
   "cell_type": "code",
   "execution_count": null,
   "metadata": {
    "tags": [
     "keep_output"
    ]
   },
   "outputs": [
    {
     "data": {
      "text/latex": [
       "$\\displaystyle \\frac{i \\beta_{N_1(3/2^-)} g_{N_1(3/2^-),0}}{\\left(g_{N_1(3/2^-),0}\\right)^{2} \\rho^\\mathrm{CM}_{m_{0,0},m_{1,0}}\\left(m_{01}^{2}\\right) + \\left(g_{N_1(3/2^-),1}\\right)^{2} \\rho^\\mathrm{CM}_{m_{0,1},m_{1,1}}\\left(m_{01}^{2}\\right) - i m_{01}^{2} + i \\left(m_{N_1(3/2^-)}\\right)^{2}}$"
      ],
      "text/plain": [
       "I*\\beta_{N_1(3/2^-)}*g_{N_1(3/2^-),0}/(g_{N_1(3/2^-),0}**2*PhaseSpaceCM(m_01**2, m_{0,0}, m_{1,0}) + g_{N_1(3/2^-),1}**2*PhaseSpaceCM(m_01**2, m_{0,1}, m_{1,1}) - I*m_01**2 + I*m_{N_1(3/2^-)}**2)"
      ]
     },
     "execution_count": null,
     "metadata": {},
     "output_type": "execute_result"
    }
   ],
   "source": [
    "parametrizations = {**K_expressions, **rho_expressions, **P_expressions}\n",
    "F_exprs = F_vector.xreplace(parametrizations)\n",
    "F_exprs[0].simplify(doit=False)"
   ]
  },
  {
   "cell_type": "markdown",
   "metadata": {},
   "source": [
    "### Create numerical functions"
   ]
  },
  {
   "cell_type": "code",
   "execution_count": null,
   "metadata": {
    "tags": [
     "hide-input"
    ]
   },
   "outputs": [],
   "source": [
    "F_unfolded_exprs = np.array([perform_cached_doit(expr) for expr in F_exprs])\n",
    "DYNAMICS_EXPRESSIONS_FVECTOR = [\n",
    "    {\n",
    "        symbol: F_unfolded_exprs[i]\n",
    "        for symbol, resonances in create_dynamics_symbol.collected_symbols.items()\n",
    "    }\n",
    "    for i in range(n_channels)\n",
    "]\n",
    "MODELS_FVECTOR = [\n",
    "    attrs.evolve(\n",
    "        model,\n",
    "        parameter_defaults=PARAMETERS_DEFAULTS,\n",
    "    )\n",
    "    for model in MODELS\n",
    "]"
   ]
  },
  {
   "cell_type": "code",
   "execution_count": null,
   "metadata": {},
   "outputs": [],
   "source": [
    "FULL_EXPRESSIONS_FVECTOR = [\n",
    "    perform_cached_doit(MODELS_FVECTOR[i].expression).xreplace(\n",
    "        DYNAMICS_EXPRESSIONS_FVECTOR[i]\n",
    "    )\n",
    "    for i in range(n_channels)\n",
    "]"
   ]
  },
  {
   "cell_type": "code",
   "execution_count": null,
   "metadata": {},
   "outputs": [],
   "source": [
    "INTENSITY_FUNCS_FVECTOR = [\n",
    "    create_parametrized_function(\n",
    "        expression=perform_cached_doit(FULL_EXPRESSIONS_FVECTOR[i]),\n",
    "        backend=\"jax\",\n",
    "        parameters=MODELS_FVECTOR[i].parameter_defaults,\n",
    "    )\n",
    "    for i in range(n_channels)\n",
    "]"
   ]
  },
  {
   "cell_type": "markdown",
   "metadata": {},
   "source": [
    "##  Generate data"
   ]
  },
  {
   "cell_type": "markdown",
   "metadata": {},
   "source": [
    "### Phase space sample"
   ]
  },
  {
   "cell_type": "code",
   "execution_count": null,
   "metadata": {},
   "outputs": [],
   "source": [
    "HELICITY_TRANSFORMERS = [\n",
    "    SympyDataTransformer.from_sympy(model.kinematic_variables, backend=\"jax\")\n",
    "    for model in MODELS_FVECTOR\n",
    "]"
   ]
  },
  {
   "cell_type": "code",
   "execution_count": null,
   "metadata": {},
   "outputs": [],
   "source": [
    "PHSP = []\n",
    "ε = 1e-8\n",
    "for i in range(n_channels):\n",
    "    rng = TFUniformRealNumberGenerator(seed=0)\n",
    "    phsp_generator = TFPhaseSpaceGenerator(\n",
    "        initial_state_mass=REACTIONS[i].initial_state[-1].mass,\n",
    "        final_state_masses={it: p.mass for it, p in REACTIONS[i].final_state.items()},\n",
    "    )\n",
    "    phsp_momenta = phsp_generator.generate(100_000, rng)\n",
    "    phsp = HELICITY_TRANSFORMERS[i](phsp_momenta)\n",
    "    phsp = {k: v.real for k, v in phsp.items()}\n",
    "    phsp = {k: v + ε * 1j if re.match(r\"^m_\\d\\d$\", k) else v for k, v in phsp.items()}\n",
    "    PHSP.append(phsp)"
   ]
  },
  {
   "cell_type": "markdown",
   "metadata": {},
   "source": [
    "## Set parameters for toy model"
   ]
  },
  {
   "cell_type": "code",
   "execution_count": null,
   "metadata": {
    "jupyter": {
     "source_hidden": true
    },
    "mystnb": {
     "code_prompt_show": "Function for plotting histograms with JAX"
    },
    "tags": [
     "hide-input"
    ]
   },
   "outputs": [],
   "source": [
    "def fast_histogram(\n",
    "    data: jnp.ndarray,\n",
    "    weights: jnp.ndarray | None = None,\n",
    "    bins: int = 100,\n",
    "    density: bool | None = None,\n",
    "    fill: bool = True,\n",
    "    ax=plt,\n",
    "    **plot_kwargs,\n",
    ") -> None:\n",
    "    bin_values, bin_edges = jnp.histogram(\n",
    "        data,\n",
    "        bins=bins,\n",
    "        density=density,\n",
    "        weights=weights,\n",
    "    )\n",
    "    if fill:\n",
    "        bin_rights = bin_edges[1:]\n",
    "        ax.fill_between(bin_rights, bin_values, step=\"pre\", **plot_kwargs)\n",
    "    else:\n",
    "        bin_mids = (bin_edges[:-1] + bin_edges[1:]) / 2\n",
    "        ax.step(bin_mids, bin_values, **plot_kwargs)"
   ]
  },
  {
   "cell_type": "code",
   "execution_count": null,
   "metadata": {
    "jupyter": {
     "source_hidden": true
    },
    "mystnb": {
     "code_prompt_show": "Functions for indicated resonances and thresholds"
    },
    "tags": [
     "hide-input"
    ]
   },
   "outputs": [],
   "source": [
    "def indicate_masses(ax, intensity_func, set_labels: bool = True):\n",
    "    mass_pars = {\n",
    "        k: v for k, v in intensity_func.parameters.items() if k.startswith(\"m_{N\")\n",
    "    }\n",
    "    for i, (k, v) in enumerate(mass_pars.items()):\n",
    "        label = f\"${k}$\" if set_labels else None\n",
    "        ax.axvline(v, c=f\"C{i + n_channels}\", label=label, ls=\"dashed\")\n",
    "\n",
    "\n",
    "def indicate_thresholds(ax, set_labels: bool = True) -> None:\n",
    "    for i, decay in enumerate(DECAYS):\n",
    "        m_thr = sum(p.mass for p in decay.children)\n",
    "        label = None\n",
    "        if set_labels:\n",
    "            label = f\"${'+'.join(f'm_{{{p.latex}}}' for p in decay.children)}$\"\n",
    "        ax.axvline(m_thr, c=f\"C{i}\", label=label, ls=\"dotted\")"
   ]
  },
  {
   "cell_type": "code",
   "execution_count": null,
   "metadata": {},
   "outputs": [],
   "source": [
    "toy_parameters = {\n",
    "    R\"\\beta_{N_1(3/2^-)}\": 1 + 0j,\n",
    "    R\"m_{N_1(3/2^-)}\": 1.71,\n",
    "    R\"g_{N_1(3/2^-),0}\": 3.2,\n",
    "    R\"g_{N_1(3/2^-),1}\": 1.5,\n",
    "}\n",
    "for func in INTENSITY_FUNCS_FVECTOR:\n",
    "    func.update_parameters(toy_parameters)"
   ]
  },
  {
   "cell_type": "code",
   "execution_count": null,
   "metadata": {
    "jupyter": {
     "source_hidden": true
    },
    "tags": [
     "hide-input",
     "remove-output"
    ]
   },
   "outputs": [],
   "source": [
    "fig, ax = plt.subplots(figsize=(9, 4))\n",
    "ax.set_title(\"Model rendering from phase space\")\n",
    "ax.set_xlabel(R\"$m_{p\\eta/K\\Sigma}$ [GeV]\")\n",
    "for i in range(n_channels):\n",
    "    intensity = np.real(INTENSITY_FUNCS_FVECTOR[i](PHSP[i]))\n",
    "    fast_histogram(\n",
    "        np.real(PHSP[i][\"m_01\"]),\n",
    "        weights=intensity,\n",
    "        alpha=0.5,\n",
    "        bins=200,\n",
    "        density=True,\n",
    "        label=f\"${' '.join(p.latex for p in DECAYS[i].children)}$\",\n",
    "        ax=ax,\n",
    "    )\n",
    "indicate_thresholds(ax)\n",
    "indicate_masses(ax, INTENSITY_FUNCS_FVECTOR[i])\n",
    "ax.legend()\n",
    "ax.set_ylim(0, None)\n",
    "\n",
    "output_file = Path(\"032/weighted-phsp.svg\")\n",
    "output_file.parent.mkdir(exist_ok=True)\n",
    "fig.savefig(output_file, bbox_inches=\"tight\")\n",
    "fig.show()"
   ]
  },
  {
   "cell_type": "markdown",
   "metadata": {},
   "source": [
    "![](https://github.com/user-attachments/assets/12855c04-14de-46b8-a2f3-20b25673465f)"
   ]
  },
  {
   "cell_type": "markdown",
   "metadata": {},
   "source": [
    "### Toy data sample"
   ]
  },
  {
   "cell_type": "code",
   "execution_count": null,
   "metadata": {},
   "outputs": [],
   "source": [
    "DATA = []\n",
    "for i in range(n_channels):\n",
    "    weighted_phsp_generator = TFWeightedPhaseSpaceGenerator(\n",
    "        initial_state_mass=MODELS[i].reaction_info.initial_state[-1].mass,\n",
    "        final_state_masses={\n",
    "            i: p.mass for i, p in MODELS[i].reaction_info.final_state.items()\n",
    "        },\n",
    "    )\n",
    "    data_generator = IntensityDistributionGenerator(\n",
    "        domain_generator=weighted_phsp_generator,\n",
    "        function=INTENSITY_FUNCS_FVECTOR[i],\n",
    "        domain_transformer=HELICITY_TRANSFORMERS[i],\n",
    "    )\n",
    "    data_momenta = data_generator.generate(50_000, rng)\n",
    "    data = HELICITY_TRANSFORMERS[i](data_momenta)\n",
    "    DATA.append(data)"
   ]
  },
  {
   "cell_type": "code",
   "execution_count": null,
   "metadata": {
    "jupyter": {
     "source_hidden": true
    },
    "tags": [
     "hide-input",
     "remove-output"
    ]
   },
   "outputs": [],
   "source": [
    "fig, ax = plt.subplots(figsize=(9, 4))\n",
    "ax.set_title(\"Toy data sample\")\n",
    "ax.set_xlabel(R\"$m_{p\\eta/K\\Sigma}$ [GeV]\")\n",
    "for i in range(n_channels):\n",
    "    fast_histogram(\n",
    "        np.real(DATA[i][\"m_01\"]),\n",
    "        alpha=0.5,\n",
    "        bins=200,\n",
    "        density=True,\n",
    "        label=f\"${' '.join(p.latex for p in DECAYS[i].children)}$\",\n",
    "        ax=ax,\n",
    "    )\n",
    "indicate_thresholds(ax)\n",
    "indicate_masses(ax, INTENSITY_FUNCS_FVECTOR[i])\n",
    "ax.legend()\n",
    "ax.set_ylim(0, None)\n",
    "\n",
    "output_file = Path(\"032/toy-date.svg\")\n",
    "output_file.parent.mkdir(exist_ok=True)\n",
    "fig.savefig(output_file, bbox_inches=\"tight\")\n",
    "fig.show()"
   ]
  },
  {
   "cell_type": "markdown",
   "metadata": {},
   "source": [
    "![](https://github.com/user-attachments/assets/a34e1f8c-f21d-4396-88b3-b8f7e849bec1)"
   ]
  },
  {
   "cell_type": "markdown",
   "metadata": {},
   "source": [
    "## Perform fit"
   ]
  },
  {
   "cell_type": "markdown",
   "metadata": {},
   "source": [
    "### Estimator definition"
   ]
  },
  {
   "cell_type": "code",
   "execution_count": null,
   "metadata": {},
   "outputs": [],
   "source": [
    "class EstimatorSum(Estimator):\n",
    "    def __init__(self, estimators: Iterable[Estimator]) -> None:\n",
    "        self.__estimators = tuple(estimators)\n",
    "\n",
    "    def __call__(self, parameters: Mapping[str, ParameterValue]) -> float:\n",
    "        return sum(estimator(parameters) for estimator in self.__estimators)\n",
    "\n",
    "    def gradient(\n",
    "        self, parameters: Mapping[str, ParameterValue]\n",
    "    ) -> dict[str, ParameterValue]:\n",
    "        raise NotImplementedError"
   ]
  },
  {
   "cell_type": "code",
   "execution_count": null,
   "metadata": {},
   "outputs": [],
   "source": [
    "combined_estimators = EstimatorSum(\n",
    "    UnbinnedNLL(\n",
    "        INTENSITY_FUNCS_FVECTOR[i],\n",
    "        data=DATA[i],\n",
    "        phsp=PHSP[i],\n",
    "        backend=\"jax\",\n",
    "    )\n",
    "    for i in range(n_channels)\n",
    ")"
   ]
  },
  {
   "cell_type": "markdown",
   "metadata": {},
   "source": [
    "### Initial parameters "
   ]
  },
  {
   "cell_type": "code",
   "execution_count": null,
   "metadata": {
    "jupyter": {
     "source_hidden": true
    },
    "mystnb": {
     "code_prompt_show": "Functions for comparing model to data"
    },
    "tags": [
     "hide-input",
     "scroll-input"
    ]
   },
   "outputs": [],
   "source": [
    "def compare_models(functions: list[Function], title: str, bins: int = 100):\n",
    "    fig, axes = plt.subplots(figsize=(8.5, 4.5), nrows=2, sharex=True)\n",
    "    axes[0].set_title(title)\n",
    "    for ax in axes:\n",
    "        ax.set_yticks([])\n",
    "    for i in range(n_channels):\n",
    "        _plot_comparison(\n",
    "            axes[i],\n",
    "            decay_id=i,\n",
    "            variable_name=\"m_01\",\n",
    "            function=functions[i],\n",
    "            bins=bins,\n",
    "            color=f\"C{i}\",\n",
    "            legend=(i == 1),\n",
    "        )\n",
    "    fig.legend()\n",
    "    fig.tight_layout()\n",
    "\n",
    "    output_file = Path(f\"032/{title.lower().replace(' ', '-')}.svg\")\n",
    "    output_file.parent.mkdir(exist_ok=True)\n",
    "    fig.savefig(output_file, bbox_inches=\"tight\")\n",
    "    fig.show()\n",
    "\n",
    "\n",
    "def _plot_comparison(\n",
    "    ax,\n",
    "    decay_id: int,\n",
    "    variable_name: str,\n",
    "    function: Function[DataSample, np.ndarray],\n",
    "    bins: int,\n",
    "    color: str,\n",
    "    legend: bool,\n",
    "):\n",
    "    phsp = PHSP[decay_id]\n",
    "    fast_histogram(\n",
    "        DATA[decay_id][variable_name].real,\n",
    "        alpha=0.5,\n",
    "        bins=bins,\n",
    "        color=color,\n",
    "        density=True,\n",
    "        label=f\"Data ${' '.join(p.latex for p in DECAYS[decay_id].children)}$\",\n",
    "        ax=ax,\n",
    "    )\n",
    "    fast_histogram(\n",
    "        phsp[variable_name].real,\n",
    "        weights=function(phsp),\n",
    "        bins=bins,\n",
    "        color=\"red\",\n",
    "        density=True,\n",
    "        fill=False,\n",
    "        label=\"Fit model\" if legend else None,\n",
    "        ax=ax,\n",
    "    )\n",
    "    indicate_thresholds(ax, set_labels=legend)\n",
    "    indicate_masses(ax, function, set_labels=legend)\n",
    "    ax.set_ylim(0, None)"
   ]
  },
  {
   "cell_type": "code",
   "execution_count": null,
   "metadata": {},
   "outputs": [],
   "source": [
    "initial_parameters = {\n",
    "    R\"m_{N_1(3/2^-)}\": 1.9,\n",
    "    R\"g_{N_1(3/2^-),0}\": 2.8,\n",
    "    R\"g_{N_1(3/2^-),1}\": 1.6,\n",
    "}"
   ]
  },
  {
   "cell_type": "code",
   "execution_count": null,
   "metadata": {
    "jupyter": {
     "source_hidden": true
    },
    "tags": [
     "hide-input",
     "remove-output"
    ]
   },
   "outputs": [],
   "source": [
    "ORIGINAL_PARAMETERS_F = []\n",
    "for i in range(n_channels):\n",
    "    ORIGINAL_PARAMETERS_F.append(dict(INTENSITY_FUNCS_FVECTOR[i].parameters))\n",
    "    INTENSITY_FUNCS_FVECTOR[i].update_parameters(initial_parameters)\n",
    "compare_models(INTENSITY_FUNCS_FVECTOR, title=\"Model with starting parameters\")"
   ]
  },
  {
   "cell_type": "markdown",
   "metadata": {},
   "source": [
    "![](https://github.com/user-attachments/assets/458c1156-ae25-44f1-8c68-d8c395fa02fb)"
   ]
  },
  {
   "cell_type": "markdown",
   "metadata": {},
   "source": [
    "### Optimize parameters"
   ]
  },
  {
   "cell_type": "code",
   "execution_count": null,
   "metadata": {
    "tags": [
     "keep_output"
    ]
   },
   "outputs": [
    {
     "data": {
      "application/vnd.jupyter.widget-view+json": {
       "model_id": "518301f02b6d42c69338abf728fea176",
       "version_major": 2,
       "version_minor": 0
      },
      "text/plain": [
       "0it [00:00, ?it/s]"
      ]
     },
     "metadata": {},
     "output_type": "display_data"
    },
    {
     "data": {
      "text/plain": [
       "FitResult(\n",
       " minimum_valid=True,\n",
       " execution_time=2.1707212924957275,\n",
       " function_calls=130,\n",
       " estimator_value=-31725.142543423186,\n",
       " parameter_values={\n",
       "  'm_{N_1(3/2^-)}': 1.7281071116110833,\n",
       "  'g_{N_1(3/2^-),0}': 3.3232991703411034,\n",
       "  'g_{N_1(3/2^-),1}': 1.4418247651741936,\n",
       " },\n",
       " parameter_errors={\n",
       "  'm_{N_1(3/2^-)}': 0.011169368106137329,\n",
       "  'g_{N_1(3/2^-),0}': 0.06518758826745548,\n",
       "  'g_{N_1(3/2^-),1}': 0.04383431405848117,\n",
       " },\n",
       ")"
      ]
     },
     "execution_count": null,
     "metadata": {},
     "output_type": "execute_result"
    }
   ],
   "source": [
    "minuit2 = Minuit2()\n",
    "fit_result = minuit2.optimize(combined_estimators, initial_parameters)\n",
    "assert fit_result.minimum_valid\n",
    "fit_result"
   ]
  },
  {
   "cell_type": "code",
   "execution_count": null,
   "metadata": {
    "jupyter": {
     "source_hidden": true
    },
    "tags": [
     "hide-input",
     "remove-output"
    ]
   },
   "outputs": [],
   "source": [
    "for i in range(n_channels):\n",
    "    INTENSITY_FUNCS_FVECTOR[i].update_parameters(fit_result.parameter_values)\n",
    "compare_models(INTENSITY_FUNCS_FVECTOR, title=\"Model with optimized parameters\")"
   ]
  },
  {
   "cell_type": "markdown",
   "metadata": {},
   "source": [
    "![](https://github.com/user-attachments/assets/65f43c80-245d-430b-aa4f-f42856686184)"
   ]
  },
  {
   "cell_type": "markdown",
   "metadata": {},
   "source": [
    "### Fit quality check"
   ]
  },
  {
   "cell_type": "code",
   "execution_count": null,
   "metadata": {
    "jupyter": {
     "source_hidden": true
    },
    "mystnb": {
     "code_prompt_show": "Functions for inspecting fit result"
    },
    "tags": [
     "hide-input"
    ]
   },
   "outputs": [],
   "source": [
    "def compute_aic_bic(fit_result: FitResult) -> tuple[float, float]:\n",
    "    n_real_par = fit_result.count_number_of_parameters(complex_twice=True)\n",
    "    n_events = len(next(iter(data.values())))\n",
    "    log_likelihood = -fit_result.estimator_value\n",
    "    aic = 2 * n_real_par - 2 * log_likelihood\n",
    "    bic = n_real_par * np.log(n_events) - 2 * log_likelihood\n",
    "    return aic, bic\n",
    "\n",
    "\n",
    "def compare_parameters(initial: dict, optimized: dict, expected: dict) -> Markdown:\n",
    "    parameters = sorted(set(initial) | set(optimized))\n",
    "    src = dedent(\"\"\"\n",
    "    |   | initial | fit result | expected | deviation |\n",
    "    |---|--------:|-----------:|---------:|----------:|\n",
    "    \"\"\").strip()\n",
    "    for p in parameters:\n",
    "        columns = (\n",
    "            f\"${p}$\",\n",
    "            f\"{initial[p]:.3g}\",\n",
    "            f\"{optimized[p]:.3g}\",\n",
    "            f\"{expected[p]:.3g}\",\n",
    "            f\"{100 * abs((optimized[p] - expected[p]) / expected[p]):.1f}%\",\n",
    "        )\n",
    "        src += \"\\n| \" + \" | \".join(columns) + \" |\"\n",
    "    return Markdown(src)"
   ]
  },
  {
   "cell_type": "code",
   "execution_count": null,
   "metadata": {
    "tags": [
     "keep_output"
    ]
   },
   "outputs": [
    {
     "data": {
      "text/plain": [
       "(-63444.28508684637, -63417.82575199314)"
      ]
     },
     "execution_count": null,
     "metadata": {},
     "output_type": "execute_result"
    }
   ],
   "source": [
    "compute_aic_bic(fit_result)"
   ]
  },
  {
   "cell_type": "code",
   "execution_count": null,
   "metadata": {
    "tags": [
     "hide-input",
     "keep_output"
    ]
   },
   "outputs": [
    {
     "data": {
      "text/markdown": [
       "|   | initial | fit result | expected | deviation |\n",
       "|---|--------:|-----------:|---------:|----------:|\n",
       "| $g_{N_1(3/2^-),0}$ | 2.8 | 3.32 | 3.2 | 3.9% |\n",
       "| $g_{N_1(3/2^-),1}$ | 1.6 | 1.44 | 1.5 | 3.9% |\n",
       "| $m_{N_1(3/2^-)}$ | 1.9 | 1.73 | 1.71 | 1.1% |"
      ],
      "text/plain": [
       "<IPython.core.display.Markdown object>"
      ]
     },
     "execution_count": null,
     "metadata": {},
     "output_type": "execute_result"
    }
   ],
   "source": [
    "compare_parameters(\n",
    "    initial=initial_parameters,\n",
    "    optimized=fit_result.parameter_values,\n",
    "    expected={\n",
    "        **ORIGINAL_PARAMETERS_F[0],\n",
    "        **ORIGINAL_PARAMETERS_F[1],\n",
    "    },\n",
    ")"
   ]
  }
 ],
 "metadata": {
  "colab": {
   "toc_visible": true
  },
  "kernelspec": {
   "display_name": "Python 3 (ipykernel)",
   "language": "python",
   "name": "python3"
  },
  "language_info": {
   "codemirror_mode": {
    "name": "ipython",
    "version": 3
   },
   "file_extension": ".py",
   "mimetype": "text/x-python",
   "name": "python",
   "nbconvert_exporter": "python",
   "pygments_lexer": "ipython3",
   "version": "3.12.6"
  }
 },
 "nbformat": 4,
 "nbformat_minor": 4
}
