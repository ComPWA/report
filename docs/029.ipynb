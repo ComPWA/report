{
 "cells": [
  {
   "cell_type": "markdown",
   "metadata": {},
   "source": [
    "```{autolink-concat}\n",
    "```"
   ]
  },
  {
   "cell_type": "markdown",
   "metadata": {
    "tags": [
     "dynamics",
     "sympy"
    ]
   },
   "source": [
    "::::{margin}\n",
    ":::{card} Definition of the normalized Blatt–Weisskopf form factor from Hankel functions of the first kind.\n",
    "TR-029\n",
    "^^^\n",
    "This report investigates how to implement [ComPWA/ampform#417](https://github.com/ComPWA/ampform/issues/417), where it was suggested to define the 'normalized' Blatt–Weisskopf function $B_L^2(z)$ from a Hankel function of the first kind, $h_l^{(1)}$.\n",
    ":::\n",
    "::::"
   ]
  },
  {
   "cell_type": "markdown",
   "metadata": {},
   "source": [
    "# Blatt–Weisskopf from Hankel function"
   ]
  },
  {
   "cell_type": "code",
   "execution_count": null,
   "metadata": {
    "tags": [
     "remove-cell"
    ]
   },
   "outputs": [],
   "source": [
    "%pip install -q ampform==0.15.1 sympy==1.12"
   ]
  },
  {
   "cell_type": "code",
   "execution_count": null,
   "metadata": {
    "jupyter": {
     "source_hidden": true
    },
    "tags": [
     "hide-input"
    ]
   },
   "outputs": [],
   "source": [
    "from __future__ import annotations\n",
    "\n",
    "from functools import lru_cache\n",
    "\n",
    "import sympy as sp\n",
    "from ampform.dynamics.phasespace import BreakupMomentumSquared\n",
    "from ampform.io import aslatex\n",
    "from ampform.sympy import unevaluated\n",
    "from IPython.display import Math, display"
   ]
  },
  {
   "cell_type": "markdown",
   "metadata": {},
   "source": [
    "## Introduction"
   ]
  },
  {
   "cell_type": "markdown",
   "metadata": {},
   "source": [
    "As of AmpForm [v0.15](https://github.com/ComPWA/ampform/releases/tag/0.15.1), the implementation of [`BlattWeisskopfSquared`](https://ampform.readthedocs.io/0.15.x/api/ampform.dynamics/#ampform.dynamics.BlattWeisskopfSquared) contains hard-coded polynomials, see implementation [here](https://github.com/ComPWA/ampform/blob/0.15.1/src/ampform/dynamics/__init__.py#L66-L134).\n",
    "The motivation for this can be found in the citations mentioned in [its API documentation](https://ampform.readthedocs.io/0.15.x/api/ampform.dynamics/#ampform.dynamics.BlattWeisskopfSquared).\n",
    "However, as noted by [@mmikhasenko](https://github.com/mmikhasenko) in [ComPWA/ampform#417](https://github.com/ComPWA/ampform/issues/417), the polynomials can be derived from the spherical[^1] Hankel functions of the first kind.\n",
    "Von Hippel and Quigg[^2] derived a generalization of the centrifugal barrier factor&nbsp;$F_L$, also called form factor, that was introduced by {cite}`Blatt:1952ije`, showing that\n",
    "\n",
    "[^1]: See [this page](https://mathworld.wolfram.com/SphericalHankelFunctionoftheFirstKind.html) on Wolfram MathWorld for an explanation about the difference between $h_\\ell^{(1)}$ and $H_\\ell^{(1)}$.\n",
    "[^2]: See {cite}`VonHippel:1972fg`, pp.&nbsp;626 and 637, and a review by COMPASS, {cite}`Ketzer:2019wmd`, p.&nbsp;31."
   ]
  },
  {
   "cell_type": "markdown",
   "metadata": {},
   "source": [
    "```{math}\n",
    "F_\\ell^2(z^2) = \\frac{1}{z^2\\left|h^{(1)}_\\ell\\left(z\\right)\\right|^2}\\,,\n",
    "```"
   ]
  },
  {
   "cell_type": "markdown",
   "metadata": {},
   "source": [
    "where $h_\\ell^{(1)}$ is a Hankel function of the first kind. They also noted that, if $z\\in\\mathbb{R}$,"
   ]
  },
  {
   "cell_type": "markdown",
   "metadata": {},
   "source": [
    "$$\n",
    "h_\\ell^{(1)}(z) =\n",
    "  \\left(- i\\right)^{\\ell+1}\n",
    "  \\frac{e^{iz}}{z}\n",
    "  \\sum_{k=0}^\\ell\n",
    "    \\frac{(\\ell+k)!}{(\\ell-k)! \\, k!}\n",
    "    \\left(\\frac{i}{2z}\\right)^k.\n",
    "$$ (hankel-sum)"
   ]
  },
  {
   "cell_type": "markdown",
   "metadata": {},
   "source": [
    "In the following, we call $F_\\ell(z)$ the _unnormalized_ Blatt–Weisskopf form factor.\n",
    "Following Chung and other resources (see e.g. {cite}`Chung:1995dx`, p.&nbsp;415), AmpForm implements a unitless, _normalized_ Blatt–Weisskopf factor $B_L$, meaning that $B_L(1)=1$.[^3]\n",
    "It can be defined in terms of $F_L$ as\n",
    "\n",
    "[^3]: We switch to notating angular momentum with $L$ instead of $\\ell$ here to indicate that we are talking about a normalized function here."
   ]
  },
  {
   "cell_type": "markdown",
   "metadata": {},
   "source": [
    "```{math}\n",
    "B_L^2(z^2)\n",
    "  = \\frac{F_L^2(z^2)}{F_L^2(1)}\n",
    "  = \\frac{\\left|h^{(1)}_L(1)\\right|^2}{z^2\\left|h^{(1)}_L(z)\\right|^2}\\,.\n",
    "```"
   ]
  },
  {
   "cell_type": "markdown",
   "metadata": {},
   "source": [
    ":::{note}\n",
    "As of writing, AmpForm uses $z$ as argument in [`BlattWeisskopfSquared`](https://ampform.readthedocs.io/0.15.x/api/ampform.dynamics/#ampform.dynamics.BlattWeisskopfSquared).\n",
    "This means we have to work with a square root and assume that $z \\geq 0$, meaning\n",
    "\n",
    "$$\n",
    "B_L^2(z) = \\frac{\\left|h^{(1)}_L(1)\\right|^2}{z\\left|h^{(1)}_L\\left(\\sqrt{z}\\right)\\right|^2}\\,.\n",
    "$$ (blatt-weisskopf)\n",
    "\n",
    ":::"
   ]
  },
  {
   "cell_type": "markdown",
   "metadata": {},
   "source": [
    "## Hankel function of the first kind"
   ]
  },
  {
   "cell_type": "markdown",
   "metadata": {},
   "source": [
    "### Built-in SymPy function"
   ]
  },
  {
   "cell_type": "markdown",
   "metadata": {},
   "source": [
    "SymPy offers a Hankel function of the first kind, [`scipy.special.hankel1`](https://docs.scipy.org/doc/scipy/reference/generated/scipy.special.hankel1.html)."
   ]
  },
  {
   "cell_type": "code",
   "execution_count": null,
   "metadata": {},
   "outputs": [],
   "source": [
    "z = sp.Symbol(\"z\", nonnegative=True, real=True)\n",
    "ell = sp.Symbol(R\"\\ell\", integer=True, nonnegative=True)\n",
    "sp.hankel1(ell, z)"
   ]
  },
  {
   "cell_type": "markdown",
   "metadata": {},
   "source": [
    "This function is the general[^1] Hankel function $H_\\ell$ and the class does not offer algebraic simplifications for specific values or assumptions of $\\ell$ and $z$."
   ]
  },
  {
   "cell_type": "code",
   "execution_count": null,
   "metadata": {},
   "outputs": [],
   "source": [
    "display(\n",
    "    sp.hankel1(ell, z).doit(),\n",
    "    sp.hankel1(ell, 0).doit(),\n",
    "    sp.hankel1(0, z).doit(),\n",
    "    sp.hankel1(0, 0).doit(),\n",
    ")"
   ]
  },
  {
   "cell_type": "markdown",
   "metadata": {},
   "source": [
    "### Custom class definition"
   ]
  },
  {
   "cell_type": "markdown",
   "metadata": {},
   "source": [
    "To implement Equation&nbsp;{eq}`hankel-sum` for the _spherical_ Hankel function, we have to define a custom [`@unevaluated`](https://ampform.readthedocs.io/0.15.x/api/ampform.sympy/#ampform.sympy.unevaluated) expression class.\n",
    "The following class evaluates to the sum given in Equation&nbsp;{eq}`hankel-sum`.\n",
    "We introduce a special [`sympy.Sum`](https://docs.sympy.org/latest/modules/concrete.html#sympy.concrete.summations.Sum) class that does not 'unfold' on symbolic input for $\\ell$ if [`doit()`](https://docs.sympy.org/latest/modules/core.html#sympy.core.basic.Basic.doit) is called (see [](#nested-doit))."
   ]
  },
  {
   "cell_type": "code",
   "execution_count": null,
   "metadata": {
    "tags": [
     "scroll-input"
    ]
   },
   "outputs": [],
   "source": [
    "@unevaluated\n",
    "class SphericalHankel1(sp.Expr):\n",
    "    l: sp.Symbol | int\n",
    "    z: sp.Symbol | float\n",
    "    _latex_repr_ = R\"h_{{{l}}}^{{(1)}}\\left({z}\\right)\"\n",
    "\n",
    "    def evaluate(self) -> sp.Expr:\n",
    "        l, z = self.args\n",
    "        k = sp.Dummy(\"k\", integer=True, nonnegative=True)\n",
    "        return (\n",
    "            (-sp.I) ** (1 + l)\n",
    "            * (sp.exp(z * sp.I) / z)\n",
    "            * SymbolicSum(\n",
    "                sp.factorial(l + k)\n",
    "                / (sp.factorial(l - k) * sp.factorial(k))\n",
    "                * (sp.I / (2 * z)) ** k,\n",
    "                (k, 0, l),\n",
    "            )\n",
    "        )\n",
    "\n",
    "\n",
    "class SymbolicSum(sp.Sum):\n",
    "    def doit(self, deep: bool = True, **kwargs) -> sp.Expr:\n",
    "        if _get_indices(self):\n",
    "            expression = self.args[0]\n",
    "            indices = self.args[1:]\n",
    "            return SymbolicSum(expression.doit(deep=deep, **kwargs), *indices)\n",
    "        return super().doit(deep=deep, **kwargs)\n",
    "\n",
    "\n",
    "@lru_cache(maxsize=None)\n",
    "def _get_indices(expr: sp.Sum) -> set[sp.Symbol]:\n",
    "    free_symbols = set()\n",
    "    for index in expr.args[1:]:\n",
    "        free_symbols.update(index.free_symbols)\n",
    "    return {s for s in free_symbols if not isinstance(s, sp.Dummy)}"
   ]
  },
  {
   "cell_type": "code",
   "execution_count": null,
   "metadata": {
    "jupyter": {
     "source_hidden": true
    },
    "tags": [
     "hide-input"
    ]
   },
   "outputs": [],
   "source": [
    "h1lz = SphericalHankel1(ell, z)\n",
    "Math(aslatex({h1lz: h1lz.doit()}))"
   ]
  },
  {
   "cell_type": "markdown",
   "metadata": {},
   "source": [
    "Indeed, the absolute squared value $\\left|h_\\ell^{(1)}\\right|^2$ results in a clean fraction of polynomials (after some algebraic [simplifications](https://docs.sympy.org/latest/tutorials/intro-tutorial/simplification.html))."
   ]
  },
  {
   "cell_type": "code",
   "execution_count": null,
   "metadata": {
    "jupyter": {
     "source_hidden": true
    },
    "tags": [
     "hide-input"
    ]
   },
   "outputs": [],
   "source": [
    "exprs = [sp.Abs(h1lz.xreplace({ell: i})) ** 2 for i in range(3)]\n",
    "Math(aslatex({e: e.doit().simplify() for e in exprs}))"
   ]
  },
  {
   "cell_type": "code",
   "execution_count": null,
   "metadata": {
    "jupyter": {
     "source_hidden": true
    },
    "tags": [
     "hide-input"
    ]
   },
   "outputs": [],
   "source": [
    "exprs = [sp.Abs(h1lz.xreplace({ell: i, z: 1})) ** 2 for i in range(3)]\n",
    "Math(aslatex({e: e.doit() for e in exprs}))"
   ]
  },
  {
   "cell_type": "markdown",
   "metadata": {},
   "source": [
    "## Normalized Blatt–Weisskopf form factor"
   ]
  },
  {
   "cell_type": "markdown",
   "metadata": {},
   "source": [
    "We now have the required expression classes for re-implementing [`BlattWeisskopfSquared`](https://ampform.readthedocs.io/0.15.x/api/ampform.dynamics/#ampform.dynamics.BlattWeisskopfSquared) using Equation&nbsp;{eq}`blatt-weisskopf` (with $z$ as input, instead of $z^2$)."
   ]
  },
  {
   "cell_type": "code",
   "execution_count": null,
   "metadata": {},
   "outputs": [],
   "source": [
    "@unevaluated\n",
    "class BlattWeisskopfSquared(sp.Expr):\n",
    "    L: sp.Symbol | int\n",
    "    z: sp.Symbol | float\n",
    "    _latex_repr_ = R\"B^2_{{{L}}}\\left({z}\\right)\"\n",
    "\n",
    "    def evaluate(self) -> sp.Expr:\n",
    "        L = self.L\n",
    "        z = sp.Dummy(\"z\", nonnegative=True, real=True)\n",
    "        expr = (\n",
    "            sp.Abs(SphericalHankel1(L, 1)) ** 2\n",
    "            / sp.Abs(SphericalHankel1(L, sp.sqrt(z))) ** 2\n",
    "            / z\n",
    "        )\n",
    "        if not L.free_symbols:\n",
    "            expr = expr.doit().simplify()\n",
    "        return expr.xreplace({z: self.z})"
   ]
  },
  {
   "cell_type": "markdown",
   "metadata": {},
   "source": [
    ":::{note}\n",
    "An explicit [`simplify()`](https://docs.sympy.org/latest/tutorials/intro-tutorial/simplification.html#simplify) is required in order to reproduce the polynomial form upon evaluation.\n",
    "To make the simplification as fast as possible, it is done internally within `evaluate()` with $z$ as a dummy variable.\n",
    "This is to avoid performing nested simplifications if $z$ is in itself an expression (see [](#nested-doit)).\n",
    ":::"
   ]
  },
  {
   "cell_type": "code",
   "execution_count": null,
   "metadata": {
    "jupyter": {
     "source_hidden": true
    },
    "tags": [
     "hide-input"
    ]
   },
   "outputs": [],
   "source": [
    "L = sp.Symbol(\"L\", integer=True, nonnegative=True)\n",
    "BL2 = BlattWeisskopfSquared(L, z)\n",
    "Math(aslatex({BL2: BL2.doit(deep=False)}))"
   ]
  },
  {
   "cell_type": "markdown",
   "metadata": {},
   "source": [
    "Indeed the polynomials are exactly the same as the [original `BlattWeisskopfSquared`](https://ampform.readthedocs.io/0.15.x/api/ampform.dynamics/#ampform.dynamics.BlattWeisskopfSquared)!"
   ]
  },
  {
   "cell_type": "code",
   "execution_count": null,
   "metadata": {
    "jupyter": {
     "source_hidden": true
    },
    "tags": [
     "hide-input"
    ]
   },
   "outputs": [],
   "source": [
    "exprs = [BL2.xreplace({L: i}) for i in range(9)]\n",
    "Math(aslatex({e: e.doit() for e in exprs}))"
   ]
  },
  {
   "cell_type": "markdown",
   "metadata": {},
   "source": [
    "## Nested doit"
   ]
  },
  {
   "cell_type": "markdown",
   "metadata": {},
   "source": [
    "Eventually, the barrier factors take $z=q/q_R$, with $q$ the break-up momentum and $q_R$ an impact factor. Here it becomes crucial that only $\\left|h_\\ell^{(1)}(z)\\right|^2$ is simplified to a polynomial fraction, not $q$ itself. The break-up momentum does need to unfold though."
   ]
  },
  {
   "cell_type": "code",
   "execution_count": null,
   "metadata": {
    "jupyter": {
     "source_hidden": true
    },
    "tags": [
     "hide-input"
    ]
   },
   "outputs": [],
   "source": [
    "s, m1, m2, qR = sp.symbols(\"s m1 m2 q_R\", nonnegative=True)\n",
    "q2 = BreakupMomentumSquared(s, m1, m2)\n",
    "Math(aslatex({q2: q2.doit()}))"
   ]
  },
  {
   "cell_type": "markdown",
   "metadata": {},
   "source": [
    "### Symbolic angular momentum"
   ]
  },
  {
   "cell_type": "code",
   "execution_count": null,
   "metadata": {},
   "outputs": [],
   "source": [
    "BlattWeisskopfSquared(L, z=q2 / qR**2).doit(deep=False)"
   ]
  },
  {
   "cell_type": "code",
   "execution_count": null,
   "metadata": {
    "tags": [
     "full-width"
    ]
   },
   "outputs": [],
   "source": [
    "BlattWeisskopfSquared(L, z=q2 / qR**2).doit(deep=True)"
   ]
  },
  {
   "cell_type": "markdown",
   "metadata": {},
   "source": [
    "### Numeric angular momentum"
   ]
  },
  {
   "cell_type": "code",
   "execution_count": null,
   "metadata": {},
   "outputs": [],
   "source": [
    "BlattWeisskopfSquared(L=2, z=q2 / qR**2).doit(deep=False)"
   ]
  },
  {
   "cell_type": "code",
   "execution_count": null,
   "metadata": {
    "tags": [
     "full-width"
    ]
   },
   "outputs": [],
   "source": [
    "BlattWeisskopfSquared(L=2, z=q2 / qR**2).doit(deep=True)"
   ]
  }
 ],
 "metadata": {
  "colab": {
   "toc_visible": true
  },
  "kernelspec": {
   "display_name": "Python 3 (ipykernel)",
   "language": "python",
   "name": "python3"
  },
  "language_info": {
   "codemirror_mode": {
    "name": "ipython",
    "version": 3
   },
   "file_extension": ".py",
   "mimetype": "text/x-python",
   "name": "python",
   "nbconvert_exporter": "python",
   "pygments_lexer": "ipython3",
   "version": "3.12.6"
  }
 },
 "nbformat": 4,
 "nbformat_minor": 4
}
